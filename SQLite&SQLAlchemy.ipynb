{
 "cells": [
  {
   "cell_type": "markdown",
   "metadata": {},
   "source": [
    "## SQLITE"
   ]
  },
  {
   "cell_type": "code",
   "execution_count": 1,
   "metadata": {},
   "outputs": [],
   "source": [
    "import sqlite3"
   ]
  },
  {
   "cell_type": "code",
   "execution_count": 3,
   "metadata": {},
   "outputs": [
    {
     "data": {
      "text/plain": [
       "'2.6.0'"
      ]
     },
     "execution_count": 3,
     "metadata": {},
     "output_type": "execute_result"
    }
   ],
   "source": [
    "sqlite3.version"
   ]
  },
  {
   "cell_type": "code",
   "execution_count": 4,
   "metadata": {},
   "outputs": [
    {
     "data": {
      "text/plain": [
       "'3.32.3'"
      ]
     },
     "execution_count": 4,
     "metadata": {},
     "output_type": "execute_result"
    }
   ],
   "source": [
    "sqlite3.sqlite_version"
   ]
  },
  {
   "cell_type": "code",
   "execution_count": 5,
   "metadata": {},
   "outputs": [],
   "source": [
    "con = sqlite3.connect('C:/Users/park1/Desktop/sqlite/study.db',isolation_level=None)   ## isolation_level=None  ===> 자동으로 commit해주기"
   ]
  },
  {
   "cell_type": "code",
   "execution_count": 6,
   "metadata": {},
   "outputs": [],
   "source": [
    "cur = con.cursor()"
   ]
  },
  {
   "cell_type": "code",
   "execution_count": 7,
   "metadata": {},
   "outputs": [
    {
     "data": {
      "text/plain": [
       "<sqlite3.Cursor at 0x1aa24e86c00>"
      ]
     },
     "execution_count": 7,
     "metadata": {},
     "output_type": "execute_result"
    }
   ],
   "source": [
    "cur.executescript(''' \n",
    "    CREATE TABLE artists(id INTEGER PRIMARY KEY , name TEXT NOT NULL);\n",
    "    CREATE TABLE album(id INTEGER PRIMARY KEY, name TEXT NOT NULL, fk INTEGER NOT NULL);\n",
    "    CREATE TABLE track(id INTEGER PRIMARY KEY, name TEXT NOT NULL, rating INTEGER, length INTEGER, afk INTEGER NOT NULL, gfk INTEGER NOT NULL);\n",
    "    CREATE TABLE genre(id INTEGER PRIMARY KEY, name TEXT NOT NULL)''')"
   ]
  },
  {
   "cell_type": "code",
   "execution_count": 8,
   "metadata": {},
   "outputs": [
    {
     "data": {
      "text/plain": [
       "<sqlite3.Cursor at 0x1aa24e86c00>"
      ]
     },
     "execution_count": 8,
     "metadata": {},
     "output_type": "execute_result"
    }
   ],
   "source": [
    "cur.execute(\"INSERT INTO artists (name) values ('beenzino')\")"
   ]
  },
  {
   "cell_type": "code",
   "execution_count": 11,
   "metadata": {},
   "outputs": [
    {
     "data": {
      "text/plain": [
       "1"
      ]
     },
     "execution_count": 11,
     "metadata": {},
     "output_type": "execute_result"
    }
   ],
   "source": [
    "cur.lastrowid"
   ]
  },
  {
   "cell_type": "code",
   "execution_count": 12,
   "metadata": {},
   "outputs": [
    {
     "data": {
      "text/plain": [
       "<sqlite3.Cursor at 0x1aa24e86c00>"
      ]
     },
     "execution_count": 12,
     "metadata": {},
     "output_type": "execute_result"
    }
   ],
   "source": [
    "cur.execute(\"INSERT INTO artists(name) values ('paulkim')\")"
   ]
  },
  {
   "cell_type": "code",
   "execution_count": 13,
   "metadata": {},
   "outputs": [
    {
     "data": {
      "text/plain": [
       "2"
      ]
     },
     "execution_count": 13,
     "metadata": {},
     "output_type": "execute_result"
    }
   ],
   "source": [
    "cur.lastrowid"
   ]
  },
  {
   "cell_type": "code",
   "execution_count": 16,
   "metadata": {},
   "outputs": [
    {
     "data": {
      "text/plain": [
       "<sqlite3.Cursor at 0x1aa24e86c00>"
      ]
     },
     "execution_count": 16,
     "metadata": {},
     "output_type": "execute_result"
    }
   ],
   "source": [
    "cur.execute(\"INSERT INTO album (name, fk) values(?, (SELECT id FROM artists WHERE name='beenzino'))\",(['aquaman']))"
   ]
  },
  {
   "cell_type": "code",
   "execution_count": 18,
   "metadata": {},
   "outputs": [
    {
     "data": {
      "text/plain": [
       "<sqlite3.Cursor at 0x1aa24e86c00>"
      ]
     },
     "execution_count": 18,
     "metadata": {},
     "output_type": "execute_result"
    }
   ],
   "source": [
    "cur.execute('INSERT INTO album (name, fk) values(?,(SELECT id FROM artists WHERE name=\"paulkim\"))',(['rain']))"
   ]
  },
  {
   "cell_type": "code",
   "execution_count": 20,
   "metadata": {},
   "outputs": [
    {
     "data": {
      "text/plain": [
       "[(1, 'aquaman', 1), (2, 'rain', 2)]"
      ]
     },
     "execution_count": 20,
     "metadata": {},
     "output_type": "execute_result"
    }
   ],
   "source": [
    "cur.execute(\"SELECT * from album\")\n",
    "cur.fetchall()"
   ]
  },
  {
   "cell_type": "code",
   "execution_count": 34,
   "metadata": {},
   "outputs": [],
   "source": [
    "Genre = [{'name':'rap'},{'name':'ballad'}]"
   ]
  },
  {
   "cell_type": "code",
   "execution_count": 35,
   "metadata": {},
   "outputs": [
    {
     "data": {
      "text/plain": [
       "<sqlite3.Cursor at 0x1aa24e86c00>"
      ]
     },
     "execution_count": 35,
     "metadata": {},
     "output_type": "execute_result"
    }
   ],
   "source": [
    "cur.executemany(\"INSERT INTO genre (name) VALUES(:name)\", Genre)"
   ]
  },
  {
   "cell_type": "code",
   "execution_count": 39,
   "metadata": {
    "collapsed": true
   },
   "outputs": [
    {
     "ename": "IntegrityError",
     "evalue": "NOT NULL constraint failed: track.afk",
     "output_type": "error",
     "traceback": [
      "\u001b[1;31m---------------------------------------------------------------------------\u001b[0m",
      "\u001b[1;31mIntegrityError\u001b[0m                            Traceback (most recent call last)",
      "\u001b[1;32m<ipython-input-39-03554442da83>\u001b[0m in \u001b[0;36m<module>\u001b[1;34m\u001b[0m\n\u001b[0;32m      3\u001b[0m       ]\n\u001b[0;32m      4\u001b[0m \u001b[1;33m\u001b[0m\u001b[0m\n\u001b[1;32m----> 5\u001b[1;33m \u001b[0mcur\u001b[0m\u001b[1;33m.\u001b[0m\u001b[0mexecutemany\u001b[0m\u001b[1;33m(\u001b[0m\u001b[1;34m\"INSERT INTO TRACK (name, afk, gfk) VALUES ((:name),(SELECT id FROM album WHERE name=:fk1),(SELECT id FROM genre WHERE name=:fk2))\"\u001b[0m\u001b[1;33m,\u001b[0m \u001b[0mtrack\u001b[0m\u001b[1;33m)\u001b[0m\u001b[1;33m\u001b[0m\u001b[1;33m\u001b[0m\u001b[0m\n\u001b[0m",
      "\u001b[1;31mIntegrityError\u001b[0m: NOT NULL constraint failed: track.afk"
     ]
    }
   ],
   "source": [
    "track=[{'name':'been1st', 'fk1':'beenzino', 'fk2':'rap'},\n",
    "       {'name':'paul1st', 'fk1':'paulkim', 'fk2':'ballad'}\n",
    "      ]\n",
    "\n",
    "cur.executemany(\"INSERT INTO TRACK (name, afk, gfk) VALUES ((:name),(SELECT id FROM album WHERE name=:fk1),(SELECT id FROM genre WHERE name=:fk2))\", track)\n"
   ]
  },
  {
   "cell_type": "markdown",
   "metadata": {},
   "source": [
    "## ORM"
   ]
  },
  {
   "cell_type": "markdown",
   "metadata": {},
   "source": [
    "- SQLAlchemy "
   ]
  },
  {
   "cell_type": "code",
   "execution_count": 30,
   "metadata": {},
   "outputs": [
    {
     "name": "stdout",
     "output_type": "stream",
     "text": [
      "Requirement already satisfied: sqlalchemy in c:\\users\\park1\\anaconda3\\lib\\site-packages (1.3.18)\n"
     ]
    }
   ],
   "source": [
    "! pip install sqlalchemy"
   ]
  },
  {
   "cell_type": "code",
   "execution_count": 40,
   "metadata": {},
   "outputs": [],
   "source": [
    "import sqlalchemy"
   ]
  },
  {
   "cell_type": "code",
   "execution_count": 41,
   "metadata": {},
   "outputs": [
    {
     "data": {
      "text/plain": [
       "'1.3.18'"
      ]
     },
     "execution_count": 41,
     "metadata": {},
     "output_type": "execute_result"
    }
   ],
   "source": [
    "sqlalchemy.__version__"
   ]
  },
  {
   "cell_type": "code",
   "execution_count": 42,
   "metadata": {},
   "outputs": [],
   "source": [
    "from sqlalchemy import create_engine"
   ]
  },
  {
   "cell_type": "code",
   "execution_count": 47,
   "metadata": {
    "scrolled": false
   },
   "outputs": [],
   "source": [
    "engine = create_engine(\"sqlite:///alchemy_study.db\", echo=True)  ## 실제 데이터베이스와 통신"
   ]
  },
  {
   "cell_type": "code",
   "execution_count": 48,
   "metadata": {},
   "outputs": [
    {
     "name": "stdout",
     "output_type": "stream",
     "text": [
      "Engine(sqlite:///alchemy_study.db)\n"
     ]
    }
   ],
   "source": [
    "print(engine)"
   ]
  },
  {
   "cell_type": "code",
   "execution_count": 49,
   "metadata": {},
   "outputs": [],
   "source": [
    "from sqlalchemy import Table, Column, Integer, String, MetaData, ForeignKey"
   ]
  },
  {
   "cell_type": "code",
   "execution_count": 51,
   "metadata": {},
   "outputs": [],
   "source": [
    "metadata = MetaData() ## class들의 instance를 관리"
   ]
  },
  {
   "cell_type": "markdown",
   "metadata": {},
   "source": [
    "- table 생성"
   ]
  },
  {
   "cell_type": "code",
   "execution_count": 52,
   "metadata": {},
   "outputs": [],
   "source": [
    "obj_users = Table('T_users', metadata, \n",
    "                 Column('pk', Integer, primary_key=True),\n",
    "                 Column('name', String))\n"
   ]
  },
  {
   "cell_type": "code",
   "execution_count": 53,
   "metadata": {},
   "outputs": [],
   "source": [
    "obj_addresses =Table('T_addresses',metadata,\n",
    "                    Column('pk', Integer, primary_key=True),\n",
    "                    Column('name', String),\n",
    "                    Column('fk',None, ForeignKey('T_users.pk')))"
   ]
  },
  {
   "cell_type": "code",
   "execution_count": 55,
   "metadata": {},
   "outputs": [
    {
     "name": "stdout",
     "output_type": "stream",
     "text": [
      "1 T_users\n",
      "2 T_addresses\n"
     ]
    }
   ],
   "source": [
    "for i, _ in enumerate(metadata.tables):\n",
    "    print(i+1, _)"
   ]
  },
  {
   "cell_type": "code",
   "execution_count": 56,
   "metadata": {},
   "outputs": [
    {
     "name": "stdout",
     "output_type": "stream",
     "text": [
      "2021-07-05 20:44:49,833 INFO sqlalchemy.engine.base.Engine SELECT CAST('test plain returns' AS VARCHAR(60)) AS anon_1\n",
      "2021-07-05 20:44:49,835 INFO sqlalchemy.engine.base.Engine ()\n",
      "2021-07-05 20:44:49,837 INFO sqlalchemy.engine.base.Engine SELECT CAST('test unicode returns' AS VARCHAR(60)) AS anon_1\n",
      "2021-07-05 20:44:49,841 INFO sqlalchemy.engine.base.Engine ()\n",
      "2021-07-05 20:44:49,843 INFO sqlalchemy.engine.base.Engine PRAGMA main.table_info(\"T_users\")\n",
      "2021-07-05 20:44:49,845 INFO sqlalchemy.engine.base.Engine ()\n",
      "2021-07-05 20:44:49,848 INFO sqlalchemy.engine.base.Engine PRAGMA temp.table_info(\"T_users\")\n",
      "2021-07-05 20:44:49,850 INFO sqlalchemy.engine.base.Engine ()\n",
      "2021-07-05 20:44:49,852 INFO sqlalchemy.engine.base.Engine PRAGMA main.table_info(\"T_addresses\")\n",
      "2021-07-05 20:44:49,853 INFO sqlalchemy.engine.base.Engine ()\n",
      "2021-07-05 20:44:49,855 INFO sqlalchemy.engine.base.Engine PRAGMA temp.table_info(\"T_addresses\")\n",
      "2021-07-05 20:44:49,856 INFO sqlalchemy.engine.base.Engine ()\n",
      "2021-07-05 20:44:49,859 INFO sqlalchemy.engine.base.Engine \n",
      "CREATE TABLE \"T_users\" (\n",
      "\tpk INTEGER NOT NULL, \n",
      "\tname VARCHAR, \n",
      "\tPRIMARY KEY (pk)\n",
      ")\n",
      "\n",
      "\n",
      "2021-07-05 20:44:49,861 INFO sqlalchemy.engine.base.Engine ()\n",
      "2021-07-05 20:44:49,871 INFO sqlalchemy.engine.base.Engine COMMIT\n",
      "2021-07-05 20:44:49,873 INFO sqlalchemy.engine.base.Engine \n",
      "CREATE TABLE \"T_addresses\" (\n",
      "\tpk INTEGER NOT NULL, \n",
      "\tname VARCHAR, \n",
      "\tfk INTEGER, \n",
      "\tPRIMARY KEY (pk), \n",
      "\tFOREIGN KEY(fk) REFERENCES \"T_users\" (pk)\n",
      ")\n",
      "\n",
      "\n",
      "2021-07-05 20:44:49,875 INFO sqlalchemy.engine.base.Engine ()\n",
      "2021-07-05 20:44:49,882 INFO sqlalchemy.engine.base.Engine COMMIT\n"
     ]
    }
   ],
   "source": [
    "metadata.create_all(engine)"
   ]
  },
  {
   "cell_type": "code",
   "execution_count": 57,
   "metadata": {
    "scrolled": true
   },
   "outputs": [
    {
     "name": "stdout",
     "output_type": "stream",
     "text": [
      "INSERT INTO \"T_users\" (pk, name) VALUES (:pk, :name)\n"
     ]
    }
   ],
   "source": [
    "print(obj_users.insert().values(pk=1, name='park').compile())"
   ]
  },
  {
   "cell_type": "code",
   "execution_count": 62,
   "metadata": {},
   "outputs": [
    {
     "name": "stdout",
     "output_type": "stream",
     "text": [
      "<bound method Immutable.params of Table('T_users', MetaData(bind=None), Column('pk', Integer(), table=<T_users>, primary_key=True, nullable=False), Column('name', String(), table=<T_users>), schema=None)>\n"
     ]
    }
   ],
   "source": [
    "print(obj_users.params)"
   ]
  },
  {
   "cell_type": "code",
   "execution_count": 63,
   "metadata": {},
   "outputs": [],
   "source": [
    "con = engine.connect()"
   ]
  },
  {
   "cell_type": "code",
   "execution_count": 64,
   "metadata": {},
   "outputs": [
    {
     "name": "stdout",
     "output_type": "stream",
     "text": [
      "2021-07-05 20:47:50,914 INFO sqlalchemy.engine.base.Engine INSERT INTO \"T_users\" (pk, name) VALUES (?, ?)\n",
      "2021-07-05 20:47:50,916 INFO sqlalchemy.engine.base.Engine (1, 'park')\n",
      "2021-07-05 20:47:50,926 INFO sqlalchemy.engine.base.Engine COMMIT\n"
     ]
    },
    {
     "data": {
      "text/plain": [
       "<sqlalchemy.engine.result.ResultProxy at 0x1aa2406ca00>"
      ]
     },
     "execution_count": 64,
     "metadata": {},
     "output_type": "execute_result"
    }
   ],
   "source": [
    "con.execute(obj_users.insert(), {'pk':1, 'name':'park'})"
   ]
  },
  {
   "cell_type": "code",
   "execution_count": 65,
   "metadata": {
    "scrolled": true
   },
   "outputs": [
    {
     "name": "stdout",
     "output_type": "stream",
     "text": [
      "2021-07-05 20:48:21,412 INFO sqlalchemy.engine.base.Engine INSERT INTO \"T_users\" (name) VALUES (?)\n",
      "2021-07-05 20:48:21,414 INFO sqlalchemy.engine.base.Engine ('lee',)\n",
      "2021-07-05 20:48:21,423 INFO sqlalchemy.engine.base.Engine COMMIT\n"
     ]
    }
   ],
   "source": [
    "result = con.execute(obj_users.insert(), {'name':'lee'})"
   ]
  },
  {
   "cell_type": "code",
   "execution_count": 66,
   "metadata": {
    "scrolled": true
   },
   "outputs": [
    {
     "data": {
      "text/plain": [
       "[2]"
      ]
     },
     "execution_count": 66,
     "metadata": {},
     "output_type": "execute_result"
    }
   ],
   "source": [
    "result.inserted_primary_key"
   ]
  },
  {
   "cell_type": "code",
   "execution_count": 67,
   "metadata": {},
   "outputs": [],
   "source": [
    "from sqlalchemy import select"
   ]
  },
  {
   "cell_type": "code",
   "execution_count": 77,
   "metadata": {
    "scrolled": true
   },
   "outputs": [
    {
     "name": "stdout",
     "output_type": "stream",
     "text": [
      "2021-07-05 20:51:59,455 INFO sqlalchemy.engine.base.Engine SELECT \"T_users\".name \n",
      "FROM \"T_users\"\n",
      "2021-07-05 20:51:59,456 INFO sqlalchemy.engine.base.Engine ()\n"
     ]
    }
   ],
   "source": [
    "cur = con.execute(select([obj_users.c.name]))  "
   ]
  },
  {
   "cell_type": "code",
   "execution_count": 78,
   "metadata": {},
   "outputs": [
    {
     "data": {
      "text/plain": [
       "[('park',)]"
      ]
     },
     "execution_count": 78,
     "metadata": {},
     "output_type": "execute_result"
    }
   ],
   "source": [
    "cur.fetchmany(1)"
   ]
  },
  {
   "cell_type": "code",
   "execution_count": 79,
   "metadata": {},
   "outputs": [
    {
     "data": {
      "text/plain": [
       "[('lee',)]"
      ]
     },
     "execution_count": 79,
     "metadata": {},
     "output_type": "execute_result"
    }
   ],
   "source": [
    "cur.fetchmany(2)"
   ]
  },
  {
   "cell_type": "code",
   "execution_count": 116,
   "metadata": {},
   "outputs": [
    {
     "name": "stdout",
     "output_type": "stream",
     "text": [
      "\"T_users\".pk = \"T_addresses\".fk\n"
     ]
    }
   ],
   "source": [
    "print(obj_users.c.pk == obj_addresses.c.fk)"
   ]
  },
  {
   "cell_type": "code",
   "execution_count": 117,
   "metadata": {},
   "outputs": [],
   "source": [
    "from sqlalchemy import and_, or_"
   ]
  },
  {
   "cell_type": "code",
   "execution_count": 118,
   "metadata": {},
   "outputs": [
    {
     "name": "stdout",
     "output_type": "stream",
     "text": [
      "\"T_users\".pk = \"T_addresses\".fk AND \"T_users\".pk = :pk_1\n"
     ]
    }
   ],
   "source": [
    "print(and_(obj_users.c.pk == obj_addresses.c.fk, obj_users.c.pk ==1)) ## 두개의 조건을 한번에 사용하고 싶을 경우"
   ]
  },
  {
   "cell_type": "code",
   "execution_count": 121,
   "metadata": {},
   "outputs": [
    {
     "name": "stdout",
     "output_type": "stream",
     "text": [
      "\"T_users\".pk = \"T_addresses\".fk AND \"T_users\".pk = :pk_1\n"
     ]
    }
   ],
   "source": [
    "print((obj_users.c.pk == obj_addresses.c.fk) & (obj_users.c.pk ==1))"
   ]
  },
  {
   "cell_type": "code",
   "execution_count": 127,
   "metadata": {},
   "outputs": [
    {
     "name": "stdout",
     "output_type": "stream",
     "text": [
      "SELECT \"T_users\".pk, \"T_users\".name \n",
      "FROM \"T_users\" \n",
      "WHERE \"T_users\".pk = :pk_1\n"
     ]
    }
   ],
   "source": [
    "print(select([obj_users]).where(obj_users.c.pk==1))"
   ]
  },
  {
   "cell_type": "code",
   "execution_count": 129,
   "metadata": {},
   "outputs": [
    {
     "name": "stdout",
     "output_type": "stream",
     "text": [
      "2021-07-05 17:20:06,239 INFO sqlalchemy.engine.base.Engine INSERT INTO \"T_users\" (name) VALUES (?)\n",
      "2021-07-05 17:20:06,240 INFO sqlalchemy.engine.base.Engine (('AA',), ('BB',), ('CC',))\n",
      "2021-07-05 17:20:06,249 INFO sqlalchemy.engine.base.Engine COMMIT\n"
     ]
    },
    {
     "data": {
      "text/plain": [
       "<sqlalchemy.engine.result.ResultProxy at 0x2785b30e0a0>"
      ]
     },
     "execution_count": 129,
     "metadata": {},
     "output_type": "execute_result"
    }
   ],
   "source": [
    "con.execute(obj_users.insert(), [{'name':'AA'},{'name':'BB'},{'name':'CC'}])"
   ]
  },
  {
   "cell_type": "code",
   "execution_count": 133,
   "metadata": {},
   "outputs": [
    {
     "name": "stdout",
     "output_type": "stream",
     "text": [
      "2021-07-05 17:21:17,945 INFO sqlalchemy.engine.base.Engine SELECT \"T_users\".pk, \"T_users\".name \n",
      "FROM \"T_users\" \n",
      "WHERE \"T_users\".name LIKE ?\n",
      "2021-07-05 17:21:17,947 INFO sqlalchemy.engine.base.Engine ('_A%',)\n"
     ]
    },
    {
     "data": {
      "text/plain": [
       "[(1, 'park'), (3, 'AA')]"
      ]
     },
     "execution_count": 133,
     "metadata": {},
     "output_type": "execute_result"
    }
   ],
   "source": [
    "list(con.execute(select([obj_users]).where(obj_users.c.name.like('_A%'))))"
   ]
  },
  {
   "cell_type": "code",
   "execution_count": 134,
   "metadata": {},
   "outputs": [],
   "source": [
    "from sqlalchemy import join"
   ]
  },
  {
   "cell_type": "code",
   "execution_count": 135,
   "metadata": {},
   "outputs": [
    {
     "name": "stdout",
     "output_type": "stream",
     "text": [
      "\"T_users\" JOIN \"T_addresses\" ON \"T_users\".pk = \"T_addresses\".fk\n"
     ]
    }
   ],
   "source": [
    "print(obj_users.join(obj_addresses))"
   ]
  },
  {
   "cell_type": "code",
   "execution_count": 137,
   "metadata": {},
   "outputs": [
    {
     "name": "stdout",
     "output_type": "stream",
     "text": [
      "SELECT \"T_users\".pk, \"T_users\".name \n",
      "FROM \"T_users\", \"T_addresses\"\n"
     ]
    }
   ],
   "source": [
    "print(select([obj_users]).select_from(obj_addresses))"
   ]
  },
  {
   "cell_type": "code",
   "execution_count": 139,
   "metadata": {},
   "outputs": [
    {
     "name": "stdout",
     "output_type": "stream",
     "text": [
      "SELECT \"T_users\".pk, \"T_users\".name \n",
      "FROM \"T_users\" JOIN \"T_addresses\" ON \"T_users\".pk = \"T_addresses\".fk\n"
     ]
    }
   ],
   "source": [
    "print(select([obj_users]).select_from(obj_users.join(obj_addresses)))"
   ]
  },
  {
   "cell_type": "code",
   "execution_count": 140,
   "metadata": {},
   "outputs": [
    {
     "name": "stdout",
     "output_type": "stream",
     "text": [
      "2021-07-05 17:26:24,399 INFO sqlalchemy.engine.base.Engine INSERT INTO \"T_addresses\" (name, fk) VALUES (?, ?)\n",
      "2021-07-05 17:26:24,400 INFO sqlalchemy.engine.base.Engine ('test', 1)\n",
      "2021-07-05 17:26:24,409 INFO sqlalchemy.engine.base.Engine COMMIT\n"
     ]
    }
   ],
   "source": [
    "cur = con.execute(obj_addresses.insert({'name':'test','fk':1}))"
   ]
  },
  {
   "cell_type": "code",
   "execution_count": 141,
   "metadata": {},
   "outputs": [
    {
     "data": {
      "text/plain": [
       "[1]"
      ]
     },
     "execution_count": 141,
     "metadata": {},
     "output_type": "execute_result"
    }
   ],
   "source": [
    "cur.inserted_primary_key"
   ]
  }
 ],
 "metadata": {
  "kernelspec": {
   "display_name": "Python 3",
   "language": "python",
   "name": "python3"
  },
  "language_info": {
   "codemirror_mode": {
    "name": "ipython",
    "version": 3
   },
   "file_extension": ".py",
   "mimetype": "text/x-python",
   "name": "python",
   "nbconvert_exporter": "python",
   "pygments_lexer": "ipython3",
   "version": "3.8.3"
  }
 },
 "nbformat": 4,
 "nbformat_minor": 4
}
