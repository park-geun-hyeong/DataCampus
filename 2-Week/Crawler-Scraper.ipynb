{
 "cells": [
  {
   "cell_type": "markdown",
   "metadata": {},
   "source": [
    "## download func"
   ]
  },
  {
   "cell_type": "code",
   "execution_count": 10,
   "metadata": {},
   "outputs": [],
   "source": [
    "from bs4 import BeautifulSoup\n",
    "from requests import request,Request,Response\n",
    "from time import sleep\n",
    "import re\n",
    "\n",
    "from urllib import parse"
   ]
  },
  {
   "cell_type": "code",
   "execution_count": 2,
   "metadata": {},
   "outputs": [],
   "source": [
    "def download(url, params={}, headers={}, method='GET', maximum=1): ## maxmum은 유한적인 loop를 위하여 필요\n",
    "    \n",
    "    resp = request(url = url,\n",
    "                   params = params if method=='GET' else {},\n",
    "                   data = params if method=='POST' else {},\n",
    "                   headers = header,\n",
    "                   method = method)\n",
    "    \n",
    "    try:\n",
    "        resp.raise_for_status()  # 200 OK 코드가 아닌 경우 에러 발동\n",
    "    except HTTPError as e:\n",
    "        if 500 <= e.response.status_code<600 and maximum > 0:\n",
    "            print(\"RETRY\")\n",
    "            sleep(1)\n",
    "            resp = download(url, paramas, header, method, maximum-1)\n",
    "        else:    \n",
    "            print(e)\n",
    "    \n",
    "    \n",
    "    \n",
    "    return resp ## 해당 url에 대한 response 반환"
   ]
  },
  {
   "cell_type": "code",
   "execution_count": 3,
   "metadata": {},
   "outputs": [],
   "source": [
    "header = {'user-agent':'Mozilla/5.0 (Windows NT 10.0; Win64; x64) AppleWebKit/537.36 (KHTML, like Gecko) Chrome/91.0.4472.124 Safari/537.36'}"
   ]
  },
  {
   "cell_type": "code",
   "execution_count": 4,
   "metadata": {},
   "outputs": [],
   "source": [
    "url='https://www.pythonscraping.com/pages/page3.html'\n",
    "resp = download(url)\n",
    "dom = BeautifulSoup(resp.text, 'html5lib')"
   ]
  },
  {
   "cell_type": "code",
   "execution_count": 7,
   "metadata": {
    "scrolled": true
   },
   "outputs": [
    {
     "data": {
      "text/plain": [
       "[<img src=\"../img/gifts/img1.jpg\"/>,\n",
       " <img src=\"../img/gifts/img2.jpg\"/>,\n",
       " <img src=\"../img/gifts/img3.jpg\"/>,\n",
       " <img src=\"../img/gifts/img4.jpg\"/>,\n",
       " <img src=\"../img/gifts/img6.jpg\"/>]"
      ]
     },
     "execution_count": 7,
     "metadata": {},
     "output_type": "execute_result"
    }
   ],
   "source": [
    "dom.find_all('img', attrs={'src':re.compile(r'\\d\\.jpg$')})"
   ]
  },
  {
   "cell_type": "code",
   "execution_count": 8,
   "metadata": {},
   "outputs": [
    {
     "data": {
      "text/plain": [
       "['\\n$15.00\\n', '\\n$10,000.52\\n', '\\n$10,005.00\\n', '\\n$0.50\\n', '\\n$1.50\\n']"
      ]
     },
     "execution_count": 8,
     "metadata": {},
     "output_type": "execute_result"
    }
   ],
   "source": [
    "dom.find_all(text=re.compile(r'\\$(?:\\d+[,])*\\d+(?:[.]\\d+)?\\b$'))"
   ]
  },
  {
   "cell_type": "markdown",
   "metadata": {},
   "source": [
    "### google(search)"
   ]
  },
  {
   "cell_type": "code",
   "execution_count": 11,
   "metadata": {
    "scrolled": true
   },
   "outputs": [
    {
     "data": {
      "text/plain": [
       "{'https://www.google.com/search?q': ['파이썬'],\n",
       " 'rlz': ['1C1CHBD_koKR917KR917'],\n",
       " 'oq': ['파이썬'],\n",
       " 'aqs': ['chrome.0.69i59j35i39j0i433l4j69i61l2.995j0j7'],\n",
       " 'sourceid': ['chrome'],\n",
       " 'ie': ['UTF-8']}"
      ]
     },
     "execution_count": 11,
     "metadata": {},
     "output_type": "execute_result"
    }
   ],
   "source": [
    "parse.parse_qs('https://www.google.com/search?q=%ED%8C%8C%EC%9D%B4%EC%8D%AC&rlz=1C1CHBD_koKR917KR917&oq=%ED%8C%8C%EC%9D%B4%EC%8D%AC&aqs=chrome.0.69i59j35i39j0i433l4j69i61l2.995j0j7&sourceid=chrome&ie=UTF-8')"
   ]
  },
  {
   "cell_type": "code",
   "execution_count": 12,
   "metadata": {},
   "outputs": [],
   "source": [
    "url = 'https://www.google.com/search'\n",
    "\n",
    "params = {\n",
    " 'q' : '파이썬',\n",
    " 'rlz': ['1C1CHBD_koKR917KR917'],\n",
    " 'oq': ['파이썬'],\n",
    " 'aqs': ['chrome.0.69i59j35i39j0i433l4j69i61l2.2258j0j7'],\n",
    " 'sourceid': ['chrome'],\n",
    " 'ie': ['UTF-8']}\n"
   ]
  },
  {
   "cell_type": "code",
   "execution_count": 14,
   "metadata": {},
   "outputs": [],
   "source": [
    "resp = download(url, params, header,'GET') \n",
    "dom = BeautifulSoup(resp.text,'lxml')"
   ]
  },
  {
   "cell_type": "code",
   "execution_count": 15,
   "metadata": {},
   "outputs": [],
   "source": [
    "result = dom.find(attrs={'id':'rso'})\n",
    "res_list = result.find_all(recursive=False)"
   ]
  },
  {
   "cell_type": "code",
   "execution_count": 43,
   "metadata": {
    "scrolled": true
   },
   "outputs": [
    {
     "name": "stdout",
     "output_type": "stream",
     "text": [
      "파이썬 - 위키백과, 우리 모두의 백과사전\n",
      "https://ko.wikipedia.org/wiki/%ED%8C%8C%EC%9D%B4%EC%8D%AC\n",
      "=======================\n",
      "파이썬 자습서 — Python 3.9.6 문서\n",
      "https://docs.python.org/ko/3/tutorial/index.html\n",
      "=======================\n",
      "Python - 나무위키\n",
      "https://namu.wiki/w/Python\n",
      "=======================\n",
      "1 파이썬 시작하기 - 왕초보를 위한 Python: 쉽게 풀어 쓴 기초 ...\n",
      "https://wikidocs.net/43\n",
      "=======================\n",
      "Python - 파이썬이란? - 코딩의 시작, TCP School\n",
      "http://tcpschool.com/python/intro\n",
      "=======================\n"
     ]
    },
    {
     "ename": "AttributeError",
     "evalue": "'NoneType' object has no attribute 'text'",
     "output_type": "error",
     "traceback": [
      "\u001b[1;31m---------------------------------------------------------------------------\u001b[0m",
      "\u001b[1;31mAttributeError\u001b[0m                            Traceback (most recent call last)",
      "\u001b[1;32m<ipython-input-43-737288122565>\u001b[0m in \u001b[0;36m<module>\u001b[1;34m\u001b[0m\n\u001b[0;32m      1\u001b[0m \u001b[1;32mfor\u001b[0m \u001b[0mi\u001b[0m \u001b[1;32min\u001b[0m \u001b[0mres_list\u001b[0m\u001b[1;33m:\u001b[0m\u001b[1;33m\u001b[0m\u001b[1;33m\u001b[0m\u001b[0m\n\u001b[0;32m      2\u001b[0m     \u001b[1;31m#print(i.find_all(recursive=False, limit=2)[-1])\u001b[0m\u001b[1;33m\u001b[0m\u001b[1;33m\u001b[0m\u001b[1;33m\u001b[0m\u001b[0m\n\u001b[1;32m----> 3\u001b[1;33m     \u001b[0mprint\u001b[0m\u001b[1;33m(\u001b[0m\u001b[0mi\u001b[0m\u001b[1;33m.\u001b[0m\u001b[0mfind\u001b[0m\u001b[1;33m(\u001b[0m\u001b[1;34m'a'\u001b[0m\u001b[1;33m)\u001b[0m\u001b[1;33m.\u001b[0m\u001b[0mfind\u001b[0m\u001b[1;33m(\u001b[0m\u001b[1;34m'h3'\u001b[0m\u001b[1;33m)\u001b[0m\u001b[1;33m.\u001b[0m\u001b[0mtext\u001b[0m\u001b[1;33m)\u001b[0m\u001b[1;33m\u001b[0m\u001b[1;33m\u001b[0m\u001b[0m\n\u001b[0m\u001b[0;32m      4\u001b[0m     \u001b[0mprint\u001b[0m\u001b[1;33m(\u001b[0m\u001b[0mi\u001b[0m\u001b[1;33m.\u001b[0m\u001b[0mfind\u001b[0m\u001b[1;33m(\u001b[0m\u001b[1;34m'a'\u001b[0m\u001b[1;33m)\u001b[0m\u001b[1;33m.\u001b[0m\u001b[0mattrs\u001b[0m\u001b[1;33m[\u001b[0m\u001b[1;34m'href'\u001b[0m\u001b[1;33m]\u001b[0m\u001b[1;33m)\u001b[0m\u001b[1;33m\u001b[0m\u001b[1;33m\u001b[0m\u001b[0m\n\u001b[0;32m      5\u001b[0m     \u001b[0mprint\u001b[0m\u001b[1;33m(\u001b[0m\u001b[1;34m'======================='\u001b[0m\u001b[1;33m)\u001b[0m\u001b[1;33m\u001b[0m\u001b[1;33m\u001b[0m\u001b[0m\n",
      "\u001b[1;31mAttributeError\u001b[0m: 'NoneType' object has no attribute 'text'"
     ]
    }
   ],
   "source": [
    "for i in res_list:\n",
    "    #print(i.find_all(recursive=False, limit=2)[-1])\n",
    "    print(i.find('a').find('h3').text)\n",
    "    print(i.find('a').attrs['href'])\n",
    "    print('=======================')\n",
    "    "
   ]
  },
  {
   "cell_type": "code",
   "execution_count": 54,
   "metadata": {},
   "outputs": [
    {
     "name": "stdout",
     "output_type": "stream",
     "text": [
      "파이썬 - 위키백과, 우리 모두의 백과사전\n",
      "https://ko.wikipedia.org/wiki/%ED%8C%8C%EC%9D%B4%EC%8D%AC\n",
      "==============================\n",
      "파이썬 자습서 — Python 3.9.6 문서\n",
      "https://docs.python.org/ko/3/tutorial/index.html\n",
      "==============================\n",
      "Python - 나무위키\n",
      "https://namu.wiki/w/Python\n",
      "==============================\n",
      "1 파이썬 시작하기 - 왕초보를 위한 Python: 쉽게 풀어 쓴 기초 ...\n",
      "https://wikidocs.net/43\n",
      "==============================\n",
      "Python - 파이썬이란? - 코딩의 시작, TCP School\n",
      "http://tcpschool.com/python/intro\n",
      "==============================\n",
      "모두를 위한 프로그래밍 : 파이썬 강좌소개 : edwith\n",
      "https://www.edwith.org/pythonforeverybody\n",
      "==============================\n",
      "1 장 파이썬(Python) 입문 | 파이썬 프로그래밍 기초\n",
      "http://bigdata.dongguk.ac.kr/lectures/Python/_book/%ED%8C%8C%EC%9D%B4%EC%8D%AC%EC%9E%85%EB%AC%B8.html\n",
      "==============================\n",
      "파이썬 입문 | 프로그래머스\n",
      "https://programmers.co.kr/learn/courses/2\n",
      "==============================\n"
     ]
    }
   ],
   "source": [
    "for i in dom.find_all('h3', attrs={'class':\"LC20lb DKV0Md\"}):\n",
    "    print(i.text)\n",
    "    print(i.find_parent().attrs['href'])\n",
    "    print('==============================')"
   ]
  },
  {
   "cell_type": "markdown",
   "metadata": {},
   "source": [
    "### naver(search)"
   ]
  },
  {
   "cell_type": "code",
   "execution_count": 21,
   "metadata": {},
   "outputs": [],
   "source": [
    "url = 'https://search.naver.com/search.naver'"
   ]
  },
  {
   "cell_type": "code",
   "execution_count": 22,
   "metadata": {},
   "outputs": [
    {
     "data": {
      "text/plain": [
       "{'https://search.naver.com/search.naver?where': ['nexearch'],\n",
       " 'sm': ['top_hty'],\n",
       " 'fbm': ['0'],\n",
       " 'ie': ['utf8'],\n",
       " 'query': ['통영여행']}"
      ]
     },
     "execution_count": 22,
     "metadata": {},
     "output_type": "execute_result"
    }
   ],
   "source": [
    "parse.parse_qs('https://search.naver.com/search.naver?where=nexearch&sm=top_hty&fbm=0&ie=utf8&query=%ED%86%B5%EC%98%81%EC%97%AC%ED%96%89')"
   ]
  },
  {
   "cell_type": "code",
   "execution_count": 23,
   "metadata": {},
   "outputs": [],
   "source": [
    "params={'where': ['nexearch'],\n",
    " 'sm': ['top_hty'],\n",
    " 'fbm': ['1'],\n",
    " 'ie': ['utf8'],\n",
    " 'query': ['통영여행']}\n",
    "\n",
    "params['query']='통영여행'\n"
   ]
  },
  {
   "cell_type": "code",
   "execution_count": 24,
   "metadata": {},
   "outputs": [],
   "source": [
    "resp = download(url, params, header,'GET') \n",
    "dom = BeautifulSoup(resp.text,'lxml')"
   ]
  },
  {
   "cell_type": "code",
   "execution_count": 25,
   "metadata": {},
   "outputs": [],
   "source": [
    "list = dom.find_all('a', attrs={'class':'api_txt_lines'}) ## attrs를 사용하여 조건걸기"
   ]
  },
  {
   "cell_type": "code",
   "execution_count": 26,
   "metadata": {},
   "outputs": [
    {
     "data": {
      "text/plain": [
       "15"
      ]
     },
     "execution_count": 26,
     "metadata": {},
     "output_type": "execute_result"
    }
   ],
   "source": [
    "len(list)"
   ]
  },
  {
   "cell_type": "code",
   "execution_count": 75,
   "metadata": {
    "scrolled": true
   },
   "outputs": [
    {
     "name": "stdout",
     "output_type": "stream",
     "text": [
      "통영 여행 놀거리 아라마린서비스 요트투어\n",
      "https://blog.naver.com/obh1680/222398983097\n",
      "==================================================\n",
      "거제 통영 여행 외도 포함 내품 핫플 코스\n",
      "https://blog.naver.com/lightsout/222288330327\n",
      "==================================================\n",
      "통영 여행코스 갈만한곳 이순신공원 바다 전망\n",
      "https://blog.naver.com/suk4408/222338705742\n",
      "==================================================\n",
      "거제 통영 여행 코스 서호시장부터 동피랑벽화마을까지\n",
      "https://blog.naver.com/bada3347/222360711590\n",
      "==================================================\n",
      "통영 여행코스 이순신공원, 통영 서피랑마을까지\n",
      "https://blog.naver.com/hnmh2332/222313684322\n",
      "==================================================\n",
      "국내 1박2일 통영 여행 디피랑 서피랑 동피랑 벽화마을 이순신공원\n",
      "https://blog.naver.com/hloveh01/222386234715\n",
      "==================================================\n",
      "거제 통영 여행 코스 통영 이순신공원 등 1박2일 여행지\n",
      "https://blog.naver.com/ultrabat/222362354570\n",
      "==================================================\n",
      "통영 가볼만한곳 이순신공원 통영 여행코스\n",
      "https://blog.naver.com/jyleen/222342610447\n",
      "==================================================\n",
      "아이와 비오는 통영여행 3박 4일 코스\n",
      "https://blog.naver.com/sidna/222358406013\n",
      "==================================================\n",
      "여름에 통영여행 일정 좀 봐주세요 여름 휴가로 통영 여행 가려고 하는데요 너무 더울 것 같아 동피랑 같은 언덕으로 많이 걸어야하는 여행지는 패스하고 추천 좀 해주세요!! 3박 4일로 있을거에요,,\n",
      "https://kin.naver.com/qna/detail.nhn?d1id=9&dirId=90111&docId=393379306&qb=7Ya17JiB7Jes7ZaJ&enc=utf8&section=kin.ext&rank=1&search_sort=0&spq=0\n",
      "==================================================\n",
      "통영 여행을 계획하고 계시다면 통영 케이블카와 스카이라인 루지, 이순신공원, 욕지도를 추천드립니다. 풍경이 아름다운 곳들도 많고 맛집들도 많다고 합니다. 자세한 내용이 담겨 있는 링크도 같이 걸어드릴 테니 참고해보시고 즐거운 여행...\n",
      "https://kin.naver.com/qna/detail.nhn?d1id=9&dirId=90111&docId=393379306&qb=7Ya17JiB7Jes7ZaJ&enc=utf8&section=kin.ext&rank=1&search_sort=0&spq=0\n",
      "==================================================\n",
      "통영 여행 루트좀 짜주세요! 여자 2명이서 8월 18일 부터 3박 4일간 통영 여행을 가기로 했어요! 진남초등학교 근처로 숙소는 잡아 놨는데 통영을 한번도 가보지를 못해서 루트를... 타지 사람들이다 보니 버스노선이라든가 가격이런걸 전혀 몰라서요ㅠㅠ 아니면 통영여행 잘 짜여져 있는 블로그를 소개해 주셔도 되요.......\n",
      "https://kin.naver.com/qna/detail.nhn?d1id=9&dirId=90111&docId=232061605&qb=7Ya17JiB7Jes7ZaJ&enc=utf8&section=kin.ext&rank=2&search_sort=0&spq=0\n",
      "==================================================\n",
      "통영 1박2일 여행기 한번 참고해보고 틀 한번 잡아보세요^^ 정말 국내여행에 최고봉 인정합니다! 맛집&여행지 포스팅되어있어요! > > >\n",
      "https://kin.naver.com/qna/detail.nhn?d1id=9&dirId=90111&docId=232061605&qb=7Ya17JiB7Jes7ZaJ&enc=utf8&section=kin.ext&rank=2&search_sort=0&spq=0\n",
      "==================================================\n",
      "엄빠 할머니 통영여행 ㅋ 엄마 아빠 친할머니 친할아버지와 같이 집에 사는데 어제 보름간 통영여행 가셨는데 어제 김치 채소 밥 이랑 먹고 학교 학원 가고 레스토랑에서 저녁 먹었거든요 전 누나 1명과 동생 2명이랑 있는데 오늘은 뭐하고 놀지 추천해주세요\n",
      "https://kin.naver.com/qna/detail.nhn?d1id=9&dirId=90111&docId=380916376&qb=7Ya17JiB7Jes7ZaJ&enc=utf8&section=kin.ext&rank=3&search_sort=0&spq=0\n",
      "==================================================\n",
      "... 질문하신 [통영여행] 관련 답변 드리도록 하겠습니다. 가족분들과 통영여행 가시나 봅니다. 통영에 가볼 만한 여행 코스 하나... 혹시 통영 여행지 근처에서 숙박을 하실거면 위의 네임카드를 클릭! 홈페이지 주소에 들어가시면 숙박 할인 및 혜택이 많이 있으니깐요 여행하시는데...\n",
      "https://kin.naver.com/qna/detail.nhn?d1id=9&dirId=90111&docId=380916376&qb=7Ya17JiB7Jes7ZaJ&enc=utf8&section=kin.ext&rank=3&search_sort=0&spq=0\n",
      "==================================================\n"
     ]
    }
   ],
   "source": [
    "for i in list:\n",
    "    print(i.text.strip())\n",
    "    print(i.attrs['href'])\n",
    "    print('='*50)"
   ]
  },
  {
   "cell_type": "code",
   "execution_count": 27,
   "metadata": {},
   "outputs": [],
   "source": [
    "from requests.compat import urljoin, urlparse, quote, unquote"
   ]
  },
  {
   "cell_type": "code",
   "execution_count": 28,
   "metadata": {},
   "outputs": [
    {
     "data": {
      "text/plain": [
       "ParseResult(scheme='https', netloc='search.naver.com', path='/search.naver', params='', query='', fragment='')"
      ]
     },
     "execution_count": 28,
     "metadata": {},
     "output_type": "execute_result"
    }
   ],
   "source": [
    "urlparse(url)"
   ]
  },
  {
   "cell_type": "code",
   "execution_count": 29,
   "metadata": {},
   "outputs": [
    {
     "data": {
      "text/plain": [
       "'search.naver.com'"
      ]
     },
     "execution_count": 29,
     "metadata": {},
     "output_type": "execute_result"
    }
   ],
   "source": [
    "urlparse(url).hostname"
   ]
  },
  {
   "cell_type": "code",
   "execution_count": 30,
   "metadata": {},
   "outputs": [
    {
     "data": {
      "text/plain": [
       "'https://search.naver.com/robots.txt'"
      ]
     },
     "execution_count": 30,
     "metadata": {},
     "output_type": "execute_result"
    }
   ],
   "source": [
    "urljoin(url,'/robots.txt')"
   ]
  },
  {
   "cell_type": "markdown",
   "metadata": {},
   "source": [
    "### robot.txt(allow, disalliow 확인)"
   ]
  },
  {
   "cell_type": "code",
   "execution_count": 31,
   "metadata": {},
   "outputs": [],
   "source": [
    "def can_fetch(url,path):\n",
    "    resp = download(urljoin(url, '/robots.txt'))\n",
    "    allow=[]\n",
    "    disallow=[]\n",
    "    \n",
    "    if resp.status_code==200: ## 서버로의 접근이 허락될경우\n",
    "        useragent = '*' \n",
    "        for i in resp.text.splitlines(): ##robots.txt의 line별로 쪼개서 살펴보기\n",
    "            pair = i.split(':') ## key,value\n",
    "            if len(pair) == 2:\n",
    "                \n",
    "                if pair[0].strip() == 'User-agent':\n",
    "                    useragent = pair[1] \n",
    "                else:\n",
    "                    if pair[0].strip() =='Allow':\n",
    "                        allow.append(pair[1].strip())\n",
    "                    else:\n",
    "                        disallow.append(pair[1].strip())\n",
    "    \n",
    "    \n",
    "    \n",
    "    \n",
    "    return True if path in allow else False, {'allow': allow}, {'disallow':disallow} ## robot.txt에 path를 허락해주었는지 안했는지\n",
    "         \n",
    "        "
   ]
  },
  {
   "cell_type": "code",
   "execution_count": 107,
   "metadata": {
    "scrolled": true
   },
   "outputs": [
    {
     "data": {
      "text/plain": [
       "3"
      ]
     },
     "execution_count": 107,
     "metadata": {},
     "output_type": "execute_result"
    }
   ],
   "source": [
    "len(can_fetch('https://www.google.com', '/search'))"
   ]
  },
  {
   "cell_type": "code",
   "execution_count": 32,
   "metadata": {
    "scrolled": true
   },
   "outputs": [
    {
     "data": {
      "text/plain": [
       "False"
      ]
     },
     "execution_count": 32,
     "metadata": {},
     "output_type": "execute_result"
    }
   ],
   "source": [
    "can_fetch('https://www.google.com', '/search')[0] ## google/robots.txt 에선 search의 수집을 금지한다"
   ]
  },
  {
   "cell_type": "markdown",
   "metadata": {},
   "source": [
    "### Open API(공공 데이터 포털의 코로나 현황 api)"
   ]
  },
  {
   "cell_type": "code",
   "execution_count": 135,
   "metadata": {},
   "outputs": [],
   "source": [
    "from urllib import parse"
   ]
  },
  {
   "cell_type": "code",
   "execution_count": 136,
   "metadata": {
    "scrolled": true
   },
   "outputs": [
    {
     "data": {
      "text/plain": [
       "{'http://openapi.data.go.kr/openapi/service/rest/Covid19/getCovid19InfStateJson?serviceKey': ['인증키(URL Encode)'],\n",
       " 'pageNo': ['1'],\n",
       " 'numOfRows': ['10'],\n",
       " 'startCreateDt': ['20200310'],\n",
       " 'endCreateDt': ['20200315']}"
      ]
     },
     "execution_count": 136,
     "metadata": {},
     "output_type": "execute_result"
    }
   ],
   "source": [
    "parse.parse_qs('http://openapi.data.go.kr/openapi/service/rest/Covid19/getCovid19InfStateJson?serviceKey=인증키(URL Encode)&pageNo=1&numOfRows=10&startCreateDt=20200310&endCreateDt=20200315')"
   ]
  },
  {
   "cell_type": "code",
   "execution_count": 33,
   "metadata": {},
   "outputs": [],
   "source": [
    "### 공공데이터 포털에서 데이터를 신청할경우 해당 데이터를 받아볼수있도록 url과 seviceKey를 제공해준다"
   ]
  },
  {
   "cell_type": "code",
   "execution_count": 34,
   "metadata": {},
   "outputs": [],
   "source": [
    "url = 'http://openapi.data.go.kr/openapi/service/rest/Covid19/getCovid19InfStateJson'\n",
    "params = {'serviceKey':'P6It1VhmA50s4EKV+9a1J6NaXPIwLgfKo2sM9BUHVZZfeTFMkGChDuernQSWLvqQD1iWOJTM+v6wbI6XX8CPBA==',\n",
    "          'pageNo':1,\n",
    "          'numOfRows':10,\n",
    "          'startCreateDt':'20200701',\n",
    "          'endCreateDt':'20200707'}  ## 7일 간의 데이터를 요청하였다\n",
    "    "
   ]
  },
  {
   "cell_type": "code",
   "execution_count": 37,
   "metadata": {},
   "outputs": [
    {
     "name": "stdout",
     "output_type": "stream",
     "text": [
      "7\n"
     ]
    }
   ],
   "source": [
    "resp = download(url, params=params)\n",
    "dom = BeautifulSoup(resp.text, 'lxml')\n",
    "print(len(dom.find_all('item')))"
   ]
  },
  {
   "cell_type": "code",
   "execution_count": 133,
   "metadata": {},
   "outputs": [
    {
     "name": "stdout",
     "output_type": "stream",
     "text": [
      "accdefrate\n",
      "0.9966586491\n",
      "==============================\n",
      "accexamcnt\n",
      "1346194\n",
      "==============================\n",
      "accexamcompcnt\n",
      "1322519\n",
      "==============================\n",
      "carecnt\n",
      "1005\n",
      "==============================\n",
      "clearcnt\n",
      "11914\n",
      "==============================\n",
      "createdt\n",
      "2020-07-07 10:15:15.15\n",
      "==============================\n",
      "deathcnt\n",
      "285\n",
      "==============================\n",
      "decidecnt\n",
      "13181\n",
      "==============================\n",
      "examcnt\n",
      "23675\n",
      "==============================\n",
      "resutlnegcnt\n",
      "1309338\n",
      "==============================\n",
      "seq\n",
      "192\n",
      "==============================\n",
      "statedt\n",
      "20200707\n",
      "==============================\n",
      "statetime\n",
      "00:00\n",
      "==============================\n",
      "updatedt\n",
      "2020-07-07 10:15:15.15\n",
      "==============================\n"
     ]
    }
   ],
   "source": [
    "for i in dom.find_all('item')[0].find_all(recursive=False): ## data의 feature을 출력\n",
    "    print(i.name)\n",
    "    print(i.text.strip())\n",
    "    print('='*30)"
   ]
  },
  {
   "cell_type": "markdown",
   "metadata": {},
   "source": [
    "===========================================================================\n",
    "## Data 수집\n",
    "\n",
    "### 정형\n",
    "- DB(RDB-ORM)\n",
    "- sqlite, sqlalchemy\n",
    "\n",
    "### 반정형(문서)\n",
    "- DOM 구조\n",
    "- HTML-XML-JSON\n",
    "- requests, Beautifulsoup,re ====> HTTP\n",
    "- parser(html.parser- 기본, lxml- 안정적,빠른, html5lib-브라우저)\n",
    "- 불법 조심(robots.txt, Opt-out, API)  ===> Crawling(scraping) ===> 빅데이터 수집기\n",
    "\n",
    "### 비정형(텍스트, 이미지)\n",
    "==========================================================================="
   ]
  },
  {
   "cell_type": "markdown",
   "metadata": {},
   "source": [
    "###  CSS(SOM)\n",
    "- select는 CSS selector로 tag 객체를 찾아 반환한다\n",
    "- find처럼 태그 이름, 속성, 속성값을 특정하는 방식은 같다. 하지만 CSS는 이 외에도 다양한 선택자(selector)를 갖기 때문에 여러 요소를 조합하여 태그를 특정하기 쉽다. 예를 들어 특정 경로의 태그를 객체로 반환하고 싶을 때, find의 경우 반복적으로 코드를 작성해야 한다. select는 직접 하위 경로를 지정할 수 있기 때문에 간편하다.\n",
    "\n"
   ]
  },
  {
   "cell_type": "code",
   "execution_count": 39,
   "metadata": {},
   "outputs": [],
   "source": [
    "url='https://www.pythonscraping.com/pages/page3.html'\n",
    "resp = download(url)\n",
    "dom = BeautifulSoup(resp.text, 'html5lib')"
   ]
  },
  {
   "cell_type": "markdown",
   "metadata": {},
   "source": [
    "- tr = 행, td = 열"
   ]
  },
  {
   "cell_type": "code",
   "execution_count": null,
   "metadata": {
    "scrolled": false
   },
   "outputs": [],
   "source": [
    "dom.select('tr,td') ## 복수개의 tr과 td를 찾아라"
   ]
  },
  {
   "cell_type": "code",
   "execution_count": null,
   "metadata": {
    "scrolled": false
   },
   "outputs": [],
   "source": [
    "dom.select('tr td') ## tr의 자손중 td를 찾아라 find(recursive=True)"
   ]
  },
  {
   "cell_type": "code",
   "execution_count": null,
   "metadata": {},
   "outputs": [],
   "source": [
    "dom.select('tr > td') ## find(recursive=False)"
   ]
  },
  {
   "cell_type": "code",
   "execution_count": 43,
   "metadata": {
    "scrolled": true
   },
   "outputs": [
    {
     "data": {
      "text/plain": [
       "[<td>\n",
       " $15.00\n",
       " </td>,\n",
       " <td>\n",
       " $10,000.52\n",
       " </td>,\n",
       " <td>\n",
       " $10,005.00\n",
       " </td>,\n",
       " <td>\n",
       " $0.50\n",
       " </td>,\n",
       " <td>\n",
       " $1.50\n",
       " </td>]"
      ]
     },
     "execution_count": 43,
     "metadata": {},
     "output_type": "execute_result"
    }
   ],
   "source": [
    "dom.select('tr > td:nth-of-type(3)' ) ## tr의 바로위의 td중 3번째 데이터를 뽑아라"
   ]
  },
  {
   "cell_type": "code",
   "execution_count": 44,
   "metadata": {},
   "outputs": [
    {
     "data": {
      "text/plain": [
       "['$15.00', '$10,000.52', '$10,005.00', '$0.50', '$1.50']"
      ]
     },
     "execution_count": 44,
     "metadata": {},
     "output_type": "execute_result"
    }
   ],
   "source": [
    "[i.text.strip() for i in dom.select('tr > td:nth-of-type(3)')]"
   ]
  },
  {
   "cell_type": "markdown",
   "metadata": {},
   "source": [
    "- tr > td:nth-of-type(n) : 각 행에서 자식 열의 몇번째\n",
    "- td:nth-of-type(n) : 모든 열에서 몇번\n",
    "- tr td:nth-of-type(n) 각 행의 모든 열의 몇번째"
   ]
  },
  {
   "cell_type": "code",
   "execution_count": 45,
   "metadata": {},
   "outputs": [
    {
     "data": {
      "text/plain": [
       "[<img src=\"../img/gifts/img1.jpg\"/>,\n",
       " <img src=\"../img/gifts/img2.jpg\"/>,\n",
       " <img src=\"../img/gifts/img3.jpg\"/>,\n",
       " <img src=\"../img/gifts/img4.jpg\"/>,\n",
       " <img src=\"../img/gifts/img6.jpg\"/>]"
      ]
     },
     "execution_count": 45,
     "metadata": {},
     "output_type": "execute_result"
    }
   ],
   "source": [
    "dom.select('tr > td:nth-of-type(4) > img') ## img"
   ]
  },
  {
   "cell_type": "code",
   "execution_count": 46,
   "metadata": {},
   "outputs": [
    {
     "data": {
      "text/plain": [
       "[<img src=\"../img/gifts/img1.jpg\"/>,\n",
       " <img src=\"../img/gifts/img2.jpg\"/>,\n",
       " <img src=\"../img/gifts/img3.jpg\"/>,\n",
       " <img src=\"../img/gifts/img4.jpg\"/>,\n",
       " <img src=\"../img/gifts/img6.jpg\"/>]"
      ]
     },
     "execution_count": 46,
     "metadata": {},
     "output_type": "execute_result"
    }
   ],
   "source": [
    "dom.select('tr > td:nth-of-type(4) img[src$=jpg]') ## img of jpg"
   ]
  },
  {
   "cell_type": "markdown",
   "metadata": {},
   "source": [
    "### Google(SOM)"
   ]
  },
  {
   "cell_type": "code",
   "execution_count": 47,
   "metadata": {},
   "outputs": [],
   "source": [
    "url = 'https://www.google.com/search'\n",
    "\n",
    "params = {\n",
    " 'q' : '파이썬',\n",
    " 'rlz': ['1C1CHBD_koKR917KR917'],\n",
    " 'oq': ['파이썬'],\n",
    " 'aqs': ['chrome.0.69i59j35i39j0i433l4j69i61l2.2258j0j7'],\n",
    " 'sourceid': ['chrome'],\n",
    " 'ie': ['UTF-8']}\n"
   ]
  },
  {
   "cell_type": "code",
   "execution_count": 48,
   "metadata": {},
   "outputs": [],
   "source": [
    "resp = download(url, params)\n",
    "dom = BeautifulSoup(resp.text, 'html5lib')"
   ]
  },
  {
   "cell_type": "code",
   "execution_count": 49,
   "metadata": {
    "scrolled": true
   },
   "outputs": [
    {
     "data": {
      "text/plain": [
       "(13, 8, 8)"
      ]
     },
     "execution_count": 49,
     "metadata": {},
     "output_type": "execute_result"
    }
   ],
   "source": [
    "len(dom.select('h3')), len(dom.select('h3.LC20lb')), len(dom.select('h3.LC20lb.DKV0Md'))"
   ]
  },
  {
   "cell_type": "code",
   "execution_count": 50,
   "metadata": {},
   "outputs": [
    {
     "data": {
      "text/plain": [
       "[<h3 class=\"LC20lb DKV0Md\">파이썬 자습서 — Python 3.9.6 문서</h3>,\n",
       " <h3 class=\"LC20lb DKV0Md\">파이썬 - 위키백과, 우리 모두의 백과사전</h3>,\n",
       " <h3 class=\"LC20lb DKV0Md\">1 파이썬 시작하기 - 왕초보를 위한 Python: 쉽게 풀어 쓴 기초 ...</h3>,\n",
       " <h3 class=\"LC20lb DKV0Md\">Python - 나무위키</h3>,\n",
       " <h3 class=\"LC20lb DKV0Md\">Python - 파이썬이란? - 코딩의 시작, TCP School</h3>,\n",
       " <h3 class=\"LC20lb DKV0Md\">Python - 파이썬 개요 - 코딩의 시작, TCP School</h3>,\n",
       " <h3 class=\"LC20lb DKV0Md\">모두를 위한 프로그래밍 : 파이썬 강좌소개 : edwith</h3>,\n",
       " <h3 class=\"LC20lb DKV0Md\">1 장 파이썬(Python) 입문 | 파이썬 프로그래밍 기초</h3>]"
      ]
     },
     "execution_count": 50,
     "metadata": {},
     "output_type": "execute_result"
    }
   ],
   "source": [
    "dom.select('br + h3')"
   ]
  },
  {
   "cell_type": "code",
   "execution_count": 174,
   "metadata": {},
   "outputs": [
    {
     "name": "stdout",
     "output_type": "stream",
     "text": [
      "파이썬 자습서 — Python 3.9.6 문서\n",
      "https://docs.python.org/ko/3/tutorial/index.html\n",
      "==================================================\n",
      "파이썬 - 위키백과, 우리 모두의 백과사전\n",
      "https://ko.wikipedia.org/wiki/%ED%8C%8C%EC%9D%B4%EC%8D%AC\n",
      "==================================================\n",
      "Python - 나무위키\n",
      "https://namu.wiki/w/Python\n",
      "==================================================\n",
      "1 파이썬 시작하기 - 왕초보를 위한 Python: 쉽게 풀어 쓴 기초 ...\n",
      "https://wikidocs.net/43\n",
      "==================================================\n",
      "Python - 파이썬이란? - 코딩의 시작, TCP School\n",
      "http://tcpschool.com/python/intro\n",
      "==================================================\n",
      "모두를 위한 프로그래밍 : 파이썬 강좌소개 : edwith\n",
      "https://www.edwith.org/pythonforeverybody\n",
      "==================================================\n",
      "1 장 파이썬(Python) 입문 | 파이썬 프로그래밍 기초\n",
      "http://bigdata.dongguk.ac.kr/lectures/Python/_book/%ED%8C%8C%EC%9D%B4%EC%8D%AC%EC%9E%85%EB%AC%B8.html\n",
      "==================================================\n",
      "파이썬을 파이썬답게 | 프로그래머스\n",
      "https://programmers.co.kr/learn/courses/4008\n",
      "==================================================\n"
     ]
    }
   ],
   "source": [
    "for i in dom.select('br + h3'):\n",
    "    print(i.text.strip())\n",
    "    print(i.find_parent().attrs['href'])\n",
    "    print('='*50)"
   ]
  },
  {
   "cell_type": "markdown",
   "metadata": {},
   "source": [
    "## Crawler\n",
    "\n",
    "- focused crawling(웹의 범위를 제한해 주는것)"
   ]
  },
  {
   "cell_type": "code",
   "execution_count": 51,
   "metadata": {},
   "outputs": [],
   "source": [
    "import sqlite3\n",
    "import sqlalchemy\n",
    "\n",
    "from requests import request, HTTPError\n",
    "from requests.compat import urljoin, urlparse, quote, unquote\n",
    "from time import sleep\n",
    "import re\n",
    "from urllib import parse"
   ]
  },
  {
   "cell_type": "code",
   "execution_count": 52,
   "metadata": {},
   "outputs": [],
   "source": [
    "headers = {'user-agent':'Mozilla/5.0 (Windows NT 10.0; Win64; x64) AppleWebKit/537.36 (KHTML, like Gecko) Chrome/91.0.4472.124 Safari/537.36'}"
   ]
  },
  {
   "cell_type": "code",
   "execution_count": 201,
   "metadata": {},
   "outputs": [],
   "source": [
    "def download(url, params={}, headers={}, method='GET', maximum=1): ## maxmum은 유한적인 loop를 위하여 필요\n",
    "    \n",
    "    resp = request(url = url,\n",
    "                   params = params if method=='GET' else {},\n",
    "                   data = params if method=='POST' else {},\n",
    "                   headers = header,\n",
    "                   method = method)\n",
    "    \n",
    "    try:\n",
    "        resp.raise_for_status()  # 200 OK 코드가 아닌 경우 에러 발동\n",
    "    except HTTPError as e:\n",
    "        if 500 <= e.response.status_code<600 and maximum > 0:\n",
    "            print(\"RETRY\")\n",
    "            sleep(1)\n",
    "            resp = download(url, paramas, header, method, maximum-1)\n",
    "        else:    \n",
    "            print(e)\n",
    "    \n",
    "    \n",
    "    \n",
    "    return resp    "
   ]
  },
  {
   "cell_type": "code",
   "execution_count": 53,
   "metadata": {},
   "outputs": [],
   "source": [
    "def can_fetch(url,path):\n",
    "    resp = download(urljoin(url, '/robots.txt'))\n",
    "    allow=[]\n",
    "    disallow=[]\n",
    "    \n",
    "    if resp.status_code==200:\n",
    "        useragent = '*' \n",
    "        for i in resp.text.splitlines():\n",
    "            pair = i.split(':') ## key,value\n",
    "            if len(pair) == 2:\n",
    "                \n",
    "                if pair[0].strip() == 'User-agent':\n",
    "                    useragent = pair[1] \n",
    "                else:\n",
    "                    if pair[0].strip() =='Allow':\n",
    "                        allow.append(pair[1].strip())\n",
    "                    else:\n",
    "                        disallow.append(pair[1].strip())\n",
    "    \n",
    "    \n",
    "    \n",
    "    \n",
    "    return True if path in allow else False, allow, disallow"
   ]
  },
  {
   "cell_type": "code",
   "execution_count": 54,
   "metadata": {},
   "outputs": [],
   "source": [
    "def new_download(url):\n",
    "    \n",
    "    _ = urlparse(url)\n",
    "    print(can_fetch(_[0]+'://'+_[1], _[2])[0]) ## True/ False를 print해주기\n",
    "    \n",
    "    return download(url,headers = headers)"
   ]
  },
  {
   "cell_type": "markdown",
   "metadata": {},
   "source": [
    "### 위에서 진행했던 파이썬 검색창에서 크롤링 진행해보기"
   ]
  },
  {
   "cell_type": "code",
   "execution_count": 55,
   "metadata": {},
   "outputs": [],
   "source": [
    "seed='https://www.google.com/search?q=%ED%8C%8C%EC%9D%B4%EC%8D%AC&rlz=1C1CHBD_koKR917KR917&oq=%ED%8C%8C%EC%9D%B4%EC%8D%AC&aqs=chrome.0.69i59j35i39j0i433j0i20i263i433j0i433j69i61l2j69i60.1824j0j7&sourceid=chrome&ie=UTF-8'"
   ]
  },
  {
   "cell_type": "code",
   "execution_count": 56,
   "metadata": {
    "scrolled": false
   },
   "outputs": [
    {
     "name": "stdout",
     "output_type": "stream",
     "text": [
      "False\n"
     ]
    }
   ],
   "source": [
    "resp = new_download(seed)\n",
    "dom = BeautifulSoup(resp.text, 'lxml')"
   ]
  },
  {
   "cell_type": "code",
   "execution_count": 237,
   "metadata": {},
   "outputs": [],
   "source": [
    "links = [urljoin(seed,i.attrs['href']) for i in dom.select('a[href]') if i.attrs['href'] != '#']"
   ]
  },
  {
   "cell_type": "code",
   "execution_count": 238,
   "metadata": {},
   "outputs": [
    {
     "name": "stdout",
     "output_type": "stream",
     "text": [
      "1 https://www.google.com/search?q=%ED%8C%8C%EC%9D%B4%EC%8D%AC&rlz=1C1CHBD_koKR917KR917&gbv=1&sei=AG3mYKDqM4PD0PEP0bKi8Ao\n",
      "2 https://support.google.com/websearch/answer/181196?hl=ko\n",
      "3 https://www.google.com/webhp?hl=ko&sa=X&ved=0ahUKEwig6oimwNLxAhWDITQIHVGZCK4QPAgI\n",
      "4 https://www.google.com/search?q=%ED%8C%8C%EC%9D%B4%EC%8D%AC&rlz=1C1CHBD_koKR917KR917&source=lnms&tbm=isch&sa=X&ved=2ahUKEwig6oimwNLxAhWDITQIHVGZCK4Q_AUoAXoECAEQAw\n",
      "5 https://www.google.com/search?q=%ED%8C%8C%EC%9D%B4%EC%8D%AC&rlz=1C1CHBD_koKR917KR917&source=lnms&tbm=vid&sa=X&ved=2ahUKEwig6oimwNLxAhWDITQIHVGZCK4Q_AUoAnoECAEQBA\n",
      "6 https://www.google.com/search?q=%ED%8C%8C%EC%9D%B4%EC%8D%AC&rlz=1C1CHBD_koKR917KR917&source=lnms&tbm=bks&sa=X&ved=2ahUKEwig6oimwNLxAhWDITQIHVGZCK4Q_AUoA3oECAEQBQ\n",
      "7 https://www.google.com/search?q=%ED%8C%8C%EC%9D%B4%EC%8D%AC&rlz=1C1CHBD_koKR917KR917&source=lnms&tbm=nws&sa=X&ved=2ahUKEwig6oimwNLxAhWDITQIHVGZCK4Q_AUoBHoECAEQBg\n",
      "8 https://www.google.com/preferences\n",
      "9 https://docs.python.org/ko/3/tutorial/index.html\n",
      "10 https://webcache.googleusercontent.com/search?q=cache:Rib_O5KvImcJ:https://docs.python.org/ko/3/tutorial/index.html+&cd=1&hl=ko&ct=clnk&gl=kr\n",
      "11 https://docs.python.org/ko/3/tutorial/interpreter.html\n",
      "12 https://docs.python.org/ko/3/tutorial/appetite.html\n",
      "13 https://docs.python.org/ko/3/tutorial/controlflow.html\n",
      "14 https://docs.python.org/ko/3/tutorial/datastructures.html\n",
      "15 https://ko.wikipedia.org/wiki/%ED%8C%8C%EC%9D%B4%EC%8D%AC\n",
      "16 https://webcache.googleusercontent.com/search?q=cache:OL25IRr7kSMJ:https://ko.wikipedia.org/wiki/%25ED%258C%258C%25EC%259D%25B4%25EC%258D%25AC+&cd=2&hl=ko&ct=clnk&gl=kr\n",
      "17 https://www.google.com/search?rlz=1C1CHBD_koKR917KR917&q=related:https://ko.wikipedia.org/wiki/%25ED%258C%258C%25EC%259D%25B4%25EC%258D%25AC+%ED%8C%8C%EC%9D%B4%EC%8D%AC&sa=X&ved=2ahUKEwig6oimwNLxAhWDITQIHVGZCK4QHzABegQIBRAJ\n",
      "18 https://ko.wikipedia.org/wiki/1991%EB%85%84\n",
      "19 https://ko.wikipedia.org/wiki/2%EC%9B%94_20%EC%9D%BC\n",
      "20 https://ko.wikipedia.org/wiki/%EA%B7%80%EB%8F%84_%EB%B0%98_%EB%A1%9C%EC%84%AC\n",
      "21 https://ko.wikipedia.org/wiki/%ED%8C%8C%EC%9D%B4%EC%8D%AC#%EA%B0%9C%EC%9A%94\n",
      "22 https://ko.wikipedia.org/wiki/%ED%8C%8C%EC%9D%B4%EC%8D%AC#%EC%97%AD%EC%82%AC\n",
      "23 https://ko.wikipedia.org/wiki/%ED%8C%8C%EC%9D%B4%EC%8D%AC#%EB%AC%B8%EB%B2%95\n",
      "24 https://ko.wikipedia.org/wiki/%ED%8C%8C%EC%9D%B4%EC%8D%AC#%EC%9E%90%EB%A3%8C%ED%98%95\n",
      "25 https://namu.wiki/w/Python\n",
      "26 https://www.google.com/search?rlz=1C1CHBD_koKR917KR917&q=related:https://namu.wiki/w/Python+%ED%8C%8C%EC%9D%B4%EC%8D%AC&sa=X&ved=2ahUKEwig6oimwNLxAhWDITQIHVGZCK4QHzACegQICBAI\n",
      "27 https://namu.wiki/w/%ED%8C%8C%EC%9D%B4%EC%84%A0\n",
      "28 https://namu.wiki/w/Python/%EB%AC%B8%EB%B2%95\n",
      "29 https://namu.wiki/w/Dropbox?from=%EB%93%9C%EB%A1%AD%EB%B0%95%EC%8A%A4\n",
      "30 https://namu.wiki/w/%EC%9D%B8%ED%84%B0%ED%94%84%EB%A6%AC%ED%84%B0\n",
      "31 https://wikidocs.net/43\n",
      "32 https://webcache.googleusercontent.com/search?q=cache:iAvUjph6SDAJ:https://wikidocs.net/43+&cd=4&hl=ko&ct=clnk&gl=kr\n",
      "33 https://www.google.com/search?rlz=1C1CHBD_koKR917KR917&q=related:https://wikidocs.net/43+%ED%8C%8C%EC%9D%B4%EC%8D%AC&sa=X&ved=2ahUKEwig6oimwNLxAhWDITQIHVGZCK4QHzADegQIAhAJ\n",
      "34 http://tcpschool.com/python/intro\n",
      "35 http://webcache.googleusercontent.com/search?q=cache:KNG0NbLFwDQJ:tcpschool.com/python/intro+&cd=5&hl=ko&ct=clnk&gl=kr\n",
      "36 https://www.youtube.com/watch?v=kWiCuklohdY\n",
      "37 https://www.youtube.com/watch?v=kWiCuklohdY&t=15790\n",
      "38 https://www.youtube.com/watch?v=kWiCuklohdY&t=16832\n",
      "39 https://www.youtube.com/watch?v=yytWGELNeOI&vl=ko\n",
      "40 https://www.youtube.com/watch?v=8vjgx7joCqg\n",
      "41 https://www.youtube.com/watch?v=DEDENmlT2o0&vl=ko\n",
      "42 https://www.google.com/search?rlz=1C1CHBD_koKR917KR917&tbm=vid&q=%ED%8C%8C%EC%9D%B4%EC%8D%AC&sa=X&ved=2ahUKEwig6oimwNLxAhWDITQIHVGZCK4Q8ccDegQILxAD\n",
      "43 https://www.edwith.org/pythonforeverybody\n",
      "44 https://webcache.googleusercontent.com/search?q=cache:nc2neIY_vO0J:https://www.edwith.org/pythonforeverybody+&cd=10&hl=ko&ct=clnk&gl=kr\n",
      "45 http://bigdata.dongguk.ac.kr/lectures/Python/_book/%ED%8C%8C%EC%9D%B4%EC%8D%AC%EC%9E%85%EB%AC%B8.html\n",
      "46 http://webcache.googleusercontent.com/search?q=cache:Ubqsl9AYrqMJ:bigdata.dongguk.ac.kr/lectures/Python/_book/%25ED%258C%258C%25EC%259D%25B4%25EC%258D%25AC%25EC%259E%2585%25EB%25AC%25B8.html+&cd=11&hl=ko&ct=clnk&gl=kr\n",
      "47 https://programmers.co.kr/learn/courses/4008\n",
      "48 https://webcache.googleusercontent.com/search?q=cache:emMshaeMLekJ:https://programmers.co.kr/learn/courses/4008+&cd=12&hl=ko&ct=clnk&gl=kr\n",
      "49 https://www.google.com/search?rlz=1C1CHBD_koKR917KR917&q=%ED%8C%8C%EC%9D%B4%EC%8D%AC+%EC%84%A4%EC%B9%98&sa=X&ved=2ahUKEwig6oimwNLxAhWDITQIHVGZCK4Q1QIwDHoECBsQAQ\n",
      "50 https://www.google.com/search?rlz=1C1CHBD_koKR917KR917&q=%ED%8C%8C%EC%9D%B4%EC%8D%AC+%EB%8B%A4%EC%9A%B4&sa=X&ved=2ahUKEwig6oimwNLxAhWDITQIHVGZCK4Q1QIwDXoECBoQAQ\n",
      "51 https://www.google.com/search?rlz=1C1CHBD_koKR917KR917&q=%ED%8C%8C%EC%9D%B4%EC%8D%AC+%EC%82%AC%EC%9D%B4%ED%8A%B8&sa=X&ved=2ahUKEwig6oimwNLxAhWDITQIHVGZCK4Q1QIwDnoECBIQAQ\n",
      "52 https://www.google.com/search?rlz=1C1CHBD_koKR917KR917&q=%ED%8C%8C%EC%9D%B4%EC%8D%AC+%EC%BD%94%EB%94%A9&sa=X&ved=2ahUKEwig6oimwNLxAhWDITQIHVGZCK4Q1QIwD3oECBgQAQ\n",
      "53 https://www.google.com/search?rlz=1C1CHBD_koKR917KR917&q=%ED%8C%8C%EC%9D%B4%EC%8D%AC+//+%EC%97%B0%EC%82%B0%EC%9E%90&sa=X&ved=2ahUKEwig6oimwNLxAhWDITQIHVGZCK4Q1QIwEHoECBcQAQ\n",
      "54 https://www.google.com/search?rlz=1C1CHBD_koKR917KR917&q=%ED%8C%8C%EC%9D%B4%EC%8D%AC+%EA%B2%8C%EC%9E%84&sa=X&ved=2ahUKEwig6oimwNLxAhWDITQIHVGZCK4Q1QIwEXoECBQQAQ\n",
      "55 https://www.google.com/search?rlz=1C1CHBD_koKR917KR917&q=%ED%8C%8C%EC%9D%B4%EC%8D%AC+%EA%B0%95%EC%A2%8C&sa=X&ved=2ahUKEwig6oimwNLxAhWDITQIHVGZCK4Q1QIwEnoECBMQAQ\n",
      "56 https://www.google.com/search?rlz=1C1CHBD_koKR917KR917&q=%ED%8C%8C%EC%9D%B4%EC%8D%AC+%EA%B8%B0%ED%98%B8&sa=X&ved=2ahUKEwig6oimwNLxAhWDITQIHVGZCK4Q1QIwE3oECBEQAQ\n",
      "57 https://www.google.com/search?q=%ED%8C%8C%EC%9D%B4%EC%8D%AC&rlz=1C1CHBD_koKR917KR917&ei=AG3mYKDqM4PD0PEP0bKi8Ao&start=10&sa=N&ved=2ahUKEwig6oimwNLxAhWDITQIHVGZCK4Q8tMDegQIARA7\n",
      "58 https://www.google.com/search?q=%ED%8C%8C%EC%9D%B4%EC%8D%AC&rlz=1C1CHBD_koKR917KR917&ei=AG3mYKDqM4PD0PEP0bKi8Ao&start=20&sa=N&ved=2ahUKEwig6oimwNLxAhWDITQIHVGZCK4Q8tMDegQIARA9\n",
      "59 https://www.google.com/search?q=%ED%8C%8C%EC%9D%B4%EC%8D%AC&rlz=1C1CHBD_koKR917KR917&ei=AG3mYKDqM4PD0PEP0bKi8Ao&start=30&sa=N&ved=2ahUKEwig6oimwNLxAhWDITQIHVGZCK4Q8tMDegQIARA_\n",
      "60 https://www.google.com/search?q=%ED%8C%8C%EC%9D%B4%EC%8D%AC&rlz=1C1CHBD_koKR917KR917&ei=AG3mYKDqM4PD0PEP0bKi8Ao&start=40&sa=N&ved=2ahUKEwig6oimwNLxAhWDITQIHVGZCK4Q8tMDegQIARBB\n",
      "61 https://www.google.com/search?q=%ED%8C%8C%EC%9D%B4%EC%8D%AC&rlz=1C1CHBD_koKR917KR917&ei=AG3mYKDqM4PD0PEP0bKi8Ao&start=50&sa=N&ved=2ahUKEwig6oimwNLxAhWDITQIHVGZCK4Q8tMDegQIARBD\n",
      "62 https://www.google.com/search?q=%ED%8C%8C%EC%9D%B4%EC%8D%AC&rlz=1C1CHBD_koKR917KR917&ei=AG3mYKDqM4PD0PEP0bKi8Ao&start=60&sa=N&ved=2ahUKEwig6oimwNLxAhWDITQIHVGZCK4Q8tMDegQIARBF\n",
      "63 https://www.google.com/search?q=%ED%8C%8C%EC%9D%B4%EC%8D%AC&rlz=1C1CHBD_koKR917KR917&ei=AG3mYKDqM4PD0PEP0bKi8Ao&start=70&sa=N&ved=2ahUKEwig6oimwNLxAhWDITQIHVGZCK4Q8tMDegQIARBH\n",
      "64 https://www.google.com/search?q=%ED%8C%8C%EC%9D%B4%EC%8D%AC&rlz=1C1CHBD_koKR917KR917&ei=AG3mYKDqM4PD0PEP0bKi8Ao&start=80&sa=N&ved=2ahUKEwig6oimwNLxAhWDITQIHVGZCK4Q8tMDegQIARBJ\n",
      "65 https://www.google.com/search?q=%ED%8C%8C%EC%9D%B4%EC%8D%AC&rlz=1C1CHBD_koKR917KR917&ei=AG3mYKDqM4PD0PEP0bKi8Ao&start=90&sa=N&ved=2ahUKEwig6oimwNLxAhWDITQIHVGZCK4Q8tMDegQIARBL\n",
      "66 https://www.google.com/search?q=%ED%8C%8C%EC%9D%B4%EC%8D%AC&rlz=1C1CHBD_koKR917KR917&ei=AG3mYKDqM4PD0PEP0bKi8Ao&start=10&sa=N&ved=2ahUKEwig6oimwNLxAhWDITQIHVGZCK4Q8NMDegQIARBN\n",
      "67 https://www.google.com/search?q=%ED%8C%8C%EC%9D%B4%EC%8D%AC&rlz=1C1CHBD_koKR917KR917&tbm=isch&source=iu&ictx=1&fir=rbJkZvEjtpmPbM%252CB4tL0EQjL6Em2M%252C%252Fm%252F05z1_&vet=1&usg=AI4_-kRnk3IColqn33yoaSyIFTWG7CtanQ&sa=X&ved=2ahUKEwig6oimwNLxAhWDITQIHVGZCK4Q_B16BAgmEAE#imgrc=rbJkZvEjtpmPbM\n",
      "68 https://www.google.com/search?q=%ED%8C%8C%EC%9D%B4%EC%8D%AC&rlz=1C1CHBD_koKR917KR917&tbm=isch&source=iu&ictx=1&fir=qNkS-1-n86cXIM%252COL25IRr7kSMLRM%252C_&vet=1&usg=AI4_-kSWHCCP_cfIUlsr5un7FwYfPKgkqA&sa=X&ved=2ahUKEwig6oimwNLxAhWDITQIHVGZCK4Q_h16BAgtEAE#imgrc=qNkS-1-n86cXIM\n",
      "69 https://www.google.com/search?q=%ED%8C%8C%EC%9D%B4%EC%8D%AC&rlz=1C1CHBD_koKR917KR917&tbm=isch&source=iu&ictx=1&fir=e9WQoajkZCQmtM%252Caio5TDg8-NeSjM%252C_&vet=1&usg=AI4_-kQcxXUqRxlCRlpftHx2rw6-YRPSFA&sa=X&ved=2ahUKEwig6oimwNLxAhWDITQIHVGZCK4Q_h16BAgsEAE#imgrc=e9WQoajkZCQmtM\n",
      "70 https://www.google.com/search?q=%ED%8C%8C%EC%9D%B4%EC%8D%AC&rlz=1C1CHBD_koKR917KR917&tbm=isch&source=iu&ictx=1&fir=5cgUDmUdQnDXqM%252CMxN-5wdV2imRiM%252C_&vet=1&usg=AI4_-kR3pV8gkcAcY7_vISrvVuYZ3oKyhQ&sa=X&ved=2ahUKEwig6oimwNLxAhWDITQIHVGZCK4Q_h16BAgrEAE#imgrc=5cgUDmUdQnDXqM\n",
      "71 https://www.google.com/search?q=%ED%8C%8C%EC%9D%B4%EC%8D%AC&rlz=1C1CHBD_koKR917KR917&tbm=isch&source=iu&ictx=1&fir=Emi1X19wy5gy3M%252CL3PiAt_ZyQTarM%252C_&vet=1&usg=AI4_-kS1v6AepwFa5wLT75TJP5KoU5XwmQ&sa=X&ved=2ahUKEwig6oimwNLxAhWDITQIHVGZCK4Q_h16BAgpEAE#imgrc=Emi1X19wy5gy3M\n",
      "72 https://www.google.com/search?rlz=1C1CHBD_koKR917KR917&source=univ&tbm=isch&q=%ED%8C%8C%EC%9D%B4%EC%8D%AC&sa=X&ved=2ahUKEwig6oimwNLxAhWDITQIHVGZCK4QiR56BAgkEAI\n",
      "73 https://ko.wikipedia.org/wiki/%ED%8C%8C%EC%9D%B4%EC%8D%AC\n",
      "74 https://www.google.com/search?rlz=1C1CHBD_koKR917KR917&q=%ED%8C%8C%EC%9D%B4%EC%8D%AC+%EB%AF%B8%EB%A6%AC%EB%B3%B4%EA%B8%B0+%EB%B2%84%EC%A0%84+%EC%B6%9C%EC%8B%9C%EC%9D%BC&sa=X&ved=2ahUKEwig6oimwNLxAhWDITQIHVGZCK4Q6BMoADAcegQIJxAC\n",
      "75 https://www.google.com/search?rlz=1C1CHBD_koKR917KR917&q=%ED%8C%8C%EC%9D%B4%EC%8D%AC+%EC%B5%9C%EA%B7%BC+%EB%B2%84%EC%A0%84+%EC%B6%9C%EC%8B%9C%EC%9D%BC&sa=X&ved=2ahUKEwig6oimwNLxAhWDITQIHVGZCK4Q6BMoADAdegQIKhAC\n",
      "76 https://www.google.com/search?rlz=1C1CHBD_koKR917KR917&q=2021%EB%85%84+6%EC%9B%94+28%EC%9D%BC&stick=H4sIAAAAAAAAAONgVhLQL9E3MsyzTLMwMTIxzsktWcQqZGRgZPi6tUXB7M3sKQpGFm_m7gEA1YQsvCkAAAA&sa=X&ved=2ahUKEwig6oimwNLxAhWDITQIHVGZCK4QmxMoATAdegQIKhAD\n",
      "77 https://www.google.com/search?rlz=1C1CHBD_koKR917KR917&q=%ED%8C%8C%EC%9D%B4%EC%8D%AC+%EA%B0%9C%EB%B0%9C%EC%9E%90&sa=X&ved=2ahUKEwig6oimwNLxAhWDITQIHVGZCK4Q6BMoADAeegQIJRAC\n",
      "78 https://www.google.com/search?rlz=1C1CHBD_koKR917KR917&q=%ED%8C%8C%EC%9D%B4%EC%8D%AC+%EC%86%8C%ED%94%84%ED%8A%B8%EC%9B%A8%EC%96%B4+%EC%9E%AC%EB%8B%A8&stick=H4sIAAAAAAAAAAEwAM__CAMiCS9tLzAzM2wxcKIFIO2MjOydtOyNrCDshoztlITtirjsm6jslrQg7J6s64uoR0dBEjAAAAA&sa=X&ved=2ahUKEwig6oimwNLxAhWDITQIHVGZCK4QmxMoATAeegQIJRAD\n",
      "79 https://www.google.com/search?rlz=1C1CHBD_koKR917KR917&q=%ED%8C%8C%EC%9D%B4%EC%8D%AC+%EC%B5%9C%EA%B7%BC+%EB%B2%84%EC%A0%84&sa=X&ved=2ahUKEwig6oimwNLxAhWDITQIHVGZCK4Q6BMoADAfegQIIRAC\n",
      "80 https://www.google.com/search?rlz=1C1CHBD_koKR917KR917&q=%ED%8C%8C%EC%9D%B4%EC%8D%AC+%EB%9D%BC%EC%9D%B4%EC%84%A0%EC%8A%A4&sa=X&ved=2ahUKEwig6oimwNLxAhWDITQIHVGZCK4Q6BMoADAgegQIIhAC\n",
      "81 https://www.google.com/search?rlz=1C1CHBD_koKR917KR917&q=%ED%8C%8C%EC%9D%B4%EC%8D%AC+%EC%86%8C%ED%94%84%ED%8A%B8%EC%9B%A8%EC%96%B4+%EC%9E%AC%EB%8B%A8&stick=H4sIAAAAAAAAAAEwAM__CAMiCS9tLzAzM2wxcKIFIO2MjOydtOyNrCDshoztlITtirjsm6jslrQg7J6s64uoR0dBEjAAAAA&sa=X&ved=2ahUKEwig6oimwNLxAhWDITQIHVGZCK4QmxMoATAgegQIIhAD\n",
      "82 https://www.google.com/search?rlz=1C1CHBD_koKR917KR917&q=%ED%8C%8C%EC%9D%B4%EC%8D%AC+%ED%8C%8C%EC%9D%BC+%ED%99%95%EC%9E%A5%EC%9E%90&sa=X&ved=2ahUKEwig6oimwNLxAhWDITQIHVGZCK4Q6BMoADAhegQIIBAC\n",
      "83 https://www.google.com/search?rlz=1C1CHBD_koKR917KR917&q=%ED%8C%8C%EC%9D%B4%EC%8D%AC&stick=H4sIAAAAAAAAAONgFuLQz9U3MK0yjFeCs7SEs5Ot9JPzc3Pz86yKM1NSyxMrixexcr7t6Xkzd8ub3jU7WBkBOpBpxzoAAAA&sa=X&ved=2ahUKEwig6oimwNLxAhWDITQIHVGZCK4QMSgAMCJ6BAgjEAE\n",
      "84 https://www.google.com/search?rlz=1C1CHBD_koKR917KR917&q=%ED%8C%8C%EC%9D%B4%EC%8D%AC&stick=H4sIAAAAAAAAAONgFuLQz9U3MK0yjFeCs7SEs5Ot9JPzc3Pz86yKM1NSyxMrixexcr7t6Xkzd8ub3jU7WBkBOpBpxzoAAAA&sa=X&ved=2ahUKEwig6oimwNLxAhWDITQIHVGZCK4QzTooATAiegQIIxAC\n",
      "85 https://www.google.com/search?rlz=1C1CHBD_koKR917KR917&q=%EC%9E%90%EB%B0%94&stick=H4sIAAAAAAAAAONgFuLQz9U3MK0yjFfiArHMi5Oy05K0-Jzzc3Pz84IzU1LLEyuLF7GyvZk34fWGKTtYGQFRE2QaNAAAAA&sa=X&ved=2ahUKEwig6oimwNLxAhWDITQIHVGZCK4QxA0wInoECCMQBQ\n",
      "86 https://www.google.com/search?rlz=1C1CHBD_koKR917KR917&q=C%2B%2B&stick=H4sIAAAAAAAAAONgFuLQz9U3MK0yjFcCs7LSC9O1-Jzzc3Pz84IzU1LLEyuLF7EyO2tr72BlBAD3PF2KLwAAAA&sa=X&ved=2ahUKEwig6oimwNLxAhWDITQIHVGZCK4QxA0wInoECCMQBw\n",
      "87 https://www.google.com/search?rlz=1C1CHBD_koKR917KR917&q=%EC%9E%90%EB%B0%94%EC%8A%A4%ED%81%AC%EB%A6%BD%ED%8A%B8&stick=H4sIAAAAAAAAAONgFuLQz9U3MK0yjFcCs4wKLM21-Jzzc3Pz84IzU1LLEyuLF7EKvZk34fWGKW-6lrxtXPN62d63XTt2sDICAET0wmE-AAAA&sa=X&ved=2ahUKEwig6oimwNLxAhWDITQIHVGZCK4QxA0wInoECCMQCQ\n",
      "88 https://www.google.com/search?rlz=1C1CHBD_koKR917KR917&q=%ED%94%84%EB%A1%9C%EA%B7%B8%EB%9E%98%EB%B0%8D+%EC%96%B8%EC%96%B4&stick=H4sIAAAAAAAAAONgFuLQz9U3MK0yjFeCsIqMDLT4nPNzc_PzgjNTUssTK4sXsYq9ndLyeuGcV9t3vJ434_WGXoU303a8mbZlBysjANOiZhRCAAAA&sa=X&ved=2ahUKEwig6oimwNLxAhWDITQIHVGZCK4QxA0wInoECCMQCw\n",
      "89 https://www.google.com/search?rlz=1C1CHBD_koKR917KR917&q=PHP&stick=H4sIAAAAAAAAAONgFuLQz9U3MK0yjFcCs8wMssu0-Jzzc3Pz84IzU1LLEyuLF7EyB3gE7GBlBAASofAaLwAAAA&sa=X&ved=2ahUKEwig6oimwNLxAhWDITQIHVGZCK4QxA0wInoECCMQDQ\n",
      "90 https://support.google.com/websearch?p=ws_settings_location&hl=ko\n",
      "91 https://support.google.com/websearch/?p=ws_results_help&hl=ko&fg=1\n",
      "92 https://policies.google.com/privacy?hl=ko&fg=1\n",
      "93 https://policies.google.com/terms?hl=ko&fg=1\n"
     ]
    }
   ],
   "source": [
    "for i,k in enumerate(links):\n",
    "    print(i+1, k)"
   ]
  },
  {
   "cell_type": "markdown",
   "metadata": {},
   "source": [
    "### Crawling func"
   ]
  },
  {
   "cell_type": "code",
   "execution_count": 57,
   "metadata": {},
   "outputs": [],
   "source": [
    "seed= 'https://comic.naver.com/webtoon/weekdayList?week=thu'"
   ]
  },
  {
   "cell_type": "code",
   "execution_count": 58,
   "metadata": {},
   "outputs": [],
   "source": [
    "def crawling(seed):\n",
    "    resp = new_download(seed)\n",
    "    \n",
    "    ##추가작업=> content-type : text/*, application/json+xml, image\n",
    "    dom = BeautifulSoup(resp.text, 'lxml')\n",
    "    return [urljoin(seed, i.attrs['href']) for i in dom.select('a[href]') if not i.attrs['href'].startswith('#')] ## '#'\n",
    "    ## '#'으로 시작하지 않는 a[href] 태그들의 url을 return 해주기"
   ]
  },
  {
   "cell_type": "markdown",
   "metadata": {},
   "source": [
    "### BFS "
   ]
  },
  {
   "cell_type": "code",
   "execution_count": 59,
   "metadata": {
    "scrolled": true
   },
   "outputs": [
    {
     "name": "stdout",
     "output_type": "stream",
     "text": [
      "False\n",
      "1 https://www.google.com/search?q=%ED%8C%8C%EC%9D%B4%EC%8D%AC&rlz=1C1CHBD_koKR917KR917&oq=%ED%8C%8C%EC%9D%B4%EC%8D%AC&aqs=chrome.0.69i59j35i39j0i433l4j69i61l2.1833j0j7&sourceid=chrome&ie=UTF-8\n",
      " url_list_num : 95, seed_list_num : 94, visited_list_num : 0\n",
      "==================================================\n",
      "False\n",
      "2 https://www.google.com/search?q=%ED%8C%8C%EC%9D%B4%EC%8D%AC&rlz=1C1CHBD_koKR917KR917&gbv=1&sei=ovHmYPiRNN-f0PEPst6t6Ac\n",
      " url_list_num : 75, seed_list_num : 166, visited_list_num : 1\n",
      "==================================================\n",
      "False\n",
      "3 https://support.google.com/websearch/answer/181196?hl=ko\n",
      " url_list_num : 28, seed_list_num : 188, visited_list_num : 2\n",
      "==================================================\n",
      "False\n",
      "4 https://www.google.com/webhp?hl=ko&sa=X&ved=0ahUKEwj46szkvtPxAhXfDzQIHTJvC30QPAgI\n",
      " url_list_num : 15, seed_list_num : 199, visited_list_num : 3\n",
      "==================================================\n",
      "False\n",
      "5 https://www.google.com/search?q=%ED%8C%8C%EC%9D%B4%EC%8D%AC&rlz=1C1CHBD_koKR917KR917&source=lnms&tbm=isch&sa=X&ved=2ahUKEwj46szkvtPxAhXfDzQIHTJvC30Q_AUoAXoECAEQAw\n",
      " url_list_num : 105, seed_list_num : 297, visited_list_num : 4\n",
      "==================================================\n",
      "False\n",
      "6 https://www.google.com/search?q=%ED%8C%8C%EC%9D%B4%EC%8D%AC&rlz=1C1CHBD_koKR917KR917&source=lnms&tbm=vid&sa=X&ved=2ahUKEwj46szkvtPxAhXfDzQIHTJvC30Q_AUoAnoECAEQBA\n",
      " url_list_num : 41, seed_list_num : 319, visited_list_num : 5\n",
      "==================================================\n",
      "False\n",
      "7 https://www.google.com/search?q=%ED%8C%8C%EC%9D%B4%EC%8D%AC&rlz=1C1CHBD_koKR917KR917&source=lnms&tbm=bks&sa=X&ved=2ahUKEwj46szkvtPxAhXfDzQIHTJvC30Q_AUoA3oECAEQBQ\n",
      " url_list_num : 55, seed_list_num : 369, visited_list_num : 6\n",
      "==================================================\n",
      "False\n",
      "8 https://www.google.com/search?q=%ED%8C%8C%EC%9D%B4%EC%8D%AC&rlz=1C1CHBD_koKR917KR917&source=lnms&tbm=nws&sa=X&ved=2ahUKEwj46szkvtPxAhXfDzQIHTJvC30Q_AUoBHoECAEQBg\n",
      " url_list_num : 31, seed_list_num : 392, visited_list_num : 7\n",
      "==================================================\n",
      "False\n"
     ]
    },
    {
     "ename": "KeyboardInterrupt",
     "evalue": "",
     "output_type": "error",
     "traceback": [
      "\u001b[1;31m---------------------------------------------------------------------------\u001b[0m",
      "\u001b[1;31mKeyboardInterrupt\u001b[0m                         Traceback (most recent call last)",
      "\u001b[1;32m<ipython-input-59-88311566e101>\u001b[0m in \u001b[0;36m<module>\u001b[1;34m\u001b[0m\n\u001b[0;32m      8\u001b[0m \u001b[1;32mwhile\u001b[0m \u001b[0mseed_list\u001b[0m\u001b[1;33m:\u001b[0m\u001b[1;33m\u001b[0m\u001b[1;33m\u001b[0m\u001b[0m\n\u001b[0;32m      9\u001b[0m     \u001b[0mseed\u001b[0m \u001b[1;33m=\u001b[0m \u001b[0mseed_list\u001b[0m\u001b[1;33m.\u001b[0m\u001b[0mpop\u001b[0m\u001b[1;33m(\u001b[0m\u001b[1;36m0\u001b[0m\u001b[1;33m)\u001b[0m \u001b[1;31m## Queue, FIFO\u001b[0m\u001b[1;33m\u001b[0m\u001b[1;33m\u001b[0m\u001b[0m\n\u001b[1;32m---> 10\u001b[1;33m     \u001b[0murl_list\u001b[0m \u001b[1;33m=\u001b[0m \u001b[0mcrawling\u001b[0m\u001b[1;33m(\u001b[0m\u001b[0mseed\u001b[0m\u001b[1;33m)\u001b[0m \u001b[1;31m## a[href] 태그를 가진 url 반환해주기('#'으로 시작되지 않는다.)\u001b[0m\u001b[1;33m\u001b[0m\u001b[1;33m\u001b[0m\u001b[0m\n\u001b[0m\u001b[0;32m     11\u001b[0m \u001b[1;33m\u001b[0m\u001b[0m\n\u001b[0;32m     12\u001b[0m     \u001b[0mprint\u001b[0m\u001b[1;33m(\u001b[0m\u001b[1;34mf\"{count} {seed}\"\u001b[0m\u001b[1;33m)\u001b[0m\u001b[1;33m\u001b[0m\u001b[1;33m\u001b[0m\u001b[0m\n",
      "\u001b[1;32m<ipython-input-58-6ad49c9ddbed>\u001b[0m in \u001b[0;36mcrawling\u001b[1;34m(seed)\u001b[0m\n\u001b[0;32m      3\u001b[0m \u001b[1;33m\u001b[0m\u001b[0m\n\u001b[0;32m      4\u001b[0m     \u001b[1;31m##추가작업=> content-type : text/*, application/json+xml, image\u001b[0m\u001b[1;33m\u001b[0m\u001b[1;33m\u001b[0m\u001b[1;33m\u001b[0m\u001b[0m\n\u001b[1;32m----> 5\u001b[1;33m     \u001b[0mdom\u001b[0m \u001b[1;33m=\u001b[0m \u001b[0mBeautifulSoup\u001b[0m\u001b[1;33m(\u001b[0m\u001b[0mresp\u001b[0m\u001b[1;33m.\u001b[0m\u001b[0mtext\u001b[0m\u001b[1;33m,\u001b[0m \u001b[1;34m'lxml'\u001b[0m\u001b[1;33m)\u001b[0m\u001b[1;33m\u001b[0m\u001b[1;33m\u001b[0m\u001b[0m\n\u001b[0m\u001b[0;32m      6\u001b[0m     \u001b[1;32mreturn\u001b[0m \u001b[1;33m[\u001b[0m\u001b[0murljoin\u001b[0m\u001b[1;33m(\u001b[0m\u001b[0mseed\u001b[0m\u001b[1;33m,\u001b[0m \u001b[0mi\u001b[0m\u001b[1;33m.\u001b[0m\u001b[0mattrs\u001b[0m\u001b[1;33m[\u001b[0m\u001b[1;34m'href'\u001b[0m\u001b[1;33m]\u001b[0m\u001b[1;33m)\u001b[0m \u001b[1;32mfor\u001b[0m \u001b[0mi\u001b[0m \u001b[1;32min\u001b[0m \u001b[0mdom\u001b[0m\u001b[1;33m.\u001b[0m\u001b[0mselect\u001b[0m\u001b[1;33m(\u001b[0m\u001b[1;34m'a[href]'\u001b[0m\u001b[1;33m)\u001b[0m \u001b[1;32mif\u001b[0m \u001b[1;32mnot\u001b[0m \u001b[0mi\u001b[0m\u001b[1;33m.\u001b[0m\u001b[0mattrs\u001b[0m\u001b[1;33m[\u001b[0m\u001b[1;34m'href'\u001b[0m\u001b[1;33m]\u001b[0m\u001b[1;33m.\u001b[0m\u001b[0mstartswith\u001b[0m\u001b[1;33m(\u001b[0m\u001b[1;34m'#'\u001b[0m\u001b[1;33m)\u001b[0m\u001b[1;33m]\u001b[0m \u001b[1;31m## '#'\u001b[0m\u001b[1;33m\u001b[0m\u001b[1;33m\u001b[0m\u001b[0m\n\u001b[0;32m      7\u001b[0m     \u001b[1;31m## '#'으로 시작하지 않는 a[href] 태그들의 url을 return 해주기\u001b[0m\u001b[1;33m\u001b[0m\u001b[1;33m\u001b[0m\u001b[1;33m\u001b[0m\u001b[0m\n",
      "\u001b[1;32m~\\anaconda3\\lib\\site-packages\\bs4\\__init__.py\u001b[0m in \u001b[0;36m__init__\u001b[1;34m(self, markup, features, builder, parse_only, from_encoding, exclude_encodings, **kwargs)\u001b[0m\n\u001b[0;32m    226\u001b[0m             \u001b[0mself\u001b[0m\u001b[1;33m.\u001b[0m\u001b[0mreset\u001b[0m\u001b[1;33m(\u001b[0m\u001b[1;33m)\u001b[0m\u001b[1;33m\u001b[0m\u001b[1;33m\u001b[0m\u001b[0m\n\u001b[0;32m    227\u001b[0m             \u001b[1;32mtry\u001b[0m\u001b[1;33m:\u001b[0m\u001b[1;33m\u001b[0m\u001b[1;33m\u001b[0m\u001b[0m\n\u001b[1;32m--> 228\u001b[1;33m                 \u001b[0mself\u001b[0m\u001b[1;33m.\u001b[0m\u001b[0m_feed\u001b[0m\u001b[1;33m(\u001b[0m\u001b[1;33m)\u001b[0m\u001b[1;33m\u001b[0m\u001b[1;33m\u001b[0m\u001b[0m\n\u001b[0m\u001b[0;32m    229\u001b[0m                 \u001b[1;32mbreak\u001b[0m\u001b[1;33m\u001b[0m\u001b[1;33m\u001b[0m\u001b[0m\n\u001b[0;32m    230\u001b[0m             \u001b[1;32mexcept\u001b[0m \u001b[0mParserRejectedMarkup\u001b[0m\u001b[1;33m:\u001b[0m\u001b[1;33m\u001b[0m\u001b[1;33m\u001b[0m\u001b[0m\n",
      "\u001b[1;32m~\\anaconda3\\lib\\site-packages\\bs4\\__init__.py\u001b[0m in \u001b[0;36m_feed\u001b[1;34m(self)\u001b[0m\n\u001b[0;32m    287\u001b[0m         \u001b[0mself\u001b[0m\u001b[1;33m.\u001b[0m\u001b[0mbuilder\u001b[0m\u001b[1;33m.\u001b[0m\u001b[0mreset\u001b[0m\u001b[1;33m(\u001b[0m\u001b[1;33m)\u001b[0m\u001b[1;33m\u001b[0m\u001b[1;33m\u001b[0m\u001b[0m\n\u001b[0;32m    288\u001b[0m \u001b[1;33m\u001b[0m\u001b[0m\n\u001b[1;32m--> 289\u001b[1;33m         \u001b[0mself\u001b[0m\u001b[1;33m.\u001b[0m\u001b[0mbuilder\u001b[0m\u001b[1;33m.\u001b[0m\u001b[0mfeed\u001b[0m\u001b[1;33m(\u001b[0m\u001b[0mself\u001b[0m\u001b[1;33m.\u001b[0m\u001b[0mmarkup\u001b[0m\u001b[1;33m)\u001b[0m\u001b[1;33m\u001b[0m\u001b[1;33m\u001b[0m\u001b[0m\n\u001b[0m\u001b[0;32m    290\u001b[0m         \u001b[1;31m# Close out any unfinished strings and close all the open tags.\u001b[0m\u001b[1;33m\u001b[0m\u001b[1;33m\u001b[0m\u001b[1;33m\u001b[0m\u001b[0m\n\u001b[0;32m    291\u001b[0m         \u001b[0mself\u001b[0m\u001b[1;33m.\u001b[0m\u001b[0mendData\u001b[0m\u001b[1;33m(\u001b[0m\u001b[1;33m)\u001b[0m\u001b[1;33m\u001b[0m\u001b[1;33m\u001b[0m\u001b[0m\n",
      "\u001b[1;32m~\\anaconda3\\lib\\site-packages\\bs4\\builder\\_lxml.py\u001b[0m in \u001b[0;36mfeed\u001b[1;34m(self, markup)\u001b[0m\n\u001b[0;32m    248\u001b[0m         \u001b[1;32mtry\u001b[0m\u001b[1;33m:\u001b[0m\u001b[1;33m\u001b[0m\u001b[1;33m\u001b[0m\u001b[0m\n\u001b[0;32m    249\u001b[0m             \u001b[0mself\u001b[0m\u001b[1;33m.\u001b[0m\u001b[0mparser\u001b[0m \u001b[1;33m=\u001b[0m \u001b[0mself\u001b[0m\u001b[1;33m.\u001b[0m\u001b[0mparser_for\u001b[0m\u001b[1;33m(\u001b[0m\u001b[0mencoding\u001b[0m\u001b[1;33m)\u001b[0m\u001b[1;33m\u001b[0m\u001b[1;33m\u001b[0m\u001b[0m\n\u001b[1;32m--> 250\u001b[1;33m             \u001b[0mself\u001b[0m\u001b[1;33m.\u001b[0m\u001b[0mparser\u001b[0m\u001b[1;33m.\u001b[0m\u001b[0mfeed\u001b[0m\u001b[1;33m(\u001b[0m\u001b[0mmarkup\u001b[0m\u001b[1;33m)\u001b[0m\u001b[1;33m\u001b[0m\u001b[1;33m\u001b[0m\u001b[0m\n\u001b[0m\u001b[0;32m    251\u001b[0m             \u001b[0mself\u001b[0m\u001b[1;33m.\u001b[0m\u001b[0mparser\u001b[0m\u001b[1;33m.\u001b[0m\u001b[0mclose\u001b[0m\u001b[1;33m(\u001b[0m\u001b[1;33m)\u001b[0m\u001b[1;33m\u001b[0m\u001b[1;33m\u001b[0m\u001b[0m\n\u001b[0;32m    252\u001b[0m         \u001b[1;32mexcept\u001b[0m \u001b[1;33m(\u001b[0m\u001b[0mUnicodeDecodeError\u001b[0m\u001b[1;33m,\u001b[0m \u001b[0mLookupError\u001b[0m\u001b[1;33m,\u001b[0m \u001b[0metree\u001b[0m\u001b[1;33m.\u001b[0m\u001b[0mParserError\u001b[0m\u001b[1;33m)\u001b[0m \u001b[1;32mas\u001b[0m \u001b[0me\u001b[0m\u001b[1;33m:\u001b[0m\u001b[1;33m\u001b[0m\u001b[1;33m\u001b[0m\u001b[0m\n",
      "\u001b[1;32msrc/lxml/parser.pxi\u001b[0m in \u001b[0;36mlxml.etree._FeedParser.feed\u001b[1;34m()\u001b[0m\n",
      "\u001b[1;32msrc/lxml/parser.pxi\u001b[0m in \u001b[0;36mlxml.etree._FeedParser.feed\u001b[1;34m()\u001b[0m\n",
      "\u001b[1;32msrc/lxml/parsertarget.pxi\u001b[0m in \u001b[0;36mlxml.etree._TargetParserContext._handleParseResult\u001b[1;34m()\u001b[0m\n",
      "\u001b[1;32msrc/lxml/parsertarget.pxi\u001b[0m in \u001b[0;36mlxml.etree._TargetParserContext._handleParseResult\u001b[1;34m()\u001b[0m\n",
      "\u001b[1;32msrc/lxml/etree.pyx\u001b[0m in \u001b[0;36mlxml.etree._ExceptionContext._raise_if_stored\u001b[1;34m()\u001b[0m\n",
      "\u001b[1;32msrc/lxml/saxparser.pxi\u001b[0m in \u001b[0;36mlxml.etree._handleSaxTargetStartNoNs\u001b[1;34m()\u001b[0m\n",
      "\u001b[1;32msrc/lxml/saxparser.pxi\u001b[0m in \u001b[0;36mlxml.etree._callTargetSaxStart\u001b[1;34m()\u001b[0m\n",
      "\u001b[1;32msrc/lxml/parsertarget.pxi\u001b[0m in \u001b[0;36mlxml.etree._PythonSaxParserTarget._handleSaxStart\u001b[1;34m()\u001b[0m\n",
      "\u001b[1;32m~\\anaconda3\\lib\\site-packages\\bs4\\builder\\_lxml.py\u001b[0m in \u001b[0;36mstart\u001b[1;34m(self, name, attrs, nsmap)\u001b[0m\n\u001b[0;32m    143\u001b[0m         \u001b[0mself\u001b[0m\u001b[1;33m.\u001b[0m\u001b[0mnsmaps\u001b[0m \u001b[1;33m=\u001b[0m \u001b[1;33m[\u001b[0m\u001b[0mself\u001b[0m\u001b[1;33m.\u001b[0m\u001b[0mDEFAULT_NSMAPS\u001b[0m\u001b[1;33m]\u001b[0m\u001b[1;33m\u001b[0m\u001b[1;33m\u001b[0m\u001b[0m\n\u001b[0;32m    144\u001b[0m \u001b[1;33m\u001b[0m\u001b[0m\n\u001b[1;32m--> 145\u001b[1;33m     \u001b[1;32mdef\u001b[0m \u001b[0mstart\u001b[0m\u001b[1;33m(\u001b[0m\u001b[0mself\u001b[0m\u001b[1;33m,\u001b[0m \u001b[0mname\u001b[0m\u001b[1;33m,\u001b[0m \u001b[0mattrs\u001b[0m\u001b[1;33m,\u001b[0m \u001b[0mnsmap\u001b[0m\u001b[1;33m=\u001b[0m\u001b[1;33m{\u001b[0m\u001b[1;33m}\u001b[0m\u001b[1;33m)\u001b[0m\u001b[1;33m:\u001b[0m\u001b[1;33m\u001b[0m\u001b[1;33m\u001b[0m\u001b[0m\n\u001b[0m\u001b[0;32m    146\u001b[0m         \u001b[1;31m# Make sure attrs is a mutable dict--lxml may send an immutable dictproxy.\u001b[0m\u001b[1;33m\u001b[0m\u001b[1;33m\u001b[0m\u001b[1;33m\u001b[0m\u001b[0m\n\u001b[0;32m    147\u001b[0m         \u001b[0mattrs\u001b[0m \u001b[1;33m=\u001b[0m \u001b[0mdict\u001b[0m\u001b[1;33m(\u001b[0m\u001b[0mattrs\u001b[0m\u001b[1;33m)\u001b[0m\u001b[1;33m\u001b[0m\u001b[1;33m\u001b[0m\u001b[0m\n",
      "\u001b[1;31mKeyboardInterrupt\u001b[0m: "
     ]
    }
   ],
   "source": [
    "seed_list = []\n",
    "seed_list.append('https://www.google.com/search?q=%ED%8C%8C%EC%9D%B4%EC%8D%AC&rlz=1C1CHBD_koKR917KR917&oq=%ED%8C%8C%EC%9D%B4%EC%8D%AC&aqs=chrome.0.69i59j35i39j0i433l4j69i61l2.1833j0j7&sourceid=chrome&ie=UTF-8')\n",
    "\n",
    "visited_list=[]\n",
    "count = 1\n",
    "\n",
    "\n",
    "while seed_list:\n",
    "    seed = seed_list.pop(0) ## Queue, FIFO\n",
    "    url_list = crawling(seed) ## a[href] 태그를 가진 url 반환해주기('#'으로 시작되지 않는다.)\n",
    "    \n",
    "    print(f\"{count} {seed}\")\n",
    "        \n",
    "    for _ in url_list:\n",
    "        if _ not in visited_list and _ not in seed_list:\n",
    "            seed_list.append(_)\n",
    "            \n",
    "    print(f\" url_list_num : {len(url_list)}, seed_list_num : {len(seed_list)}, visited_list_num : {len(visited_list)}\")\n",
    "    print('='*50)\n",
    "            \n",
    "    visited_list.append(seed)\n",
    "    count += 1\n",
    "    \n",
    "    if count>100:\n",
    "        break"
   ]
  },
  {
   "cell_type": "markdown",
   "metadata": {},
   "source": [
    "### new crawling func for split directory"
   ]
  },
  {
   "cell_type": "code",
   "execution_count": 61,
   "metadata": {},
   "outputs": [],
   "source": [
    "seed= 'https://comic.naver.com/webtoon/weekdayList?week=thu'"
   ]
  },
  {
   "cell_type": "code",
   "execution_count": 62,
   "metadata": {},
   "outputs": [],
   "source": [
    "directory = {'text':'TXT', 'application':'DOC', 'image':'IMG'}  ## 폴더 나눠주기\n",
    " \n",
    "def crawling(seed):\n",
    "    resp = new_download(seed)\n",
    "    \n",
    "    ctype = resp.headers['Content-type'].split('/') ## response의 headers에서 content type 구하기\n",
    "    if ctype[0] in ['text', 'application', 'image']:\n",
    "        if ctype[0] =='text':\n",
    "            dom = BeautifulSoup(resp.text, 'lxml')\n",
    "            \n",
    "            returnlist=[]\n",
    "            \n",
    "            for i in dom.select('a[href], img[src], iframe[src]'): ## 다음과 같은 태그를 가진 것들 골라주기\n",
    "                if i.has_attr('href'):\n",
    "                    if not i.attrs['href'].startswith('#'):\n",
    "                        returnlist.append(urljoin(seed, i.attrs['href']))\n",
    "                \n",
    "                else:\n",
    "                    returnlist.append(urljoin(seed, i.attrs['src']))\n",
    "            \n",
    "            return returnlist\n",
    "        \n",
    "        path = directory[ctype[0]]\n",
    "        path += '/'+ seed.split('/')[-1]+'.'+ctype[-1]\n",
    "        with open(path, 'wb') as f:\n",
    "            f.write(resp.content)\n",
    "                \n",
    "    \n",
    "    return []"
   ]
  },
  {
   "cell_type": "code",
   "execution_count": null,
   "metadata": {
    "scrolled": false
   },
   "outputs": [],
   "source": [
    "seed_list = []\n",
    "visited_list=[]\n",
    "\n",
    "seed_list.append((seed,1))\n",
    "## (url, depth)\n",
    "count = 1\n",
    "\n",
    "\n",
    "while seed_list:\n",
    "    seed = seed_list.pop(0) ## stack, LIFO\n",
    "    url_list = crawling(seed[0])\n",
    "    \n",
    "    print(f\"{count} {seed}\")\n",
    "        \n",
    "    for _ in url_list:\n",
    "        if _ not in [link[0] for link in visited_list] and _ not in [link[0] for link in seed_list]:\n",
    "            seed_list.append((_, seed[1]+1))\n",
    "            \n",
    "    print(f\" url_list_num : {len(url_list)}, seed_list_num : {len(seed_list)}, visited_list_num : {len(visited_list)}\")\n",
    "            \n",
    "    visited_list.append(seed)\n",
    "    count += 1\n",
    "    \n",
    "    if seed[1] > 3:\n",
    "        break"
   ]
  },
  {
   "cell_type": "markdown",
   "metadata": {},
   "source": [
    "## Scraping\n",
    "\n",
    "- needs crawl agent and parser\n",
    "- can be done at any scale\n"
   ]
  },
  {
   "cell_type": "markdown",
   "metadata": {},
   "source": [
    "### Focused crawling + scraping(특정id, class에서만 링크 수집) ==> 내가 원하는 영역만"
   ]
  },
  {
   "cell_type": "code",
   "execution_count": 362,
   "metadata": {},
   "outputs": [],
   "source": [
    "seed='https://news.naver.com/'"
   ]
  },
  {
   "cell_type": "code",
   "execution_count": null,
   "metadata": {},
   "outputs": [],
   "source": [
    "seed_list = []\n",
    "seed_list.append('https://news.naver.com/')\n",
    "\n",
    "seen_list = []\n",
    "\n",
    "while seed_list:\n",
    "    seed = seed_list.pop(0)\n",
    "    \n",
    "    resp = download(seed, headers=headers)\n",
    "    \n",
    "    #Scrapping 영역\n",
    "    #뉴스만 가져올 것이다\n",
    "    if not re.search(r'text/html',resp.headers['Content-type'.lower()]):         #뉴스가 아니면 날려주기\n",
    "        continue\n",
    "        \n",
    "    dom = BeautifulSoup(resp.text, 'lxml')\n",
    "    \n",
    "    main_area = dom.select_one('#main_content')  # '#'===> class를 뜻한다.  \n",
    "    \n",
    "    if not main_area:\n",
    "        continue\n",
    "        \n",
    "    #뉴스기사에만 해당 되는 애들 가져오기. \"구조\" 활용\n",
    "    news_list = main_area.select('li > a[href], li > div > a[href]') \n",
    "    \n",
    "    # main body에 id 가 존재하였다\n",
    "    \n",
    "    article_area = dom.select_one('#articleBodyContents')\n",
    "    \n",
    "    if article_area:\n",
    "        file_name = re.sub(r'\\W','', seed.split('/')[-1])     ## \\W ==>[^A-Za-z0-0]    #파일 명에 의미 없는 것 삭제 \n",
    "        \n",
    "        with open('TXT/'+file_name+'.txt','w',encoding='utf-8') as f:\n",
    "            f.write(article_area.text)                                  #Scrapping은 여기서 끝난다.\n",
    "        \n",
    "    \n",
    "    # — 크롤러 역할. 링크를 새로 찾고 추가해주는\n",
    "    for link in news_list:        \n",
    "        link = urljoin(seed, link.attrs['href'])\n",
    "        if link.startswith('#') or link.startswith('javascript'):\n",
    "            continue\n",
    "        if link not in seed_list and link not in seen_list:    \n",
    "            seed_list.append(link)            \n",
    "        \n",
    "    \n",
    "    seed_list.append(seed)\n",
    "\n",
    "#TXT 폴더에 저장되었다."
   ]
  },
  {
   "cell_type": "markdown",
   "metadata": {},
   "source": [
    "## DHTML"
   ]
  },
  {
   "cell_type": "code",
   "execution_count": 64,
   "metadata": {},
   "outputs": [],
   "source": [
    "url = 'https://api.brunch.co.kr/v1/search/article?q=%ED%8C%8C%EC%9D%B4%EC%8D%AC&page=1&pageSize=20&highlighter=y&escape=y&sortBy=accu'"
   ]
  },
  {
   "cell_type": "markdown",
   "metadata": {},
   "source": [
    "- f12 ==> network ===> xhr ===> headers ===> request url"
   ]
  },
  {
   "cell_type": "code",
   "execution_count": 65,
   "metadata": {
    "scrolled": true
   },
   "outputs": [
    {
     "name": "stdout",
     "output_type": "stream",
     "text": [
      "404 Client Error: Not Found for url: https://api.brunch.co.kr/robots.txt\n",
      "False\n"
     ]
    }
   ],
   "source": [
    "resp = new_download(url)"
   ]
  },
  {
   "cell_type": "code",
   "execution_count": 66,
   "metadata": {
    "scrolled": false
   },
   "outputs": [
    {
     "data": {
      "text/plain": [
       "dict_keys(['recommendProfiles', 'recommendProfileKeywords', 'totalPage', 'nextPage', 'query', 'list', 'totalCount', 'moreList', 'currentPage'])"
      ]
     },
     "execution_count": 66,
     "metadata": {},
     "output_type": "execute_result"
    }
   ],
   "source": [
    "resp.json()['data'].keys()"
   ]
  },
  {
   "cell_type": "code",
   "execution_count": 420,
   "metadata": {
    "scrolled": true
   },
   "outputs": [
    {
     "name": "stdout",
     "output_type": "stream",
     "text": [
      "프로그래밍 책을 처음 뗐습니다. - 모던 파이썬 입문 책떼기 후기\n",
      "Python이 뭐야? 뱀이야? - 파이썬과 친해지기_01\n",
      "비전공자도 개발자가 될 수 있을까? - 파이썬으로 시작하는 개발자 커리어\n",
      "향후 금융권 주요 분석도구는 “엑셀+파이썬”이 된다.\n",
      "14. 통계를 위한 파이썬 라이브러리, 넘파이 (2) - 파이썬으로 데이터 분석하기\n",
      "12. 파일 읽고 쓰기 - 파이썬으로 데이터 분석하기\n",
      "[인프런 리프] 파이썬 중급 강의4,5주 차후기\n",
      "102. 파이썬 1주차- 파이썬 알아보기\n",
      "[인프런 리프] 파이썬 중급 강의2주 차후기 - 클래스, 메소드 심화\n",
      "파이썬 몰라도 크롤링 가능합니다 - 마우스 클릭 몇 번으로 경쟁사 후기 분석하기\n",
      "금융권에 필요한 파이썬 스킬트리 #2.\n",
      "연오의 파이썬, 두근두근 첫만남 - 연오의파이썬 I 지은이 박연오 I 출판사 인사이트\n",
      "금융권에 필요한 파이썬 스킬트리 #1.\n",
      "나만의 100일 프로젝트 완료 기록 - 파이썬과 영어공부\n",
      "나만의 100일 프로젝트 절반의 기록 - 파이썬과 영어공부\n",
      "124.(책 후기) 파이썬챌린지. 문제 중심\n",
      "Python : 신조 - #파이썬 왈\n",
      "데이콘, Fashion MNIST:의류 클래스 예측 - 파이썬 딥러닝 머신러닝 입문 - 4장 딥러닝 응용\n",
      "파이썬 기초(1)\n",
      "간절함과 목표 - 영어공부의 전부 그리고 노션 템플릿 - 영어공부 방법론과 파이썬 초보의 코딩 공부 - 2\n"
     ]
    }
   ],
   "source": [
    "for book in resp.json()['data']['list']:\n",
    "    print(re.sub(r'</?[^>]+?>', '', book['title']))"
   ]
  },
  {
   "cell_type": "markdown",
   "metadata": {},
   "source": [
    "### select form"
   ]
  },
  {
   "cell_type": "code",
   "execution_count": 428,
   "metadata": {},
   "outputs": [
    {
     "name": "stdout",
     "output_type": "stream",
     "text": [
      "False\n"
     ]
    }
   ],
   "source": [
    "resp = new_download('https://brunch.co.kr/search?q=%ED%8C%8C%EC%9D%B4%EC%8D%AC')"
   ]
  },
  {
   "cell_type": "code",
   "execution_count": 429,
   "metadata": {},
   "outputs": [],
   "source": [
    "dom = BeautifulSoup(resp.text, 'lxml')"
   ]
  },
  {
   "cell_type": "code",
   "execution_count": 434,
   "metadata": {},
   "outputs": [
    {
     "data": {
      "text/plain": [
       "[<form action=\"/search\" method=\"get\">\n",
       " <input autocomplete=\"off\" id=\"searchQuery\" name=\"q\" placeholder=\"검색어를 입력해 주세요\" title=\"검색어입력\" type=\"text\" value=\"\"/>\n",
       " <input name=\"profileId\" type=\"hidden\" value=\"\"/>\n",
       " </form>,\n",
       " <form accept-charset=\"utf-8\" action=\"\" method=\"get\">\n",
       " <input autocomplete=\"off\" class=\"txt_search\" id=\"txt_search\" maxlength=\"20\" name=\"q\" onfocus=\"this.value = this.value;\" placeholder=\"검색어를 입력해 주세요.\" title=\"검색어입력\" type=\"text\" value=\"\"/>\n",
       " <input id=\"hdn_search_type\" name=\"type\" type=\"hidden\" value=\"article\"/>\n",
       " </form>]"
      ]
     },
     "execution_count": 434,
     "metadata": {},
     "output_type": "execute_result"
    }
   ],
   "source": [
    "dom.select('form')"
   ]
  },
  {
   "cell_type": "code",
   "execution_count": 435,
   "metadata": {},
   "outputs": [],
   "source": [
    "url='http://pythonscraping.com/pages/cookies/login.html'"
   ]
  },
  {
   "cell_type": "code",
   "execution_count": 437,
   "metadata": {},
   "outputs": [],
   "source": [
    "resp = download(url, headers = headers)\n",
    "dom = BeautifulSoup(resp.text, 'lxml')"
   ]
  },
  {
   "cell_type": "code",
   "execution_count": 441,
   "metadata": {},
   "outputs": [],
   "source": [
    "form = dom.select_one('form')"
   ]
  },
  {
   "cell_type": "code",
   "execution_count": 452,
   "metadata": {},
   "outputs": [],
   "source": [
    "input_list = dom.select('form input[name]')"
   ]
  },
  {
   "cell_type": "code",
   "execution_count": 453,
   "metadata": {
    "scrolled": true
   },
   "outputs": [
    {
     "data": {
      "text/plain": [
       "'http://pythonscraping.com/pages/cookies/welcome.php'"
      ]
     },
     "execution_count": 453,
     "metadata": {},
     "output_type": "execute_result"
    }
   ],
   "source": [
    "urljoin(url, form.attrs['action'])"
   ]
  },
  {
   "cell_type": "code",
   "execution_count": 454,
   "metadata": {},
   "outputs": [
    {
     "data": {
      "text/plain": [
       "[<input name=\"username\" type=\"text\"/>,\n",
       " <input name=\"password\" type=\"password\"/>]"
      ]
     },
     "execution_count": 454,
     "metadata": {},
     "output_type": "execute_result"
    }
   ],
   "source": [
    "input_list"
   ]
  },
  {
   "cell_type": "code",
   "execution_count": 455,
   "metadata": {},
   "outputs": [],
   "source": [
    "params=dict()\n",
    "for _ in input_list:\n",
    "    params[_.attrs['name']] = None"
   ]
  },
  {
   "cell_type": "code",
   "execution_count": 456,
   "metadata": {},
   "outputs": [
    {
     "data": {
      "text/plain": [
       "{'username': None, 'password': None}"
      ]
     },
     "execution_count": 456,
     "metadata": {},
     "output_type": "execute_result"
    }
   ],
   "source": [
    "params"
   ]
  },
  {
   "cell_type": "code",
   "execution_count": 460,
   "metadata": {},
   "outputs": [
    {
     "name": "stdout",
     "output_type": "stream",
     "text": [
      "\n",
      "<h2>Welcome to the Website!</h2>\n",
      "Whoops! You logged in wrong. Try again with any username, and the password \"password\"<br><a href=\"login.html\">Log in here</a>\n"
     ]
    }
   ],
   "source": [
    "account=[('test1','password'), ('test2', 'password')]\n",
    "\n",
    "for i in account:\n",
    "    params['username'] = i[0]\n",
    "    params['password'] = i[1]\n",
    "    \n",
    "    resp = download(urljoin(url, form.attrs['action']), params=params, method=form.attrs['method'])\n",
    "    \n",
    "    \n",
    "    \n",
    "    print(resp.text)\n",
    "    break"
   ]
  },
  {
   "cell_type": "code",
   "execution_count": 461,
   "metadata": {},
   "outputs": [
    {
     "data": {
      "text/plain": [
       "{'username': 'test1', 'password': 'password'}"
      ]
     },
     "execution_count": 461,
     "metadata": {},
     "output_type": "execute_result"
    }
   ],
   "source": [
    "params"
   ]
  },
  {
   "cell_type": "markdown",
   "metadata": {},
   "source": [
    "### Session(cookies)"
   ]
  },
  {
   "cell_type": "code",
   "execution_count": 464,
   "metadata": {},
   "outputs": [],
   "source": [
    "from requests.sessions import Session"
   ]
  },
  {
   "cell_type": "code",
   "execution_count": 465,
   "metadata": {},
   "outputs": [],
   "source": [
    "session = Session()"
   ]
  },
  {
   "cell_type": "code",
   "execution_count": 466,
   "metadata": {},
   "outputs": [
    {
     "data": {
      "text/plain": [
       "{}"
      ]
     },
     "execution_count": 466,
     "metadata": {},
     "output_type": "execute_result"
    }
   ],
   "source": [
    "session.cookies.get_dict()"
   ]
  },
  {
   "cell_type": "code",
   "execution_count": 471,
   "metadata": {},
   "outputs": [],
   "source": [
    "resp = session.request(url = urljoin(url, form.attrs['action']), data=params, method=form.attrs['method'])"
   ]
  },
  {
   "cell_type": "code",
   "execution_count": 472,
   "metadata": {},
   "outputs": [
    {
     "data": {
      "text/plain": [
       "{'loggedin': '1', 'username': 'test1'}"
      ]
     },
     "execution_count": 472,
     "metadata": {},
     "output_type": "execute_result"
    }
   ],
   "source": [
    "session.cookies.get_dict()"
   ]
  },
  {
   "cell_type": "code",
   "execution_count": 473,
   "metadata": {},
   "outputs": [
    {
     "data": {
      "text/plain": [
       "'\\n<h2>Welcome to the Website!</h2>\\nWhoops! You logged in wrong. Try again with any username, and the password \"password\"<br><a href=\"login.html\">Log in here</a>'"
      ]
     },
     "execution_count": 473,
     "metadata": {},
     "output_type": "execute_result"
    }
   ],
   "source": [
    "resp.text"
   ]
  },
  {
   "cell_type": "code",
   "execution_count": 475,
   "metadata": {},
   "outputs": [
    {
     "data": {
      "text/plain": [
       "'\\n<h2>Welcome to the Website!</h2>\\nYou have logged in successfully! <br><a href=\"profile.php\">Check out your profile!</a>'"
      ]
     },
     "execution_count": 475,
     "metadata": {},
     "output_type": "execute_result"
    }
   ],
   "source": [
    "session.request(url = urljoin(url, form.attrs['action']), method=form.attrs['method']).text"
   ]
  },
  {
   "cell_type": "code",
   "execution_count": 476,
   "metadata": {},
   "outputs": [],
   "source": [
    "session.cookies.clear()"
   ]
  },
  {
   "cell_type": "code",
   "execution_count": 477,
   "metadata": {},
   "outputs": [
    {
     "data": {
      "text/plain": [
       "{}"
      ]
     },
     "execution_count": 477,
     "metadata": {},
     "output_type": "execute_result"
    }
   ],
   "source": [
    "session.cookies.get_dict()"
   ]
  },
  {
   "cell_type": "code",
   "execution_count": 479,
   "metadata": {},
   "outputs": [],
   "source": [
    "import json\n",
    "\n",
    "test_cookie = {'loggedin':'1',' username':'test1'}\n",
    "with open('test_cookie.txt', 'w') as f:\n",
    "    json.dump(test_cookie,f)"
   ]
  },
  {
   "cell_type": "code",
   "execution_count": 480,
   "metadata": {},
   "outputs": [],
   "source": [
    "with open('test_cookie.txt', 'r') as f:\n",
    "    cookie = json.load(f)"
   ]
  },
  {
   "cell_type": "code",
   "execution_count": 481,
   "metadata": {},
   "outputs": [
    {
     "data": {
      "text/plain": [
       "{'loggedin': '1', ' username': 'test1'}"
      ]
     },
     "execution_count": 481,
     "metadata": {},
     "output_type": "execute_result"
    }
   ],
   "source": [
    "cookie"
   ]
  },
  {
   "cell_type": "code",
   "execution_count": 485,
   "metadata": {
    "scrolled": true
   },
   "outputs": [],
   "source": [
    "for k,v in cookie.items():\n",
    "    session.cookies.set(k,v)"
   ]
  },
  {
   "cell_type": "code",
   "execution_count": 488,
   "metadata": {},
   "outputs": [
    {
     "data": {
      "text/plain": [
       "{' username': 'test1', 'loggedin': '1'}"
      ]
     },
     "execution_count": 488,
     "metadata": {},
     "output_type": "execute_result"
    }
   ],
   "source": [
    "session.cookies.get_dict()"
   ]
  },
  {
   "cell_type": "code",
   "execution_count": 489,
   "metadata": {},
   "outputs": [
    {
     "data": {
      "text/plain": [
       "'\\n<h2>Welcome to the Website!</h2>\\nYou have logged in successfully! <br><a href=\"profile.php\">Check out your profile!</a>'"
      ]
     },
     "execution_count": 489,
     "metadata": {},
     "output_type": "execute_result"
    }
   ],
   "source": [
    "session.request(url = urljoin(url, form.attrs['action']), method=form.attrs['method']).text"
   ]
  },
  {
   "cell_type": "code",
   "execution_count": 490,
   "metadata": {},
   "outputs": [
    {
     "data": {
      "text/plain": [
       "'\\n<h2>Welcome to the Website!</h2>\\nYou have logged in successfully! <br><a href=\"profile.php\">Check out your profile!</a>'"
      ]
     },
     "execution_count": 490,
     "metadata": {},
     "output_type": "execute_result"
    }
   ],
   "source": [
    "request(url = urljoin(url, form.attrs['action']), method=form.attrs['method'], cookies=session.cookies).text"
   ]
  },
  {
   "cell_type": "code",
   "execution_count": 493,
   "metadata": {},
   "outputs": [],
   "source": [
    "resp = download('https://nid.naver.com/nidlogin.login?mode=form&url=https%3A%2F%2Fwww.naver.com')\n",
    "dom = BeautifulSoup(resp.text,'lxml')"
   ]
  },
  {
   "cell_type": "code",
   "execution_count": 496,
   "metadata": {},
   "outputs": [],
   "source": [
    "form = dom.select_one('form')\n",
    "input_list = dom.select('input[name]')  "
   ]
  },
  {
   "cell_type": "code",
   "execution_count": 497,
   "metadata": {},
   "outputs": [
    {
     "data": {
      "text/plain": [
       "('https://nid.naver.com/nidlogin.login', 'POST')"
      ]
     },
     "execution_count": 497,
     "metadata": {},
     "output_type": "execute_result"
    }
   ],
   "source": [
    "form.attrs['action'], form.attrs['method']"
   ]
  },
  {
   "cell_type": "code",
   "execution_count": 506,
   "metadata": {
    "scrolled": true
   },
   "outputs": [
    {
     "data": {
      "text/plain": [
       "''"
      ]
     },
     "execution_count": 506,
     "metadata": {},
     "output_type": "execute_result"
    }
   ],
   "source": [
    "input_list[0].attrs['value']"
   ]
  },
  {
   "cell_type": "code",
   "execution_count": 533,
   "metadata": {},
   "outputs": [],
   "source": [
    "naver='''NFS\t2\t.naver.com\t/\t2031-01-01T18:02:11.000Z\t4\t\t\t\t\tMedium\t\n",
    "nx_ssl\t2\t.naver.com\t/\t2021-07-27T14:53:23.365Z\t7\t\t\t\t\tMedium\t\n",
    "MM_NEW\t1\t.naver.com\t/\t2022-01-03T18:02:11.000Z\t7\t\t\t\t\tMedium\t\n",
    "RTK_YES\t1\twww.naver.com\t/\t2030-10-11T14:47:05.000Z\t8\t\t\t\t\tMedium\t\n",
    "nid_enctp\t1\t.nid.naver.com\t/\t2021-10-06T08:34:15.930Z\t10\t\t\t\t\tMedium\t\n",
    "nid_slevel\t-1\t.nid.naver.com\t/\t2022-07-08T08:34:12.000Z\t12\t\t\t\t\tMedium\t\n",
    "MM_NOW_COACH\t1\t.naver.com\t/\t2022-01-03T18:02:11.000Z\t13\t\t\t\t\tMedium\t\n",
    "NM_THEME_EDIT\t\twww.naver.com\t/\t2031-07-06T08:54:32.000Z\t13\t\t\t\t\tMedium\t\n",
    "nid_inf\t339832352\t.naver.com\t/\t2021-08-07T08:34:15.930Z\t16\t\t\t\t\tMedium\t\n",
    "NM_RTK_VIEW_GUIDE\t1\twww.naver.com\t/\t2021-10-13T14:47:03.000Z\t18\t\t\t\t\tMedium\t\n",
    "NM_THEME_LAST_FIXED\tLIVING\twww.naver.com\t/\t2021-07-08T09:03:24.000Z\t25\t\t\t\t\tMedium\t\n",
    "NaverSuggestUse\tuse%26unuse\t.naver.com\t/\t2080-10-03T08:08:23.000Z\t26\t\t\t\t\tMedium\t\n",
    "_ga\tGA1.2.1315744196.1608054668\t.naver.com\t/\t2023-04-13T06:10:23.000Z\t30\t\t\t\t\tMedium\t\n",
    "gnbFav\t%7B%22gnbFav%22%3A%5B%5D%7D\t.static.nid.naver.com\t/\t2022-06-27T15:01:04.658Z\t33\t\t\t\t\tMedium\t\n",
    "NRTK\tag#20s_gr#4_ma#0_si#2_en#2_sp#2\t.naver.com\t/\t2022-02-24T11:33:51.000Z\t35\t\t\t\t\tMedium\t\n",
    "page_uid\thMiFUwp0YihssAXYsEdssssstwZ-069059\t.naver.com\t/\tSession\t42\t\t\t\t\tMedium\t\n",
    "_ga_7VKFYR6RV1\tGS1.1.1618297223.5.0.1618297223.60\t.naver.com\t/\t2023-04-13T07:00:23.000Z\t48\t\t\t\t\tMedium\t\n",
    "NID_SES\tAAABkmsDy2u8Tl8GWYNEsdWru7pzP67khXC/t3Tn8CbvDPsEIjIE1ENYEARcb0yOiqE83tP8oNif3J6oGUibQ6dXvUm0F4W4xFLbMt5nJiJw24EakpB4PM62//zgM/iD5CfPYk7oro/mH2zxMqUFu0+rp0cu4AeGrUMgV3BDEpbXZzVOVKBdvsrhv9ziwTw1WW5YA4WLw7e48kVkMB6n+wHEdfBmjXJ5CywYm6Fl/E6jXHNaVDXPD+YWUxoL/3hbE1q0bOf5bVYtNo1npGlipVWQhXPqIftYS/SvjWHJC6syqXGYWwzCY2oWQhGWJjXQXfHKy13NZ2lXPF0cclDUs+O7J9bdPFQMZGEB3PiYR5nlYpLzfTb6WNxCM9g8Ju/iTnNmdGDp5kPIUuk6cIzuZKON20yjhQTUGl346YVrx8TNXxTz+nMp5x7Ub0MeYKytHo8mOGeTtDqEcgLTF5zRskf5OIRREaZD0uULrp12Ub/hYDakc4DTl4FR6tM62JSM5IF7gched7eE0ahTAmKyKBL2ZPVacKURiUzgh0HPuOfWqDit\t.naver.com\t/\t2021-08-07T08:54:33.305Z\t567\t\t\t\t\tMedium\t\n",
    "JSESSIONID\t0B8DA826E34E51E1B6FFCC36D34B9C33\twww.naver.com\t/\tSession\t42\t✓\t\t\t\tMedium\t\n",
    "NID_AUT\tDOqGyiOBYfe0CZ9T3i75QYa/b+r5QKuyhBFcm0SJTLunpH3sxr3XcM1xNRnYe6Er\t.naver.com\t/\t2023-07-08T08:34:15.931Z\t71\t✓\t\t\t\tMedium\t\n",
    "PM_CK_loc\t5b3cfba8eee6debe05f5d6bd00f0cae5ee8a2a15762c40be92b1b91d96017121\twww.naver.com\t/\t2021-07-09T05:28:32.110Z\t73\t✓\t\t\t\tMedium\t\n",
    "NNB\tIWGV6AVLTFCWA\t.naver.com\t/\t2050-01-01T09:00:00.591Z\t16\t\t✓\tNone\t\tMedium\t\n",
    "ASID\t3d638b1c000001753ac0de0000000050\t.naver.com\t/\t2071-03-23T09:01:11.935Z\t36\t\t✓\tNone\t\tMedium\t\n",
    "nid_buk\tB7WZWIHQS6CV6\t.nid.naver.com\t/\t2030-10-13T04:54:50.000Z\t20\t\t✓\t\t\tMedium\t\n",
    "NID_JKL\tFSaBIjlk85JM7W7nQCv9GniOInhi4TGnbcTanfHIm38=\t.naver.com\t/\t2023-07-08T08:34:15.931Z\t51\t\t✓\t\t\tMedium\t\n",
    "2'''.split()"
   ]
  },
  {
   "cell_type": "code",
   "execution_count": 534,
   "metadata": {
    "scrolled": true
   },
   "outputs": [
    {
     "data": {
      "text/plain": [
       "184"
      ]
     },
     "execution_count": 534,
     "metadata": {},
     "output_type": "execute_result"
    }
   ],
   "source": [
    "len(naver)"
   ]
  },
  {
   "cell_type": "code",
   "execution_count": 537,
   "metadata": {},
   "outputs": [],
   "source": [
    "session.cookies.clear()"
   ]
  },
  {
   "cell_type": "code",
   "execution_count": 538,
   "metadata": {},
   "outputs": [],
   "source": [
    "s = 0\n",
    "for i in [i for i,_ in enumerate(naver) if _ == 'Medium']:\n",
    "    e=i\n",
    "    \n",
    "    session.cookies.set(naver[s], naver[s+1], domain=naver[s+2], path=naver[s+3])\n",
    "    \n",
    "    s = e+1"
   ]
  },
  {
   "cell_type": "code",
   "execution_count": null,
   "metadata": {
    "scrolled": false
   },
   "outputs": [],
   "source": [
    "resp = download('https://mail.naver.com')\n",
    "resp.text"
   ]
  },
  {
   "cell_type": "code",
   "execution_count": null,
   "metadata": {
    "scrolled": false
   },
   "outputs": [],
   "source": [
    "rest = session.get('https://mail.naver.com')\n",
    "resp.text"
   ]
  }
 ],
 "metadata": {
  "kernelspec": {
   "display_name": "Python 3",
   "language": "python",
   "name": "python3"
  },
  "language_info": {
   "codemirror_mode": {
    "name": "ipython",
    "version": 3
   },
   "file_extension": ".py",
   "mimetype": "text/x-python",
   "name": "python",
   "nbconvert_exporter": "python",
   "pygments_lexer": "ipython3",
   "version": "3.8.3"
  }
 },
 "nbformat": 4,
 "nbformat_minor": 4
}
