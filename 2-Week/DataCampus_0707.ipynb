{
 "cells": [
  {
   "cell_type": "markdown",
   "metadata": {},
   "source": [
    "## Crawling"
   ]
  },
  {
   "cell_type": "markdown",
   "metadata": {},
   "source": [
    "### 어떤 사이트를 수집 하느냐 보다는 어떤 데이터를 수집하느냐가 문제!\n",
    "1. 접근제약 규칙준수\n",
    "2. 사이트에 최대한 부담 지양\n",
    "3. 사이트 이용방침 준수\n",
    "4. 지적재산권 침해 여부 주의\n",
    "5. 민감한 정보 수집 주의<br>\n",
    "\n",
    "\n",
    "\n",
    "- robots.txt 확인을 해야한다 "
   ]
  },
  {
   "cell_type": "markdown",
   "metadata": {},
   "source": [
    "## URL handling module"
   ]
  },
  {
   "cell_type": "code",
   "execution_count": 2,
   "metadata": {},
   "outputs": [],
   "source": [
    "import urllib"
   ]
  },
  {
   "cell_type": "code",
   "execution_count": 3,
   "metadata": {},
   "outputs": [],
   "source": [
    "from urllib import request"
   ]
  },
  {
   "cell_type": "code",
   "execution_count": 5,
   "metadata": {},
   "outputs": [],
   "source": [
    "from urllib import robotparser"
   ]
  },
  {
   "cell_type": "code",
   "execution_count": 12,
   "metadata": {},
   "outputs": [],
   "source": [
    "robot = robotparser.RobotFileParser()\n",
    "robot.set_url('https://www.apple.com/robots.txt')\n",
    "robot.read()"
   ]
  },
  {
   "cell_type": "code",
   "execution_count": 13,
   "metadata": {},
   "outputs": [
    {
     "data": {
      "text/plain": [
       "'www.apple.com'"
      ]
     },
     "execution_count": 13,
     "metadata": {},
     "output_type": "execute_result"
    }
   ],
   "source": [
    "robot.host"
   ]
  },
  {
   "cell_type": "code",
   "execution_count": 20,
   "metadata": {},
   "outputs": [
    {
     "data": {
      "text/plain": [
       "True"
      ]
     },
     "execution_count": 20,
     "metadata": {},
     "output_type": "execute_result"
    }
   ],
   "source": [
    "robot.can_fetch('*','/cn') ## True가 뜰경우 수집가능"
   ]
  },
  {
   "cell_type": "markdown",
   "metadata": {},
   "source": [
    "- 정확하게 돌아가지 않는다"
   ]
  },
  {
   "cell_type": "code",
   "execution_count": 42,
   "metadata": {},
   "outputs": [],
   "source": [
    "resp = request.urlopen('https://www.naver.com')"
   ]
  },
  {
   "cell_type": "code",
   "execution_count": 43,
   "metadata": {},
   "outputs": [
    {
     "data": {
      "text/plain": [
       "'https://www.naver.com'"
      ]
     },
     "execution_count": 43,
     "metadata": {},
     "output_type": "execute_result"
    }
   ],
   "source": [
    "resp.geturl()"
   ]
  },
  {
   "cell_type": "code",
   "execution_count": 44,
   "metadata": {},
   "outputs": [
    {
     "data": {
      "text/plain": [
       "[('Server', 'NWS'),\n",
       " ('Date', 'Wed, 07 Jul 2021 02:23:31 GMT'),\n",
       " ('Content-Type', 'text/html; charset=UTF-8'),\n",
       " ('Transfer-Encoding', 'chunked'),\n",
       " ('Connection', 'close'),\n",
       " ('Set-Cookie',\n",
       "  'PM_CK_loc=5b3cfba8eee6debe05f5d6bd00f0cae53c76792eb12ea87bc65eaf5c30efb0ff; Expires=Thu, 08 Jul 2021 02:23:31 GMT; Path=/; HttpOnly'),\n",
       " ('Cache-Control', 'no-cache, no-store, must-revalidate'),\n",
       " ('Pragma', 'no-cache'),\n",
       " ('P3P',\n",
       "  'CP=\"CAO DSP CURa ADMa TAIa PSAa OUR LAW STP PHY ONL UNI PUR FIN COM NAV INT DEM STA PRE\"'),\n",
       " ('X-Frame-Options', 'DENY'),\n",
       " ('X-XSS-Protection', '1; mode=block'),\n",
       " ('Strict-Transport-Security', 'max-age=63072000; includeSubdomains'),\n",
       " ('Referrer-Policy', 'unsafe-url')]"
      ]
     },
     "execution_count": 44,
     "metadata": {},
     "output_type": "execute_result"
    }
   ],
   "source": [
    "resp.getheaders() ## response해서 받은 header"
   ]
  },
  {
   "cell_type": "code",
   "execution_count": 45,
   "metadata": {},
   "outputs": [
    {
     "data": {
      "text/plain": [
       "200"
      ]
     },
     "execution_count": 45,
     "metadata": {},
     "output_type": "execute_result"
    }
   ],
   "source": [
    "resp.getcode() ## 정상적으로 응답을 받았는지 안받았는지 확인할 수 있다."
   ]
  },
  {
   "cell_type": "code",
   "execution_count": 46,
   "metadata": {},
   "outputs": [
    {
     "data": {
      "text/plain": [
       "'OK'"
      ]
     },
     "execution_count": 46,
     "metadata": {},
     "output_type": "execute_result"
    }
   ],
   "source": [
    "resp.reason"
   ]
  },
  {
   "cell_type": "code",
   "execution_count": 48,
   "metadata": {},
   "outputs": [],
   "source": [
    "resp = request.urlopen('https://www.google.com') "
   ]
  },
  {
   "cell_type": "code",
   "execution_count": 50,
   "metadata": {},
   "outputs": [
    {
     "data": {
      "text/plain": [
       "[('Date', 'Wed, 07 Jul 2021 02:24:58 GMT'),\n",
       " ('Expires', '-1'),\n",
       " ('Cache-Control', 'private, max-age=0'),\n",
       " ('Content-Type', 'text/html; charset=ISO-8859-1'),\n",
       " ('P3P', 'CP=\"This is not a P3P policy! See g.co/p3phelp for more info.\"'),\n",
       " ('Server', 'gws'),\n",
       " ('X-XSS-Protection', '0'),\n",
       " ('X-Frame-Options', 'SAMEORIGIN'),\n",
       " ('Set-Cookie',\n",
       "  '1P_JAR=2021-07-07-02; expires=Fri, 06-Aug-2021 02:24:58 GMT; path=/; domain=.google.com; Secure'),\n",
       " ('Set-Cookie',\n",
       "  'NID=218=Btl9g_KhdYhk90Z2xmcDi_YSbxiaEFHyFfWYo9mPXC2f-lsSHMfUVQLJ4Na69SJju2McTCbcW51GYf90pkzH6Ew_IIsyf7JsVzKhRBYaMvfIcIHaGJr3YQLOB8dZUKtKCjE3-InCl2Jxujb1MJIJhihHvNgjJK-y2_eftDUxDxQ; expires=Thu, 06-Jan-2022 02:24:58 GMT; path=/; domain=.google.com; HttpOnly'),\n",
       " ('Alt-Svc',\n",
       "  'h3=\":443\"; ma=2592000,h3-29=\":443\"; ma=2592000,h3-T051=\":443\"; ma=2592000,h3-Q050=\":443\"; ma=2592000,h3-Q046=\":443\"; ma=2592000,h3-Q043=\":443\"; ma=2592000,quic=\":443\"; ma=2592000; v=\"46,43\"'),\n",
       " ('Accept-Ranges', 'none'),\n",
       " ('Vary', 'Accept-Encoding'),\n",
       " ('Connection', 'close'),\n",
       " ('Transfer-Encoding', 'chunked')]"
      ]
     },
     "execution_count": 50,
     "metadata": {},
     "output_type": "execute_result"
    }
   ],
   "source": [
    "resp.getheaders()"
   ]
  },
  {
   "cell_type": "code",
   "execution_count": 51,
   "metadata": {},
   "outputs": [],
   "source": [
    "html = resp.read()"
   ]
  },
  {
   "cell_type": "code",
   "execution_count": 55,
   "metadata": {},
   "outputs": [],
   "source": [
    "from html import unescape"
   ]
  },
  {
   "cell_type": "markdown",
   "metadata": {},
   "source": [
    "## HTTP Error"
   ]
  },
  {
   "cell_type": "code",
   "execution_count": 163,
   "metadata": {},
   "outputs": [],
   "source": [
    "req = request.Request(url)"
   ]
  },
  {
   "cell_type": "code",
   "execution_count": 64,
   "metadata": {},
   "outputs": [],
   "source": [
    "req = request.Request('https://www.google.com/search?q=%ED%8C%8C%EC%9D%B4%EC%8D%AC&rlz=1C1CHBD_koKR917KR917&oq=%ED%8C%8C%EC%9D%B4%EC%8D%AC&aqs=chrome..69i57j35i39j0i433j0i20i263i433j0i433j69i61l2j69i60.2924j0j7&sourceid=chrome&ie=UTF-8')"
   ]
  },
  {
   "cell_type": "code",
   "execution_count": 67,
   "metadata": {},
   "outputs": [
    {
     "data": {
      "text/plain": [
       "'https://www.google.com/search?q=%ED%8C%8C%EC%9D%B4%EC%8D%AC&rlz=1C1CHBD_koKR917KR917&oq=%ED%8C%8C%EC%9D%B4%EC%8D%AC&aqs=chrome..69i57j35i39j0i433j0i20i263i433j0i433j69i61l2j69i60.2924j0j7&sourceid=chrome&ie=UTF-8'"
      ]
     },
     "execution_count": 67,
     "metadata": {},
     "output_type": "execute_result"
    }
   ],
   "source": [
    "req.full_url"
   ]
  },
  {
   "cell_type": "code",
   "execution_count": 79,
   "metadata": {},
   "outputs": [],
   "source": [
    "req.get_header('user_agent')"
   ]
  },
  {
   "cell_type": "code",
   "execution_count": 164,
   "metadata": {},
   "outputs": [],
   "source": [
    "req.add_header('user-agent', 'Mozilla/5.0 (Windows NT 10.0; Win64; x64) AppleWebKit/537.36 (KHTML, like Gecko) Chrome/91.0.4472.124 Safari/537.36')"
   ]
  },
  {
   "cell_type": "code",
   "execution_count": 165,
   "metadata": {
    "scrolled": true
   },
   "outputs": [],
   "source": [
    "resp = request.urlopen(req)"
   ]
  },
  {
   "cell_type": "code",
   "execution_count": 166,
   "metadata": {},
   "outputs": [
    {
     "data": {
      "text/plain": [
       "{'User-agent': 'Mozilla/5.0 (Windows NT 10.0; Win64; x64) AppleWebKit/537.36 (KHTML, like Gecko) Chrome/91.0.4472.124 Safari/537.36'}"
      ]
     },
     "execution_count": 166,
     "metadata": {},
     "output_type": "execute_result"
    }
   ],
   "source": [
    "req.headers"
   ]
  },
  {
   "cell_type": "code",
   "execution_count": null,
   "metadata": {},
   "outputs": [],
   "source": [
    "resp.getheaders(), resp.code, resp.reason"
   ]
  },
  {
   "cell_type": "code",
   "execution_count": 74,
   "metadata": {},
   "outputs": [
    {
     "data": {
      "text/plain": [
       "{'User_agent': 'Mozilla/5.0 (Windows NT 10.0; Win64; x64) AppleWebKit/537.36 (KHTML, like Gecko) Chrome/91.0.4472.124 Safari/537.36'}"
      ]
     },
     "execution_count": 74,
     "metadata": {},
     "output_type": "execute_result"
    }
   ],
   "source": [
    "req.headers"
   ]
  },
  {
   "cell_type": "code",
   "execution_count": 126,
   "metadata": {},
   "outputs": [],
   "source": [
    "header = {'user_agent':'Mozilla/5.0 (Windows NT 10.0; Win64; x64) AppleWebKit/537.36 (KHTML, like Gecko) Chrome/91.0.4472.124 Safari/537.36'}"
   ]
  },
  {
   "cell_type": "markdown",
   "metadata": {},
   "source": [
    "## parse"
   ]
  },
  {
   "cell_type": "code",
   "execution_count": 94,
   "metadata": {},
   "outputs": [],
   "source": [
    "from urllib import parse"
   ]
  },
  {
   "cell_type": "code",
   "execution_count": 99,
   "metadata": {},
   "outputs": [
    {
     "data": {
      "text/plain": [
       "('%20%ED%95%9C%EA%B8%80', '+%ED%95%9C%EA%B8%80')"
      ]
     },
     "execution_count": 99,
     "metadata": {},
     "output_type": "execute_result"
    }
   ],
   "source": [
    "parse.quote(' 한글') , parse.quote_plus(' 한글') ## 뛰어쓰기의 차이"
   ]
  },
  {
   "cell_type": "markdown",
   "metadata": {},
   "source": [
    "- 뛰어쓰기는 feature의 중요한 구분 요소중에 하나이다"
   ]
  },
  {
   "cell_type": "code",
   "execution_count": 101,
   "metadata": {},
   "outputs": [
    {
     "data": {
      "text/plain": [
       "' 한글'"
      ]
     },
     "execution_count": 101,
     "metadata": {},
     "output_type": "execute_result"
    }
   ],
   "source": [
    "parse.unquote('%20%ED%95%9C%EA%B8%80')"
   ]
  },
  {
   "cell_type": "code",
   "execution_count": 105,
   "metadata": {},
   "outputs": [],
   "source": [
    "param = {'q':'파이썬'}"
   ]
  },
  {
   "cell_type": "code",
   "execution_count": 107,
   "metadata": {},
   "outputs": [],
   "source": [
    "url = 'https://www.google.com/search'"
   ]
  },
  {
   "cell_type": "code",
   "execution_count": 113,
   "metadata": {},
   "outputs": [],
   "source": [
    "p = '&'.join([k+'='+parse.quote_plus(v) for k, v in param.items()])"
   ]
  },
  {
   "cell_type": "code",
   "execution_count": 114,
   "metadata": {},
   "outputs": [
    {
     "data": {
      "text/plain": [
       "'q=%ED%8C%8C%EC%9D%B4%EC%8D%AC'"
      ]
     },
     "execution_count": 114,
     "metadata": {},
     "output_type": "execute_result"
    }
   ],
   "source": [
    "p"
   ]
  },
  {
   "cell_type": "code",
   "execution_count": 127,
   "metadata": {
    "scrolled": true
   },
   "outputs": [
    {
     "name": "stdout",
     "output_type": "stream",
     "text": [
      "https://www.google.com/search?q=%ED%8C%8C%EC%9D%B4%EC%8D%AC\n"
     ]
    }
   ],
   "source": [
    "k=url+'?'+p\n",
    "print(k)"
   ]
  },
  {
   "cell_type": "code",
   "execution_count": 8,
   "metadata": {},
   "outputs": [],
   "source": [
    "header = {'user-agent':'Mozilla/5.0 (Windows NT 10.0; Win64; x64) AppleWebKit/537.36 (KHTML, like Gecko) Chrome/91.0.4472.124 Safari/537.36'}"
   ]
  },
  {
   "cell_type": "code",
   "execution_count": 171,
   "metadata": {},
   "outputs": [],
   "source": [
    "req = request.Request(k, headers=header)"
   ]
  },
  {
   "cell_type": "code",
   "execution_count": 172,
   "metadata": {},
   "outputs": [
    {
     "data": {
      "text/plain": [
       "'https://www.google.com/search?q=%ED%8C%8C%EC%9D%B4%EC%8D%AC'"
      ]
     },
     "execution_count": 172,
     "metadata": {},
     "output_type": "execute_result"
    }
   ],
   "source": [
    "req.full_url"
   ]
  },
  {
   "cell_type": "code",
   "execution_count": 173,
   "metadata": {},
   "outputs": [],
   "source": [
    "resp = request.urlopen(req)  "
   ]
  },
  {
   "cell_type": "code",
   "execution_count": 174,
   "metadata": {},
   "outputs": [],
   "source": [
    "from urllib.error import HTTPError"
   ]
  },
  {
   "cell_type": "code",
   "execution_count": 175,
   "metadata": {},
   "outputs": [
    {
     "name": "stdout",
     "output_type": "stream",
     "text": [
      "https://www.google.com/search?q=%ED%8C%8C%EC%9D%B4%EC%8D%AC\n",
      "===============\n",
      "403\n",
      "===============\n",
      "Forbidden\n",
      "===============\n",
      "Content-Type: text/html; charset=UTF-8\n",
      "Date: Wed, 07 Jul 2021 04:42:02 GMT\n",
      "Server: gws\n",
      "Cache-Control: private\n",
      "X-XSS-Protection: 0\n",
      "X-Frame-Options: SAMEORIGIN\n",
      "Alt-Svc: h3=\":443\"; ma=2592000,h3-29=\":443\"; ma=2592000,h3-T051=\":443\"; ma=2592000,h3-Q050=\":443\"; ma=2592000,h3-Q046=\":443\"; ma=2592000,h3-Q043=\":443\"; ma=2592000,quic=\":443\"; ma=2592000; v=\"46,43\"\n",
      "Accept-Ranges: none\n",
      "Vary: Accept-Encoding\n",
      "Connection: close\n",
      "Transfer-Encoding: chunked\n",
      "\n",
      "\n",
      "===============\n",
      "STOP\n"
     ]
    }
   ],
   "source": [
    "try:\n",
    "    request.urlopen(k)\n",
    "except HTTPError as e:\n",
    "    print(e.geturl())\n",
    "    print(\"===============\")\n",
    "    print(e.getcode())\n",
    "    print(\"===============\")\n",
    "    print(e.reason)\n",
    "    print(\"===============\")\n",
    "    print(e.headers)\n",
    "    print(\"===============\")\n",
    "    \n",
    "    if 400 <= e.getcode() <500:\n",
    "        print('STOP')\n",
    "    \n",
    "    if 500 <= e.getcode() <600:\n",
    "        print(\"one more\")"
   ]
  },
  {
   "cell_type": "code",
   "execution_count": 176,
   "metadata": {
    "scrolled": true
   },
   "outputs": [
    {
     "data": {
      "text/plain": [
       "ParseResult(scheme='https', netloc='www.google.com', path='/search', params='', query='q=%ED%8C%8C%EC%9D%B4%EC%8D%AC', fragment='')"
      ]
     },
     "execution_count": 176,
     "metadata": {},
     "output_type": "execute_result"
    }
   ],
   "source": [
    "parse.urlparse(k)"
   ]
  },
  {
   "cell_type": "code",
   "execution_count": 177,
   "metadata": {},
   "outputs": [
    {
     "name": "stdout",
     "output_type": "stream",
     "text": [
      "q=%ED%8C%8C%EC%9D%B4%EC%8D%AC\n",
      "{'q': ['파이썬']}\n"
     ]
    }
   ],
   "source": [
    "print(p)\n",
    "print(parse.parse_qs(p)) ##object의 형태로 분리해줌"
   ]
  },
  {
   "cell_type": "code",
   "execution_count": 178,
   "metadata": {},
   "outputs": [
    {
     "data": {
      "text/plain": [
       "'q=%5B%27%ED%8C%8C%EC%9D%B4%EC%8D%AC%27%5D'"
      ]
     },
     "execution_count": 178,
     "metadata": {},
     "output_type": "execute_result"
    }
   ],
   "source": [
    "parse.urlencode(parse.parse_qs(p))"
   ]
  },
  {
   "cell_type": "code",
   "execution_count": 179,
   "metadata": {},
   "outputs": [
    {
     "data": {
      "text/plain": [
       "'https://www.google.com/q=%5B%27%ED%8C%8C%EC%9D%B4%EC%8D%AC%27%5D'"
      ]
     },
     "execution_count": 179,
     "metadata": {},
     "output_type": "execute_result"
    }
   ],
   "source": [
    "parse.urljoin(url, parse.urlencode(parse.parse_qs(p)))"
   ]
  },
  {
   "cell_type": "code",
   "execution_count": 180,
   "metadata": {},
   "outputs": [
    {
     "data": {
      "text/plain": [
       "'https://www.naver.com'"
      ]
     },
     "execution_count": 180,
     "metadata": {},
     "output_type": "execute_result"
    }
   ],
   "source": [
    "parse.urljoin(url, 'https://www.naver.com') ## 상관없는 도메인이면 다르게 이동"
   ]
  },
  {
   "cell_type": "markdown",
   "metadata": {},
   "source": [
    "## Download"
   ]
  },
  {
   "cell_type": "code",
   "execution_count": 181,
   "metadata": {},
   "outputs": [],
   "source": [
    "url = 'http://httpbin.org"
   ]
  },
  {
   "cell_type": "code",
   "execution_count": 183,
   "metadata": {},
   "outputs": [
    {
     "data": {
      "text/plain": [
       "'http://httpbin.org/get'"
      ]
     },
     "execution_count": 183,
     "metadata": {},
     "output_type": "execute_result"
    }
   ],
   "source": [
    "parse.urljoin(url,'/get')"
   ]
  },
  {
   "cell_type": "code",
   "execution_count": 184,
   "metadata": {},
   "outputs": [],
   "source": [
    "req = request.Request(parse.urljoin(url,'/get')+'?'+parse.urlencode({'key':'value'}))"
   ]
  },
  {
   "cell_type": "code",
   "execution_count": 189,
   "metadata": {
    "scrolled": true
   },
   "outputs": [
    {
     "name": "stdout",
     "output_type": "stream",
     "text": [
      "http://httpbin.org/get?key=value\n",
      "{}\n",
      "None\n"
     ]
    }
   ],
   "source": [
    "for i in [req.full_url, req.headers, req.data]:\n",
    "    print(i)"
   ]
  },
  {
   "cell_type": "code",
   "execution_count": 200,
   "metadata": {},
   "outputs": [
    {
     "data": {
      "text/plain": [
       "(200,\n",
       " 'OK',\n",
       " [('Date', 'Wed, 07 Jul 2021 04:56:47 GMT'),\n",
       "  ('Content-Type', 'application/json'),\n",
       "  ('Content-Length', '306'),\n",
       "  ('Connection', 'close'),\n",
       "  ('Server', 'gunicorn/19.9.0'),\n",
       "  ('Access-Control-Allow-Origin', '*'),\n",
       "  ('Access-Control-Allow-Credentials', 'true')])"
      ]
     },
     "execution_count": 200,
     "metadata": {},
     "output_type": "execute_result"
    }
   ],
   "source": [
    "resp = request.urlopen(req)\n",
    "resp.getcode(),resp.reason, resp.getheaders()"
   ]
  },
  {
   "cell_type": "code",
   "execution_count": 194,
   "metadata": {},
   "outputs": [
    {
     "data": {
      "text/plain": [
       "['application', 'json']"
      ]
     },
     "execution_count": 194,
     "metadata": {},
     "output_type": "execute_result"
    }
   ],
   "source": [
    "resp.getheader('Content-Type').split('/')"
   ]
  },
  {
   "cell_type": "code",
   "execution_count": 195,
   "metadata": {},
   "outputs": [
    {
     "name": "stdout",
     "output_type": "stream",
     "text": [
      "{\n",
      "  \"args\": {\n",
      "    \"key\": \"value\"\n",
      "  }, \n",
      "  \"headers\": {\n",
      "    \"Accept-Encoding\": \"identity\", \n",
      "    \"Host\": \"httpbin.org\", \n",
      "    \"User-Agent\": \"Python-urllib/3.8\", \n",
      "    \"X-Amzn-Trace-Id\": \"Root=1-60e533b3-7216adfa06834895527e20af\"\n",
      "  }, \n",
      "  \"origin\": \"163.152.3.131\", \n",
      "  \"url\": \"http://httpbin.org/get?key=value\"\n",
      "}\n",
      "\n"
     ]
    }
   ],
   "source": [
    "print(request.urlopen(req).read().decode()) ## json"
   ]
  },
  {
   "cell_type": "code",
   "execution_count": 197,
   "metadata": {},
   "outputs": [],
   "source": [
    "import json\n",
    "import xml"
   ]
  },
  {
   "cell_type": "code",
   "execution_count": 201,
   "metadata": {},
   "outputs": [],
   "source": [
    "data = resp.read()"
   ]
  },
  {
   "cell_type": "code",
   "execution_count": 202,
   "metadata": {},
   "outputs": [
    {
     "data": {
      "text/plain": [
       "bytes"
      ]
     },
     "execution_count": 202,
     "metadata": {},
     "output_type": "execute_result"
    }
   ],
   "source": [
    "type(data)"
   ]
  },
  {
   "cell_type": "code",
   "execution_count": 203,
   "metadata": {},
   "outputs": [
    {
     "data": {
      "text/plain": [
       "{'args': {'key': 'value'},\n",
       " 'headers': {'Accept-Encoding': 'identity',\n",
       "  'Host': 'httpbin.org',\n",
       "  'User-Agent': 'Python-urllib/3.8',\n",
       "  'X-Amzn-Trace-Id': 'Root=1-60e5340f-4775653b4e703aa92cf96cdd'},\n",
       " 'origin': '163.152.3.131',\n",
       " 'url': 'http://httpbin.org/get?key=value'}"
      ]
     },
     "execution_count": 203,
     "metadata": {},
     "output_type": "execute_result"
    }
   ],
   "source": [
    "json.loads(data)"
   ]
  },
  {
   "cell_type": "code",
   "execution_count": 204,
   "metadata": {},
   "outputs": [
    {
     "data": {
      "text/plain": [
       "dict_keys(['args', 'headers', 'origin', 'url'])"
      ]
     },
     "execution_count": 204,
     "metadata": {},
     "output_type": "execute_result"
    }
   ],
   "source": [
    "json.loads(data).keys()"
   ]
  },
  {
   "cell_type": "code",
   "execution_count": 211,
   "metadata": {},
   "outputs": [
    {
     "name": "stdout",
     "output_type": "stream",
     "text": [
      "{'key': 'value'}\n",
      "{'Accept-Encoding': 'identity', 'Host': 'httpbin.org', 'User-Agent': 'Python-urllib/3.8', 'X-Amzn-Trace-Id': 'Root=1-60e5340f-4775653b4e703aa92cf96cdd'}\n",
      "163.152.3.131\n",
      "http://httpbin.org/get?key=value\n"
     ]
    }
   ],
   "source": [
    "for i in json.loads(data).keys():\n",
    "    print(json.loads(data)[i])\n"
   ]
  },
  {
   "cell_type": "code",
   "execution_count": 219,
   "metadata": {},
   "outputs": [],
   "source": [
    "req = request.Request(parse.urljoin(url,'/post'),\n",
    "                      data=parse.urlencode({'key':'value'}).encode(), ##  \n",
    "                      method='POST') ## method 바꿔주기"
   ]
  },
  {
   "cell_type": "code",
   "execution_count": 220,
   "metadata": {},
   "outputs": [
    {
     "data": {
      "text/plain": [
       "('http://httpbin.org/post', {}, b'key=value')"
      ]
     },
     "execution_count": 220,
     "metadata": {},
     "output_type": "execute_result"
    }
   ],
   "source": [
    "req.full_url, req.headers, req.data"
   ]
  },
  {
   "cell_type": "code",
   "execution_count": 221,
   "metadata": {},
   "outputs": [],
   "source": [
    "resp = request.urlopen(req) "
   ]
  },
  {
   "cell_type": "code",
   "execution_count": 222,
   "metadata": {},
   "outputs": [],
   "source": [
    "data = resp.read()  "
   ]
  },
  {
   "cell_type": "code",
   "execution_count": 223,
   "metadata": {},
   "outputs": [
    {
     "name": "stdout",
     "output_type": "stream",
     "text": [
      "{\n",
      "  \"args\": {}, \n",
      "  \"data\": \"\", \n",
      "  \"files\": {}, \n",
      "  \"form\": {\n",
      "    \"key\": \"value\"\n",
      "  }, \n",
      "  \"headers\": {\n",
      "    \"Accept-Encoding\": \"identity\", \n",
      "    \"Content-Length\": \"9\", \n",
      "    \"Content-Type\": \"application/x-www-form-urlencoded\", \n",
      "    \"Host\": \"httpbin.org\", \n",
      "    \"User-Agent\": \"Python-urllib/3.8\", \n",
      "    \"X-Amzn-Trace-Id\": \"Root=1-60e5356e-4b29fbf95d2feb487d8a299b\"\n",
      "  }, \n",
      "  \"json\": null, \n",
      "  \"origin\": \"163.152.3.131\", \n",
      "  \"url\": \"http://httpbin.org/post\"\n",
      "}\n",
      "\n"
     ]
    }
   ],
   "source": [
    "print(data.decode())"
   ]
  },
  {
   "cell_type": "code",
   "execution_count": 227,
   "metadata": {},
   "outputs": [
    {
     "name": "stdout",
     "output_type": "stream",
     "text": [
      "{'args': {}, 'data': '', 'files': {}, 'form': {'key': 'value'}, 'headers': {'Accept-Encoding': 'identity', 'Content-Length': '9', 'Content-Type': 'application/x-www-form-urlencoded', 'Host': 'httpbin.org', 'User-Agent': 'Python-urllib/3.8', 'X-Amzn-Trace-Id': 'Root=1-60e5356e-4b29fbf95d2feb487d8a299b'}, 'json': None, 'origin': '163.152.3.131', 'url': 'http://httpbin.org/post'}\n"
     ]
    }
   ],
   "source": [
    "print(json.loads(data))"
   ]
  },
  {
   "cell_type": "markdown",
   "metadata": {},
   "source": [
    "json.dumps(json.loads(data))\n",
    "\n",
    "load : string ===> dict 오브젝트,, \n",
    "dump : 오브젝터 ===> string"
   ]
  },
  {
   "cell_type": "code",
   "execution_count": 241,
   "metadata": {},
   "outputs": [],
   "source": [
    "def download(url, params=None, headers={}, method='GET'):\n",
    "    req = request.Request(url+'?'+ (parse.urlencode(params) if method == 'GET' else ''), \n",
    "                          data = parse.urlencode(params).encode() if method=='POST' else None, \n",
    "                          headers=header, \n",
    "                          method=method)\n",
    "    \n",
    "\n",
    "    resp = None\n",
    "    \n",
    "    try:\n",
    "        resp = request.urlopen(req)\n",
    "    \n",
    "        \n",
    "    except HTTPError as e:\n",
    "        print(e.getcode(), e.reason)\n",
    "        print(e.getheaders())\n",
    "        \n",
    "    \n",
    "    return resp\n",
    "            \n",
    "    \n",
    "    "
   ]
  },
  {
   "cell_type": "code",
   "execution_count": 248,
   "metadata": {},
   "outputs": [],
   "source": [
    "resp = download(url = url+'/get', params = {\"key\":\"value\"}, method='GET')"
   ]
  },
  {
   "cell_type": "code",
   "execution_count": 249,
   "metadata": {},
   "outputs": [
    {
     "data": {
      "text/plain": [
       "{'args': {'key': 'value'},\n",
       " 'headers': {'Accept-Encoding': 'identity',\n",
       "  'Host': 'httpbin.org',\n",
       "  'User-Agent': 'Mozilla/5.0 (Windows NT 10.0; Win64; x64) AppleWebKit/537.36 (KHTML, like Gecko) Chrome/91.0.4472.124 Safari/537.36',\n",
       "  'X-Amzn-Trace-Id': 'Root=1-60e539ab-797e76537c8f5a5d1cac4c93'},\n",
       " 'origin': '163.152.3.131',\n",
       " 'url': 'http://httpbin.org/get?key=value'}"
      ]
     },
     "execution_count": 249,
     "metadata": {},
     "output_type": "execute_result"
    }
   ],
   "source": [
    "json.loads(resp.read())"
   ]
  },
  {
   "cell_type": "markdown",
   "metadata": {},
   "source": [
    "## Requests\n",
    "- 파이썬에서 공식적으로 http를 다루는데 추천하는 lib"
   ]
  },
  {
   "cell_type": "code",
   "execution_count": 260,
   "metadata": {
    "scrolled": true
   },
   "outputs": [
    {
     "data": {
      "text/plain": [
       "'http://httpbin.org/'"
      ]
     },
     "execution_count": 260,
     "metadata": {},
     "output_type": "execute_result"
    }
   ],
   "source": [
    "url"
   ]
  },
  {
   "cell_type": "code",
   "execution_count": 262,
   "metadata": {},
   "outputs": [
    {
     "data": {
      "text/plain": [
       "{'user-agent': 'Mozilla/5.0 (Windows NT 10.0; Win64; x64) AppleWebKit/537.36 (KHTML, like Gecko) Chrome/91.0.4472.124 Safari/537.36'}"
      ]
     },
     "execution_count": 262,
     "metadata": {},
     "output_type": "execute_result"
    }
   ],
   "source": [
    "header"
   ]
  },
  {
   "cell_type": "code",
   "execution_count": 252,
   "metadata": {},
   "outputs": [],
   "source": [
    "import requests"
   ]
  },
  {
   "cell_type": "code",
   "execution_count": 270,
   "metadata": {},
   "outputs": [],
   "source": [
    "from requests import Response, request"
   ]
  },
  {
   "cell_type": "code",
   "execution_count": 271,
   "metadata": {},
   "outputs": [],
   "source": [
    "resp = request(method = 'GET', url = url+'/get', params = {'key':'value'} )"
   ]
  },
  {
   "cell_type": "code",
   "execution_count": 279,
   "metadata": {},
   "outputs": [
    {
     "data": {
      "text/plain": [
       "{'User-Agent': 'python-requests/2.24.0', 'Accept-Encoding': 'gzip, deflate', 'Accept': '*/*', 'Connection': 'keep-alive'}"
      ]
     },
     "execution_count": 279,
     "metadata": {},
     "output_type": "execute_result"
    }
   ],
   "source": [
    "resp.request.headers"
   ]
  },
  {
   "cell_type": "code",
   "execution_count": 280,
   "metadata": {},
   "outputs": [
    {
     "data": {
      "text/plain": [
       "(200, 'OK')"
      ]
     },
     "execution_count": 280,
     "metadata": {},
     "output_type": "execute_result"
    }
   ],
   "source": [
    "resp.status_code, resp.reason "
   ]
  },
  {
   "cell_type": "code",
   "execution_count": 283,
   "metadata": {},
   "outputs": [
    {
     "data": {
      "text/plain": [
       "(str, bytes)"
      ]
     },
     "execution_count": 283,
     "metadata": {},
     "output_type": "execute_result"
    }
   ],
   "source": [
    "type(resp.text), type(resp.content)"
   ]
  },
  {
   "cell_type": "code",
   "execution_count": 286,
   "metadata": {},
   "outputs": [
    {
     "name": "stdout",
     "output_type": "stream",
     "text": [
      "{\n",
      "  \"args\": {\n",
      "    \"key\": \"value\"\n",
      "  }, \n",
      "  \"headers\": {\n",
      "    \"Accept\": \"*/*\", \n",
      "    \"Accept-Encoding\": \"gzip, deflate\", \n",
      "    \"Host\": \"httpbin.org\", \n",
      "    \"User-Agent\": \"python-requests/2.24.0\", \n",
      "    \"X-Amzn-Trace-Id\": \"Root=1-60e53b45-1ce1efec7e2ef33813283fcf\"\n",
      "  }, \n",
      "  \"origin\": \"163.152.3.131\", \n",
      "  \"url\": \"http://httpbin.org/get?key=value\"\n",
      "}\n",
      "\n"
     ]
    }
   ],
   "source": [
    "print(resp.text)"
   ]
  },
  {
   "cell_type": "code",
   "execution_count": 291,
   "metadata": {},
   "outputs": [
    {
     "data": {
      "text/plain": [
       "({'args': {'key': 'value'},\n",
       "  'headers': {'Accept': '*/*',\n",
       "   'Accept-Encoding': 'gzip, deflate',\n",
       "   'Host': 'httpbin.org',\n",
       "   'User-Agent': 'python-requests/2.24.0',\n",
       "   'X-Amzn-Trace-Id': 'Root=1-60e53b45-1ce1efec7e2ef33813283fcf'},\n",
       "  'origin': '163.152.3.131',\n",
       "  'url': 'http://httpbin.org/get?key=value'},\n",
       " dict)"
      ]
     },
     "execution_count": 291,
     "metadata": {},
     "output_type": "execute_result"
    }
   ],
   "source": [
    "resp.json(), type(resp.json())"
   ]
  },
  {
   "cell_type": "code",
   "execution_count": 294,
   "metadata": {},
   "outputs": [],
   "source": [
    "resp = request(method='GET', url='https://www.google.com/search?q=%ED%8C%8C%EC%9D%B4%EC%8D%AC&rlz=1C1CHBD_koKR917KR917&oq=%ED%8C%8C%EC%9D%B4%EC%8D%AC&aqs=chrome.0.69i59j35i39j0i433l4j69i61l2.1301j0j7&sourceid=chrome&ie=UTF-8')"
   ]
  },
  {
   "cell_type": "code",
   "execution_count": 295,
   "metadata": {},
   "outputs": [
    {
     "data": {
      "text/plain": [
       "(200, 'OK')"
      ]
     },
     "execution_count": 295,
     "metadata": {},
     "output_type": "execute_result"
    }
   ],
   "source": [
    "resp.status_code, resp.reason"
   ]
  },
  {
   "cell_type": "code",
   "execution_count": 297,
   "metadata": {},
   "outputs": [
    {
     "data": {
      "text/plain": [
       "'python-requests/2.24.0'"
      ]
     },
     "execution_count": 297,
     "metadata": {},
     "output_type": "execute_result"
    }
   ],
   "source": [
    "resp.request.headers['user-agent'] ## 잘 기억하기"
   ]
  },
  {
   "cell_type": "code",
   "execution_count": 305,
   "metadata": {},
   "outputs": [
    {
     "name": "stdout",
     "output_type": "stream",
     "text": [
      "utf-8\n"
     ]
    }
   ],
   "source": [
    "resp.encoding = 'utf-8'\n",
    "print(resp.encoding)"
   ]
  },
  {
   "cell_type": "code",
   "execution_count": 307,
   "metadata": {},
   "outputs": [],
   "source": [
    "resp = request(method='GET', \n",
    "               url='https://www.google.com/search?q=%ED%8C%8C%EC%9D%B4%EC%8D%AC&rlz=1C1CHBD_koKR917KR917&oq=%ED%8C%8C%EC%9D%B4%EC%8D%AC&aqs=chrome.0.69i59j35i39j0i433l4j69i61l2.1301j0j7&sourceid=chrome&ie=UTF-8',\n",
    "               headers=header)"
   ]
  },
  {
   "cell_type": "markdown",
   "metadata": {},
   "source": [
    "- requests 패키지를 사용할 때 상황에 따라서 header값을 넣어주어야한다(안전하게 사용하기 위해선 넣어주기) "
   ]
  },
  {
   "cell_type": "markdown",
   "metadata": {},
   "source": [
    "## Error Handling"
   ]
  },
  {
   "cell_type": "code",
   "execution_count": 316,
   "metadata": {},
   "outputs": [],
   "source": [
    "from requests.compat import urljoin, urlparse, quote, unquote"
   ]
  },
  {
   "cell_type": "code",
   "execution_count": 318,
   "metadata": {},
   "outputs": [],
   "source": [
    "resp = request(method='GET', url = urljoin(url, '/status/403'))"
   ]
  },
  {
   "cell_type": "code",
   "execution_count": 319,
   "metadata": {},
   "outputs": [
    {
     "data": {
      "text/plain": [
       "(403, 'FORBIDDEN')"
      ]
     },
     "execution_count": 319,
     "metadata": {},
     "output_type": "execute_result"
    }
   ],
   "source": [
    "resp.status_code, resp.reason"
   ]
  },
  {
   "cell_type": "code",
   "execution_count": 321,
   "metadata": {},
   "outputs": [
    {
     "name": "stdout",
     "output_type": "stream",
     "text": [
      "error\n"
     ]
    }
   ],
   "source": [
    "if 400<=resp.status_code<500:\n",
    "    print('error')"
   ]
  },
  {
   "cell_type": "code",
   "execution_count": 4,
   "metadata": {},
   "outputs": [],
   "source": [
    "from requests import request, HTTPError\n",
    "from requests.compat import urljoin, urlparse, quote, unquote"
   ]
  },
  {
   "cell_type": "code",
   "execution_count": 331,
   "metadata": {},
   "outputs": [],
   "source": [
    "def download(url, params={}, headers={}, method='GET'):\n",
    "    \n",
    "    resp = request(url = url,\n",
    "                   params = params if method=='GET' else {},\n",
    "                   data = params if method=='POST' else {},\n",
    "                   headers = header,\n",
    "                   method = method)\n",
    "    \n",
    "    try:\n",
    "        resp.raise_for_status()  # 200 OK 코드가 아닌 경우 에러 발동\n",
    "    except HTTPError as e:\n",
    "        print(e)\n",
    "    \n",
    "    \n",
    "    \n",
    "    return resp"
   ]
  },
  {
   "cell_type": "code",
   "execution_count": 332,
   "metadata": {},
   "outputs": [
    {
     "name": "stdout",
     "output_type": "stream",
     "text": [
      "405 Client Error: METHOD NOT ALLOWED for url: http://httpbin.org//get\n"
     ]
    }
   ],
   "source": [
    "resp = download(url=url+'/get',\n",
    "                params = {'key':\"value\"},\n",
    "                headers = header,\n",
    "                method='POST')"
   ]
  },
  {
   "cell_type": "code",
   "execution_count": 339,
   "metadata": {},
   "outputs": [
    {
     "name": "stdout",
     "output_type": "stream",
     "text": [
      "403 Client Error: FORBIDDEN for url: http://httpbin.org//status/403\n"
     ]
    }
   ],
   "source": [
    "resp = download(url=url+'/status/403',\n",
    "                params = {},\n",
    "                headers = header,\n",
    "                method='GET')"
   ]
  },
  {
   "cell_type": "code",
   "execution_count": 344,
   "metadata": {},
   "outputs": [
    {
     "name": "stdout",
     "output_type": "stream",
     "text": [
      "============================\n",
      "{'Date': 'Wed, 07 Jul 2021 06:17:19 GMT', 'Content-Type': 'text/html; charset=utf-8', 'Content-Length': '0', 'Connection': 'keep-alive', 'Server': 'gunicorn/19.9.0', 'Access-Control-Allow-Origin': '*', 'Access-Control-Allow-Credentials': 'true'}\n",
      "============================\n",
      "403\n",
      "============================\n",
      "FORBIDDEN\n"
     ]
    }
   ],
   "source": [
    "for i in [resp.headers, resp.status_code,resp.reason]:\n",
    "    print(\"============================\")\n",
    "    print(i)"
   ]
  },
  {
   "cell_type": "code",
   "execution_count": 5,
   "metadata": {},
   "outputs": [],
   "source": [
    "from time import sleep"
   ]
  },
  {
   "cell_type": "markdown",
   "metadata": {},
   "source": [
    "### make download(url-file) func"
   ]
  },
  {
   "cell_type": "code",
   "execution_count": 6,
   "metadata": {},
   "outputs": [],
   "source": [
    "def download(url, params={}, headers={}, method='GET', maximum=1): ## maxmum은 유한적인 loop를 위하여 필요\n",
    "    \n",
    "    resp = request(url = url,\n",
    "                   params = params if method=='GET' else {},\n",
    "                   data = params if method=='POST' else {},\n",
    "                   headers = header,\n",
    "                   method = method)\n",
    "    \n",
    "    try:\n",
    "        resp.raise_for_status()  # 200 OK 코드가 아닌 경우 에러 발동\n",
    "    except HTTPError as e:\n",
    "        if 500 <= e.response.status_code<600 and maximum > 0:\n",
    "            print(\"RETRY\")\n",
    "            sleep(1)\n",
    "            resp = download(url, paramas, header, method, maximum-1)\n",
    "        else:    \n",
    "            print(e)\n",
    "    \n",
    "    \n",
    "    \n",
    "    return resp"
   ]
  },
  {
   "cell_type": "code",
   "execution_count": 356,
   "metadata": {},
   "outputs": [
    {
     "name": "stdout",
     "output_type": "stream",
     "text": [
      "500 Server Error: INTERNAL SERVER ERROR for url: http://httpbin.org//status/500\n"
     ]
    },
    {
     "data": {
      "text/plain": [
       "'INTERNAL SERVER ERROR'"
      ]
     },
     "execution_count": 356,
     "metadata": {},
     "output_type": "execute_result"
    }
   ],
   "source": [
    "resp = download(url=url+'/status/500',\n",
    "                params = {},\n",
    "                headers = header,\n",
    "                method='GET')\n",
    "\n",
    "resp.reason"
   ]
  },
  {
   "cell_type": "code",
   "execution_count": 359,
   "metadata": {},
   "outputs": [
    {
     "data": {
      "text/plain": [
       "{'https://www.google.com/search?q': ['파이썬'],\n",
       " 'rlz': ['1C1CHBD_koKR917KR917'],\n",
       " 'oq': ['파이썬'],\n",
       " 'aqs': ['chrome.0.69i59j35i39j0i433l4j69i61l2.2258j0j7'],\n",
       " 'sourceid': ['chrome'],\n",
       " 'ie': ['UTF-8']}"
      ]
     },
     "execution_count": 359,
     "metadata": {},
     "output_type": "execute_result"
    }
   ],
   "source": [
    "parse.parse_qs(\"https://www.google.com/search?q=%ED%8C%8C%EC%9D%B4%EC%8D%AC&rlz=1C1CHBD_koKR917KR917&oq=%ED%8C%8C%EC%9D%B4%EC%8D%AC&aqs=chrome.0.69i59j35i39j0i433l4j69i61l2.2258j0j7&sourceid=chrome&ie=UTF-8\")"
   ]
  },
  {
   "cell_type": "code",
   "execution_count": 373,
   "metadata": {},
   "outputs": [],
   "source": [
    "url = 'https://www.google.com/search'\n",
    "\n",
    "params = {\n",
    " 'q' : '파이썬',\n",
    " 'rlz': ['1C1CHBD_koKR917KR917'],\n",
    " 'oq': ['파이썬'],\n",
    " 'aqs': ['chrome.0.69i59j35i39j0i433l4j69i61l2.2258j0j7'],\n",
    " 'sourceid': ['chrome'],\n",
    " 'ie': ['UTF-8']}\n"
   ]
  },
  {
   "cell_type": "code",
   "execution_count": 374,
   "metadata": {},
   "outputs": [],
   "source": [
    "resp = download(url=url, params = params, headers=header, method='GET')"
   ]
  },
  {
   "cell_type": "code",
   "execution_count": 375,
   "metadata": {},
   "outputs": [
    {
     "data": {
      "text/plain": [
       "'https://www.google.com/search?q=%ED%8C%8C%EC%9D%B4%EC%8D%AC&https%3A%2F%2Fwww.google.com%2Fsearch%3Fq=%ED%8C%8C%EC%9D%B4%EC%8D%AC&rlz=1C1CHBD_koKR917KR917&oq=%ED%8C%8C%EC%9D%B4%EC%8D%AC&aqs=chrome.0.69i59j35i39j0i433l4j69i61l2.2258j0j7&sourceid=chrome&ie=UTF-8'"
      ]
     },
     "execution_count": 375,
     "metadata": {},
     "output_type": "execute_result"
    }
   ],
   "source": [
    "resp.request.url"
   ]
  },
  {
   "cell_type": "code",
   "execution_count": 384,
   "metadata": {
    "scrolled": true
   },
   "outputs": [
    {
     "data": {
      "text/plain": [
       "['파이썬 - 위키백과, 우리 모두의 백과사전',\n",
       " '파이썬 자습서 — Python 3.9.6 문서',\n",
       " 'Python - 나무위키',\n",
       " '1 파이썬 시작하기 - 왕초보를 위한 Python: 쉽게 풀어 쓴 기초 ...',\n",
       " 'Python - 파이썬이란? - 코딩의 시작, TCP School',\n",
       " 'Python - 파이썬 개요 - 코딩의 시작, TCP School',\n",
       " '모두를 위한 프로그래밍 : 파이썬 강좌소개 : edwith',\n",
       " '1 장 파이썬(Python) 입문 | 파이썬 프로그래밍 기초']"
      ]
     },
     "execution_count": 384,
     "metadata": {},
     "output_type": "execute_result"
    }
   ],
   "source": [
    "import re\n",
    "# class=\"LC20lb DKV0Md\"\n",
    "\n",
    "re.findall(r'<h3 class=\"LC20lb DKV0Md\">(.+?)</h3>', resp.text)"
   ]
  },
  {
   "cell_type": "code",
   "execution_count": 383,
   "metadata": {},
   "outputs": [],
   "source": [
    "##class=\"yuRUbf\""
   ]
  },
  {
   "cell_type": "code",
   "execution_count": 387,
   "metadata": {},
   "outputs": [
    {
     "name": "stdout",
     "output_type": "stream",
     "text": [
      "1 https://ko.wikipedia.org/wiki/%ED%8C%8C%EC%9D%B4%EC%8D%AC\n",
      "2 https://docs.python.org/ko/3/tutorial/index.html\n",
      "3 https://namu.wiki/w/Python\n",
      "4 https://wikidocs.net/43\n",
      "5 http://tcpschool.com/python/intro\n",
      "6 http://tcpschool.com/python2018/intro\n",
      "7 https://www.edwith.org/pythonforeverybody\n",
      "8 http://bigdata.dongguk.ac.kr/lectures/Python/_book/%ED%8C%8C%EC%9D%B4%EC%8D%AC%EC%9E%85%EB%AC%B8.html\n"
     ]
    }
   ],
   "source": [
    "for i,k in enumerate(re.findall(r'<div class=\"yuRUbf\"><a href=\"(.+?)\"', resp.text)):\n",
    "    print(i+1, k)"
   ]
  },
  {
   "cell_type": "code",
   "execution_count": 415,
   "metadata": {},
   "outputs": [],
   "source": [
    "url = 'https://search.naver.com/search.naver'"
   ]
  },
  {
   "cell_type": "code",
   "execution_count": 416,
   "metadata": {},
   "outputs": [
    {
     "data": {
      "text/plain": [
       "{'https://search.naver.com/search.naver?where': ['nexearch'],\n",
       " 'sm': ['top_hty'],\n",
       " 'fbm': ['1'],\n",
       " 'ie': ['utf8'],\n",
       " 'query': ['통영여행']}"
      ]
     },
     "execution_count": 416,
     "metadata": {},
     "output_type": "execute_result"
    }
   ],
   "source": [
    "parse.parse_qs('https://search.naver.com/search.naver?where=nexearch&sm=top_hty&fbm=1&ie=utf8&query=%ED%86%B5%EC%98%81%EC%97%AC%ED%96%89')"
   ]
  },
  {
   "cell_type": "code",
   "execution_count": 417,
   "metadata": {},
   "outputs": [],
   "source": [
    "params={'where': ['nexearch'],\n",
    " 'sm': ['top_hty'],\n",
    " 'fbm': ['1'],\n",
    " 'ie': ['utf8'],\n",
    " 'query': ['통영여행']}\n",
    "\n",
    "params['query']='통영여행'\n"
   ]
  },
  {
   "cell_type": "code",
   "execution_count": 418,
   "metadata": {},
   "outputs": [],
   "source": [
    "resp = download(url=url, params = params, headers=header, method='GET')"
   ]
  },
  {
   "cell_type": "markdown",
   "metadata": {},
   "source": [
    "## Img Download"
   ]
  },
  {
   "cell_type": "code",
   "execution_count": null,
   "metadata": {},
   "outputs": [],
   "source": [
    "https://comic.naver.com/webtoon/detail?titleId=740132&no=48&weekday=mon ## webtoon 페이지"
   ]
  },
  {
   "cell_type": "code",
   "execution_count": 426,
   "metadata": {},
   "outputs": [],
   "source": [
    "url = \"https://comic.naver.com/webtoon/detail\"  "
   ]
  },
  {
   "cell_type": "code",
   "execution_count": 427,
   "metadata": {},
   "outputs": [
    {
     "data": {
      "text/plain": [
       "{'https://comic.naver.com/webtoon/detail?titleId': ['740132'],\n",
       " 'no': ['48'],\n",
       " 'weekday': ['mon']}"
      ]
     },
     "execution_count": 427,
     "metadata": {},
     "output_type": "execute_result"
    }
   ],
   "source": [
    "parse.parse_qs('https://comic.naver.com/webtoon/detail?titleId=740132&no=48&weekday=mon') ## 페이지 파라미터 구하기"
   ]
  },
  {
   "cell_type": "code",
   "execution_count": 434,
   "metadata": {},
   "outputs": [],
   "source": [
    "params = {\n",
    "    'titleId': 740132,\n",
    "    'no': 48,\n",
    "    'weekday': 'mon'\n",
    "}"
   ]
  },
  {
   "cell_type": "code",
   "execution_count": 435,
   "metadata": {},
   "outputs": [],
   "source": [
    "resp = download(url, params, header, 'GET')  "
   ]
  },
  {
   "cell_type": "code",
   "execution_count": 439,
   "metadata": {},
   "outputs": [
    {
     "data": {
      "text/plain": [
       "(200, '')"
      ]
     },
     "execution_count": 439,
     "metadata": {},
     "output_type": "execute_result"
    }
   ],
   "source": [
    "resp.status_code, resp.reason"
   ]
  },
  {
   "cell_type": "code",
   "execution_count": null,
   "metadata": {},
   "outputs": [],
   "source": [
    "<img src=\"https://image-comic.pstatic.net/webtoon/740132/48/20210623164034_b240524a9e528c08fbf8b71cf413a21d_IMAG01_1.jpg\" title=\"\" alt=\"comic content\" id=\"content_image_0\" onerror=\"this.src='https://ssl.pstatic.net/static/comic/images/migration/common/blank.gif'\" onload=\"loadImageEvent(this);\" oncontextmenu=\"return false\" ondragstart=\"return false\" onselectstart=\"return false\" class=\"\">\n",
    "\n",
    "## 개발자 도구를 키고 웹툰 페이지에서 이미지 소스코드 불러오기"
   ]
  },
  {
   "cell_type": "code",
   "execution_count": 443,
   "metadata": {},
   "outputs": [],
   "source": [
    "img_list = re.findall(r'<img src=\"(.+?)\" title=\"\" alt=\"comic content\"', resp.text)"
   ]
  },
  {
   "cell_type": "code",
   "execution_count": 445,
   "metadata": {},
   "outputs": [
    {
     "data": {
      "text/plain": [
       "40"
      ]
     },
     "execution_count": 445,
     "metadata": {},
     "output_type": "execute_result"
    }
   ],
   "source": [
    "len(img_list)"
   ]
  },
  {
   "cell_type": "code",
   "execution_count": 450,
   "metadata": {},
   "outputs": [
    {
     "name": "stdout",
     "output_type": "stream",
     "text": [
      "1 https://image-comic.pstatic.net/webtoon/740132/48/20210623164034_b240524a9e528c08fbf8b71cf413a21d_IMAG01_1.jpg\n",
      "2 https://image-comic.pstatic.net/webtoon/740132/48/20210623164034_b240524a9e528c08fbf8b71cf413a21d_IMAG01_2.jpg\n",
      "3 https://image-comic.pstatic.net/webtoon/740132/48/20210623164034_b240524a9e528c08fbf8b71cf413a21d_IMAG01_3.jpg\n",
      "4 https://image-comic.pstatic.net/webtoon/740132/48/20210623164034_b240524a9e528c08fbf8b71cf413a21d_IMAG01_4.jpg\n",
      "5 https://image-comic.pstatic.net/webtoon/740132/48/20210623164034_b240524a9e528c08fbf8b71cf413a21d_IMAG01_5.jpg\n",
      "6 https://image-comic.pstatic.net/webtoon/740132/48/20210623164034_b240524a9e528c08fbf8b71cf413a21d_IMAG01_6.jpg\n",
      "7 https://image-comic.pstatic.net/webtoon/740132/48/20210623164034_b240524a9e528c08fbf8b71cf413a21d_IMAG01_7.jpg\n",
      "8 https://image-comic.pstatic.net/webtoon/740132/48/20210623164034_b240524a9e528c08fbf8b71cf413a21d_IMAG01_8.jpg\n",
      "9 https://image-comic.pstatic.net/webtoon/740132/48/20210623164034_b240524a9e528c08fbf8b71cf413a21d_IMAG01_9.jpg\n",
      "10 https://image-comic.pstatic.net/webtoon/740132/48/20210623164034_b240524a9e528c08fbf8b71cf413a21d_IMAG01_10.jpg\n",
      "11 https://image-comic.pstatic.net/webtoon/740132/48/20210623164034_b240524a9e528c08fbf8b71cf413a21d_IMAG01_11.jpg\n",
      "12 https://image-comic.pstatic.net/webtoon/740132/48/20210623164034_b240524a9e528c08fbf8b71cf413a21d_IMAG01_12.jpg\n",
      "13 https://image-comic.pstatic.net/webtoon/740132/48/20210623164034_b240524a9e528c08fbf8b71cf413a21d_IMAG01_13.jpg\n",
      "14 https://image-comic.pstatic.net/webtoon/740132/48/20210623164034_b240524a9e528c08fbf8b71cf413a21d_IMAG01_14.jpg\n",
      "15 https://image-comic.pstatic.net/webtoon/740132/48/20210623164034_b240524a9e528c08fbf8b71cf413a21d_IMAG01_15.jpg\n",
      "16 https://image-comic.pstatic.net/webtoon/740132/48/20210623164034_b240524a9e528c08fbf8b71cf413a21d_IMAG01_16.jpg\n",
      "17 https://image-comic.pstatic.net/webtoon/740132/48/20210623164034_b240524a9e528c08fbf8b71cf413a21d_IMAG01_17.jpg\n",
      "18 https://image-comic.pstatic.net/webtoon/740132/48/20210623164034_b240524a9e528c08fbf8b71cf413a21d_IMAG01_18.jpg\n",
      "19 https://image-comic.pstatic.net/webtoon/740132/48/20210623164034_b240524a9e528c08fbf8b71cf413a21d_IMAG01_19.jpg\n",
      "20 https://image-comic.pstatic.net/webtoon/740132/48/20210623164034_b240524a9e528c08fbf8b71cf413a21d_IMAG01_20.jpg\n",
      "21 https://image-comic.pstatic.net/webtoon/740132/48/20210623164034_b240524a9e528c08fbf8b71cf413a21d_IMAG01_21.jpg\n",
      "22 https://image-comic.pstatic.net/webtoon/740132/48/20210623164034_b240524a9e528c08fbf8b71cf413a21d_IMAG01_22.jpg\n",
      "23 https://image-comic.pstatic.net/webtoon/740132/48/20210623164034_b240524a9e528c08fbf8b71cf413a21d_IMAG01_23.jpg\n",
      "24 https://image-comic.pstatic.net/webtoon/740132/48/20210623164034_b240524a9e528c08fbf8b71cf413a21d_IMAG01_24.jpg\n",
      "25 https://image-comic.pstatic.net/webtoon/740132/48/20210623164034_b240524a9e528c08fbf8b71cf413a21d_IMAG01_25.jpg\n",
      "26 https://image-comic.pstatic.net/webtoon/740132/48/20210623164034_b240524a9e528c08fbf8b71cf413a21d_IMAG01_26.jpg\n",
      "27 https://image-comic.pstatic.net/webtoon/740132/48/20210623164034_b240524a9e528c08fbf8b71cf413a21d_IMAG01_27.jpg\n",
      "28 https://image-comic.pstatic.net/webtoon/740132/48/20210623164034_b240524a9e528c08fbf8b71cf413a21d_IMAG01_28.jpg\n",
      "29 https://image-comic.pstatic.net/webtoon/740132/48/20210623164034_b240524a9e528c08fbf8b71cf413a21d_IMAG01_29.jpg\n",
      "30 https://image-comic.pstatic.net/webtoon/740132/48/20210623164034_b240524a9e528c08fbf8b71cf413a21d_IMAG01_30.jpg\n",
      "31 https://image-comic.pstatic.net/webtoon/740132/48/20210623164034_b240524a9e528c08fbf8b71cf413a21d_IMAG01_31.jpg\n",
      "32 https://image-comic.pstatic.net/webtoon/740132/48/20210623164034_b240524a9e528c08fbf8b71cf413a21d_IMAG01_32.jpg\n",
      "33 https://image-comic.pstatic.net/webtoon/740132/48/20210623164034_b240524a9e528c08fbf8b71cf413a21d_IMAG01_33.jpg\n",
      "34 https://image-comic.pstatic.net/webtoon/740132/48/20210623164034_b240524a9e528c08fbf8b71cf413a21d_IMAG01_34.jpg\n",
      "35 https://image-comic.pstatic.net/webtoon/740132/48/20210623164034_b240524a9e528c08fbf8b71cf413a21d_IMAG01_35.jpg\n",
      "36 https://image-comic.pstatic.net/webtoon/740132/48/20210623164034_b240524a9e528c08fbf8b71cf413a21d_IMAG01_36.jpg\n",
      "37 https://image-comic.pstatic.net/webtoon/740132/48/20210623164034_b240524a9e528c08fbf8b71cf413a21d_IMAG01_37.jpg\n",
      "38 https://image-comic.pstatic.net/webtoon/740132/48/20210623164034_b240524a9e528c08fbf8b71cf413a21d_IMAG01_38.jpg\n",
      "39 https://image-comic.pstatic.net/webtoon/740132/48/20210623164034_b240524a9e528c08fbf8b71cf413a21d_IMAG01_39.jpg\n",
      "40 https://image-comic.pstatic.net/webtoon/740132/48/20210623164034_b240524a9e528c08fbf8b71cf413a21d_IMAG01_40.jpg\n"
     ]
    }
   ],
   "source": [
    "for i, k in enumerate(img_list):\n",
    "    print(i+1, k)"
   ]
  },
  {
   "cell_type": "code",
   "execution_count": 456,
   "metadata": {
    "scrolled": true
   },
   "outputs": [
    {
     "data": {
      "text/plain": [
       "{'Date': 'Wed, 07 Jul 2021 07:15:33 GMT', 'Server': 'nginx', 'Content-Type': 'image/jpeg', 'Content-Length': '139873', 'Last-Modified': 'Wed, 23 Jun 2021 07:40:11 GMT', 'ETag': '\"60d2e55b-22261\"', 'Cache-Control': 'max-age=2592000', 'Accept-Ranges': 'bytes', 'Age': '233555', 'Expires': 'Tue, 03 Aug 2021 14:23:00 GMT'}"
      ]
     },
     "execution_count": 456,
     "metadata": {},
     "output_type": "execute_result"
    }
   ],
   "source": [
    "resp.headers ## 서버에 대한 내용"
   ]
  },
  {
   "cell_type": "code",
   "execution_count": 466,
   "metadata": {},
   "outputs": [
    {
     "data": {
      "text/plain": [
       "'https://image-comic.pstatic.net/webtoon/740132/48/20210623164034_b240524a9e528c08fbf8b71cf413a21d_IMAG01_1.jpg'"
      ]
     },
     "execution_count": 466,
     "metadata": {},
     "output_type": "execute_result"
    }
   ],
   "source": [
    "resp.request.url"
   ]
  },
  {
   "cell_type": "code",
   "execution_count": 464,
   "metadata": {},
   "outputs": [],
   "source": [
    "img_name = resp.request.url.split('/')[-1].split('.')[0]"
   ]
  },
  {
   "cell_type": "code",
   "execution_count": 465,
   "metadata": {},
   "outputs": [
    {
     "data": {
      "text/plain": [
       "'20210623164034_b240524a9e528c08fbf8b71cf413a21d_IMAG01_1'"
      ]
     },
     "execution_count": 465,
     "metadata": {},
     "output_type": "execute_result"
    }
   ],
   "source": [
    "img_name"
   ]
  },
  {
   "cell_type": "code",
   "execution_count": 470,
   "metadata": {},
   "outputs": [],
   "source": [
    "for img in img_list:\n",
    "    resp = download(img, {}, header, 'GET')\n",
    "    ctype, cext = resp.headers['Content-Type'].split('/')\n",
    "    \n",
    "    if ctype=='image':\n",
    "        if cext in ['jpg', 'jpeg', 'png']:\n",
    "            img_name = resp.request.url.split('/')[-1].split('.')[0]\n",
    "            with open(img_name+'.'+cext, 'wb') as fp:\n",
    "                fp.write(resp.content)\n",
    "                \n",
    "    break ## break 지워줄경우 for loop돌면서 전체 이미지 저장\n",
    "    "
   ]
  },
  {
   "cell_type": "markdown",
   "metadata": {},
   "source": [
    "- img download "
   ]
  },
  {
   "cell_type": "markdown",
   "metadata": {},
   "source": [
    "## Crawler\n",
    "- Scrapy vs BeautifulSoup"
   ]
  },
  {
   "cell_type": "code",
   "execution_count": 1,
   "metadata": {},
   "outputs": [],
   "source": [
    "from bs4 import BeautifulSoup"
   ]
  },
  {
   "cell_type": "code",
   "execution_count": 478,
   "metadata": {},
   "outputs": [],
   "source": [
    "import scrapy"
   ]
  },
  {
   "cell_type": "code",
   "execution_count": 481,
   "metadata": {},
   "outputs": [
    {
     "data": {
      "text/plain": [
       "'2.5.0'"
      ]
     },
     "execution_count": 481,
     "metadata": {},
     "output_type": "execute_result"
    }
   ],
   "source": [
    "scrapy.__version__"
   ]
  },
  {
   "cell_type": "code",
   "execution_count": 486,
   "metadata": {},
   "outputs": [],
   "source": [
    "html='''\n",
    "<html>\n",
    "    <head></head>\n",
    "        \n",
    "    <body>\n",
    "        <ul>\n",
    "            <li><p> 내용1 </p></li>\n",
    "            <li><p> 내용2 </p></li>\n",
    "            <li><p> 내용3 </p></li>\n",
    "            <li><p> 내용4 </p></li>  \n",
    "        </ul>  \n",
    "    </body>\n",
    "</html>\n",
    "\n",
    "'''"
   ]
  },
  {
   "cell_type": "code",
   "execution_count": 491,
   "metadata": {},
   "outputs": [
    {
     "name": "stdout",
     "output_type": "stream",
     "text": [
      "Wall time: 997 µs\n"
     ]
    },
    {
     "data": {
      "text/plain": [
       "\n",
       "<html>\n",
       "<head></head>\n",
       "<body>\n",
       "<ul>\n",
       "<li><p> 내용1 </p></li>\n",
       "<li><p> 내용2 </p></li>\n",
       "<li><p> 내용3 </p></li>\n",
       "<li><p> 내용4 </p></li>\n",
       "</ul>\n",
       "</body>\n",
       "</html>"
      ]
     },
     "execution_count": 491,
     "metadata": {},
     "output_type": "execute_result"
    }
   ],
   "source": [
    "%%time\n",
    "\n",
    "BeautifulSoup(html, 'html.parser')"
   ]
  },
  {
   "cell_type": "code",
   "execution_count": 492,
   "metadata": {},
   "outputs": [
    {
     "name": "stdout",
     "output_type": "stream",
     "text": [
      "Wall time: 998 µs\n"
     ]
    },
    {
     "data": {
      "text/plain": [
       "<html>\n",
       "<head></head>\n",
       "<body>\n",
       "<ul>\n",
       "<li><p> 내용1 </p></li>\n",
       "<li><p> 내용2 </p></li>\n",
       "<li><p> 내용3 </p></li>\n",
       "<li><p> 내용4 </p></li>\n",
       "</ul>\n",
       "</body>\n",
       "</html>"
      ]
     },
     "execution_count": 492,
     "metadata": {},
     "output_type": "execute_result"
    }
   ],
   "source": [
    "%%time\n",
    "BeautifulSoup(html, 'lxml')"
   ]
  },
  {
   "cell_type": "code",
   "execution_count": 493,
   "metadata": {},
   "outputs": [
    {
     "name": "stdout",
     "output_type": "stream",
     "text": [
      "Wall time: 998 µs\n"
     ]
    },
    {
     "data": {
      "text/plain": [
       "<html><head></head>\n",
       "        \n",
       "    <body>\n",
       "        <ul>\n",
       "            <li><p> 내용1 </p></li>\n",
       "            <li><p> 내용2 </p></li>\n",
       "            <li><p> 내용3 </p></li>\n",
       "            <li><p> 내용4 </p></li>  \n",
       "        </ul>  \n",
       "    \n",
       "\n",
       "\n",
       "</body></html>"
      ]
     },
     "execution_count": 493,
     "metadata": {},
     "output_type": "execute_result"
    }
   ],
   "source": [
    "%%time\n",
    "BeautifulSoup(html, 'html5lib')"
   ]
  },
  {
   "cell_type": "code",
   "execution_count": 494,
   "metadata": {},
   "outputs": [],
   "source": [
    "dom=BeautifulSoup(html, 'html.parser')"
   ]
  },
  {
   "cell_type": "code",
   "execution_count": 495,
   "metadata": {},
   "outputs": [
    {
     "data": {
      "text/plain": [
       "bs4.BeautifulSoup"
      ]
     },
     "execution_count": 495,
     "metadata": {},
     "output_type": "execute_result"
    }
   ],
   "source": [
    "type(dom)"
   ]
  },
  {
   "cell_type": "code",
   "execution_count": 502,
   "metadata": {},
   "outputs": [
    {
     "data": {
      "text/plain": [
       "<body>\n",
       "<ul>\n",
       "<li><p> 내용1 </p></li>\n",
       "<li><p> 내용2 </p></li>\n",
       "<li><p> 내용3 </p></li>\n",
       "<li><p> 내용4 </p></li>\n",
       "</ul>\n",
       "</body>"
      ]
     },
     "execution_count": 502,
     "metadata": {},
     "output_type": "execute_result"
    }
   ],
   "source": [
    "dom.html.body"
   ]
  },
  {
   "cell_type": "code",
   "execution_count": 503,
   "metadata": {},
   "outputs": [],
   "source": [
    "html='''\n",
    "<html>\n",
    "    <head></head>\n",
    "        \n",
    "    <body>\n",
    "        <ul>\n",
    "            <li><p width=123> 내용1 </p></li>\n",
    "            <li><p> 내용2 </p></li>\n",
    "            <li><p> 내용3 </p></li>\n",
    "            <li><p> 내용4 </p></li>  \n",
    "        </ul>  \n",
    "    </body>\n",
    "</html>\n",
    "\n",
    "'''"
   ]
  },
  {
   "cell_type": "code",
   "execution_count": 510,
   "metadata": {},
   "outputs": [],
   "source": [
    "dom=BeautifulSoup(html, 'html.parser') ## dom tree를 따라서 내가 원하는 tag를 찾아내야함"
   ]
  },
  {
   "cell_type": "code",
   "execution_count": 511,
   "metadata": {},
   "outputs": [
    {
     "data": {
      "text/plain": [
       "{'width': '123'}"
      ]
     },
     "execution_count": 511,
     "metadata": {},
     "output_type": "execute_result"
    }
   ],
   "source": [
    "dom.html.p.attrs"
   ]
  },
  {
   "cell_type": "code",
   "execution_count": 516,
   "metadata": {},
   "outputs": [
    {
     "data": {
      "text/plain": [
       "(NoneType, None)"
      ]
     },
     "execution_count": 516,
     "metadata": {},
     "output_type": "execute_result"
    }
   ],
   "source": [
    "type(dom.a), dom.a"
   ]
  },
  {
   "cell_type": "code",
   "execution_count": 531,
   "metadata": {},
   "outputs": [],
   "source": [
    "html='''\n",
    "<html>\n",
    "    <head></head>\n",
    "        \n",
    "    <body>\n",
    "        <ul>\n",
    "            <li><a href=link1.html> 내용1 </a></li>\n",
    "            <li><a href=link2.html> 내용2 </a></li>\n",
    "            <li><a href=link3.html> 내용3 </a></li>\n",
    "            <li><a href=link4.html> 내용4 </a></li>  \n",
    "        </ul>  \n",
    "    </body>\n",
    "</html>\n",
    "\n",
    "'''"
   ]
  },
  {
   "cell_type": "code",
   "execution_count": 532,
   "metadata": {},
   "outputs": [],
   "source": [
    "dom=BeautifulSoup(html, 'html.parser') ## dom tree를 따라서 내가 원하는 tag를 찾아내야함"
   ]
  },
  {
   "cell_type": "code",
   "execution_count": 533,
   "metadata": {},
   "outputs": [
    {
     "data": {
      "text/plain": [
       "[<a href=\"link1.html\"> 내용1 </a>,\n",
       " <a href=\"link2.html\"> 내용2 </a>,\n",
       " <a href=\"link3.html\"> 내용3 </a>,\n",
       " <a href=\"link4.html\"> 내용4 </a>]"
      ]
     },
     "execution_count": 533,
     "metadata": {},
     "output_type": "execute_result"
    }
   ],
   "source": [
    "dom.find_all('a')"
   ]
  },
  {
   "cell_type": "code",
   "execution_count": 534,
   "metadata": {},
   "outputs": [
    {
     "data": {
      "text/plain": [
       "<a href=\"link1.html\"> 내용1 </a>"
      ]
     },
     "execution_count": 534,
     "metadata": {},
     "output_type": "execute_result"
    }
   ],
   "source": [
    "dom.find('a')"
   ]
  },
  {
   "cell_type": "code",
   "execution_count": 536,
   "metadata": {},
   "outputs": [
    {
     "data": {
      "text/plain": [
       "[<a href=\"link1.html\"> 내용1 </a>]"
      ]
     },
     "execution_count": 536,
     "metadata": {},
     "output_type": "execute_result"
    }
   ],
   "source": [
    "dom.find_all(attrs={'href':'link1.html'})"
   ]
  },
  {
   "cell_type": "code",
   "execution_count": 538,
   "metadata": {},
   "outputs": [],
   "source": [
    "dom.find('a', recursive=False) ## 자식 요소에 a가 없기 땜에 못찾는다"
   ]
  },
  {
   "cell_type": "code",
   "execution_count": 540,
   "metadata": {},
   "outputs": [
    {
     "data": {
      "text/plain": [
       "' 내용1 '"
      ]
     },
     "execution_count": 540,
     "metadata": {},
     "output_type": "execute_result"
    }
   ],
   "source": [
    "dom.find(text=' 내용1 ')"
   ]
  },
  {
   "cell_type": "code",
   "execution_count": 547,
   "metadata": {},
   "outputs": [
    {
     "data": {
      "text/plain": [
       "[<a href=\"link1.html\"> 내용1 </a>, <a href=\"link2.html\"> 내용2 </a>]"
      ]
     },
     "execution_count": 547,
     "metadata": {},
     "output_type": "execute_result"
    }
   ],
   "source": [
    "dom.find_all('a', limit=2)"
   ]
  },
  {
   "cell_type": "code",
   "execution_count": 548,
   "metadata": {},
   "outputs": [
    {
     "data": {
      "text/plain": [
       "[' 내용1 ', ' 내용2 ', ' 내용3 ', ' 내용4 ']"
      ]
     },
     "execution_count": 548,
     "metadata": {},
     "output_type": "execute_result"
    }
   ],
   "source": [
    "dom.find_all(text=re.compile('내용'))"
   ]
  },
  {
   "cell_type": "markdown",
   "metadata": {},
   "source": [
    "- find, find_all = > 자식(자손 = recursice) 탐색"
   ]
  },
  {
   "cell_type": "code",
   "execution_count": 553,
   "metadata": {},
   "outputs": [
    {
     "data": {
      "text/plain": [
       "5"
      ]
     },
     "execution_count": 553,
     "metadata": {},
     "output_type": "execute_result"
    }
   ],
   "source": [
    "len(dom.a.find_parents())"
   ]
  },
  {
   "cell_type": "code",
   "execution_count": 556,
   "metadata": {},
   "outputs": [
    {
     "data": {
      "text/plain": [
       "[<li><a href=\"link2.html\"> 내용2 </a></li>,\n",
       " <li><a href=\"link3.html\"> 내용3 </a></li>,\n",
       " <li><a href=\"link4.html\"> 내용4 </a></li>]"
      ]
     },
     "execution_count": 556,
     "metadata": {},
     "output_type": "execute_result"
    }
   ],
   "source": [
    "dom.li.find_next_siblings()"
   ]
  },
  {
   "cell_type": "code",
   "execution_count": 560,
   "metadata": {},
   "outputs": [
    {
     "data": {
      "text/plain": [
       "[<li><a href=\"link3.html\"> 내용3 </a></li>,\n",
       " <li><a href=\"link2.html\"> 내용2 </a></li>,\n",
       " <li><a href=\"link1.html\"> 내용1 </a></li>]"
      ]
     },
     "execution_count": 560,
     "metadata": {},
     "output_type": "execute_result"
    }
   ],
   "source": [
    "dom.find_all('li')[-1].find_previous_siblings()"
   ]
  },
  {
   "cell_type": "code",
   "execution_count": 9,
   "metadata": {},
   "outputs": [],
   "source": [
    "url='https://www.pythonscraping.com/pages/page3.html'"
   ]
  },
  {
   "cell_type": "code",
   "execution_count": 10,
   "metadata": {},
   "outputs": [],
   "source": [
    "resp = download(url)"
   ]
  },
  {
   "cell_type": "markdown",
   "metadata": {},
   "source": [
    "- parser종류에 따라서 출력결과가 달라진다"
   ]
  },
  {
   "cell_type": "code",
   "execution_count": 22,
   "metadata": {
    "scrolled": true
   },
   "outputs": [
    {
     "data": {
      "text/plain": [
       "'OK'"
      ]
     },
     "execution_count": 22,
     "metadata": {},
     "output_type": "execute_result"
    }
   ],
   "source": [
    "resp.reason"
   ]
  },
  {
   "cell_type": "code",
   "execution_count": 12,
   "metadata": {},
   "outputs": [],
   "source": [
    "dom = BeautifulSoup(resp.text, 'html5lib')"
   ]
  },
  {
   "cell_type": "code",
   "execution_count": 17,
   "metadata": {},
   "outputs": [],
   "source": [
    "base = dom.find_all(attrs={'id':'footer'})"
   ]
  },
  {
   "cell_type": "code",
   "execution_count": 18,
   "metadata": {},
   "outputs": [
    {
     "data": {
      "text/plain": [
       "[<div id=\"footer\">\n",
       " © Totally Normal Gifts, Inc. <br/>\n",
       " +234 (617) 863-0736\n",
       " </div>]"
      ]
     },
     "execution_count": 18,
     "metadata": {},
     "output_type": "execute_result"
    }
   ],
   "source": [
    "base"
   ]
  },
  {
   "cell_type": "code",
   "execution_count": 630,
   "metadata": {},
   "outputs": [
    {
     "data": {
      "text/plain": [
       "['div', 'body', 'html', '[document]']"
      ]
     },
     "execution_count": 630,
     "metadata": {},
     "output_type": "execute_result"
    }
   ],
   "source": [
    "[i.name for i in base.find_parents()]"
   ]
  },
  {
   "cell_type": "code",
   "execution_count": 49,
   "metadata": {
    "scrolled": true
   },
   "outputs": [
    {
     "name": "stdout",
     "output_type": "stream",
     "text": [
      "\n",
      "\n",
      "<tbody><tr><th>\n",
      "Item Title\n",
      "</th><th>\n",
      "Description\n",
      "</th><th>\n",
      "Cost\n",
      "</th><th>\n",
      "Image\n",
      "</th></tr>\n",
      "\n",
      "<tr class=\"gift\" id=\"gift1\"><td>\n",
      "Vegetable Basket\n",
      "</td><td>\n",
      "This vegetable basket is the perfect gift for your health conscious (or overweight) friends!\n",
      "<span class=\"excitingNote\">Now with super-colorful bell peppers!</span>\n",
      "</td><td>\n",
      "$15.00\n",
      "</td><td>\n",
      "<img src=\"../img/gifts/img1.jpg\"/>\n",
      "</td></tr>\n",
      "\n",
      "<tr class=\"gift\" id=\"gift2\"><td>\n",
      "Russian Nesting Dolls\n",
      "</td><td>\n",
      "Hand-painted by trained monkeys, these exquisite dolls are priceless! And by \"priceless,\" we mean \"extremely expensive\"! <span class=\"excitingNote\">8 entire dolls per set! Octuple the presents!</span>\n",
      "</td><td>\n",
      "$10,000.52\n",
      "</td><td>\n",
      "<img src=\"../img/gifts/img2.jpg\"/>\n",
      "</td></tr>\n",
      "\n",
      "<tr class=\"gift\" id=\"gift3\"><td>\n",
      "Fish Painting\n",
      "</td><td>\n",
      "If something seems fishy about this painting, it's because it's a fish! <span class=\"excitingNote\">Also hand-painted by trained monkeys!</span>\n",
      "</td><td>\n",
      "$10,005.00\n",
      "</td><td>\n",
      "<img src=\"../img/gifts/img3.jpg\"/>\n",
      "</td></tr>\n",
      "\n",
      "<tr class=\"gift\" id=\"gift4\"><td>\n",
      "Dead Parrot\n",
      "</td><td>\n",
      "This is an ex-parrot! <span class=\"excitingNote\">Or maybe he's only resting?</span>\n",
      "</td><td>\n",
      "$0.50\n",
      "</td><td>\n",
      "<img src=\"../img/gifts/img4.jpg\"/>\n",
      "</td></tr>\n",
      "\n",
      "<tr class=\"gift\" id=\"gift5\"><td>\n",
      "Mystery Box\n",
      "</td><td>\n",
      "If you love suprises, this mystery box is for you! Do not place on light-colored surfaces. May cause oil staining. <span class=\"excitingNote\">Keep your friends guessing!</span>\n",
      "</td><td>\n",
      "$1.50\n",
      "</td><td>\n",
      "<img src=\"../img/gifts/img6.jpg\"/>\n",
      "</td></tr>\n",
      "</tbody>\n"
     ]
    }
   ],
   "source": [
    "for i in dom.find('table'):\n",
    "    print(i)"
   ]
  },
  {
   "cell_type": "code",
   "execution_count": 48,
   "metadata": {},
   "outputs": [
    {
     "name": "stdout",
     "output_type": "stream",
     "text": [
      "$15.00\n"
     ]
    }
   ],
   "source": [
    "for i in dom.find('table').find_all(recursive=False):\n",
    "    \n",
    "    if i.find('td'):\n",
    "        print(i.find_all('td')[2].text.strip())\n",
    "        \n",
    "    else:\n",
    "        print(i.find('th').text.strip())"
   ]
  },
  {
   "cell_type": "code",
   "execution_count": 625,
   "metadata": {},
   "outputs": [
    {
     "name": "stdout",
     "output_type": "stream",
     "text": [
      "../img/gifts/img6.jpg\n",
      "https://www.pythonscraping.com/img/gifts/img6.jpg\n"
     ]
    }
   ],
   "source": [
    "for _ in dom.find('table').find_all(recursive=False):\n",
    "    if _.find('td'):\n",
    "        print(_.find_all('td')[-1].find('img').attrs['src'])\n",
    "        print(urljoin(resp.request.url, _.find_all('td')[-1].find('img').attrs['src']))\n",
    "        \n",
    "    else:\n",
    "        print(_.find_all('th')[-1].text.strip())"
   ]
  }
 ],
 "metadata": {
  "kernelspec": {
   "display_name": "Python 3",
   "language": "python",
   "name": "python3"
  },
  "language_info": {
   "codemirror_mode": {
    "name": "ipython",
    "version": 3
   },
   "file_extension": ".py",
   "mimetype": "text/x-python",
   "name": "python",
   "nbconvert_exporter": "python",
   "pygments_lexer": "ipython3",
   "version": "3.8.3"
  }
 },
 "nbformat": 4,
 "nbformat_minor": 4
}
