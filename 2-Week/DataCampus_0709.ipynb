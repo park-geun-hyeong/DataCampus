{
 "cells": [
  {
   "cell_type": "markdown",
   "metadata": {},
   "source": [
    "## Library import & define Func (for Crawling)"
   ]
  },
  {
   "cell_type": "code",
   "execution_count": 284,
   "metadata": {},
   "outputs": [],
   "source": [
    "import sqlite3\n",
    "import sqlalchemy\n",
    "\n",
    "from requests import request, HTTPError\n",
    "from requests.compat import urljoin, urlparse, quote, unquote\n",
    "from time import sleep\n",
    "import re\n",
    "from urllib import parse\n",
    "\n",
    "from requests.sessions import Session\n",
    "import warnings\n",
    "warnings.filterwarnings('ignore')"
   ]
  },
  {
   "cell_type": "code",
   "execution_count": 2,
   "metadata": {},
   "outputs": [],
   "source": [
    "headers = {'user-agent':'Mozilla/5.0 (Windows NT 10.0; Win64; x64) AppleWebKit/537.36 (KHTML, like Gecko) Chrome/91.0.4472.124 Safari/537.36'}"
   ]
  },
  {
   "cell_type": "code",
   "execution_count": 75,
   "metadata": {},
   "outputs": [],
   "source": [
    "def download(url, params={}, headers={}, method='GET', maximum=1): ## maxmum은 유한적인 loop를 위하여 필요\n",
    "    \n",
    "    resp = request(url = url,\n",
    "                   params = params if method=='GET' else {},\n",
    "                   data = params if method=='POST' else {},\n",
    "                   headers = headers,\n",
    "                   method = method)\n",
    "    \n",
    "    try:\n",
    "        resp.raise_for_status()  # 200 OK 코드가 아닌 경우 에러 발동\n",
    "    except HTTPError as e:\n",
    "        if 500 <= e.response.status_code<600 and maximum > 0:\n",
    "            print(\"RETRY\")\n",
    "            sleep(1)\n",
    "            resp = download(url, paramas, headers, method, maximum-1)\n",
    "        else:    \n",
    "            print(e)\n",
    "    \n",
    "    \n",
    "    \n",
    "    return resp    "
   ]
  },
  {
   "cell_type": "code",
   "execution_count": 76,
   "metadata": {},
   "outputs": [],
   "source": [
    "def can_fetch(url,path):\n",
    "    resp = download(urljoin(url, '/robots.txt'))\n",
    "    allow=[]\n",
    "    disallow=[]\n",
    "    \n",
    "    if resp.status_code==200:\n",
    "        useragent = '*' \n",
    "        for i in resp.text.splitlines():\n",
    "            pair = i.split(':') ## key,value\n",
    "            if len(pair) == 2:\n",
    "                \n",
    "                if pair[0].strip() == 'User-agent':\n",
    "                    useragent = pair[1] \n",
    "                else:\n",
    "                    if pair[0].strip() =='Allow':\n",
    "                        allow.append(pair[1].strip())\n",
    "                    else:\n",
    "                        disallow.append(pair[1].strip())\n",
    "    \n",
    "    \n",
    "    \n",
    "    \n",
    "    return True if path in allow else False, allow, disallow"
   ]
  },
  {
   "cell_type": "code",
   "execution_count": 77,
   "metadata": {},
   "outputs": [],
   "source": [
    "def new_download(url):\n",
    "    \n",
    "    _ = urlparse(url)\n",
    "    print(can_fetch(_[0]+'://'+_[1], _[2])[0]) ## True/ False를 print해주기\n",
    "    \n",
    "    return download(url,headers = headers)"
   ]
  },
  {
   "cell_type": "code",
   "execution_count": 6,
   "metadata": {},
   "outputs": [],
   "source": [
    "def crawling(seed):\n",
    "    resp = new_download(seed)\n",
    "    \n",
    "    ##추가작업=> content-type : text/*, application/json+xml, image\n",
    "    dom = BeautifulSoup(resp.text, 'lxml')\n",
    "    return [urljoin(seed, i.attrs['href']) for i in dom.select('a[href]') if not i.attrs['href'].startswith('#')] ## '#'\n",
    "    ## '#'으로 시작하지 않는 a[href] 태그들의 url을 return 해주기"
   ]
  },
  {
   "cell_type": "markdown",
   "metadata": {},
   "source": [
    "### naver mail의 쿠키 설정해주기"
   ]
  },
  {
   "cell_type": "code",
   "execution_count": 11,
   "metadata": {},
   "outputs": [
    {
     "data": {
      "text/plain": [
       "{}"
      ]
     },
     "execution_count": 11,
     "metadata": {},
     "output_type": "execute_result"
    }
   ],
   "source": [
    "session = Session()\n",
    "session.cookies.get_dict()"
   ]
  },
  {
   "cell_type": "markdown",
   "metadata": {},
   "source": [
    "- cookie의 row당 0-3번째 index만 쿠키로 설정해주기"
   ]
  },
  {
   "cell_type": "code",
   "execution_count": 12,
   "metadata": {},
   "outputs": [],
   "source": [
    "## naver 쿠키 split해주기\n",
    "\n",
    "s = 0\n",
    "for i in [i for i,_ in enumerate(naver) if _ == 'Medium']:\n",
    "    e=i\n",
    "    \n",
    "    session.cookies.set(naver[s], naver[s+1], domain=naver[s+2], path=naver[s+3]) ## 쿠키설정\n",
    "    \n",
    "    s = e+1"
   ]
  },
  {
   "cell_type": "code",
   "execution_count": 79,
   "metadata": {},
   "outputs": [],
   "source": [
    "resp1 = download('https://mail.naver.com', headers=headers)\n"
   ]
  },
  {
   "cell_type": "code",
   "execution_count": 80,
   "metadata": {},
   "outputs": [],
   "source": [
    "resp2 = session.get('https://mail.naver.com')\n"
   ]
  },
  {
   "cell_type": "code",
   "execution_count": 81,
   "metadata": {},
   "outputs": [
    {
     "data": {
      "text/plain": [
       "False"
      ]
     },
     "execution_count": 81,
     "metadata": {},
     "output_type": "execute_result"
    }
   ],
   "source": [
    "resp1.text==resp2.text"
   ]
  },
  {
   "cell_type": "markdown",
   "metadata": {},
   "source": [
    "### Crawling  mail"
   ]
  },
  {
   "cell_type": "code",
   "execution_count": 23,
   "metadata": {
    "scrolled": false
   },
   "outputs": [
    {
     "data": {
      "text/plain": [
       "'https://mail.naver.com/json/list/?page=1&sortField=1&sortType=0&folderSN=0&type=&isUnread=false&u=park11127'"
      ]
     },
     "execution_count": 23,
     "metadata": {},
     "output_type": "execute_result"
    }
   ],
   "source": [
    "'https://mail.naver.com/json/list/?page=1&sortField=1&sortType=0&folderSN=0&type=&isUnread=false&u=park11127'"
   ]
  },
  {
   "cell_type": "markdown",
   "metadata": {},
   "source": [
    "- 받은메일함에서 request url 가져오기(받은 메일함 페이지 - 개발자도구 - 네트워크 - XHR - ?page... - headers - request url )"
   ]
  },
  {
   "cell_type": "code",
   "execution_count": 132,
   "metadata": {},
   "outputs": [],
   "source": [
    "url='https://mail.naver.com/json/list'\n",
    "params={\n",
    "    'page':1,\n",
    "    'sortField':1,\n",
    "    'sortType':0,\n",
    "    'folderSN':0,\n",
    "    'type':None,\n",
    "    'isUnread':'false',\n",
    "    'u':'park11127'\n",
    "}"
   ]
  },
  {
   "cell_type": "code",
   "execution_count": 21,
   "metadata": {},
   "outputs": [],
   "source": [
    "resp = request('get', url=url, params=params)"
   ]
  },
  {
   "cell_type": "code",
   "execution_count": 22,
   "metadata": {},
   "outputs": [
    {
     "data": {
      "text/plain": [
       "'{\"Result\":\"FAIL\",\"Message\":\"\", \"LoginStatus\":\"NOLOGIN\"}'"
      ]
     },
     "execution_count": 22,
     "metadata": {},
     "output_type": "execute_result"
    }
   ],
   "source": [
    "resp.text"
   ]
  },
  {
   "cell_type": "code",
   "execution_count": 24,
   "metadata": {},
   "outputs": [],
   "source": [
    "resp2 = session.request('post', url=url, params=params)"
   ]
  },
  {
   "cell_type": "code",
   "execution_count": 28,
   "metadata": {},
   "outputs": [
    {
     "data": {
      "text/plain": [
       "'text/plain;charset=UTF-8'"
      ]
     },
     "execution_count": 28,
     "metadata": {},
     "output_type": "execute_result"
    }
   ],
   "source": [
    "resp.headers['Content-Type']"
   ]
  },
  {
   "cell_type": "code",
   "execution_count": 49,
   "metadata": {},
   "outputs": [
    {
     "data": {
      "text/plain": [
       "{'ASID': '3d638b1c000001753ac0de0000000050',\n",
       " 'MM_NEW': '1',\n",
       " 'MM_NOW_COACH': '1',\n",
       " 'NFS': '2',\n",
       " 'NID_AUT': 'DOqGyiOBYfe0CZ9T3i75QYa/b+r5QKuyhBFcm0SJTLunpH3sxr3XcM1xNRnYe6Er',\n",
       " 'NID_JKL': 'FSaBIjlk85JM7W7nQCv9GniOInhi4TGnbcTanfHIm38=',\n",
       " 'NID_SES': 'AAABlzTvhiCYVogJCxvqm4/Ip0jt6wMpRAgfT90QpfAaHUR4Xx1OlEn8M8mD/DDLA4AYO0soUCyFy7OStQzTduTvPguhbV2VfOAbln084QbmYZRVtRTEPlYt+U/bdE0QiZX2k6+1vv4imPiKl6Z+zsTMGodUuKqJFKHXr9LlxdhUAvHZ7JtvraZ6xLutStkObobcEacAi8a9eb5Ttm0WyATHKA/wtSPBNXv7XQs70oUR/gxYFZFVlNc17n9cFw360eFcLamfzRpq2g6PMo+Ng+sGv5afzkagrmuV0uW44KTM/Q2rHUrUPghzzDbm7olRFOh3YriiKwdj8tvRBeDoOXxXgt3oT7PVeMb3w6ytwfNGHTD+8H+3JW/NZoVGPMkDDFJcl1vC0KSPdQw3dOURy2nEZMn2unSIlzljklFt0UFfXgxL7EPrzCvb4ex5tpL0tPsa5VN0J6w4i1ip9hZmrv6sMBdOEx5vN/ACykHhzA9ulMsXupy0Uwty5Z2dxXNvSi4N7jgj5KYP0a4EN7y3sg5tVo3v9H3jq/l+52Kn1Ph1zZPD',\n",
       " 'NNB': 'IWGV6AVLTFCWA',\n",
       " 'NRTK': 'ag#20s_gr#4_ma#0_si#2_en#2_sp#2',\n",
       " 'NaverSuggestUse': 'use%26unuse',\n",
       " '_ga': 'GA1.2.1315744196.1608054668',\n",
       " '_ga_7VKFYR6RV1': 'GS1.1.1618297223.5.0.1618297223.60',\n",
       " 'nid_inf': '339832352',\n",
       " 'nx_ssl': '2',\n",
       " 'page_uid': 'hMiFUwp0YihssAXYsEdssssstwZ-069059',\n",
       " 'nid_buk': 'B7WZWIHQS6CV6',\n",
       " 'nid_enctp': '1',\n",
       " 'nid_slevel': '-1',\n",
       " 'gnbFav': '%7B%22gnbFav%22%3A%5B%5D%7D',\n",
       " 'NM_THEME_EDIT': 'www.naver.com',\n",
       " 'NMUSER': 'uqYlKqEwaqbsKobXFxM/bzJZ1quwKxUXaqurKoEXKqKZFxEsFxuZKAnmaqns3xndFxurKAvsHoKma9vsxonOaxRVadUstoRVaqRVaqns1rejL9Us6xRVaqnD16lvpB2RFVl5WLl5MBp0bSloWrdnaAvmKARqp6FTW43CbNvR16lvpB2RFVl5WLl5MBp0bSloWrdnaAvmKAn=',\n",
       " 'JSESSIONID': '0B8DA826E34E51E1B6FFCC36D34B9C33',\n",
       " 'NM_RTK_VIEW_GUIDE': '1',\n",
       " 'NM_THEME_LAST_FIXED': 'LIVING',\n",
       " 'PM_CK_loc': '5b3cfba8eee6debe05f5d6bd00f0cae5ee8a2a15762c40be92b1b91d96017121',\n",
       " 'RTK_YES': '1'}"
      ]
     },
     "execution_count": 49,
     "metadata": {},
     "output_type": "execute_result"
    }
   ],
   "source": [
    "session.cookies.get_dict() ## session에 cookie가 잘 입력되었는지 확인해보기"
   ]
  },
  {
   "cell_type": "code",
   "execution_count": 38,
   "metadata": {},
   "outputs": [
    {
     "name": "stdout",
     "output_type": "stream",
     "text": [
      "1 축하드려요 데이터 전문가 포럼 (빅데이터분석기사, ADP, SQLP, DAP 등) 카페에 가입 되셨습니다.\n",
      "2 [학생용]폭력예방교육 에 오신 것을 환영합니다.\n",
      "3 [2021 빅데이터청년인재] 4조 - 아이디어\n",
      "4 [RE]RE: 머신인텔리전스 연구실 학부 인턴 선발을 위한 인터뷰 일정 안내\n",
      "5 [RE]Re: 머신인텔리전스 연구실 학부 인턴 선발을 위한 인터뷰 일정 안내\n",
      "6 머신인텔리전스 연구실 학부 인턴 선발을 위한 인터뷰 일정 안내\n",
      "7 [ICT인턴십] 국내과정 학생 서류지원 안내(~7/13(화), 13시까지)\n",
      "8 [Webinar]: Accelerating Allegro PCB and APD Package Layout Using NVIDIA GPUs for Complex Designs\n",
      "9 Re: 박근형 증빙서류 제출\n",
      "10 sun dong eun님이 ‘강의자료’ 폴더를 공유했습니다.\n",
      "11 데이터 청년 캠퍼스 관련 서류 및 사전 교육 정보 안내\n",
      "12 Re: 제출 서류 관련 문의\n",
      "13 AI·DATA INSIGHT 14호 - 기계번역 데이터셋 : 규모의 게임\n",
      "14 [기업가정신 NOW] 로봇 스타트업 어떻게 육성해야 하나\n",
      "15 데이터 청년 캠퍼스 출석체크 안내\n",
      "16 고려대학교 청년캠퍼스 교육 안내\n",
      "17 RE: RE: 오티관련메일 미수신\n",
      "18 2021년 데이터 청년 캠퍼스 교육생 오리엔테이션 개최(비대면) 및 온라인 사전 교육 안내(고려대)\n",
      "19 RE: 오티관련메일 미수신\n",
      "20 사업계획서 작성방법_20210617.pdf\n",
      "21 \n",
      "\t[JBNUHub 공지]\n",
      "\t[공지] 중간기말고사 성적\n",
      "22 [RE]연구실 학부인턴 관련 궁금한 사항 문의드립니다\n",
      "23 [네이버페이] 결제하신 내역을 안내해드립니다.\n",
      "24 [한국화웨이] Seeds For The Future 2021 (글로벌 ICT 인재프로그램) 안내 및 참가 요청의 건 \n",
      "25 고려대 데이터 청년 캠퍼스 최종선정 합격자 안내\n",
      "26 Re: 201716175 박근형 2차 상담\n",
      "27 Re: 교수님 2차상담 문의 드립니다\n",
      "28 Re: 교수님 2차상담 문의 드립니다\n",
      "29 RE: 면접 시간 조정 문의\n",
      "30 고려대학교 데이터 청년 캠퍼스 1차합격 및 면접안내\n"
     ]
    }
   ],
   "source": [
    "for i,k in enumerate(resp.json()['mailData']): ## mail의 이름확인\n",
    "    print(i+1,k['subject'])"
   ]
  },
  {
   "cell_type": "markdown",
   "metadata": {},
   "source": [
    "## Selenium\n",
    "- selenium은 웹사이트 테스트를 위한 도구로 브라우저 동작을 자동화할 수 있습니다. 셀레니움을 이용하는 웹크롤링 방식은 바로 이점을 적극적으로 활용하는 것입니다. 프로그래밍으로 브라우저 동작을 제어해서 마치 사람이 이용하는 것 같이 웹페이지를 요청하고 응답을 받아올 수 있습니다.\n",
    "- 데이터 수집용이 아닌 메크로 만들때 쓰는 프레임 워크"
   ]
  },
  {
   "cell_type": "code",
   "execution_count": 50,
   "metadata": {
    "scrolled": false
   },
   "outputs": [
    {
     "name": "stdout",
     "output_type": "stream",
     "text": [
      "Collecting selenium\n",
      "  Downloading selenium-3.141.0-py2.py3-none-any.whl (904 kB)\n",
      "Requirement already satisfied: urllib3 in c:\\users\\park1\\anaconda3\\lib\\site-packages (from selenium) (1.25.9)\n",
      "Installing collected packages: selenium\n",
      "Successfully installed selenium-3.141.0\n"
     ]
    }
   ],
   "source": [
    "! pip install selenium"
   ]
  },
  {
   "cell_type": "code",
   "execution_count": 85,
   "metadata": {},
   "outputs": [],
   "source": [
    "import selenium\n",
    "from selenium.webdriver import Chrome, ChromeOptions"
   ]
  },
  {
   "cell_type": "code",
   "execution_count": 86,
   "metadata": {
    "scrolled": true
   },
   "outputs": [
    {
     "data": {
      "text/plain": [
       "'3.141.0'"
      ]
     },
     "execution_count": 86,
     "metadata": {},
     "output_type": "execute_result"
    }
   ],
   "source": [
    "selenium.__version__"
   ]
  },
  {
   "cell_type": "code",
   "execution_count": 63,
   "metadata": {},
   "outputs": [],
   "source": [
    "driver = Chrome(r'C:/Users/chromedriver.exe')"
   ]
  },
  {
   "cell_type": "code",
   "execution_count": 87,
   "metadata": {},
   "outputs": [],
   "source": [
    "url = 'https://www.naver.com'"
   ]
  },
  {
   "cell_type": "code",
   "execution_count": 88,
   "metadata": {},
   "outputs": [],
   "source": [
    "driver.get(url) ## url로 접근"
   ]
  },
  {
   "cell_type": "markdown",
   "metadata": {},
   "source": [
    "### dom탐색"
   ]
  },
  {
   "cell_type": "code",
   "execution_count": 93,
   "metadata": {},
   "outputs": [],
   "source": [
    "from bs4 import BeautifulSoup"
   ]
  },
  {
   "cell_type": "code",
   "execution_count": 120,
   "metadata": {},
   "outputs": [],
   "source": [
    "driver.find_element_by_css_selector('a.link_login').click() ## 로그인 링크를 찾아서 클릭 : 로그인 화면으로 전환\n"
   ]
  },
  {
   "cell_type": "code",
   "execution_count": 94,
   "metadata": {
    "scrolled": true
   },
   "outputs": [],
   "source": [
    "dom = BeautifulSoup(driver.page_source,'lxml')"
   ]
  },
  {
   "cell_type": "code",
   "execution_count": 98,
   "metadata": {},
   "outputs": [
    {
     "name": "stdout",
     "output_type": "stream",
     "text": [
      "<span>로그인 바로가기</span>\n",
      "<a class=\"btn btn_login\" data-clk=\"sug.cxlogin\" href=\"https://nid.naver.com/nidlogin.login\">로그인</a>\n",
      "<h2 class=\"blind\">로그인</h2>\n",
      "<a class=\"link_login\" data-clk=\"log_off.login\" href=\"https://nid.naver.com/nidlogin.login?mode=form&amp;url=https%3A%2F%2Fwww.naver.com\"><i class=\"ico_naver\"><span class=\"blind\">네이버</span></i>로그인</a>\n"
     ]
    }
   ],
   "source": [
    "for i in dom.find_all(text=re.compile(r'로그인')):\n",
    "    print(i.find_parent())"
   ]
  },
  {
   "cell_type": "code",
   "execution_count": 105,
   "metadata": {},
   "outputs": [
    {
     "name": "stdout",
     "output_type": "stream",
     "text": [
      "input localechange\n",
      "input dynamicKey\n",
      "input encpw\n",
      "input enctp\n",
      "input svctype\n",
      "input smart_LEVEL\n",
      "input bvsd\n",
      "input encnm\n",
      "input locale\n",
      "input url\n",
      "input id\n",
      "input pw\n",
      "input nvlong\n"
     ]
    }
   ],
   "source": [
    "for i in driver.find_elements_by_css_selector('form input[name]'): ## form 의 input tag(recursive=True)\n",
    "    print(i.tag_name, i.get_attribute('name'))"
   ]
  },
  {
   "cell_type": "code",
   "execution_count": 121,
   "metadata": {},
   "outputs": [],
   "source": [
    "driver.find_element_by_name('id').clear() # clear\n",
    "driver.find_element_by_name('pw').clear() # clear\n",
    "\n",
    "driver.find_element_by_name('id').send_keys('park11127') ## id가 적혀진다.\n",
    "driver.find_element_by_name('pw').send_keys('12345') ## pw가 적혀진다."
   ]
  },
  {
   "cell_type": "code",
   "execution_count": 122,
   "metadata": {},
   "outputs": [
    {
     "data": {
      "text/plain": [
       "'로그인'"
      ]
     },
     "execution_count": 122,
     "metadata": {},
     "output_type": "execute_result"
    }
   ],
   "source": [
    "driver.find_element_by_css_selector('form input[type=submit]').get_attribute('value') ## 로그인 버튼"
   ]
  },
  {
   "cell_type": "code",
   "execution_count": 123,
   "metadata": {},
   "outputs": [],
   "source": [
    "driver.find_element_by_css_selector('form input[type=submit]').click()"
   ]
  },
  {
   "cell_type": "markdown",
   "metadata": {},
   "source": [
    "- 위에서 진행했던 쿠키 등록을 간편하게 할 수 있다."
   ]
  },
  {
   "cell_type": "code",
   "execution_count": 126,
   "metadata": {},
   "outputs": [],
   "source": [
    "naver = driver.get_cookies() ## login 후의 쿠키정보"
   ]
  },
  {
   "cell_type": "code",
   "execution_count": 127,
   "metadata": {
    "scrolled": true
   },
   "outputs": [
    {
     "data": {
      "text/plain": [
       "{}"
      ]
     },
     "execution_count": 127,
     "metadata": {},
     "output_type": "execute_result"
    }
   ],
   "source": [
    "session.cookies.clear()\n",
    "session.cookies.get_dict()"
   ]
  },
  {
   "cell_type": "code",
   "execution_count": 130,
   "metadata": {},
   "outputs": [],
   "source": [
    "for i in naver:\n",
    "    session.cookies.set(i['name'], i['value'], domain=i['domain'], path=i['path'])"
   ]
  },
  {
   "cell_type": "code",
   "execution_count": 131,
   "metadata": {},
   "outputs": [
    {
     "data": {
      "text/plain": [
       "{'NID_AUT': '0W9iJXmPKCdstwacE79HN/QXqjQ4TMoB+QjDTvH94qghty8F6fYILk86eDvE02Sk',\n",
       " 'NID_JKL': 'Uy54vVp3sFDUUv5SI3qLzf7SaqW5RKKzTcTc9CC39B4=',\n",
       " 'NID_SES': 'AAABkKzU/J2PxcREPEDB/wy6SRZvNCGkNXsDChVHIVA5GrkXjvnwLfm4y4Tw1jGj0n7Z5LyjHdMx3/HN64rTyPKaz+dN96jlcKnkcp0789w/wc/NYTupY4lsVQv6Gr8+SPYhA1+AlpxA3fVEALvlp3OhP7INoFt/I3exKCz/vTncVFIET49Tmd0bxfRU76DsbLzEu2QXDDD6naaiBfxFsIzmv/RmvZPEW2OSCHjjiclRyATn/zAhvMGMlnwphzHyHYIpKdmFQMrcKfaqhHPad31FYw4EQPcKs6lz6Wz8P/PO67SAR6uNkneBv025Y07guHJWqZvZ9w3p/TRSlAisuQsAFAs/Mt5Vri8ZXlRH8tEs+VKTQIxoxVDmMFtfreN2WS4fUktJ91h/iqOiaW4Thxwg/GeilGdZcXFcwrTJMUbQFj/avCtxQ0HhwjOk+154t0RRZy3aqypre+Phme4bM0BuFTvSY1TWGikIxVHuKxuTlu366Z+Q69457ISkYQuDHL4pzMbDsca5CxLum2r9qUVeKxU=',\n",
       " 'NNB': 'SITZMUC6WHTWA',\n",
       " 'nid_inf': '340511836',\n",
       " 'JSESSIONID': 'F5C872283B951C4C4B28E0CC361591A8',\n",
       " 'NM_THEME_EDIT': '',\n",
       " 'NM_THEME_LAST_FIXED': 'HEALTH',\n",
       " 'PM_CK_loc': '5b3cfba8eee6debe05f5d6bd00f0cae5df3615191d4c549fb193d9c04cc15e09'}"
      ]
     },
     "execution_count": 131,
     "metadata": {},
     "output_type": "execute_result"
    }
   ],
   "source": [
    "session.cookies.get_dict() ## 쿠키 등록"
   ]
  },
  {
   "cell_type": "markdown",
   "metadata": {},
   "source": [
    "- url 과 param등록하여 메일함 확인해보기"
   ]
  },
  {
   "cell_type": "code",
   "execution_count": 133,
   "metadata": {},
   "outputs": [],
   "source": [
    "url='https://mail.naver.com/json/list'\n",
    "params={\n",
    "    'page':1,\n",
    "    'sortField':1,\n",
    "    'sortType':0,\n",
    "    'folderSN':0,\n",
    "    'type':None,\n",
    "    'isUnread':'false',\n",
    "    'u':'park11127'\n",
    "}"
   ]
  },
  {
   "cell_type": "code",
   "execution_count": 135,
   "metadata": {},
   "outputs": [],
   "source": [
    "resp = session.request('post', url=url, params=params)"
   ]
  },
  {
   "cell_type": "code",
   "execution_count": 172,
   "metadata": {},
   "outputs": [
    {
     "name": "stdout",
     "output_type": "stream",
     "text": [
      "1 축하드려요 데이터 전문가 포럼 (빅데이터분석기사, ADP, SQLP, DAP 등) 카페에 가입 되셨습니다.\n",
      "==================================================\n",
      "2 [학생용]폭력예방교육 에 오신 것을 환영합니다.\n",
      "==================================================\n",
      "3 [2021 빅데이터청년인재] 4조 - 아이디어\n",
      "==================================================\n",
      "4 [RE]RE: 머신인텔리전스 연구실 학부 인턴 선발을 위한 인터뷰 일정 안내\n",
      "==================================================\n",
      "5 [RE]Re: 머신인텔리전스 연구실 학부 인턴 선발을 위한 인터뷰 일정 안내\n",
      "==================================================\n",
      "6 머신인텔리전스 연구실 학부 인턴 선발을 위한 인터뷰 일정 안내\n",
      "==================================================\n",
      "7 [ICT인턴십] 국내과정 학생 서류지원 안내(~7/13(화), 13시까지)\n",
      "==================================================\n",
      "8 [Webinar]: Accelerating Allegro PCB and APD Package Layout Using NVIDIA GPUs for Complex Designs\n",
      "==================================================\n",
      "9 Re: 박근형 증빙서류 제출\n",
      "==================================================\n",
      "10 sun dong eun님이 ‘강의자료’ 폴더를 공유했습니다.\n",
      "==================================================\n",
      "11 데이터 청년 캠퍼스 관련 서류 및 사전 교육 정보 안내\n",
      "==================================================\n",
      "12 Re: 제출 서류 관련 문의\n",
      "==================================================\n",
      "13 AI·DATA INSIGHT 14호 - 기계번역 데이터셋 : 규모의 게임\n",
      "==================================================\n",
      "14 [기업가정신 NOW] 로봇 스타트업 어떻게 육성해야 하나\n",
      "==================================================\n",
      "15 데이터 청년 캠퍼스 출석체크 안내\n",
      "==================================================\n",
      "16 고려대학교 청년캠퍼스 교육 안내\n",
      "==================================================\n",
      "17 RE: RE: 오티관련메일 미수신\n",
      "==================================================\n",
      "18 2021년 데이터 청년 캠퍼스 교육생 오리엔테이션 개최(비대면) 및 온라인 사전 교육 안내(고려대)\n",
      "==================================================\n",
      "19 RE: 오티관련메일 미수신\n",
      "==================================================\n",
      "20 사업계획서 작성방법_20210617.pdf\n",
      "==================================================\n",
      "21 \n",
      "\t[JBNUHub 공지]\n",
      "\t[공지] 중간기말고사 성적\n",
      "==================================================\n",
      "22 [RE]연구실 학부인턴 관련 궁금한 사항 문의드립니다\n",
      "==================================================\n",
      "23 [네이버페이] 결제하신 내역을 안내해드립니다.\n",
      "==================================================\n",
      "24 [한국화웨이] Seeds For The Future 2021 (글로벌 ICT 인재프로그램) 안내 및 참가 요청의 건 \n",
      "==================================================\n",
      "25 고려대 데이터 청년 캠퍼스 최종선정 합격자 안내\n",
      "==================================================\n",
      "26 Re: 201716175 박근형 2차 상담\n",
      "==================================================\n",
      "27 Re: 교수님 2차상담 문의 드립니다\n",
      "==================================================\n",
      "28 Re: 교수님 2차상담 문의 드립니다\n",
      "==================================================\n",
      "29 RE: 면접 시간 조정 문의\n",
      "==================================================\n",
      "30 고려대학교 데이터 청년 캠퍼스 1차합격 및 면접안내\n",
      "==================================================\n"
     ]
    }
   ],
   "source": [
    "for i,k in enumerate(resp.json()['mailData']): ## mail의 이름확인\n",
    "    print(i+1,k['subject'])\n",
    "    print('='*50)"
   ]
  },
  {
   "cell_type": "code",
   "execution_count": 141,
   "metadata": {},
   "outputs": [],
   "source": [
    "driver.delete_all_cookies() ## 드라이버 쿠키 지우기"
   ]
  },
  {
   "cell_type": "code",
   "execution_count": 142,
   "metadata": {},
   "outputs": [],
   "source": [
    "driver.get('https://www.naver.com')"
   ]
  },
  {
   "cell_type": "code",
   "execution_count": 143,
   "metadata": {},
   "outputs": [],
   "source": [
    "for i in naver:\n",
    "    driver.add_cookie(i) ## 쿠키 추가해주기(naver)"
   ]
  },
  {
   "cell_type": "code",
   "execution_count": 144,
   "metadata": {},
   "outputs": [],
   "source": [
    "driver.get('https://www.naver.com') ## refresh 해보면 로그인된 상태가 유지된다"
   ]
  },
  {
   "cell_type": "code",
   "execution_count": 145,
   "metadata": {},
   "outputs": [],
   "source": [
    "driver.get('https://mail.naver.com') ## mail창으로 넘어가기"
   ]
  },
  {
   "cell_type": "markdown",
   "metadata": {},
   "source": [
    "### dom 을 사용하여 mail함 접근"
   ]
  },
  {
   "cell_type": "code",
   "execution_count": 146,
   "metadata": {},
   "outputs": [],
   "source": [
    "dom = BeautifulSoup(driver.page_source, 'lxml') ## dom 만들기"
   ]
  },
  {
   "cell_type": "code",
   "execution_count": 155,
   "metadata": {
    "collapsed": true
   },
   "outputs": [
    {
     "data": {
      "text/plain": [
       "<ol class=\"mailList sender_context\" style=\"min-width:600px\"><li class=\"17954_li unmark _c1(mrCore|clickTitle|17954) _d2(mcDragndrop|html5DragStart)\" data-category=\"203\" draggable=\"true\" foldersn=\"\" mailsn=\"17954\" style=\"\"><span class=\"ico_current_flag\"><i class=\"blind\">마지막에 읽은 메일</i></span><ul class=\"mInfo\"><li class=\"_m1(mlCore|toggleCheckMail|17954|down) _c1(mlCore|toggleCheckMail|17954|click) _stopDefault\"><input class=\"mCheck _checkList _m3(mlCore|toggleCheckMail|17954|over) _m1(mlCore|toggleCheckMail|17954|down) _k1(mlCore|toggleCheckMail|17954|keydown) _stopDefault\" id=\"mailCheck_17954\" name=\"\" onclick='ccr(this, \"lst.selectgot\", event)' resend=\"\" securityleveltype=\"NORMAL\" type=\"checkbox\" value=\"\"/><label class=\"blind\" for=\"mailCheck_17954\">\"축하드려요 데이터 전문가 포럼 (빅데이터분석기사, ADP, SQLP, DAP 등) 카페에 가입 되셨습니다.\" 메일 선택</label></li><li class=\"important _m1(mlCore|doStop) _c1(mlCore|markMailSelf|17954|mark) _ccr(lst.mark) _stopDefault\"><a href=\"#\" onblur=\"$Element(this).removeClass('_starFocus')\" onfocus=\"$Element(this).addClass('_starFocus')\"><span class=\"spr icoImportant icoImportantOff\" mailsn=\"17954\"><span class=\"blind\">중요메일로 표시하기</span></span></a></li><li class=\"read\"><a class=\"spr icoRead yes _c1(mlCore|readMail|unread_conversation|17954) _stopDefault\" href=\"#\" title=\"읽은 메일\"><span class=\"blind\">읽은 메일</span></a><span class=\"btn_cover _m1(mlCore|doStop) _c1(mlCore|toggleConversationList) _stopDefault\" style=\"display:none;\"><button class=\"btn_view_slave\"><span class=\"blind\">개의 관련 메일있음</span></button></span></li><li class=\"file\"><span class=\"spr \" style=\"cursor:default;\" title=\"\"><span class=\"blind\"></span></span></li></ul><div class=\"mTitle\"><div class=\"name _ccr(lst.from) \"><span class=\"blind\">보낸 이:</span><a class=\"_c1(myContextMenu|showSenderContextLayer|list|17954) _stopDefault\" href=\"#\" title='\"데이터 전문가 포럼 (빅데이터분석기사, ADP, SQLP, DAP 등)\" &lt;navercafe@naver.com&gt;'>데이터 전문가 포럼 (..</a></div><div class=\"subject \"><a class=\"_d2(mcDragndrop|html5DragStart)\" draggable=\"true\" href=\"/read/popup/?nMailId=17954\"><span class=\"text _ccr(lst.title) _c1(mrCore|clickTitle|17954) _m2(mrCore|middleClickTitle|17954)\" foldersn=\"\" mailsn=\"17954\"><span class=\"folderName _ccr(lst.title) _c1(mrCore|clickTitle|17954) _m2(mrCore|middleClickTitle|17954)\" foldersn=\"\" mailsn=\"17954\"><span class=\"blind\">에 분류됨</span></span><strong class=\"mail_title _ccr(lst.title) _c1(mrCore|clickTitle|17954) _m2(mrCore|middleClickTitle|17954)\" foldersn=\"\" mailsn=\"17954\"><span class=\"blind\">메일 제목:</span>축하드려요 데이터 전문가 포럼 (빅데이터분석기사, ADP, SQLP, DAP 등) 카페에 가입 되셨습니다.</strong></span></a><a class=\"icon_previewMail\" href=\"#\" title=\"메일 내용 미리보기\"><span class=\"spr _m1(mlCore|previewMail|17954|0) _c1(mlCore|doStop) _stopDefault\"><em class=\"blind\">메일 내용 미리보기 레이어 열림</em></span></a><a class=\"newWindow _ccr(lst.newwindow) _c1(mrCore|popupRead|17954) _m1(mlCore|doStop) _stopDefault\" href=\"#\" title=\"새 창으로 메일 보기\"><span class=\"spr\"><em class=\"blind\">새 창으로 메일 보기</em></span></a></div></div><ul class=\"mInfo split_cell\"><li class=\"iDate\"><span class=\"blind\">보낸날짜:</span>07-04 22:00</li><li class=\"iSize\"><span class=\"blind\">메일크기::</span>19.1 KB</li></ul></li><li class=\"17953_li unmark _c1(mrCore|clickTitle|17953) _d2(mcDragndrop|html5DragStart)\" data-category=\"-1\" draggable=\"true\" foldersn=\"\" mailsn=\"17953\" style=\"\"><span class=\"ico_current_flag\"><i class=\"blind\">마지막에 읽은 메일</i></span><ul class=\"mInfo\"><li class=\"_m1(mlCore|toggleCheckMail|17953|down) _c1(mlCore|toggleCheckMail|17953|click) _stopDefault\"><input class=\"mCheck _checkList _m3(mlCore|toggleCheckMail|17953|over) _m1(mlCore|toggleCheckMail|17953|down) _k1(mlCore|toggleCheckMail|17953|keydown) _stopDefault\" id=\"mailCheck_17953\" name=\"\" onclick='ccr(this, \"lst.selectgot\", event)' resend=\"\" securityleveltype=\"NORMAL\" type=\"checkbox\" value=\"\"/><label class=\"blind\" for=\"mailCheck_17953\">\"[학생용]폭력예방교육 에 오신 것을 환영합니다.\" 메일 선택</label></li><li class=\"important _m1(mlCore|doStop) _c1(mlCore|markMailSelf|17953|mark) _ccr(lst.mark) _stopDefault\"><a href=\"#\" onblur=\"$Element(this).removeClass('_starFocus')\" onfocus=\"$Element(this).addClass('_starFocus')\"><span class=\"spr icoImportant icoImportantOff\" mailsn=\"17953\"><span class=\"blind\">중요메일로 표시하기</span></span></a></li><li class=\"read\"><a class=\"spr icoRead yes _c1(mlCore|readMail|unread_conversation|17953) _stopDefault\" href=\"#\" title=\"읽은 메일\"><span class=\"blind\">읽은 메일</span></a><span class=\"btn_cover _m1(mlCore|doStop) _c1(mlCore|toggleConversationList) _stopDefault\" style=\"display:none;\"><button class=\"btn_view_slave\"><span class=\"blind\">개의 관련 메일있음</span></button></span></li><li class=\"file\"><span class=\"spr \" style=\"cursor:default;\" title=\"\"><span class=\"blind\"></span></span></li></ul><div class=\"mTitle\"><div class=\"name _ccr(lst.from) \"><span class=\"blind\">보낸 이:</span><a class=\"_c1(myContextMenu|showSenderContextLayer|list|17953) _stopDefault\" href=\"#\" title='\"관리자 (via 전북대학교 스마트학습관리시스템)\" &lt;kedilms@jbnu.ac.kr&gt;'>관리자 (via 전북대학..</a></div><div class=\"subject \"><a class=\"_d2(mcDragndrop|html5DragStart)\" draggable=\"true\" href=\"/read/popup/?nMailId=17953\"><span class=\"text _ccr(lst.title) _c1(mrCore|clickTitle|17953) _m2(mrCore|middleClickTitle|17953)\" foldersn=\"\" mailsn=\"17953\"><span class=\"folderName _ccr(lst.title) _c1(mrCore|clickTitle|17953) _m2(mrCore|middleClickTitle|17953)\" foldersn=\"\" mailsn=\"17953\"><span class=\"blind\">에 분류됨</span></span><strong class=\"mail_title _ccr(lst.title) _c1(mrCore|clickTitle|17953) _m2(mrCore|middleClickTitle|17953)\" foldersn=\"\" mailsn=\"17953\"><span class=\"blind\">메일 제목:</span>[학생용]폭력예방교육 에 오신 것을 환영합니다.</strong></span></a><a class=\"icon_previewMail\" href=\"#\" title=\"메일 내용 미리보기\"><span class=\"spr _m1(mlCore|previewMail|17953|0) _c1(mlCore|doStop) _stopDefault\"><em class=\"blind\">메일 내용 미리보기 레이어 열림</em></span></a><a class=\"newWindow _ccr(lst.newwindow) _c1(mrCore|popupRead|17953) _m1(mlCore|doStop) _stopDefault\" href=\"#\" title=\"새 창으로 메일 보기\"><span class=\"spr\"><em class=\"blind\">새 창으로 메일 보기</em></span></a></div></div><ul class=\"mInfo split_cell\"><li class=\"iDate\"><span class=\"blind\">보낸날짜:</span>07-04 21:15</li><li class=\"iSize\"><span class=\"blind\">메일크기::</span>3.9 KB</li></ul></li><li class=\"17934_li unmark _c1(mrCore|clickTitle|17934) _d2(mcDragndrop|html5DragStart)\" data-category=\"-1\" draggable=\"true\" foldersn=\"\" mailsn=\"17934\" style=\"\"><span class=\"ico_current_flag\"><i class=\"blind\">마지막에 읽은 메일</i></span><ul class=\"mInfo\"><li class=\"_m1(mlCore|toggleCheckMail|17934|down) _c1(mlCore|toggleCheckMail|17934|click) _stopDefault\"><input class=\"mCheck _checkList _m3(mlCore|toggleCheckMail|17934|over) _m1(mlCore|toggleCheckMail|17934|down) _k1(mlCore|toggleCheckMail|17934|keydown) _stopDefault\" id=\"mailCheck_17934\" name=\"\" onclick='ccr(this, \"lst.selectgot\", event)' resend=\"\" securityleveltype=\"NORMAL\" type=\"checkbox\" value=\"\"/><label class=\"blind\" for=\"mailCheck_17934\">\"[2021 빅데이터청년인재] 4조 - 아이디어\" 메일 선택</label></li><li class=\"important _m1(mlCore|doStop) _c1(mlCore|markMailSelf|17934|mark) _ccr(lst.mark) _stopDefault\"><a href=\"#\" onblur=\"$Element(this).removeClass('_starFocus')\" onfocus=\"$Element(this).addClass('_starFocus')\"><span class=\"spr icoImportant icoImportantOff\" mailsn=\"17934\"><span class=\"blind\">중요메일로 표시하기</span></span></a></li><li class=\"read\"><a class=\"spr icoRead yes _c1(mlCore|readMail|unread_conversation|17934) _stopDefault\" href=\"#\" title=\"읽은 메일\"><span class=\"blind\">읽은 메일</span></a><span class=\"btn_cover _m1(mlCore|doStop) _c1(mlCore|toggleConversationList) _stopDefault\" style=\"display:none;\"><button class=\"btn_view_slave\"><span class=\"blind\">개의 관련 메일있음</span></button></span></li><li class=\"file\"><span class=\"spr icoFile\" style=\"cursor:default;\" title=\"첨부파일 있음\"><span class=\"blind\">첨부파일있는 메일</span></span></li></ul><div class=\"mTitle\"><div class=\"name _ccr(lst.from) \"><span class=\"blind\">보낸 이:</span><a class=\"_c1(myContextMenu|showSenderContextLayer|list|17934) _stopDefault\" href=\"#\" title='\"Soyeong Sohn\" &lt;thdud6265@gmail.com&gt;'>Soyeong Sohn</a></div><div class=\"subject \"><a class=\"_d2(mcDragndrop|html5DragStart)\" draggable=\"true\" href=\"/read/popup/?nMailId=17934\"><span class=\"text _ccr(lst.title) _c1(mrCore|clickTitle|17934) _m2(mrCore|middleClickTitle|17934)\" foldersn=\"\" mailsn=\"17934\"><span class=\"folderName _ccr(lst.title) _c1(mrCore|clickTitle|17934) _m2(mrCore|middleClickTitle|17934)\" foldersn=\"\" mailsn=\"17934\"><span class=\"blind\">에 분류됨</span></span><strong class=\"mail_title _ccr(lst.title) _c1(mrCore|clickTitle|17934) _m2(mrCore|middleClickTitle|17934)\" foldersn=\"\" mailsn=\"17934\"><span class=\"blind\">메일 제목:</span>[2021 빅데이터청년인재] 4조 - 아이디어</strong></span></a><a class=\"icon_previewMail\" href=\"#\" title=\"메일 내용 미리보기\"><span class=\"spr _m1(mlCore|previewMail|17934|0) _c1(mlCore|doStop) _stopDefault\"><em class=\"blind\">메일 내용 미리보기 레이어 열림</em></span></a><a class=\"newWindow _ccr(lst.newwindow) _c1(mrCore|popupRead|17934) _m1(mlCore|doStop) _stopDefault\" href=\"#\" title=\"새 창으로 메일 보기\"><span class=\"spr\"><em class=\"blind\">새 창으로 메일 보기</em></span></a></div></div><ul class=\"mInfo split_cell\"><li class=\"iDate\"><span class=\"blind\">보낸날짜:</span>07-02 23:32</li><li class=\"iSize\"><span class=\"blind\">메일크기::</span>371.6 KB</li></ul></li><li class=\"17931_li unmark _c1(mrCore|clickTitle|17931) _d2(mcDragndrop|html5DragStart)\" data-category=\"-1\" draggable=\"true\" foldersn=\"\" mailsn=\"17931\" style=\"\"><span class=\"ico_current_flag\"><i class=\"blind\">마지막에 읽은 메일</i></span><ul class=\"mInfo\"><li class=\"_m1(mlCore|toggleCheckMail|17931|down) _c1(mlCore|toggleCheckMail|17931|click) _stopDefault\"><input class=\"mCheck _checkList _m3(mlCore|toggleCheckMail|17931|over) _m1(mlCore|toggleCheckMail|17931|down) _k1(mlCore|toggleCheckMail|17931|keydown) _stopDefault\" id=\"mailCheck_17931\" name=\"\" onclick='ccr(this, \"lst.selectgot\", event)' resend=\"\" securityleveltype=\"NORMAL\" type=\"checkbox\" value=\"\"/><label class=\"blind\" for=\"mailCheck_17931\">\"[RE]RE: 머신인텔리전스 연구실 학부 인턴 선발을 위한 인터뷰 일정 안내\" 메일 선택</label></li><li class=\"important _m1(mlCore|doStop) _c1(mlCore|markMailSelf|17931|mark) _ccr(lst.mark) _stopDefault\"><a href=\"#\" onblur=\"$Element(this).removeClass('_starFocus')\" onfocus=\"$Element(this).addClass('_starFocus')\"><span class=\"spr icoImportant icoImportantOff\" mailsn=\"17931\"><span class=\"blind\">중요메일로 표시하기</span></span></a></li><li class=\"read\"><a class=\"spr icoRead re _c1(mlCore|readMail|unread_conversation|17931) _stopDefault\" href=\"#\" title=\"답장한 읽은 메일\"><span class=\"blind\">답장한 읽은 메일</span></a><span class=\"btn_cover _m1(mlCore|doStop) _c1(mlCore|toggleConversationList) _stopDefault\" style=\"display:none;\"><button class=\"btn_view_slave\"><span class=\"blind\">개의 관련 메일있음</span></button></span></li><li class=\"file\"><span class=\"spr \" style=\"cursor:default;\" title=\"\"><span class=\"blind\"></span></span></li></ul><div class=\"mTitle\"><div class=\"name _ccr(lst.from) \"><span class=\"blind\">보낸 이:</span><a class=\"_c1(myContextMenu|showSenderContextLayer|list|17931) _stopDefault\" href=\"#\" title='\"이상준\" &lt;sj.lee@jbnu.ac.kr&gt;'>이상준</a></div><div class=\"subject \"><a class=\"_d2(mcDragndrop|html5DragStart)\" draggable=\"true\" href=\"/read/popup/?nMailId=17931\"><span class=\"text _ccr(lst.title) _c1(mrCore|clickTitle|17931) _m2(mrCore|middleClickTitle|17931)\" foldersn=\"\" mailsn=\"17931\"><span class=\"folderName _ccr(lst.title) _c1(mrCore|clickTitle|17931) _m2(mrCore|middleClickTitle|17931)\" foldersn=\"\" mailsn=\"17931\"><span class=\"blind\">에 분류됨</span></span><strong class=\"mail_title _ccr(lst.title) _c1(mrCore|clickTitle|17931) _m2(mrCore|middleClickTitle|17931)\" foldersn=\"\" mailsn=\"17931\"><span class=\"blind\">메일 제목:</span>[RE]RE: 머신인텔리전스 연구실 학부 인턴 선발을 위한 인터뷰 일정 안내</strong></span></a><a class=\"icon_previewMail\" href=\"#\" title=\"메일 내용 미리보기\"><span class=\"spr _m1(mlCore|previewMail|17931|0) _c1(mlCore|doStop) _stopDefault\"><em class=\"blind\">메일 내용 미리보기 레이어 열림</em></span></a><a class=\"newWindow _ccr(lst.newwindow) _c1(mrCore|popupRead|17931) _m1(mlCore|doStop) _stopDefault\" href=\"#\" title=\"새 창으로 메일 보기\"><span class=\"spr\"><em class=\"blind\">새 창으로 메일 보기</em></span></a></div></div><ul class=\"mInfo split_cell\"><li class=\"iDate\"><span class=\"blind\">보낸날짜:</span>07-02 20:25</li><li class=\"iSize\"><span class=\"blind\">메일크기::</span>22.2 KB</li></ul></li><li class=\"17930_li unmark _c1(mrCore|clickTitle|17930) _d2(mcDragndrop|html5DragStart)\" data-category=\"-1\" draggable=\"true\" foldersn=\"\" mailsn=\"17930\" style=\"\"><span class=\"ico_current_flag\"><i class=\"blind\">마지막에 읽은 메일</i></span><ul class=\"mInfo\"><li class=\"_m1(mlCore|toggleCheckMail|17930|down) _c1(mlCore|toggleCheckMail|17930|click) _stopDefault\"><input class=\"mCheck _checkList _m3(mlCore|toggleCheckMail|17930|over) _m1(mlCore|toggleCheckMail|17930|down) _k1(mlCore|toggleCheckMail|17930|keydown) _stopDefault\" id=\"mailCheck_17930\" name=\"\" onclick='ccr(this, \"lst.selectgot\", event)' resend=\"\" securityleveltype=\"NORMAL\" type=\"checkbox\" value=\"\"/><label class=\"blind\" for=\"mailCheck_17930\">\"[RE]Re: 머신인텔리전스 연구실 학부 인턴 선발을 위한 인터뷰 일정 안내\" 메일 선택</label></li><li class=\"important _m1(mlCore|doStop) _c1(mlCore|markMailSelf|17930|mark) _ccr(lst.mark) _stopDefault\"><a href=\"#\" onblur=\"$Element(this).removeClass('_starFocus')\" onfocus=\"$Element(this).addClass('_starFocus')\"><span class=\"spr icoImportant icoImportantOff\" mailsn=\"17930\"><span class=\"blind\">중요메일로 표시하기</span></span></a></li><li class=\"read\"><a class=\"spr icoRead yes _c1(mlCore|readMail|unread_conversation|17930) _stopDefault\" href=\"#\" title=\"읽은 메일\"><span class=\"blind\">읽은 메일</span></a><span class=\"btn_cover _m1(mlCore|doStop) _c1(mlCore|toggleConversationList) _stopDefault\" style=\"display:none;\"><button class=\"btn_view_slave\"><span class=\"blind\">개의 관련 메일있음</span></button></span></li><li class=\"file\"><span class=\"spr \" style=\"cursor:default;\" title=\"\"><span class=\"blind\"></span></span></li></ul><div class=\"mTitle\"><div class=\"name _ccr(lst.from) \"><span class=\"blind\">보낸 이:</span><a class=\"_c1(myContextMenu|showSenderContextLayer|list|17930) _stopDefault\" href=\"#\" title='\"이상준\" &lt;sj.lee@jbnu.ac.kr&gt;'>이상준</a></div><div class=\"subject \"><a class=\"_d2(mcDragndrop|html5DragStart)\" draggable=\"true\" href=\"/read/popup/?nMailId=17930\"><span class=\"text _ccr(lst.title) _c1(mrCore|clickTitle|17930) _m2(mrCore|middleClickTitle|17930)\" foldersn=\"\" mailsn=\"17930\"><span class=\"folderName _ccr(lst.title) _c1(mrCore|clickTitle|17930) _m2(mrCore|middleClickTitle|17930)\" foldersn=\"\" mailsn=\"17930\"><span class=\"blind\">에 분류됨</span></span><strong class=\"mail_title _ccr(lst.title) _c1(mrCore|clickTitle|17930) _m2(mrCore|middleClickTitle|17930)\" foldersn=\"\" mailsn=\"17930\"><span class=\"blind\">메일 제목:</span>[RE]Re: 머신인텔리전스 연구실 학부 인턴 선발을 위한 인터뷰 일정 안내</strong></span></a><a class=\"icon_previewMail\" href=\"#\" title=\"메일 내용 미리보기\"><span class=\"spr _m1(mlCore|previewMail|17930|0) _c1(mlCore|doStop) _stopDefault\"><em class=\"blind\">메일 내용 미리보기 레이어 열림</em></span></a><a class=\"newWindow _ccr(lst.newwindow) _c1(mrCore|popupRead|17930) _m1(mlCore|doStop) _stopDefault\" href=\"#\" title=\"새 창으로 메일 보기\"><span class=\"spr\"><em class=\"blind\">새 창으로 메일 보기</em></span></a></div></div><ul class=\"mInfo split_cell\"><li class=\"iDate\"><span class=\"blind\">보낸날짜:</span>07-02 20:21</li><li class=\"iSize\"><span class=\"blind\">메일크기::</span>27.0 KB</li></ul></li><li class=\"17926_li unmark _c1(mrCore|clickTitle|17926) _d2(mcDragndrop|html5DragStart)\" data-category=\"-1\" draggable=\"true\" foldersn=\"\" mailsn=\"17926\" style=\"\"><span class=\"ico_current_flag\"><i class=\"blind\">마지막에 읽은 메일</i></span><ul class=\"mInfo\"><li class=\"_m1(mlCore|toggleCheckMail|17926|down) _c1(mlCore|toggleCheckMail|17926|click) _stopDefault\"><input class=\"mCheck _checkList _m3(mlCore|toggleCheckMail|17926|over) _m1(mlCore|toggleCheckMail|17926|down) _k1(mlCore|toggleCheckMail|17926|keydown) _stopDefault\" id=\"mailCheck_17926\" name=\"\" onclick='ccr(this, \"lst.selectgot\", event)' resend=\"\" securityleveltype=\"NORMAL\" type=\"checkbox\" value=\"\"/><label class=\"blind\" for=\"mailCheck_17926\">\"머신인텔리전스 연구실 학부 인턴 선발을 위한 인터뷰 일정 안내\" 메일 선택</label></li><li class=\"important _m1(mlCore|doStop) _c1(mlCore|markMailSelf|17926|mark) _ccr(lst.mark) _stopDefault\"><a href=\"#\" onblur=\"$Element(this).removeClass('_starFocus')\" onfocus=\"$Element(this).addClass('_starFocus')\"><span class=\"spr icoImportant icoImportantOff\" mailsn=\"17926\"><span class=\"blind\">중요메일로 표시하기</span></span></a></li><li class=\"read\"><a class=\"spr icoRead re _c1(mlCore|readMail|unread_conversation|17926) _stopDefault\" href=\"#\" title=\"답장한 읽은 메일\"><span class=\"blind\">답장한 읽은 메일</span></a><span class=\"btn_cover _m1(mlCore|doStop) _c1(mlCore|toggleConversationList) _stopDefault\" style=\"display:none;\"><button class=\"btn_view_slave\"><span class=\"blind\">개의 관련 메일있음</span></button></span></li><li class=\"file\"><span class=\"spr \" style=\"cursor:default;\" title=\"\"><span class=\"blind\"></span></span></li></ul><div class=\"mTitle\"><div class=\"name _ccr(lst.from) \"><span class=\"blind\">보낸 이:</span><a class=\"_c1(myContextMenu|showSenderContextLayer|list|17926) _stopDefault\" href=\"#\" title='\"이상준\" &lt;sj.lee@jbnu.ac.kr&gt;'>이상준</a></div><div class=\"subject \"><a class=\"_d2(mcDragndrop|html5DragStart)\" draggable=\"true\" href=\"/read/popup/?nMailId=17926\"><span class=\"text _ccr(lst.title) _c1(mrCore|clickTitle|17926) _m2(mrCore|middleClickTitle|17926)\" foldersn=\"\" mailsn=\"17926\"><span class=\"folderName _ccr(lst.title) _c1(mrCore|clickTitle|17926) _m2(mrCore|middleClickTitle|17926)\" foldersn=\"\" mailsn=\"17926\"><span class=\"blind\">에 분류됨</span></span><strong class=\"mail_title _ccr(lst.title) _c1(mrCore|clickTitle|17926) _m2(mrCore|middleClickTitle|17926)\" foldersn=\"\" mailsn=\"17926\"><span class=\"blind\">메일 제목:</span>머신인텔리전스 연구실 학부 인턴 선발을 위한 인터뷰 일정 안내</strong></span></a><a class=\"icon_previewMail\" href=\"#\" title=\"메일 내용 미리보기\"><span class=\"spr _m1(mlCore|previewMail|17926|0) _c1(mlCore|doStop) _stopDefault\"><em class=\"blind\">메일 내용 미리보기 레이어 열림</em></span></a><a class=\"newWindow _ccr(lst.newwindow) _c1(mrCore|popupRead|17926) _m1(mlCore|doStop) _stopDefault\" href=\"#\" title=\"새 창으로 메일 보기\"><span class=\"spr\"><em class=\"blind\">새 창으로 메일 보기</em></span></a></div></div><ul class=\"mInfo split_cell\"><li class=\"iDate\"><span class=\"blind\">보낸날짜:</span>07-02 15:57</li><li class=\"iSize\"><span class=\"blind\">메일크기::</span>12.6 KB</li></ul></li><li class=\"17924_li unmark _c1(mrCore|clickTitle|17924) _d2(mcDragndrop|html5DragStart)\" data-category=\"-1\" draggable=\"true\" foldersn=\"\" mailsn=\"17924\" style=\"\"><span class=\"ico_current_flag\"><i class=\"blind\">마지막에 읽은 메일</i></span><ul class=\"mInfo\"><li class=\"_m1(mlCore|toggleCheckMail|17924|down) _c1(mlCore|toggleCheckMail|17924|click) _stopDefault\"><input class=\"mCheck _checkList _m3(mlCore|toggleCheckMail|17924|over) _m1(mlCore|toggleCheckMail|17924|down) _k1(mlCore|toggleCheckMail|17924|keydown) _stopDefault\" id=\"mailCheck_17924\" name=\"\" onclick='ccr(this, \"lst.selectgot\", event)' resend=\"\" securityleveltype=\"NORMAL\" type=\"checkbox\" value=\"\"/><label class=\"blind\" for=\"mailCheck_17924\">\"[ICT인턴십] 국내과정 학생 서류지원 안내(~7/13(화), 13시까지)\" 메일 선택</label></li><li class=\"important _m1(mlCore|doStop) _c1(mlCore|markMailSelf|17924|mark) _ccr(lst.mark) _stopDefault\"><a href=\"#\" onblur=\"$Element(this).removeClass('_starFocus')\" onfocus=\"$Element(this).addClass('_starFocus')\"><span class=\"spr icoImportant icoImportantOff\" mailsn=\"17924\"><span class=\"blind\">중요메일로 표시하기</span></span></a></li><li class=\"read\"><a class=\"spr icoRead yes _c1(mlCore|readMail|unread_conversation|17924) _stopDefault\" href=\"#\" title=\"읽은 메일\"><span class=\"blind\">읽은 메일</span></a><span class=\"btn_cover _m1(mlCore|doStop) _c1(mlCore|toggleConversationList) _stopDefault\" style=\"display:none;\"><button class=\"btn_view_slave\"><span class=\"blind\">개의 관련 메일있음</span></button></span></li><li class=\"file\"><span class=\"spr \" style=\"cursor:default;\" title=\"\"><span class=\"blind\"></span></span></li></ul><div class=\"mTitle\"><div class=\"name _ccr(lst.from) \"><span class=\"blind\">보낸 이:</span><a class=\"_c1(myContextMenu|showSenderContextLayer|list|17924) _stopDefault\" href=\"#\" title='\"ICT인턴십 사무국\" &lt;ictintern@fkii.org&gt;'>ICT인턴십 사무국</a></div><div class=\"subject \"><a class=\"_d2(mcDragndrop|html5DragStart)\" draggable=\"true\" href=\"/read/popup/?nMailId=17924\"><span class=\"text _ccr(lst.title) _c1(mrCore|clickTitle|17924) _m2(mrCore|middleClickTitle|17924)\" foldersn=\"\" mailsn=\"17924\"><span class=\"folderName _ccr(lst.title) _c1(mrCore|clickTitle|17924) _m2(mrCore|middleClickTitle|17924)\" foldersn=\"\" mailsn=\"17924\"><span class=\"blind\">에 분류됨</span></span><strong class=\"mail_title _ccr(lst.title) _c1(mrCore|clickTitle|17924) _m2(mrCore|middleClickTitle|17924)\" foldersn=\"\" mailsn=\"17924\"><span class=\"blind\">메일 제목:</span>[ICT인턴십] 국내과정 학생 서류지원 안내(~7/13(화), 13시까지)</strong></span></a><a class=\"icon_previewMail\" href=\"#\" title=\"메일 내용 미리보기\"><span class=\"spr _m1(mlCore|previewMail|17924|0) _c1(mlCore|doStop) _stopDefault\"><em class=\"blind\">메일 내용 미리보기 레이어 열림</em></span></a><a class=\"newWindow _ccr(lst.newwindow) _c1(mrCore|popupRead|17924) _m1(mlCore|doStop) _stopDefault\" href=\"#\" title=\"새 창으로 메일 보기\"><span class=\"spr\"><em class=\"blind\">새 창으로 메일 보기</em></span></a></div></div><ul class=\"mInfo split_cell\"><li class=\"iDate\"><span class=\"blind\">보낸날짜:</span>07-02 15:43</li><li class=\"iSize\"><span class=\"blind\">메일크기::</span>37.9 KB</li></ul></li><li class=\"17920_li unmark _c1(mrCore|clickTitle|17920) _d2(mcDragndrop|html5DragStart)\" data-category=\"-1\" draggable=\"true\" foldersn=\"\" mailsn=\"17920\" style=\"\"><span class=\"ico_current_flag\"><i class=\"blind\">마지막에 읽은 메일</i></span><ul class=\"mInfo\"><li class=\"_m1(mlCore|toggleCheckMail|17920|down) _c1(mlCore|toggleCheckMail|17920|click) _stopDefault\"><input class=\"mCheck _checkList _m3(mlCore|toggleCheckMail|17920|over) _m1(mlCore|toggleCheckMail|17920|down) _k1(mlCore|toggleCheckMail|17920|keydown) _stopDefault\" id=\"mailCheck_17920\" name=\"\" onclick='ccr(this, \"lst.selectgot\", event)' resend=\"\" securityleveltype=\"NORMAL\" type=\"checkbox\" value=\"\"/><label class=\"blind\" for=\"mailCheck_17920\">\"[Webinar]: Accelerating Allegro PCB and APD Package Layout Using NVIDIA GPUs for Complex Designs\" 메일 선택</label></li><li class=\"important _m1(mlCore|doStop) _c1(mlCore|markMailSelf|17920|mark) _ccr(lst.mark) _stopDefault\"><a href=\"#\" onblur=\"$Element(this).removeClass('_starFocus')\" onfocus=\"$Element(this).addClass('_starFocus')\"><span class=\"spr icoImportant icoImportantOff\" mailsn=\"17920\"><span class=\"blind\">중요메일로 표시하기</span></span></a></li><li class=\"read\"><a class=\"spr icoRead yes _c1(mlCore|readMail|unread_conversation|17920) _stopDefault\" href=\"#\" title=\"읽은 메일\"><span class=\"blind\">읽은 메일</span></a><span class=\"btn_cover _m1(mlCore|doStop) _c1(mlCore|toggleConversationList) _stopDefault\" style=\"display:none;\"><button class=\"btn_view_slave\"><span class=\"blind\">개의 관련 메일있음</span></button></span></li><li class=\"file\"><span class=\"spr \" style=\"cursor:default;\" title=\"\"><span class=\"blind\"></span></span></li></ul><div class=\"mTitle\"><div class=\"name _ccr(lst.from) \"><span class=\"blind\">보낸 이:</span><a class=\"_c1(myContextMenu|showSenderContextLayer|list|17920) _stopDefault\" href=\"#\" title='\"EMA Design Automation\" &lt;ema@ema-eda.com&gt;'>EMA Design Automat..</a></div><div class=\"subject \"><a class=\"_d2(mcDragndrop|html5DragStart)\" draggable=\"true\" href=\"/read/popup/?nMailId=17920\"><span class=\"text _ccr(lst.title) _c1(mrCore|clickTitle|17920) _m2(mrCore|middleClickTitle|17920)\" foldersn=\"\" mailsn=\"17920\"><span class=\"folderName _ccr(lst.title) _c1(mrCore|clickTitle|17920) _m2(mrCore|middleClickTitle|17920)\" foldersn=\"\" mailsn=\"17920\"><span class=\"blind\">에 분류됨</span></span><strong class=\"mail_title _ccr(lst.title) _c1(mrCore|clickTitle|17920) _m2(mrCore|middleClickTitle|17920)\" foldersn=\"\" mailsn=\"17920\"><span class=\"blind\">메일 제목:</span>[Webinar]: Accelerating Allegro PCB and APD Package Layout Using NVIDIA GPUs for Complex Designs</strong></span></a><a class=\"icon_previewMail\" href=\"#\" title=\"메일 내용 미리보기\"><span class=\"spr _m1(mlCore|previewMail|17920|0) _c1(mlCore|doStop) _stopDefault\"><em class=\"blind\">메일 내용 미리보기 레이어 열림</em></span></a><a class=\"newWindow _ccr(lst.newwindow) _c1(mrCore|popupRead|17920) _m1(mlCore|doStop) _stopDefault\" href=\"#\" title=\"새 창으로 메일 보기\"><span class=\"spr\"><em class=\"blind\">새 창으로 메일 보기</em></span></a></div></div><ul class=\"mInfo split_cell\"><li class=\"iDate\"><span class=\"blind\">보낸날짜:</span>07-02 02:54</li><li class=\"iSize\"><span class=\"blind\">메일크기::</span>116.7 KB</li></ul></li><li class=\"17905_li unmark _c1(mrCore|clickTitle|17905) _d2(mcDragndrop|html5DragStart)\" data-category=\"-1\" draggable=\"true\" foldersn=\"\" mailsn=\"17905\" style=\"\"><span class=\"ico_current_flag\"><i class=\"blind\">마지막에 읽은 메일</i></span><ul class=\"mInfo\"><li class=\"_m1(mlCore|toggleCheckMail|17905|down) _c1(mlCore|toggleCheckMail|17905|click) _stopDefault\"><input class=\"mCheck _checkList _m3(mlCore|toggleCheckMail|17905|over) _m1(mlCore|toggleCheckMail|17905|down) _k1(mlCore|toggleCheckMail|17905|keydown) _stopDefault\" id=\"mailCheck_17905\" name=\"\" onclick='ccr(this, \"lst.selectgot\", event)' resend=\"\" securityleveltype=\"NORMAL\" type=\"checkbox\" value=\"\"/><label class=\"blind\" for=\"mailCheck_17905\">\"Re: 박근형 증빙서류 제출\" 메일 선택</label></li><li class=\"important _m1(mlCore|doStop) _c1(mlCore|markMailSelf|17905|mark) _ccr(lst.mark) _stopDefault\"><a href=\"#\" onblur=\"$Element(this).removeClass('_starFocus')\" onfocus=\"$Element(this).addClass('_starFocus')\"><span class=\"spr icoImportant icoImportantOff\" mailsn=\"17905\"><span class=\"blind\">중요메일로 표시하기</span></span></a></li><li class=\"read\"><a class=\"spr icoRead yes _c1(mlCore|readMail|unread_conversation|17905) _stopDefault\" href=\"#\" title=\"읽은 메일\"><span class=\"blind\">읽은 메일</span></a><span class=\"btn_cover _m1(mlCore|doStop) _c1(mlCore|toggleConversationList) _stopDefault\" style=\"display:none;\"><button class=\"btn_view_slave\"><span class=\"blind\">개의 관련 메일있음</span></button></span></li><li class=\"file\"><span class=\"spr \" style=\"cursor:default;\" title=\"\"><span class=\"blind\"></span></span></li></ul><div class=\"mTitle\"><div class=\"name _ccr(lst.from) \"><span class=\"blind\">보낸 이:</span><a class=\"_c1(myContextMenu|showSenderContextLayer|list|17905) _stopDefault\" href=\"#\" title='\" 정희석[ 대학원석사과정재학 / 컴퓨터학과 ]\" &lt;poco2889@korea.ac.kr&gt;'> 정희석[ 대학원석사..</a></div><div class=\"subject \"><a class=\"_d2(mcDragndrop|html5DragStart)\" draggable=\"true\" href=\"/read/popup/?nMailId=17905\"><span class=\"text _ccr(lst.title) _c1(mrCore|clickTitle|17905) _m2(mrCore|middleClickTitle|17905)\" foldersn=\"\" mailsn=\"17905\"><span class=\"folderName _ccr(lst.title) _c1(mrCore|clickTitle|17905) _m2(mrCore|middleClickTitle|17905)\" foldersn=\"\" mailsn=\"17905\"><span class=\"blind\">에 분류됨</span></span><strong class=\"mail_title _ccr(lst.title) _c1(mrCore|clickTitle|17905) _m2(mrCore|middleClickTitle|17905)\" foldersn=\"\" mailsn=\"17905\"><span class=\"blind\">메일 제목:</span>Re: 박근형 증빙서류 제출</strong></span></a><a class=\"icon_previewMail\" href=\"#\" title=\"메일 내용 미리보기\"><span class=\"spr _m1(mlCore|previewMail|17905|0) _c1(mlCore|doStop) _stopDefault\"><em class=\"blind\">메일 내용 미리보기 레이어 열림</em></span></a><a class=\"newWindow _ccr(lst.newwindow) _c1(mrCore|popupRead|17905) _m1(mlCore|doStop) _stopDefault\" href=\"#\" title=\"새 창으로 메일 보기\"><span class=\"spr\"><em class=\"blind\">새 창으로 메일 보기</em></span></a></div></div><ul class=\"mInfo split_cell\"><li class=\"iDate\"><span class=\"blind\">보낸날짜:</span>07-01 10:02</li><li class=\"iSize\"><span class=\"blind\">메일크기::</span>1.7 MB</li></ul></li><li class=\"17890_li unmark _c1(mrCore|clickTitle|17890) _d2(mcDragndrop|html5DragStart)\" data-category=\"214\" draggable=\"true\" foldersn=\"\" mailsn=\"17890\" style=\"\"><span class=\"ico_current_flag\"><i class=\"blind\">마지막에 읽은 메일</i></span><ul class=\"mInfo\"><li class=\"_m1(mlCore|toggleCheckMail|17890|down) _c1(mlCore|toggleCheckMail|17890|click) _stopDefault\"><input class=\"mCheck _checkList _m3(mlCore|toggleCheckMail|17890|over) _m1(mlCore|toggleCheckMail|17890|down) _k1(mlCore|toggleCheckMail|17890|keydown) _stopDefault\" id=\"mailCheck_17890\" name=\"\" onclick='ccr(this, \"lst.selectgot\", event)' resend=\"\" securityleveltype=\"NORMAL\" type=\"checkbox\" value=\"\"/><label class=\"blind\" for=\"mailCheck_17890\">\"sun dong eun님이 ‘강의자료’ 폴더를 공유했습니다.\" 메일 선택</label></li><li class=\"important _m1(mlCore|doStop) _c1(mlCore|markMailSelf|17890|mark) _ccr(lst.mark) _stopDefault\"><a href=\"#\" onblur=\"$Element(this).removeClass('_starFocus')\" onfocus=\"$Element(this).addClass('_starFocus')\"><span class=\"spr icoImportant icoImportantOff\" mailsn=\"17890\"><span class=\"blind\">중요메일로 표시하기</span></span></a></li><li class=\"read\"><a class=\"spr icoRead yes _c1(mlCore|readMail|unread_conversation|17890) _stopDefault\" href=\"#\" title=\"읽은 메일\"><span class=\"blind\">읽은 메일</span></a><span class=\"btn_cover _m1(mlCore|doStop) _c1(mlCore|toggleConversationList) _stopDefault\" style=\"display:none;\"><button class=\"btn_view_slave\"><span class=\"blind\">개의 관련 메일있음</span></button></span></li><li class=\"file\"><span class=\"spr \" style=\"cursor:default;\" title=\"\"><span class=\"blind\"></span></span></li></ul><div class=\"mTitle\"><div class=\"name _ccr(lst.from) \"><span class=\"blind\">보낸 이:</span><a class=\"_c1(myContextMenu|showSenderContextLayer|list|17890) _stopDefault\" href=\"#\" title='\"sun dong eun \\(via Dropbox\\)\" &lt;no-reply@dropbox.com&gt;'>sun dong eun \\(via Dr..</a></div><div class=\"subject \"><a class=\"_d2(mcDragndrop|html5DragStart)\" draggable=\"true\" href=\"/read/popup/?nMailId=17890\"><span class=\"text _ccr(lst.title) _c1(mrCore|clickTitle|17890) _m2(mrCore|middleClickTitle|17890)\" foldersn=\"\" mailsn=\"17890\"><span class=\"folderName _ccr(lst.title) _c1(mrCore|clickTitle|17890) _m2(mrCore|middleClickTitle|17890)\" foldersn=\"\" mailsn=\"17890\"><span class=\"blind\">에 분류됨</span></span><strong class=\"mail_title _ccr(lst.title) _c1(mrCore|clickTitle|17890) _m2(mrCore|middleClickTitle|17890)\" foldersn=\"\" mailsn=\"17890\"><span class=\"blind\">메일 제목:</span>sun dong eun님이 ‘강의자료’ 폴더를 공유했습니다.</strong></span></a><a class=\"icon_previewMail\" href=\"#\" title=\"메일 내용 미리보기\"><span class=\"spr _m1(mlCore|previewMail|17890|0) _c1(mlCore|doStop) _stopDefault\"><em class=\"blind\">메일 내용 미리보기 레이어 열림</em></span></a><a class=\"newWindow _ccr(lst.newwindow) _c1(mrCore|popupRead|17890) _m1(mlCore|doStop) _stopDefault\" href=\"#\" title=\"새 창으로 메일 보기\"><span class=\"spr\"><em class=\"blind\">새 창으로 메일 보기</em></span></a></div></div><ul class=\"mInfo split_cell\"><li class=\"iDate\"><span class=\"blind\">보낸날짜:</span>06-30 09:09</li><li class=\"iSize\"><span class=\"blind\">메일크기::</span>12.4 KB</li></ul></li><li class=\"17882_li unmark _c1(mrCore|clickTitle|17882) _d2(mcDragndrop|html5DragStart)\" data-category=\"-1\" draggable=\"true\" foldersn=\"\" mailsn=\"17882\" style=\"\"><span class=\"ico_current_flag\"><i class=\"blind\">마지막에 읽은 메일</i></span><ul class=\"mInfo\"><li class=\"_m1(mlCore|toggleCheckMail|17882|down) _c1(mlCore|toggleCheckMail|17882|click) _stopDefault\"><input class=\"mCheck _checkList _m3(mlCore|toggleCheckMail|17882|over) _m1(mlCore|toggleCheckMail|17882|down) _k1(mlCore|toggleCheckMail|17882|keydown) _stopDefault\" id=\"mailCheck_17882\" name=\"\" onclick='ccr(this, \"lst.selectgot\", event)' resend=\"\" securityleveltype=\"NORMAL\" type=\"checkbox\" value=\"\"/><label class=\"blind\" for=\"mailCheck_17882\">\"데이터 청년 캠퍼스 관련 서류 및 사전 교육 정보 안내\" 메일 선택</label></li><li class=\"important _m1(mlCore|doStop) _c1(mlCore|markMailSelf|17882|mark) _ccr(lst.mark) _stopDefault\"><a href=\"#\" onblur=\"$Element(this).removeClass('_starFocus')\" onfocus=\"$Element(this).addClass('_starFocus')\"><span class=\"spr icoImportant icoImportantOff\" mailsn=\"17882\"><span class=\"blind\">중요메일로 표시하기</span></span></a></li><li class=\"read\"><a class=\"spr icoRead yes _c1(mlCore|readMail|unread_conversation|17882) _stopDefault\" href=\"#\" title=\"읽은 메일\"><span class=\"blind\">읽은 메일</span></a><span class=\"btn_cover _m1(mlCore|doStop) _c1(mlCore|toggleConversationList) _stopDefault\" style=\"display:none;\"><button class=\"btn_view_slave\"><span class=\"blind\">개의 관련 메일있음</span></button></span></li><li class=\"file\"><span class=\"spr icoFile\" style=\"cursor:default;\" title=\"첨부파일 있음\"><span class=\"blind\">첨부파일있는 메일</span></span></li></ul><div class=\"mTitle\"><div class=\"name _ccr(lst.from) \"><span class=\"blind\">보낸 이:</span><a class=\"_c1(myContextMenu|showSenderContextLayer|list|17882) _stopDefault\" href=\"#\" title='\" 유길상[ 교수 / 정보창의교육연구소 ]\" &lt;ksyoo@korea.ac.kr&gt;'> 유길상[ 교수 / 정보창..</a></div><div class=\"subject \"><a class=\"_d2(mcDragndrop|html5DragStart)\" draggable=\"true\" href=\"/read/popup/?nMailId=17882\"><span class=\"text _ccr(lst.title) _c1(mrCore|clickTitle|17882) _m2(mrCore|middleClickTitle|17882)\" foldersn=\"\" mailsn=\"17882\"><span class=\"folderName _ccr(lst.title) _c1(mrCore|clickTitle|17882) _m2(mrCore|middleClickTitle|17882)\" foldersn=\"\" mailsn=\"17882\"><span class=\"blind\">에 분류됨</span></span><strong class=\"mail_title _ccr(lst.title) _c1(mrCore|clickTitle|17882) _m2(mrCore|middleClickTitle|17882)\" foldersn=\"\" mailsn=\"17882\"><span class=\"blind\">메일 제목:</span>데이터 청년 캠퍼스 관련 서류 및 사전 교육 정보 안내</strong></span></a><a class=\"icon_previewMail\" href=\"#\" title=\"메일 내용 미리보기\"><span class=\"spr _m1(mlCore|previewMail|17882|0) _c1(mlCore|doStop) _stopDefault\"><em class=\"blind\">메일 내용 미리보기 레이어 열림</em></span></a><a class=\"newWindow _ccr(lst.newwindow) _c1(mrCore|popupRead|17882) _m1(mlCore|doStop) _stopDefault\" href=\"#\" title=\"새 창으로 메일 보기\"><span class=\"spr\"><em class=\"blind\">새 창으로 메일 보기</em></span></a></div></div><ul class=\"mInfo split_cell\"><li class=\"iDate\"><span class=\"blind\">보낸날짜:</span>06-29 14:39</li><li class=\"iSize\"><span class=\"blind\">메일크기::</span>6.1 MB</li></ul></li><li class=\"17877_li unmark _c1(mrCore|clickTitle|17877) _d2(mcDragndrop|html5DragStart)\" data-category=\"-1\" draggable=\"true\" foldersn=\"\" mailsn=\"17877\" style=\"\"><span class=\"ico_current_flag\"><i class=\"blind\">마지막에 읽은 메일</i></span><ul class=\"mInfo\"><li class=\"_m1(mlCore|toggleCheckMail|17877|down) _c1(mlCore|toggleCheckMail|17877|click) _stopDefault\"><input class=\"mCheck _checkList _m3(mlCore|toggleCheckMail|17877|over) _m1(mlCore|toggleCheckMail|17877|down) _k1(mlCore|toggleCheckMail|17877|keydown) _stopDefault\" id=\"mailCheck_17877\" name=\"\" onclick='ccr(this, \"lst.selectgot\", event)' resend=\"\" securityleveltype=\"NORMAL\" type=\"checkbox\" value=\"\"/><label class=\"blind\" for=\"mailCheck_17877\">\"Re: 제출 서류 관련 문의\" 메일 선택</label></li><li class=\"important _m1(mlCore|doStop) _c1(mlCore|markMailSelf|17877|mark) _ccr(lst.mark) _stopDefault\"><a href=\"#\" onblur=\"$Element(this).removeClass('_starFocus')\" onfocus=\"$Element(this).addClass('_starFocus')\"><span class=\"spr icoImportant icoImportantOff\" mailsn=\"17877\"><span class=\"blind\">중요메일로 표시하기</span></span></a></li><li class=\"read\"><a class=\"spr icoRead yes _c1(mlCore|readMail|unread_conversation|17877) _stopDefault\" href=\"#\" title=\"읽은 메일\"><span class=\"blind\">읽은 메일</span></a><span class=\"btn_cover _m1(mlCore|doStop) _c1(mlCore|toggleConversationList) _stopDefault\" style=\"display:none;\"><button class=\"btn_view_slave\"><span class=\"blind\">개의 관련 메일있음</span></button></span></li><li class=\"file\"><span class=\"spr \" style=\"cursor:default;\" title=\"\"><span class=\"blind\"></span></span></li></ul><div class=\"mTitle\"><div class=\"name _ccr(lst.from) \"><span class=\"blind\">보낸 이:</span><a class=\"_c1(myContextMenu|showSenderContextLayer|list|17877) _stopDefault\" href=\"#\" title='\" 정희석[ 대학원석사과정재학 / 컴퓨터학과 ]\" &lt;poco2889@korea.ac.kr&gt;'> 정희석[ 대학원석사..</a></div><div class=\"subject \"><a class=\"_d2(mcDragndrop|html5DragStart)\" draggable=\"true\" href=\"/read/popup/?nMailId=17877\"><span class=\"text _ccr(lst.title) _c1(mrCore|clickTitle|17877) _m2(mrCore|middleClickTitle|17877)\" foldersn=\"\" mailsn=\"17877\"><span class=\"folderName _ccr(lst.title) _c1(mrCore|clickTitle|17877) _m2(mrCore|middleClickTitle|17877)\" foldersn=\"\" mailsn=\"17877\"><span class=\"blind\">에 분류됨</span></span><strong class=\"mail_title _ccr(lst.title) _c1(mrCore|clickTitle|17877) _m2(mrCore|middleClickTitle|17877)\" foldersn=\"\" mailsn=\"17877\"><span class=\"blind\">메일 제목:</span>Re: 제출 서류 관련 문의</strong></span></a><a class=\"icon_previewMail\" href=\"#\" title=\"메일 내용 미리보기\"><span class=\"spr _m1(mlCore|previewMail|17877|0) _c1(mlCore|doStop) _stopDefault\"><em class=\"blind\">메일 내용 미리보기 레이어 열림</em></span></a><a class=\"newWindow _ccr(lst.newwindow) _c1(mrCore|popupRead|17877) _m1(mlCore|doStop) _stopDefault\" href=\"#\" title=\"새 창으로 메일 보기\"><span class=\"spr\"><em class=\"blind\">새 창으로 메일 보기</em></span></a></div></div><ul class=\"mInfo split_cell\"><li class=\"iDate\"><span class=\"blind\">보낸날짜:</span>06-29 10:29</li><li class=\"iSize\"><span class=\"blind\">메일크기::</span>1.7 MB</li></ul></li><li class=\"17870_li unmark _c1(mrCore|clickTitle|17870) _d2(mcDragndrop|html5DragStart)\" data-category=\"-1\" draggable=\"true\" foldersn=\"\" mailsn=\"17870\" style=\"\"><span class=\"ico_current_flag\"><i class=\"blind\">마지막에 읽은 메일</i></span><ul class=\"mInfo\"><li class=\"_m1(mlCore|toggleCheckMail|17870|down) _c1(mlCore|toggleCheckMail|17870|click) _stopDefault\"><input class=\"mCheck _checkList _m3(mlCore|toggleCheckMail|17870|over) _m1(mlCore|toggleCheckMail|17870|down) _k1(mlCore|toggleCheckMail|17870|keydown) _stopDefault\" id=\"mailCheck_17870\" name=\"\" onclick='ccr(this, \"lst.selectgot\", event)' resend=\"\" securityleveltype=\"NORMAL\" type=\"checkbox\" value=\"\"/><label class=\"blind\" for=\"mailCheck_17870\">\"AI·DATA INSIGHT 14호 - 기계번역 데이터셋 : 규모의 게임\" 메일 선택</label></li><li class=\"important _m1(mlCore|doStop) _c1(mlCore|markMailSelf|17870|mark) _ccr(lst.mark) _stopDefault\"><a href=\"#\" onblur=\"$Element(this).removeClass('_starFocus')\" onfocus=\"$Element(this).addClass('_starFocus')\"><span class=\"spr icoImportant icoImportantOff\" mailsn=\"17870\"><span class=\"blind\">중요메일로 표시하기</span></span></a></li><li class=\"read\"><a class=\"spr icoRead yes _c1(mlCore|readMail|unread_conversation|17870) _stopDefault\" href=\"#\" title=\"읽은 메일\"><span class=\"blind\">읽은 메일</span></a><span class=\"btn_cover _m1(mlCore|doStop) _c1(mlCore|toggleConversationList) _stopDefault\" style=\"display:none;\"><button class=\"btn_view_slave\"><span class=\"blind\">개의 관련 메일있음</span></button></span></li><li class=\"file\"><span class=\"spr \" style=\"cursor:default;\" title=\"\"><span class=\"blind\"></span></span></li></ul><div class=\"mTitle\"><div class=\"name _ccr(lst.from) \"><span class=\"blind\">보낸 이:</span><a class=\"_c1(myContextMenu|showSenderContextLayer|list|17870) _stopDefault\" href=\"#\" title='\"AI 허브\" &lt;aihub@aihub.kr&gt;'>AI 허브</a></div><div class=\"subject \"><a class=\"_d2(mcDragndrop|html5DragStart)\" draggable=\"true\" href=\"/read/popup/?nMailId=17870\"><span class=\"text _ccr(lst.title) _c1(mrCore|clickTitle|17870) _m2(mrCore|middleClickTitle|17870)\" foldersn=\"\" mailsn=\"17870\"><span class=\"folderName _ccr(lst.title) _c1(mrCore|clickTitle|17870) _m2(mrCore|middleClickTitle|17870)\" foldersn=\"\" mailsn=\"17870\"><span class=\"blind\">에 분류됨</span></span><strong class=\"mail_title _ccr(lst.title) _c1(mrCore|clickTitle|17870) _m2(mrCore|middleClickTitle|17870)\" foldersn=\"\" mailsn=\"17870\"><span class=\"blind\">메일 제목:</span>AI·DATA INSIGHT 14호 - 기계번역 데이터셋 : 규모의 게임</strong></span></a><a class=\"icon_previewMail\" href=\"#\" title=\"메일 내용 미리보기\"><span class=\"spr _m1(mlCore|previewMail|17870|0) _c1(mlCore|doStop) _stopDefault\"><em class=\"blind\">메일 내용 미리보기 레이어 열림</em></span></a><a class=\"newWindow _ccr(lst.newwindow) _c1(mrCore|popupRead|17870) _m1(mlCore|doStop) _stopDefault\" href=\"#\" title=\"새 창으로 메일 보기\"><span class=\"spr\"><em class=\"blind\">새 창으로 메일 보기</em></span></a></div></div><ul class=\"mInfo split_cell\"><li class=\"iDate\"><span class=\"blind\">보낸날짜:</span>06-29 01:23</li><li class=\"iSize\"><span class=\"blind\">메일크기::</span>38.1 KB</li></ul></li><li class=\"17861_li unmark _c1(mrCore|clickTitle|17861) _d2(mcDragndrop|html5DragStart)\" data-category=\"-1\" draggable=\"true\" foldersn=\"\" mailsn=\"17861\" style=\"\"><span class=\"ico_current_flag\"><i class=\"blind\">마지막에 읽은 메일</i></span><ul class=\"mInfo\"><li class=\"_m1(mlCore|toggleCheckMail|17861|down) _c1(mlCore|toggleCheckMail|17861|click) _stopDefault\"><input class=\"mCheck _checkList _m3(mlCore|toggleCheckMail|17861|over) _m1(mlCore|toggleCheckMail|17861|down) _k1(mlCore|toggleCheckMail|17861|keydown) _stopDefault\" id=\"mailCheck_17861\" name=\"\" onclick='ccr(this, \"lst.selectgot\", event)' resend=\"\" securityleveltype=\"NORMAL\" type=\"checkbox\" value=\"\"/><label class=\"blind\" for=\"mailCheck_17861\">\"[기업가정신 NOW] 로봇 스타트업 어떻게 육성해야 하나\" 메일 선택</label></li><li class=\"important _m1(mlCore|doStop) _c1(mlCore|markMailSelf|17861|mark) _ccr(lst.mark) _stopDefault\"><a href=\"#\" onblur=\"$Element(this).removeClass('_starFocus')\" onfocus=\"$Element(this).addClass('_starFocus')\"><span class=\"spr icoImportant icoImportantOff\" mailsn=\"17861\"><span class=\"blind\">중요메일로 표시하기</span></span></a></li><li class=\"read\"><a class=\"spr icoRead yes _c1(mlCore|readMail|unread_conversation|17861) _stopDefault\" href=\"#\" title=\"읽은 메일\"><span class=\"blind\">읽은 메일</span></a><span class=\"btn_cover _m1(mlCore|doStop) _c1(mlCore|toggleConversationList) _stopDefault\" style=\"display:none;\"><button class=\"btn_view_slave\"><span class=\"blind\">개의 관련 메일있음</span></button></span></li><li class=\"file\"><span class=\"spr \" style=\"cursor:default;\" title=\"\"><span class=\"blind\"></span></span></li></ul><div class=\"mTitle\"><div class=\"name _ccr(lst.from) \"><span class=\"blind\">보낸 이:</span><a class=\"_c1(myContextMenu|showSenderContextLayer|list|17861) _stopDefault\" href=\"#\" title='\"한국청년기업가정신재단\" &lt;newsletter@koef.or.kr&gt;'>한국청년기업가정신..</a></div><div class=\"subject \"><a class=\"_d2(mcDragndrop|html5DragStart)\" draggable=\"true\" href=\"/read/popup/?nMailId=17861\"><span class=\"text _ccr(lst.title) _c1(mrCore|clickTitle|17861) _m2(mrCore|middleClickTitle|17861)\" foldersn=\"\" mailsn=\"17861\"><span class=\"folderName _ccr(lst.title) _c1(mrCore|clickTitle|17861) _m2(mrCore|middleClickTitle|17861)\" foldersn=\"\" mailsn=\"17861\"><span class=\"blind\">에 분류됨</span></span><strong class=\"mail_title _ccr(lst.title) _c1(mrCore|clickTitle|17861) _m2(mrCore|middleClickTitle|17861)\" foldersn=\"\" mailsn=\"17861\"><span class=\"blind\">메일 제목:</span>[기업가정신 NOW] 로봇 스타트업 어떻게 육성해야 하나</strong></span></a><a class=\"icon_previewMail\" href=\"#\" title=\"메일 내용 미리보기\"><span class=\"spr _m1(mlCore|previewMail|17861|0) _c1(mlCore|doStop) _stopDefault\"><em class=\"blind\">메일 내용 미리보기 레이어 열림</em></span></a><a class=\"newWindow _ccr(lst.newwindow) _c1(mrCore|popupRead|17861) _m1(mlCore|doStop) _stopDefault\" href=\"#\" title=\"새 창으로 메일 보기\"><span class=\"spr\"><em class=\"blind\">새 창으로 메일 보기</em></span></a></div></div><ul class=\"mInfo split_cell\"><li class=\"iDate\"><span class=\"blind\">보낸날짜:</span>06-28 13:06</li><li class=\"iSize\"><span class=\"blind\">메일크기::</span>60.3 KB</li></ul></li><li class=\"17842_li unmark _c1(mrCore|clickTitle|17842) _d2(mcDragndrop|html5DragStart)\" data-category=\"-1\" draggable=\"true\" foldersn=\"\" mailsn=\"17842\" style=\"\"><span class=\"ico_current_flag\"><i class=\"blind\">마지막에 읽은 메일</i></span><ul class=\"mInfo\"><li class=\"_m1(mlCore|toggleCheckMail|17842|down) _c1(mlCore|toggleCheckMail|17842|click) _stopDefault\"><input class=\"mCheck _checkList _m3(mlCore|toggleCheckMail|17842|over) _m1(mlCore|toggleCheckMail|17842|down) _k1(mlCore|toggleCheckMail|17842|keydown) _stopDefault\" id=\"mailCheck_17842\" name=\"\" onclick='ccr(this, \"lst.selectgot\", event)' resend=\"\" securityleveltype=\"NORMAL\" type=\"checkbox\" value=\"\"/><label class=\"blind\" for=\"mailCheck_17842\">\"데이터 청년 캠퍼스 출석체크 안내\" 메일 선택</label></li><li class=\"important _m1(mlCore|doStop) _c1(mlCore|markMailSelf|17842|mark) _ccr(lst.mark) _stopDefault\"><a href=\"#\" onblur=\"$Element(this).removeClass('_starFocus')\" onfocus=\"$Element(this).addClass('_starFocus')\"><span class=\"spr icoImportant icoImportantOff\" mailsn=\"17842\"><span class=\"blind\">중요메일로 표시하기</span></span></a></li><li class=\"read\"><a class=\"spr icoRead yes _c1(mlCore|readMail|unread_conversation|17842) _stopDefault\" href=\"#\" title=\"읽은 메일\"><span class=\"blind\">읽은 메일</span></a><span class=\"btn_cover _m1(mlCore|doStop) _c1(mlCore|toggleConversationList) _stopDefault\" style=\"display:none;\"><button class=\"btn_view_slave\"><span class=\"blind\">개의 관련 메일있음</span></button></span></li><li class=\"file\"><span class=\"spr \" style=\"cursor:default;\" title=\"\"><span class=\"blind\"></span></span></li></ul><div class=\"mTitle\"><div class=\"name _ccr(lst.from) \"><span class=\"blind\">보낸 이:</span><a class=\"_c1(myContextMenu|showSenderContextLayer|list|17842) _stopDefault\" href=\"#\" title='\" 유길상[ 교수 / 정보창의교육연구소 ]\" &lt;ksyoo@korea.ac.kr&gt;'> 유길상[ 교수 / 정보창..</a></div><div class=\"subject \"><a class=\"_d2(mcDragndrop|html5DragStart)\" draggable=\"true\" href=\"/read/popup/?nMailId=17842\"><span class=\"text _ccr(lst.title) _c1(mrCore|clickTitle|17842) _m2(mrCore|middleClickTitle|17842)\" foldersn=\"\" mailsn=\"17842\"><span class=\"folderName _ccr(lst.title) _c1(mrCore|clickTitle|17842) _m2(mrCore|middleClickTitle|17842)\" foldersn=\"\" mailsn=\"17842\"><span class=\"blind\">에 분류됨</span></span><strong class=\"mail_title _ccr(lst.title) _c1(mrCore|clickTitle|17842) _m2(mrCore|middleClickTitle|17842)\" foldersn=\"\" mailsn=\"17842\"><span class=\"blind\">메일 제목:</span>데이터 청년 캠퍼스 출석체크 안내</strong></span></a><a class=\"icon_previewMail\" href=\"#\" title=\"메일 내용 미리보기\"><span class=\"spr _m1(mlCore|previewMail|17842|0) _c1(mlCore|doStop) _stopDefault\"><em class=\"blind\">메일 내용 미리보기 레이어 열림</em></span></a><a class=\"newWindow _ccr(lst.newwindow) _c1(mrCore|popupRead|17842) _m1(mlCore|doStop) _stopDefault\" href=\"#\" title=\"새 창으로 메일 보기\"><span class=\"spr\"><em class=\"blind\">새 창으로 메일 보기</em></span></a></div></div><ul class=\"mInfo split_cell\"><li class=\"iDate\"><span class=\"blind\">보낸날짜:</span>06-25 20:43</li><li class=\"iSize\"><span class=\"blind\">메일크기::</span>6.2 KB</li></ul></li><li class=\"17838_li unmark _c1(mrCore|clickTitle|17838) _d2(mcDragndrop|html5DragStart)\" data-category=\"-1\" draggable=\"true\" foldersn=\"\" mailsn=\"17838\" style=\"\"><span class=\"ico_current_flag\"><i class=\"blind\">마지막에 읽은 메일</i></span><ul class=\"mInfo\"><li class=\"_m1(mlCore|toggleCheckMail|17838|down) _c1(mlCore|toggleCheckMail|17838|click) _stopDefault\"><input class=\"mCheck _checkList _m3(mlCore|toggleCheckMail|17838|over) _m1(mlCore|toggleCheckMail|17838|down) _k1(mlCore|toggleCheckMail|17838|keydown) _stopDefault\" id=\"mailCheck_17838\" name=\"\" onclick='ccr(this, \"lst.selectgot\", event)' resend=\"\" securityleveltype=\"NORMAL\" type=\"checkbox\" value=\"\"/><label class=\"blind\" for=\"mailCheck_17838\">\"고려대학교 청년캠퍼스 교육 안내\" 메일 선택</label></li><li class=\"important _m1(mlCore|doStop) _c1(mlCore|markMailSelf|17838|mark) _ccr(lst.mark) _stopDefault\"><a href=\"#\" onblur=\"$Element(this).removeClass('_starFocus')\" onfocus=\"$Element(this).addClass('_starFocus')\"><span class=\"spr icoImportant icoImportantOff\" mailsn=\"17838\"><span class=\"blind\">중요메일로 표시하기</span></span></a></li><li class=\"read\"><a class=\"spr icoRead re _c1(mlCore|readMail|unread_conversation|17838) _stopDefault\" href=\"#\" title=\"답장한 읽은 메일\"><span class=\"blind\">답장한 읽은 메일</span></a><span class=\"btn_cover _m1(mlCore|doStop) _c1(mlCore|toggleConversationList) _stopDefault\" style=\"display:none;\"><button class=\"btn_view_slave\"><span class=\"blind\">개의 관련 메일있음</span></button></span></li><li class=\"file\"><span class=\"spr icoFile\" style=\"cursor:default;\" title=\"첨부파일 있음\"><span class=\"blind\">첨부파일있는 메일</span></span></li></ul><div class=\"mTitle\"><div class=\"name _ccr(lst.from) \"><span class=\"blind\">보낸 이:</span><a class=\"_c1(myContextMenu|showSenderContextLayer|list|17838) _stopDefault\" href=\"#\" title='\" 유길상[ 교수 / 정보창의교육연구소 ]\" &lt;ksyoo@korea.ac.kr&gt;'> 유길상[ 교수 / 정보창..</a></div><div class=\"subject \"><a class=\"_d2(mcDragndrop|html5DragStart)\" draggable=\"true\" href=\"/read/popup/?nMailId=17838\"><span class=\"text _ccr(lst.title) _c1(mrCore|clickTitle|17838) _m2(mrCore|middleClickTitle|17838)\" foldersn=\"\" mailsn=\"17838\"><span class=\"folderName _ccr(lst.title) _c1(mrCore|clickTitle|17838) _m2(mrCore|middleClickTitle|17838)\" foldersn=\"\" mailsn=\"17838\"><span class=\"blind\">에 분류됨</span></span><strong class=\"mail_title _ccr(lst.title) _c1(mrCore|clickTitle|17838) _m2(mrCore|middleClickTitle|17838)\" foldersn=\"\" mailsn=\"17838\"><span class=\"blind\">메일 제목:</span>고려대학교 청년캠퍼스 교육 안내</strong></span></a><a class=\"icon_previewMail\" href=\"#\" title=\"메일 내용 미리보기\"><span class=\"spr _m1(mlCore|previewMail|17838|0) _c1(mlCore|doStop) _stopDefault\"><em class=\"blind\">메일 내용 미리보기 레이어 열림</em></span></a><a class=\"newWindow _ccr(lst.newwindow) _c1(mrCore|popupRead|17838) _m1(mlCore|doStop) _stopDefault\" href=\"#\" title=\"새 창으로 메일 보기\"><span class=\"spr\"><em class=\"blind\">새 창으로 메일 보기</em></span></a></div></div><ul class=\"mInfo split_cell\"><li class=\"iDate\"><span class=\"blind\">보낸날짜:</span>06-25 15:47</li><li class=\"iSize\"><span class=\"blind\">메일크기::</span>141.0 KB</li></ul></li><li class=\"17823_li unmark _c1(mrCore|clickTitle|17823) _d2(mcDragndrop|html5DragStart)\" data-category=\"-1\" draggable=\"true\" foldersn=\"\" mailsn=\"17823\" style=\"\"><span class=\"ico_current_flag\"><i class=\"blind\">마지막에 읽은 메일</i></span><ul class=\"mInfo\"><li class=\"_m1(mlCore|toggleCheckMail|17823|down) _c1(mlCore|toggleCheckMail|17823|click) _stopDefault\"><input class=\"mCheck _checkList _m3(mlCore|toggleCheckMail|17823|over) _m1(mlCore|toggleCheckMail|17823|down) _k1(mlCore|toggleCheckMail|17823|keydown) _stopDefault\" id=\"mailCheck_17823\" name=\"\" onclick='ccr(this, \"lst.selectgot\", event)' resend=\"\" securityleveltype=\"NORMAL\" type=\"checkbox\" value=\"\"/><label class=\"blind\" for=\"mailCheck_17823\">\"RE: RE: 오티관련메일 미수신\" 메일 선택</label></li><li class=\"important _m1(mlCore|doStop) _c1(mlCore|markMailSelf|17823|mark) _ccr(lst.mark) _stopDefault\"><a href=\"#\" onblur=\"$Element(this).removeClass('_starFocus')\" onfocus=\"$Element(this).addClass('_starFocus')\"><span class=\"spr icoImportant icoImportantOff\" mailsn=\"17823\"><span class=\"blind\">중요메일로 표시하기</span></span></a></li><li class=\"read\"><a class=\"spr icoRead yes _c1(mlCore|readMail|unread_conversation|17823) _stopDefault\" href=\"#\" title=\"읽은 메일\"><span class=\"blind\">읽은 메일</span></a><span class=\"btn_cover _m1(mlCore|doStop) _c1(mlCore|toggleConversationList) _stopDefault\" style=\"display:none;\"><button class=\"btn_view_slave\"><span class=\"blind\">개의 관련 메일있음</span></button></span></li><li class=\"file\"><span class=\"spr \" style=\"cursor:default;\" title=\"\"><span class=\"blind\"></span></span></li></ul><div class=\"mTitle\"><div class=\"name _ccr(lst.from) \"><span class=\"blind\">보낸 이:</span><a class=\"_c1(myContextMenu|showSenderContextLayer|list|17823) _stopDefault\" href=\"#\" title='\"데이터청년캠퍼스\" &lt;bigjob@kdata.or.kr&gt;'>데이터청년캠퍼스</a></div><div class=\"subject \"><a class=\"_d2(mcDragndrop|html5DragStart)\" draggable=\"true\" href=\"/read/popup/?nMailId=17823\"><span class=\"text _ccr(lst.title) _c1(mrCore|clickTitle|17823) _m2(mrCore|middleClickTitle|17823)\" foldersn=\"\" mailsn=\"17823\"><span class=\"folderName _ccr(lst.title) _c1(mrCore|clickTitle|17823) _m2(mrCore|middleClickTitle|17823)\" foldersn=\"\" mailsn=\"17823\"><span class=\"blind\">에 분류됨</span></span><strong class=\"mail_title _ccr(lst.title) _c1(mrCore|clickTitle|17823) _m2(mrCore|middleClickTitle|17823)\" foldersn=\"\" mailsn=\"17823\"><span class=\"blind\">메일 제목:</span>RE: RE: 오티관련메일 미수신</strong></span></a><a class=\"icon_previewMail\" href=\"#\" title=\"메일 내용 미리보기\"><span class=\"spr _m1(mlCore|previewMail|17823|0) _c1(mlCore|doStop) _stopDefault\"><em class=\"blind\">메일 내용 미리보기 레이어 열림</em></span></a><a class=\"newWindow _ccr(lst.newwindow) _c1(mrCore|popupRead|17823) _m1(mlCore|doStop) _stopDefault\" href=\"#\" title=\"새 창으로 메일 보기\"><span class=\"spr\"><em class=\"blind\">새 창으로 메일 보기</em></span></a></div></div><ul class=\"mInfo split_cell\"><li class=\"iDate\"><span class=\"blind\">보낸날짜:</span>06-24 15:28</li><li class=\"iSize\"><span class=\"blind\">메일크기::</span>53.8 KB</li></ul></li><li class=\"17821_li unmark _c1(mrCore|clickTitle|17821) _d2(mcDragndrop|html5DragStart)\" data-category=\"-1\" draggable=\"true\" foldersn=\"\" mailsn=\"17821\" style=\"\"><span class=\"ico_current_flag\"><i class=\"blind\">마지막에 읽은 메일</i></span><ul class=\"mInfo\"><li class=\"_m1(mlCore|toggleCheckMail|17821|down) _c1(mlCore|toggleCheckMail|17821|click) _stopDefault\"><input class=\"mCheck _checkList _m3(mlCore|toggleCheckMail|17821|over) _m1(mlCore|toggleCheckMail|17821|down) _k1(mlCore|toggleCheckMail|17821|keydown) _stopDefault\" id=\"mailCheck_17821\" name=\"\" onclick='ccr(this, \"lst.selectgot\", event)' resend=\"\" securityleveltype=\"NORMAL\" type=\"checkbox\" value=\"\"/><label class=\"blind\" for=\"mailCheck_17821\">\"2021년 데이터 청년 캠퍼스 교육생 오리엔테이션 개최(비대면) 및 온라인 사전 교육 안내(고려대)\" 메일 선택</label></li><li class=\"important _m1(mlCore|doStop) _c1(mlCore|markMailSelf|17821|mark) _ccr(lst.mark) _stopDefault\"><a href=\"#\" onblur=\"$Element(this).removeClass('_starFocus')\" onfocus=\"$Element(this).addClass('_starFocus')\"><span class=\"spr icoImportant icoImportantOff\" mailsn=\"17821\"><span class=\"blind\">중요메일로 표시하기</span></span></a></li><li class=\"read\"><a class=\"spr icoRead yes _c1(mlCore|readMail|unread_conversation|17821) _stopDefault\" href=\"#\" title=\"읽은 메일\"><span class=\"blind\">읽은 메일</span></a><span class=\"btn_cover _m1(mlCore|doStop) _c1(mlCore|toggleConversationList) _stopDefault\" style=\"display:none;\"><button class=\"btn_view_slave\"><span class=\"blind\">개의 관련 메일있음</span></button></span></li><li class=\"file\"><span class=\"spr icoFile\" style=\"cursor:default;\" title=\"첨부파일 있음\"><span class=\"blind\">첨부파일있는 메일</span></span></li></ul><div class=\"mTitle\"><div class=\"name _ccr(lst.from) \"><span class=\"blind\">보낸 이:</span><a class=\"_c1(myContextMenu|showSenderContextLayer|list|17821) _stopDefault\" href=\"#\" title='\"데이터청년캠퍼스\" &lt;bigjob@kdata.or.kr&gt;'>데이터청년캠퍼스</a></div><div class=\"subject \"><a class=\"_d2(mcDragndrop|html5DragStart)\" draggable=\"true\" href=\"/read/popup/?nMailId=17821\"><span class=\"text _ccr(lst.title) _c1(mrCore|clickTitle|17821) _m2(mrCore|middleClickTitle|17821)\" foldersn=\"\" mailsn=\"17821\"><span class=\"folderName _ccr(lst.title) _c1(mrCore|clickTitle|17821) _m2(mrCore|middleClickTitle|17821)\" foldersn=\"\" mailsn=\"17821\"><span class=\"blind\">에 분류됨</span></span><strong class=\"mail_title _ccr(lst.title) _c1(mrCore|clickTitle|17821) _m2(mrCore|middleClickTitle|17821)\" foldersn=\"\" mailsn=\"17821\"><span class=\"blind\">메일 제목:</span>2021년 데이터 청년 캠퍼스 교육생 오리엔테이션 개최(비대면) 및 온라인 사전 교육 안내(고려대)</strong></span></a><a class=\"icon_previewMail\" href=\"#\" title=\"메일 내용 미리보기\"><span class=\"spr _m1(mlCore|previewMail|17821|0) _c1(mlCore|doStop) _stopDefault\"><em class=\"blind\">메일 내용 미리보기 레이어 열림</em></span></a><a class=\"newWindow _ccr(lst.newwindow) _c1(mrCore|popupRead|17821) _m1(mlCore|doStop) _stopDefault\" href=\"#\" title=\"새 창으로 메일 보기\"><span class=\"spr\"><em class=\"blind\">새 창으로 메일 보기</em></span></a></div></div><ul class=\"mInfo split_cell\"><li class=\"iDate\"><span class=\"blind\">보낸날짜:</span>06-24 15:19</li><li class=\"iSize\"><span class=\"blind\">메일크기::</span>5.3 MB</li></ul></li><li class=\"17820_li unmark _c1(mrCore|clickTitle|17820) _d2(mcDragndrop|html5DragStart)\" data-category=\"-1\" draggable=\"true\" foldersn=\"\" mailsn=\"17820\" style=\"\"><span class=\"ico_current_flag\"><i class=\"blind\">마지막에 읽은 메일</i></span><ul class=\"mInfo\"><li class=\"_m1(mlCore|toggleCheckMail|17820|down) _c1(mlCore|toggleCheckMail|17820|click) _stopDefault\"><input class=\"mCheck _checkList _m3(mlCore|toggleCheckMail|17820|over) _m1(mlCore|toggleCheckMail|17820|down) _k1(mlCore|toggleCheckMail|17820|keydown) _stopDefault\" id=\"mailCheck_17820\" name=\"\" onclick='ccr(this, \"lst.selectgot\", event)' resend=\"\" securityleveltype=\"NORMAL\" type=\"checkbox\" value=\"\"/><label class=\"blind\" for=\"mailCheck_17820\">\"RE: 오티관련메일 미수신\" 메일 선택</label></li><li class=\"important _m1(mlCore|doStop) _c1(mlCore|markMailSelf|17820|mark) _ccr(lst.mark) _stopDefault\"><a href=\"#\" onblur=\"$Element(this).removeClass('_starFocus')\" onfocus=\"$Element(this).addClass('_starFocus')\"><span class=\"spr icoImportant icoImportantOff\" mailsn=\"17820\"><span class=\"blind\">중요메일로 표시하기</span></span></a></li><li class=\"read\"><a class=\"spr icoRead re _c1(mlCore|readMail|unread_conversation|17820) _stopDefault\" href=\"#\" title=\"답장한 읽은 메일\"><span class=\"blind\">답장한 읽은 메일</span></a><span class=\"btn_cover _m1(mlCore|doStop) _c1(mlCore|toggleConversationList) _stopDefault\" style=\"display:none;\"><button class=\"btn_view_slave\"><span class=\"blind\">개의 관련 메일있음</span></button></span></li><li class=\"file\"><span class=\"spr \" style=\"cursor:default;\" title=\"\"><span class=\"blind\"></span></span></li></ul><div class=\"mTitle\"><div class=\"name _ccr(lst.from) \"><span class=\"blind\">보낸 이:</span><a class=\"_c1(myContextMenu|showSenderContextLayer|list|17820) _stopDefault\" href=\"#\" title='\"데이터청년캠퍼스\" &lt;bigjob@kdata.or.kr&gt;'>데이터청년캠퍼스</a></div><div class=\"subject \"><a class=\"_d2(mcDragndrop|html5DragStart)\" draggable=\"true\" href=\"/read/popup/?nMailId=17820\"><span class=\"text _ccr(lst.title) _c1(mrCore|clickTitle|17820) _m2(mrCore|middleClickTitle|17820)\" foldersn=\"\" mailsn=\"17820\"><span class=\"folderName _ccr(lst.title) _c1(mrCore|clickTitle|17820) _m2(mrCore|middleClickTitle|17820)\" foldersn=\"\" mailsn=\"17820\"><span class=\"blind\">에 분류됨</span></span><strong class=\"mail_title _ccr(lst.title) _c1(mrCore|clickTitle|17820) _m2(mrCore|middleClickTitle|17820)\" foldersn=\"\" mailsn=\"17820\"><span class=\"blind\">메일 제목:</span>RE: 오티관련메일 미수신</strong></span></a><a class=\"icon_previewMail\" href=\"#\" title=\"메일 내용 미리보기\"><span class=\"spr _m1(mlCore|previewMail|17820|0) _c1(mlCore|doStop) _stopDefault\"><em class=\"blind\">메일 내용 미리보기 레이어 열림</em></span></a><a class=\"newWindow _ccr(lst.newwindow) _c1(mrCore|popupRead|17820) _m1(mlCore|doStop) _stopDefault\" href=\"#\" title=\"새 창으로 메일 보기\"><span class=\"spr\"><em class=\"blind\">새 창으로 메일 보기</em></span></a></div></div><ul class=\"mInfo split_cell\"><li class=\"iDate\"><span class=\"blind\">보낸날짜:</span>06-24 15:09</li><li class=\"iSize\"><span class=\"blind\">메일크기::</span>31.4 KB</li></ul></li><li class=\"17796_li unmark _c1(mrCore|clickTitle|17796) _d2(mcDragndrop|html5DragStart)\" data-category=\"-1\" draggable=\"true\" foldersn=\"\" mailsn=\"17796\" style=\"\"><span class=\"ico_current_flag\"><i class=\"blind\">마지막에 읽은 메일</i></span><ul class=\"mInfo\"><li class=\"_m1(mlCore|toggleCheckMail|17796|down) _c1(mlCore|toggleCheckMail|17796|click) _stopDefault\"><input class=\"mCheck _checkList _m3(mlCore|toggleCheckMail|17796|over) _m1(mlCore|toggleCheckMail|17796|down) _k1(mlCore|toggleCheckMail|17796|keydown) _stopDefault\" id=\"mailCheck_17796\" name=\"\" onclick='ccr(this, \"lst.selectgot\", event)' resend=\"\" securityleveltype=\"NORMAL\" type=\"checkbox\" value=\"\"/><label class=\"blind\" for=\"mailCheck_17796\">\"사업계획서 작성방법_20210617.pdf\" 메일 선택</label></li><li class=\"important _m1(mlCore|doStop) _c1(mlCore|markMailSelf|17796|mark) _ccr(lst.mark) _stopDefault\"><a href=\"#\" onblur=\"$Element(this).removeClass('_starFocus')\" onfocus=\"$Element(this).addClass('_starFocus')\"><span class=\"spr icoImportant icoImportantOff\" mailsn=\"17796\"><span class=\"blind\">중요메일로 표시하기</span></span></a></li><li class=\"read\"><a class=\"spr icoRead yes _c1(mlCore|readMail|unread_conversation|17796) _stopDefault\" href=\"#\" title=\"읽은 메일\"><span class=\"blind\">읽은 메일</span></a><span class=\"btn_cover _m1(mlCore|doStop) _c1(mlCore|toggleConversationList) _stopDefault\" style=\"display:none;\"><button class=\"btn_view_slave\"><span class=\"blind\">개의 관련 메일있음</span></button></span></li><li class=\"file\"><span class=\"spr icoFile\" style=\"cursor:default;\" title=\"첨부파일 있음\"><span class=\"blind\">첨부파일있는 메일</span></span></li></ul><div class=\"mTitle\"><div class=\"name _ccr(lst.from) \"><span class=\"blind\">보낸 이:</span><a class=\"_c1(myContextMenu|showSenderContextLayer|list|17796) _stopDefault\" href=\"#\" title='\"이진태\" &lt;j73eng@naver.com&gt;'>이진태</a></div><div class=\"subject \"><a class=\"_d2(mcDragndrop|html5DragStart)\" draggable=\"true\" href=\"/read/popup/?nMailId=17796\"><span class=\"text _ccr(lst.title) _c1(mrCore|clickTitle|17796) _m2(mrCore|middleClickTitle|17796)\" foldersn=\"\" mailsn=\"17796\"><span class=\"folderName _ccr(lst.title) _c1(mrCore|clickTitle|17796) _m2(mrCore|middleClickTitle|17796)\" foldersn=\"\" mailsn=\"17796\"><span class=\"blind\">에 분류됨</span></span><strong class=\"mail_title _ccr(lst.title) _c1(mrCore|clickTitle|17796) _m2(mrCore|middleClickTitle|17796)\" foldersn=\"\" mailsn=\"17796\"><span class=\"blind\">메일 제목:</span>사업계획서 작성방법_20210617.pdf</strong></span></a><a class=\"icon_previewMail\" href=\"#\" title=\"메일 내용 미리보기\"><span class=\"spr _m1(mlCore|previewMail|17796|0) _c1(mlCore|doStop) _stopDefault\"><em class=\"blind\">메일 내용 미리보기 레이어 열림</em></span></a><a class=\"newWindow _ccr(lst.newwindow) _c1(mrCore|popupRead|17796) _m1(mlCore|doStop) _stopDefault\" href=\"#\" title=\"새 창으로 메일 보기\"><span class=\"spr\"><em class=\"blind\">새 창으로 메일 보기</em></span></a></div></div><ul class=\"mInfo split_cell\"><li class=\"iDate\"><span class=\"blind\">보낸날짜:</span>06-22 17:22</li><li class=\"iSize\"><span class=\"blind\">메일크기::</span>12.6 MB</li></ul></li><li class=\"17793_li unmark _c1(mrCore|clickTitle|17793) _d2(mcDragndrop|html5DragStart)\" data-category=\"-1\" draggable=\"true\" foldersn=\"\" mailsn=\"17793\" style=\"\"><span class=\"ico_current_flag\"><i class=\"blind\">마지막에 읽은 메일</i></span><ul class=\"mInfo\"><li class=\"_m1(mlCore|toggleCheckMail|17793|down) _c1(mlCore|toggleCheckMail|17793|click) _stopDefault\"><input class=\"mCheck _checkList _m3(mlCore|toggleCheckMail|17793|over) _m1(mlCore|toggleCheckMail|17793|down) _k1(mlCore|toggleCheckMail|17793|keydown) _stopDefault\" id=\"mailCheck_17793\" name=\"\" onclick='ccr(this, \"lst.selectgot\", event)' resend=\"\" securityleveltype=\"NORMAL\" type=\"checkbox\" value=\"\"/><label class=\"blind\" for=\"mailCheck_17793\">\"\n",
       "\t[JBNUHub 공지]\n",
       "\t[공지] 중간기말고사 성적\" 메일 선택</label></li><li class=\"important _m1(mlCore|doStop) _c1(mlCore|markMailSelf|17793|mark) _ccr(lst.mark) _stopDefault\"><a href=\"#\" onblur=\"$Element(this).removeClass('_starFocus')\" onfocus=\"$Element(this).addClass('_starFocus')\"><span class=\"spr icoImportant icoImportantOff\" mailsn=\"17793\"><span class=\"blind\">중요메일로 표시하기</span></span></a></li><li class=\"read\"><a class=\"spr icoRead yes _c1(mlCore|readMail|unread_conversation|17793) _stopDefault\" href=\"#\" title=\"읽은 메일\"><span class=\"blind\">읽은 메일</span></a><span class=\"btn_cover _m1(mlCore|doStop) _c1(mlCore|toggleConversationList) _stopDefault\" style=\"display:none;\"><button class=\"btn_view_slave\"><span class=\"blind\">개의 관련 메일있음</span></button></span></li><li class=\"file\"><span class=\"spr \" style=\"cursor:default;\" title=\"\"><span class=\"blind\"></span></span></li></ul><div class=\"mTitle\"><div class=\"name _ccr(lst.from) \"><span class=\"blind\">보낸 이:</span><a class=\"_c1(myContextMenu|showSenderContextLayer|list|17793) _stopDefault\" href=\"#\" title='\"이태희\" &lt;no-reply-ieilms@jbnu.ac.kr&gt;'>이태희</a></div><div class=\"subject \"><a class=\"_d2(mcDragndrop|html5DragStart)\" draggable=\"true\" href=\"/read/popup/?nMailId=17793\"><span class=\"text _ccr(lst.title) _c1(mrCore|clickTitle|17793) _m2(mrCore|middleClickTitle|17793)\" foldersn=\"\" mailsn=\"17793\"><span class=\"folderName _ccr(lst.title) _c1(mrCore|clickTitle|17793) _m2(mrCore|middleClickTitle|17793)\" foldersn=\"\" mailsn=\"17793\"><span class=\"blind\">에 분류됨</span></span><strong class=\"mail_title _ccr(lst.title) _c1(mrCore|clickTitle|17793) _m2(mrCore|middleClickTitle|17793)\" foldersn=\"\" mailsn=\"17793\"><span class=\"blind\">메일 제목:</span>\n",
       "\t[JBNUHub 공지]\n",
       "\t[공지] 중간기말고사 성적</strong></span></a><a class=\"icon_previewMail\" href=\"#\" title=\"메일 내용 미리보기\"><span class=\"spr _m1(mlCore|previewMail|17793|0) _c1(mlCore|doStop) _stopDefault\"><em class=\"blind\">메일 내용 미리보기 레이어 열림</em></span></a><a class=\"newWindow _ccr(lst.newwindow) _c1(mrCore|popupRead|17793) _m1(mlCore|doStop) _stopDefault\" href=\"#\" title=\"새 창으로 메일 보기\"><span class=\"spr\"><em class=\"blind\">새 창으로 메일 보기</em></span></a></div></div><ul class=\"mInfo split_cell\"><li class=\"iDate\"><span class=\"blind\">보낸날짜:</span>06-22 15:34</li><li class=\"iSize\"><span class=\"blind\">메일크기::</span>25.6 KB</li></ul></li><li class=\"17790_li unmark _c1(mrCore|clickTitle|17790) _d2(mcDragndrop|html5DragStart)\" data-category=\"-1\" draggable=\"true\" foldersn=\"\" mailsn=\"17790\" style=\"\"><span class=\"ico_current_flag\"><i class=\"blind\">마지막에 읽은 메일</i></span><ul class=\"mInfo\"><li class=\"_m1(mlCore|toggleCheckMail|17790|down) _c1(mlCore|toggleCheckMail|17790|click) _stopDefault\"><input class=\"mCheck _checkList _m3(mlCore|toggleCheckMail|17790|over) _m1(mlCore|toggleCheckMail|17790|down) _k1(mlCore|toggleCheckMail|17790|keydown) _stopDefault\" id=\"mailCheck_17790\" name=\"\" onclick='ccr(this, \"lst.selectgot\", event)' resend=\"\" securityleveltype=\"NORMAL\" type=\"checkbox\" value=\"\"/><label class=\"blind\" for=\"mailCheck_17790\">\"[RE]연구실 학부인턴 관련 궁금한 사항 문의드립니다\" 메일 선택</label></li><li class=\"important _m1(mlCore|doStop) _c1(mlCore|markMailSelf|17790|mark) _ccr(lst.mark) _stopDefault\"><a href=\"#\" onblur=\"$Element(this).removeClass('_starFocus')\" onfocus=\"$Element(this).addClass('_starFocus')\"><span class=\"spr icoImportant icoImportantOff\" mailsn=\"17790\"><span class=\"blind\">중요메일로 표시하기</span></span></a></li><li class=\"read\"><a class=\"spr icoRead yes _c1(mlCore|readMail|unread_conversation|17790) _stopDefault\" href=\"#\" title=\"읽은 메일\"><span class=\"blind\">읽은 메일</span></a><span class=\"btn_cover _m1(mlCore|doStop) _c1(mlCore|toggleConversationList) _stopDefault\" style=\"display:none;\"><button class=\"btn_view_slave\"><span class=\"blind\">개의 관련 메일있음</span></button></span></li><li class=\"file\"><span class=\"spr \" style=\"cursor:default;\" title=\"\"><span class=\"blind\"></span></span></li></ul><div class=\"mTitle\"><div class=\"name _ccr(lst.from) \"><span class=\"blind\">보낸 이:</span><a class=\"_c1(myContextMenu|showSenderContextLayer|list|17790) _stopDefault\" href=\"#\" title='\"이상준\" &lt;sj.lee@jbnu.ac.kr&gt;'>이상준</a></div><div class=\"subject \"><a class=\"_d2(mcDragndrop|html5DragStart)\" draggable=\"true\" href=\"/read/popup/?nMailId=17790\"><span class=\"text _ccr(lst.title) _c1(mrCore|clickTitle|17790) _m2(mrCore|middleClickTitle|17790)\" foldersn=\"\" mailsn=\"17790\"><span class=\"folderName _ccr(lst.title) _c1(mrCore|clickTitle|17790) _m2(mrCore|middleClickTitle|17790)\" foldersn=\"\" mailsn=\"17790\"><span class=\"blind\">에 분류됨</span></span><strong class=\"mail_title _ccr(lst.title) _c1(mrCore|clickTitle|17790) _m2(mrCore|middleClickTitle|17790)\" foldersn=\"\" mailsn=\"17790\"><span class=\"blind\">메일 제목:</span>[RE]연구실 학부인턴 관련 궁금한 사항 문의드립니다</strong></span></a><a class=\"icon_previewMail\" href=\"#\" title=\"메일 내용 미리보기\"><span class=\"spr _m1(mlCore|previewMail|17790|0) _c1(mlCore|doStop) _stopDefault\"><em class=\"blind\">메일 내용 미리보기 레이어 열림</em></span></a><a class=\"newWindow _ccr(lst.newwindow) _c1(mrCore|popupRead|17790) _m1(mlCore|doStop) _stopDefault\" href=\"#\" title=\"새 창으로 메일 보기\"><span class=\"spr\"><em class=\"blind\">새 창으로 메일 보기</em></span></a></div></div><ul class=\"mInfo split_cell\"><li class=\"iDate\"><span class=\"blind\">보낸날짜:</span>06-22 11:02</li><li class=\"iSize\"><span class=\"blind\">메일크기::</span>13.4 KB</li></ul></li><li class=\"17781_li unmark _c1(mrCore|clickTitle|17781) _d2(mcDragndrop|html5DragStart)\" data-category=\"101\" draggable=\"true\" foldersn=\"\" mailsn=\"17781\" style=\"\"><span class=\"ico_current_flag\"><i class=\"blind\">마지막에 읽은 메일</i></span><ul class=\"mInfo\"><li class=\"_m1(mlCore|toggleCheckMail|17781|down) _c1(mlCore|toggleCheckMail|17781|click) _stopDefault\"><input class=\"mCheck _checkList _m3(mlCore|toggleCheckMail|17781|over) _m1(mlCore|toggleCheckMail|17781|down) _k1(mlCore|toggleCheckMail|17781|keydown) _stopDefault\" id=\"mailCheck_17781\" name=\"\" onclick='ccr(this, \"lst.selectgot\", event)' resend=\"\" securityleveltype=\"NORMAL\" type=\"checkbox\" value=\"\"/><label class=\"blind\" for=\"mailCheck_17781\">\"[네이버페이] 결제하신 내역을 안내해드립니다.\" 메일 선택</label></li><li class=\"important _m1(mlCore|doStop) _c1(mlCore|markMailSelf|17781|mark) _ccr(lst.mark) _stopDefault\"><a href=\"#\" onblur=\"$Element(this).removeClass('_starFocus')\" onfocus=\"$Element(this).addClass('_starFocus')\"><span class=\"spr icoImportant icoImportantOff\" mailsn=\"17781\"><span class=\"blind\">중요메일로 표시하기</span></span></a></li><li class=\"read\"><a class=\"spr icoRead npay _c1(mlCore|readMail|unread_conversation|17781) _stopDefault\" href=\"#\" title=\"네이버페이 메일\"><span class=\"blind\">네이버페이 메일</span></a><span class=\"btn_cover _m1(mlCore|doStop) _c1(mlCore|toggleConversationList) _stopDefault\" style=\"display:none;\"><button class=\"btn_view_slave\"><span class=\"blind\">개의 관련 메일있음</span></button></span></li><li class=\"file\"><span class=\"spr \" style=\"cursor:default;\" title=\"\"><span class=\"blind\"></span></span></li></ul><div class=\"mTitle\"><div class=\"name _ccr(lst.from) \"><span class=\"blind\">보낸 이:</span><a class=\"_c1(myContextMenu|showSenderContextLayer|list|17781) _stopDefault\" href=\"#\" title='\"네이버페이\" &lt;naverpayadmin_noreply@navercorp.com&gt;'>네이버페이</a></div><div class=\"subject \"><a class=\"_d2(mcDragndrop|html5DragStart)\" draggable=\"true\" href=\"/read/popup/?nMailId=17781\"><span class=\"text _ccr(lst.title) _c1(mrCore|clickTitle|17781) _m2(mrCore|middleClickTitle|17781)\" foldersn=\"\" mailsn=\"17781\"><span class=\"folderName _ccr(lst.title) _c1(mrCore|clickTitle|17781) _m2(mrCore|middleClickTitle|17781)\" foldersn=\"\" mailsn=\"17781\"><span class=\"blind\">에 분류됨</span></span><strong class=\"mail_title _ccr(lst.title) _c1(mrCore|clickTitle|17781) _m2(mrCore|middleClickTitle|17781)\" foldersn=\"\" mailsn=\"17781\"><span class=\"blind\">메일 제목:</span>[네이버페이] 결제하신 내역을 안내해드립니다.</strong></span></a><a class=\"icon_previewMail\" href=\"#\" title=\"메일 내용 미리보기\"><span class=\"spr _m1(mlCore|previewMail|17781|0) _c1(mlCore|doStop) _stopDefault\"><em class=\"blind\">메일 내용 미리보기 레이어 열림</em></span></a><a class=\"newWindow _ccr(lst.newwindow) _c1(mrCore|popupRead|17781) _m1(mlCore|doStop) _stopDefault\" href=\"#\" title=\"새 창으로 메일 보기\"><span class=\"spr\"><em class=\"blind\">새 창으로 메일 보기</em></span></a></div></div><ul class=\"mInfo split_cell\"><li class=\"iDate\"><span class=\"blind\">보낸날짜:</span>06-21 16:29</li><li class=\"iSize\"><span class=\"blind\">메일크기::</span>34.1 KB</li></ul></li><li class=\"17772_li unmark _c1(mrCore|clickTitle|17772) _d2(mcDragndrop|html5DragStart)\" data-category=\"-1\" draggable=\"true\" foldersn=\"\" mailsn=\"17772\" style=\"\"><span class=\"ico_current_flag\"><i class=\"blind\">마지막에 읽은 메일</i></span><ul class=\"mInfo\"><li class=\"_m1(mlCore|toggleCheckMail|17772|down) _c1(mlCore|toggleCheckMail|17772|click) _stopDefault\"><input class=\"mCheck _checkList _m3(mlCore|toggleCheckMail|17772|over) _m1(mlCore|toggleCheckMail|17772|down) _k1(mlCore|toggleCheckMail|17772|keydown) _stopDefault\" id=\"mailCheck_17772\" name=\"\" onclick='ccr(this, \"lst.selectgot\", event)' resend=\"\" securityleveltype=\"NORMAL\" type=\"checkbox\" value=\"\"/><label class=\"blind\" for=\"mailCheck_17772\">\"[한국화웨이] Seeds For The Future 2021 (글로벌 ICT 인재프로그램) 안내 및 참가 요청의 건 \" 메일 선택</label></li><li class=\"important _m1(mlCore|doStop) _c1(mlCore|markMailSelf|17772|mark) _ccr(lst.mark) _stopDefault\"><a href=\"#\" onblur=\"$Element(this).removeClass('_starFocus')\" onfocus=\"$Element(this).addClass('_starFocus')\"><span class=\"spr icoImportant icoImportantOff\" mailsn=\"17772\"><span class=\"blind\">중요메일로 표시하기</span></span></a></li><li class=\"read\"><a class=\"spr icoRead yes _c1(mlCore|readMail|unread_conversation|17772) _stopDefault\" href=\"#\" title=\"읽은 메일\"><span class=\"blind\">읽은 메일</span></a><span class=\"btn_cover _m1(mlCore|doStop) _c1(mlCore|toggleConversationList) _stopDefault\" style=\"display:none;\"><button class=\"btn_view_slave\"><span class=\"blind\">개의 관련 메일있음</span></button></span></li><li class=\"file\"><span class=\"spr icoFile\" style=\"cursor:default;\" title=\"첨부파일 있음\"><span class=\"blind\">첨부파일있는 메일</span></span></li></ul><div class=\"mTitle\"><div class=\"name _ccr(lst.from) \"><span class=\"blind\">보낸 이:</span><a class=\"_c1(myContextMenu|showSenderContextLayer|list|17772) _stopDefault\" href=\"#\" title='\"KIM SUA\" &lt;kim.sua@huawei.com&gt;'>KIM SUA</a></div><div class=\"subject \"><a class=\"_d2(mcDragndrop|html5DragStart)\" draggable=\"true\" href=\"/read/popup/?nMailId=17772\"><span class=\"text _ccr(lst.title) _c1(mrCore|clickTitle|17772) _m2(mrCore|middleClickTitle|17772)\" foldersn=\"\" mailsn=\"17772\"><span class=\"folderName _ccr(lst.title) _c1(mrCore|clickTitle|17772) _m2(mrCore|middleClickTitle|17772)\" foldersn=\"\" mailsn=\"17772\"><span class=\"blind\">에 분류됨</span></span><strong class=\"mail_title _ccr(lst.title) _c1(mrCore|clickTitle|17772) _m2(mrCore|middleClickTitle|17772)\" foldersn=\"\" mailsn=\"17772\"><span class=\"blind\">메일 제목:</span>[한국화웨이] Seeds For The Future 2021 (글로벌 ICT 인재프로그램) 안내 및 참가 요청의 건 </strong></span></a><a class=\"icon_previewMail\" href=\"#\" title=\"메일 내용 미리보기\"><span class=\"spr _m1(mlCore|previewMail|17772|0) _c1(mlCore|doStop) _stopDefault\"><em class=\"blind\">메일 내용 미리보기 레이어 열림</em></span></a><a class=\"newWindow _ccr(lst.newwindow) _c1(mrCore|popupRead|17772) _m1(mlCore|doStop) _stopDefault\" href=\"#\" title=\"새 창으로 메일 보기\"><span class=\"spr\"><em class=\"blind\">새 창으로 메일 보기</em></span></a></div></div><ul class=\"mInfo split_cell\"><li class=\"iDate\"><span class=\"blind\">보낸날짜:</span>06-21 10:10</li><li class=\"iSize\"><span class=\"blind\">메일크기::</span>3.1 MB</li></ul></li><li class=\"17755_li unmark _c1(mrCore|clickTitle|17755) _d2(mcDragndrop|html5DragStart)\" data-category=\"-1\" draggable=\"true\" foldersn=\"\" mailsn=\"17755\" style=\"\"><span class=\"ico_current_flag\"><i class=\"blind\">마지막에 읽은 메일</i></span><ul class=\"mInfo\"><li class=\"_m1(mlCore|toggleCheckMail|17755|down) _c1(mlCore|toggleCheckMail|17755|click) _stopDefault\"><input class=\"mCheck _checkList _m3(mlCore|toggleCheckMail|17755|over) _m1(mlCore|toggleCheckMail|17755|down) _k1(mlCore|toggleCheckMail|17755|keydown) _stopDefault\" id=\"mailCheck_17755\" name=\"\" onclick='ccr(this, \"lst.selectgot\", event)' resend=\"\" securityleveltype=\"NORMAL\" type=\"checkbox\" value=\"\"/><label class=\"blind\" for=\"mailCheck_17755\">\"고려대 데이터 청년 캠퍼스 최종선정 합격자 안내\" 메일 선택</label></li><li class=\"important _m1(mlCore|doStop) _c1(mlCore|markMailSelf|17755|mark) _ccr(lst.mark) _stopDefault\"><a href=\"#\" onblur=\"$Element(this).removeClass('_starFocus')\" onfocus=\"$Element(this).addClass('_starFocus')\"><span class=\"spr icoImportant icoImportantOff\" mailsn=\"17755\"><span class=\"blind\">중요메일로 표시하기</span></span></a></li><li class=\"read\"><a class=\"spr icoRead yes _c1(mlCore|readMail|unread_conversation|17755) _stopDefault\" href=\"#\" title=\"읽은 메일\"><span class=\"blind\">읽은 메일</span></a><span class=\"btn_cover _m1(mlCore|doStop) _c1(mlCore|toggleConversationList) _stopDefault\" style=\"display:none;\"><button class=\"btn_view_slave\"><span class=\"blind\">개의 관련 메일있음</span></button></span></li><li class=\"file\"><span class=\"spr \" style=\"cursor:default;\" title=\"\"><span class=\"blind\"></span></span></li></ul><div class=\"mTitle\"><div class=\"name _ccr(lst.from) \"><span class=\"blind\">보낸 이:</span><a class=\"_c1(myContextMenu|showSenderContextLayer|list|17755) _stopDefault\" href=\"#\" title='\" 유길상[ 교수 / 정보창의교육연구소 ]\" &lt;ksyoo@korea.ac.kr&gt;'> 유길상[ 교수 / 정보창..</a></div><div class=\"subject \"><a class=\"_d2(mcDragndrop|html5DragStart)\" draggable=\"true\" href=\"/read/popup/?nMailId=17755\"><span class=\"text _ccr(lst.title) _c1(mrCore|clickTitle|17755) _m2(mrCore|middleClickTitle|17755)\" foldersn=\"\" mailsn=\"17755\"><span class=\"folderName _ccr(lst.title) _c1(mrCore|clickTitle|17755) _m2(mrCore|middleClickTitle|17755)\" foldersn=\"\" mailsn=\"17755\"><span class=\"blind\">에 분류됨</span></span><strong class=\"mail_title _ccr(lst.title) _c1(mrCore|clickTitle|17755) _m2(mrCore|middleClickTitle|17755)\" foldersn=\"\" mailsn=\"17755\"><span class=\"blind\">메일 제목:</span>고려대 데이터 청년 캠퍼스 최종선정 합격자 안내</strong></span></a><a class=\"icon_previewMail\" href=\"#\" title=\"메일 내용 미리보기\"><span class=\"spr _m1(mlCore|previewMail|17755|0) _c1(mlCore|doStop) _stopDefault\"><em class=\"blind\">메일 내용 미리보기 레이어 열림</em></span></a><a class=\"newWindow _ccr(lst.newwindow) _c1(mrCore|popupRead|17755) _m1(mlCore|doStop) _stopDefault\" href=\"#\" title=\"새 창으로 메일 보기\"><span class=\"spr\"><em class=\"blind\">새 창으로 메일 보기</em></span></a></div></div><ul class=\"mInfo split_cell\"><li class=\"iDate\"><span class=\"blind\">보낸날짜:</span>06-19 10:36</li><li class=\"iSize\"><span class=\"blind\">메일크기::</span>7.9 KB</li></ul></li><li class=\"17743_li unmark _c1(mrCore|clickTitle|17743) _d2(mcDragndrop|html5DragStart)\" data-category=\"-1\" draggable=\"true\" foldersn=\"\" mailsn=\"17743\" style=\"\"><span class=\"ico_current_flag\"><i class=\"blind\">마지막에 읽은 메일</i></span><ul class=\"mInfo\"><li class=\"_m1(mlCore|toggleCheckMail|17743|down) _c1(mlCore|toggleCheckMail|17743|click) _stopDefault\"><input class=\"mCheck _checkList _m3(mlCore|toggleCheckMail|17743|over) _m1(mlCore|toggleCheckMail|17743|down) _k1(mlCore|toggleCheckMail|17743|keydown) _stopDefault\" id=\"mailCheck_17743\" name=\"\" onclick='ccr(this, \"lst.selectgot\", event)' resend=\"\" securityleveltype=\"NORMAL\" type=\"checkbox\" value=\"\"/><label class=\"blind\" for=\"mailCheck_17743\">\"Re: 201716175 박근형 2차 상담\" 메일 선택</label></li><li class=\"important _m1(mlCore|doStop) _c1(mlCore|markMailSelf|17743|mark) _ccr(lst.mark) _stopDefault\"><a href=\"#\" onblur=\"$Element(this).removeClass('_starFocus')\" onfocus=\"$Element(this).addClass('_starFocus')\"><span class=\"spr icoImportant icoImportantOff\" mailsn=\"17743\"><span class=\"blind\">중요메일로 표시하기</span></span></a></li><li class=\"read\"><a class=\"spr icoRead re _c1(mlCore|readMail|unread_conversation|17743) _stopDefault\" href=\"#\" title=\"답장한 읽은 메일\"><span class=\"blind\">답장한 읽은 메일</span></a><span class=\"btn_cover _m1(mlCore|doStop) _c1(mlCore|toggleConversationList) _stopDefault\" style=\"display:none;\"><button class=\"btn_view_slave\"><span class=\"blind\">개의 관련 메일있음</span></button></span></li><li class=\"file\"><span class=\"spr \" style=\"cursor:default;\" title=\"\"><span class=\"blind\"></span></span></li></ul><div class=\"mTitle\"><div class=\"name _ccr(lst.from) \"><span class=\"blind\">보낸 이:</span><a class=\"_c1(myContextMenu|showSenderContextLayer|list|17743) _stopDefault\" href=\"#\" title='\"CG Song\" &lt;song133436@gmail.com&gt;'>CG Song</a></div><div class=\"subject \"><a class=\"_d2(mcDragndrop|html5DragStart)\" draggable=\"true\" href=\"/read/popup/?nMailId=17743\"><span class=\"text _ccr(lst.title) _c1(mrCore|clickTitle|17743) _m2(mrCore|middleClickTitle|17743)\" foldersn=\"\" mailsn=\"17743\"><span class=\"folderName _ccr(lst.title) _c1(mrCore|clickTitle|17743) _m2(mrCore|middleClickTitle|17743)\" foldersn=\"\" mailsn=\"17743\"><span class=\"blind\">에 분류됨</span></span><strong class=\"mail_title _ccr(lst.title) _c1(mrCore|clickTitle|17743) _m2(mrCore|middleClickTitle|17743)\" foldersn=\"\" mailsn=\"17743\"><span class=\"blind\">메일 제목:</span>Re: 201716175 박근형 2차 상담</strong></span></a><a class=\"icon_previewMail\" href=\"#\" title=\"메일 내용 미리보기\"><span class=\"spr _m1(mlCore|previewMail|17743|0) _c1(mlCore|doStop) _stopDefault\"><em class=\"blind\">메일 내용 미리보기 레이어 열림</em></span></a><a class=\"newWindow _ccr(lst.newwindow) _c1(mrCore|popupRead|17743) _m1(mlCore|doStop) _stopDefault\" href=\"#\" title=\"새 창으로 메일 보기\"><span class=\"spr\"><em class=\"blind\">새 창으로 메일 보기</em></span></a></div></div><ul class=\"mInfo split_cell\"><li class=\"iDate\"><span class=\"blind\">보낸날짜:</span>06-18 09:21</li><li class=\"iSize\"><span class=\"blind\">메일크기::</span>10.7 KB</li></ul></li><li class=\"17721_li unmark _c1(mrCore|clickTitle|17721) _d2(mcDragndrop|html5DragStart)\" data-category=\"-1\" draggable=\"true\" foldersn=\"\" mailsn=\"17721\" style=\"\"><span class=\"ico_current_flag\"><i class=\"blind\">마지막에 읽은 메일</i></span><ul class=\"mInfo\"><li class=\"_m1(mlCore|toggleCheckMail|17721|down) _c1(mlCore|toggleCheckMail|17721|click) _stopDefault\"><input class=\"mCheck _checkList _m3(mlCore|toggleCheckMail|17721|over) _m1(mlCore|toggleCheckMail|17721|down) _k1(mlCore|toggleCheckMail|17721|keydown) _stopDefault\" id=\"mailCheck_17721\" name=\"\" onclick='ccr(this, \"lst.selectgot\", event)' resend=\"\" securityleveltype=\"NORMAL\" type=\"checkbox\" value=\"\"/><label class=\"blind\" for=\"mailCheck_17721\">\"Re: 교수님 2차상담 문의 드립니다\" 메일 선택</label></li><li class=\"important _m1(mlCore|doStop) _c1(mlCore|markMailSelf|17721|mark) _ccr(lst.mark) _stopDefault\"><a href=\"#\" onblur=\"$Element(this).removeClass('_starFocus')\" onfocus=\"$Element(this).addClass('_starFocus')\"><span class=\"spr icoImportant icoImportantOff\" mailsn=\"17721\"><span class=\"blind\">중요메일로 표시하기</span></span></a></li><li class=\"read\"><a class=\"spr icoRead yes _c1(mlCore|readMail|unread_conversation|17721) _stopDefault\" href=\"#\" title=\"읽은 메일\"><span class=\"blind\">읽은 메일</span></a><span class=\"btn_cover _m1(mlCore|doStop) _c1(mlCore|toggleConversationList) _stopDefault\" style=\"display:none;\"><button class=\"btn_view_slave\"><span class=\"blind\">개의 관련 메일있음</span></button></span></li><li class=\"file\"><span class=\"spr \" style=\"cursor:default;\" title=\"\"><span class=\"blind\"></span></span></li></ul><div class=\"mTitle\"><div class=\"name _ccr(lst.from) \"><span class=\"blind\">보낸 이:</span><a class=\"_c1(myContextMenu|showSenderContextLayer|list|17721) _stopDefault\" href=\"#\" title='\"CG Song\" &lt;song133436@gmail.com&gt;'>CG Song</a></div><div class=\"subject \"><a class=\"_d2(mcDragndrop|html5DragStart)\" draggable=\"true\" href=\"/read/popup/?nMailId=17721\"><span class=\"text _ccr(lst.title) _c1(mrCore|clickTitle|17721) _m2(mrCore|middleClickTitle|17721)\" foldersn=\"\" mailsn=\"17721\"><span class=\"folderName _ccr(lst.title) _c1(mrCore|clickTitle|17721) _m2(mrCore|middleClickTitle|17721)\" foldersn=\"\" mailsn=\"17721\"><span class=\"blind\">에 분류됨</span></span><strong class=\"mail_title _ccr(lst.title) _c1(mrCore|clickTitle|17721) _m2(mrCore|middleClickTitle|17721)\" foldersn=\"\" mailsn=\"17721\"><span class=\"blind\">메일 제목:</span>Re: 교수님 2차상담 문의 드립니다</strong></span></a><a class=\"icon_previewMail\" href=\"#\" title=\"메일 내용 미리보기\"><span class=\"spr _m1(mlCore|previewMail|17721|0) _c1(mlCore|doStop) _stopDefault\"><em class=\"blind\">메일 내용 미리보기 레이어 열림</em></span></a><a class=\"newWindow _ccr(lst.newwindow) _c1(mrCore|popupRead|17721) _m1(mlCore|doStop) _stopDefault\" href=\"#\" title=\"새 창으로 메일 보기\"><span class=\"spr\"><em class=\"blind\">새 창으로 메일 보기</em></span></a></div></div><ul class=\"mInfo split_cell\"><li class=\"iDate\"><span class=\"blind\">보낸날짜:</span>06-16 15:24</li><li class=\"iSize\"><span class=\"blind\">메일크기::</span>9.5 KB</li></ul></li><li class=\"17719_li unmark _c1(mrCore|clickTitle|17719) _d2(mcDragndrop|html5DragStart)\" data-category=\"-1\" draggable=\"true\" foldersn=\"\" mailsn=\"17719\" style=\"\"><span class=\"ico_current_flag\"><i class=\"blind\">마지막에 읽은 메일</i></span><ul class=\"mInfo\"><li class=\"_m1(mlCore|toggleCheckMail|17719|down) _c1(mlCore|toggleCheckMail|17719|click) _stopDefault\"><input class=\"mCheck _checkList _m3(mlCore|toggleCheckMail|17719|over) _m1(mlCore|toggleCheckMail|17719|down) _k1(mlCore|toggleCheckMail|17719|keydown) _stopDefault\" id=\"mailCheck_17719\" name=\"\" onclick='ccr(this, \"lst.selectgot\", event)' resend=\"\" securityleveltype=\"NORMAL\" type=\"checkbox\" value=\"\"/><label class=\"blind\" for=\"mailCheck_17719\">\"Re: 교수님 2차상담 문의 드립니다\" 메일 선택</label></li><li class=\"important _m1(mlCore|doStop) _c1(mlCore|markMailSelf|17719|mark) _ccr(lst.mark) _stopDefault\"><a href=\"#\" onblur=\"$Element(this).removeClass('_starFocus')\" onfocus=\"$Element(this).addClass('_starFocus')\"><span class=\"spr icoImportant icoImportantOff\" mailsn=\"17719\"><span class=\"blind\">중요메일로 표시하기</span></span></a></li><li class=\"read\"><a class=\"spr icoRead re _c1(mlCore|readMail|unread_conversation|17719) _stopDefault\" href=\"#\" title=\"답장한 읽은 메일\"><span class=\"blind\">답장한 읽은 메일</span></a><span class=\"btn_cover _m1(mlCore|doStop) _c1(mlCore|toggleConversationList) _stopDefault\" style=\"display:none;\"><button class=\"btn_view_slave\"><span class=\"blind\">개의 관련 메일있음</span></button></span></li><li class=\"file\"><span class=\"spr \" style=\"cursor:default;\" title=\"\"><span class=\"blind\"></span></span></li></ul><div class=\"mTitle\"><div class=\"name _ccr(lst.from) \"><span class=\"blind\">보낸 이:</span><a class=\"_c1(myContextMenu|showSenderContextLayer|list|17719) _stopDefault\" href=\"#\" title='\"CG Song\" &lt;song133436@gmail.com&gt;'>CG Song</a></div><div class=\"subject \"><a class=\"_d2(mcDragndrop|html5DragStart)\" draggable=\"true\" href=\"/read/popup/?nMailId=17719\"><span class=\"text _ccr(lst.title) _c1(mrCore|clickTitle|17719) _m2(mrCore|middleClickTitle|17719)\" foldersn=\"\" mailsn=\"17719\"><span class=\"folderName _ccr(lst.title) _c1(mrCore|clickTitle|17719) _m2(mrCore|middleClickTitle|17719)\" foldersn=\"\" mailsn=\"17719\"><span class=\"blind\">에 분류됨</span></span><strong class=\"mail_title _ccr(lst.title) _c1(mrCore|clickTitle|17719) _m2(mrCore|middleClickTitle|17719)\" foldersn=\"\" mailsn=\"17719\"><span class=\"blind\">메일 제목:</span>Re: 교수님 2차상담 문의 드립니다</strong></span></a><a class=\"icon_previewMail\" href=\"#\" title=\"메일 내용 미리보기\"><span class=\"spr _m1(mlCore|previewMail|17719|0) _c1(mlCore|doStop) _stopDefault\"><em class=\"blind\">메일 내용 미리보기 레이어 열림</em></span></a><a class=\"newWindow _ccr(lst.newwindow) _c1(mrCore|popupRead|17719) _m1(mlCore|doStop) _stopDefault\" href=\"#\" title=\"새 창으로 메일 보기\"><span class=\"spr\"><em class=\"blind\">새 창으로 메일 보기</em></span></a></div></div><ul class=\"mInfo split_cell\"><li class=\"iDate\"><span class=\"blind\">보낸날짜:</span>06-16 14:39</li><li class=\"iSize\"><span class=\"blind\">메일크기::</span>6.9 KB</li></ul></li><li class=\"17717_li unmark _c1(mrCore|clickTitle|17717) _d2(mcDragndrop|html5DragStart)\" data-category=\"-1\" draggable=\"true\" foldersn=\"\" mailsn=\"17717\" style=\"\"><span class=\"ico_current_flag\"><i class=\"blind\">마지막에 읽은 메일</i></span><ul class=\"mInfo\"><li class=\"_m1(mlCore|toggleCheckMail|17717|down) _c1(mlCore|toggleCheckMail|17717|click) _stopDefault\"><input class=\"mCheck _checkList _m3(mlCore|toggleCheckMail|17717|over) _m1(mlCore|toggleCheckMail|17717|down) _k1(mlCore|toggleCheckMail|17717|keydown) _stopDefault\" id=\"mailCheck_17717\" name=\"\" onclick='ccr(this, \"lst.selectgot\", event)' resend=\"\" securityleveltype=\"NORMAL\" type=\"checkbox\" value=\"\"/><label class=\"blind\" for=\"mailCheck_17717\">\"RE: 면접 시간 조정 문의\" 메일 선택</label></li><li class=\"important _m1(mlCore|doStop) _c1(mlCore|markMailSelf|17717|mark) _ccr(lst.mark) _stopDefault\"><a href=\"#\" onblur=\"$Element(this).removeClass('_starFocus')\" onfocus=\"$Element(this).addClass('_starFocus')\"><span class=\"spr icoImportant icoImportantOff\" mailsn=\"17717\"><span class=\"blind\">중요메일로 표시하기</span></span></a></li><li class=\"read\"><a class=\"spr icoRead re _c1(mlCore|readMail|unread_conversation|17717) _stopDefault\" href=\"#\" title=\"답장한 읽은 메일\"><span class=\"blind\">답장한 읽은 메일</span></a><span class=\"btn_cover _m1(mlCore|doStop) _c1(mlCore|toggleConversationList) _stopDefault\" style=\"display:none;\"><button class=\"btn_view_slave\"><span class=\"blind\">개의 관련 메일있음</span></button></span></li><li class=\"file\"><span class=\"spr \" style=\"cursor:default;\" title=\"\"><span class=\"blind\"></span></span></li></ul><div class=\"mTitle\"><div class=\"name _ccr(lst.from) \"><span class=\"blind\">보낸 이:</span><a class=\"_c1(myContextMenu|showSenderContextLayer|list|17717) _stopDefault\" href=\"#\" title='\"유길상\" &lt;ksyoo@korea.ac.kr&gt;'>유길상</a></div><div class=\"subject \"><a class=\"_d2(mcDragndrop|html5DragStart)\" draggable=\"true\" href=\"/read/popup/?nMailId=17717\"><span class=\"text _ccr(lst.title) _c1(mrCore|clickTitle|17717) _m2(mrCore|middleClickTitle|17717)\" foldersn=\"\" mailsn=\"17717\"><span class=\"folderName _ccr(lst.title) _c1(mrCore|clickTitle|17717) _m2(mrCore|middleClickTitle|17717)\" foldersn=\"\" mailsn=\"17717\"><span class=\"blind\">에 분류됨</span></span><strong class=\"mail_title _ccr(lst.title) _c1(mrCore|clickTitle|17717) _m2(mrCore|middleClickTitle|17717)\" foldersn=\"\" mailsn=\"17717\"><span class=\"blind\">메일 제목:</span>RE: 면접 시간 조정 문의</strong></span></a><a class=\"icon_previewMail\" href=\"#\" title=\"메일 내용 미리보기\"><span class=\"spr _m1(mlCore|previewMail|17717|0) _c1(mlCore|doStop) _stopDefault\"><em class=\"blind\">메일 내용 미리보기 레이어 열림</em></span></a><a class=\"newWindow _ccr(lst.newwindow) _c1(mrCore|popupRead|17717) _m1(mlCore|doStop) _stopDefault\" href=\"#\" title=\"새 창으로 메일 보기\"><span class=\"spr\"><em class=\"blind\">새 창으로 메일 보기</em></span></a></div></div><ul class=\"mInfo split_cell\"><li class=\"iDate\"><span class=\"blind\">보낸날짜:</span>06-16 11:43</li><li class=\"iSize\"><span class=\"blind\">메일크기::</span>13.1 KB</li></ul></li><li class=\"17702_li unmark _c1(mrCore|clickTitle|17702) _d2(mcDragndrop|html5DragStart)\" data-category=\"-1\" draggable=\"true\" foldersn=\"\" mailsn=\"17702\" style=\"\"><span class=\"ico_current_flag\"><i class=\"blind\">마지막에 읽은 메일</i></span><ul class=\"mInfo\"><li class=\"_m1(mlCore|toggleCheckMail|17702|down) _c1(mlCore|toggleCheckMail|17702|click) _stopDefault\"><input class=\"mCheck _checkList _m3(mlCore|toggleCheckMail|17702|over) _m1(mlCore|toggleCheckMail|17702|down) _k1(mlCore|toggleCheckMail|17702|keydown) _stopDefault\" id=\"mailCheck_17702\" name=\"\" onclick='ccr(this, \"lst.selectgot\", event)' resend=\"\" securityleveltype=\"NORMAL\" type=\"checkbox\" value=\"\"/><label class=\"blind\" for=\"mailCheck_17702\">\"고려대학교 데이터 청년 캠퍼스 1차합격 및 면접안내\" 메일 선택</label></li><li class=\"important _m1(mlCore|doStop) _c1(mlCore|markMailSelf|17702|mark) _ccr(lst.mark) _stopDefault\"><a href=\"#\" onblur=\"$Element(this).removeClass('_starFocus')\" onfocus=\"$Element(this).addClass('_starFocus')\"><span class=\"spr icoImportant icoImportantOff\" mailsn=\"17702\"><span class=\"blind\">중요메일로 표시하기</span></span></a></li><li class=\"read\"><a class=\"spr icoRead yes _c1(mlCore|readMail|unread_conversation|17702) _stopDefault\" href=\"#\" title=\"읽은 메일\"><span class=\"blind\">읽은 메일</span></a><span class=\"btn_cover _m1(mlCore|doStop) _c1(mlCore|toggleConversationList) _stopDefault\" style=\"display:none;\"><button class=\"btn_view_slave\"><span class=\"blind\">개의 관련 메일있음</span></button></span></li><li class=\"file\"><span class=\"spr \" style=\"cursor:default;\" title=\"\"><span class=\"blind\"></span></span></li></ul><div class=\"mTitle\"><div class=\"name _ccr(lst.from) \"><span class=\"blind\">보낸 이:</span><a class=\"_c1(myContextMenu|showSenderContextLayer|list|17702) _stopDefault\" href=\"#\" title='\" 유길상[ 교수 / 정보창의교육연구소 ]\" &lt;ksyoo@korea.ac.kr&gt;'> 유길상[ 교수 / 정보창..</a></div><div class=\"subject \"><a class=\"_d2(mcDragndrop|html5DragStart)\" draggable=\"true\" href=\"/read/popup/?nMailId=17702\"><span class=\"text _ccr(lst.title) _c1(mrCore|clickTitle|17702) _m2(mrCore|middleClickTitle|17702)\" foldersn=\"\" mailsn=\"17702\"><span class=\"folderName _ccr(lst.title) _c1(mrCore|clickTitle|17702) _m2(mrCore|middleClickTitle|17702)\" foldersn=\"\" mailsn=\"17702\"><span class=\"blind\">에 분류됨</span></span><strong class=\"mail_title _ccr(lst.title) _c1(mrCore|clickTitle|17702) _m2(mrCore|middleClickTitle|17702)\" foldersn=\"\" mailsn=\"17702\"><span class=\"blind\">메일 제목:</span>고려대학교 데이터 청년 캠퍼스 1차합격 및 면접안내</strong></span></a><a class=\"icon_previewMail\" href=\"#\" title=\"메일 내용 미리보기\"><span class=\"spr _m1(mlCore|previewMail|17702|0) _c1(mlCore|doStop) _stopDefault\"><em class=\"blind\">메일 내용 미리보기 레이어 열림</em></span></a><a class=\"newWindow _ccr(lst.newwindow) _c1(mrCore|popupRead|17702) _m1(mlCore|doStop) _stopDefault\" href=\"#\" title=\"새 창으로 메일 보기\"><span class=\"spr\"><em class=\"blind\">새 창으로 메일 보기</em></span></a></div></div><ul class=\"mInfo split_cell\"><li class=\"iDate\"><span class=\"blind\">보낸날짜:</span>06-15 16:28</li><li class=\"iSize\"><span class=\"blind\">메일크기::</span>11.7 KB</li></ul></li></ol>"
      ]
     },
     "execution_count": 155,
     "metadata": {},
     "output_type": "execute_result"
    }
   ],
   "source": [
    "dom.find(text = re.compile('데이터 전문가 포럼')).find_parent().find_parent().find_parent().find_parent().find_parent() \n",
    "\n",
    "## mail리스트를 찾기위해 올라가보기"
   ]
  },
  {
   "cell_type": "code",
   "execution_count": 160,
   "metadata": {},
   "outputs": [
    {
     "data": {
      "text/plain": [
       "30"
      ]
     },
     "execution_count": 160,
     "metadata": {},
     "output_type": "execute_result"
    }
   ],
   "source": [
    "len(dom.select('.mailList > li')) ## 첫페이지에 뜨는 메일 개수"
   ]
  },
  {
   "cell_type": "code",
   "execution_count": 163,
   "metadata": {},
   "outputs": [
    {
     "name": "stdout",
     "output_type": "stream",
     "text": [
      "1 \"축하드려요 데이터 전문가 포럼 (빅데이터분석기사, ADP, SQLP, DAP 등) 카페에 가입 되셨습니다.\" 메일 선택\n",
      "==============================\n",
      "2 \"[학생용]폭력예방교육 에 오신 것을 환영합니다.\" 메일 선택\n",
      "==============================\n",
      "3 \"[2021 빅데이터청년인재] 4조 - 아이디어\" 메일 선택\n",
      "==============================\n",
      "4 \"[RE]RE: 머신인텔리전스 연구실 학부 인턴 선발을 위한 인터뷰 일정 안내\" 메일 선택\n",
      "==============================\n",
      "5 \"[RE]Re: 머신인텔리전스 연구실 학부 인턴 선발을 위한 인터뷰 일정 안내\" 메일 선택\n",
      "==============================\n",
      "6 \"머신인텔리전스 연구실 학부 인턴 선발을 위한 인터뷰 일정 안내\" 메일 선택\n",
      "==============================\n",
      "7 \"[ICT인턴십] 국내과정 학생 서류지원 안내(~7/13(화), 13시까지)\" 메일 선택\n",
      "==============================\n",
      "8 \"[Webinar]: Accelerating Allegro PCB and APD Package Layout Using NVIDIA GPUs for Complex Designs\" 메일 선택\n",
      "==============================\n",
      "9 \"Re: 박근형 증빙서류 제출\" 메일 선택\n",
      "==============================\n",
      "10 \"sun dong eun님이 ‘강의자료’ 폴더를 공유했습니다.\" 메일 선택\n",
      "==============================\n",
      "11 \"데이터 청년 캠퍼스 관련 서류 및 사전 교육 정보 안내\" 메일 선택\n",
      "==============================\n",
      "12 \"Re: 제출 서류 관련 문의\" 메일 선택\n",
      "==============================\n",
      "13 \"AI·DATA INSIGHT 14호 - 기계번역 데이터셋 : 규모의 게임\" 메일 선택\n",
      "==============================\n",
      "14 \"[기업가정신 NOW] 로봇 스타트업 어떻게 육성해야 하나\" 메일 선택\n",
      "==============================\n",
      "15 \"데이터 청년 캠퍼스 출석체크 안내\" 메일 선택\n",
      "==============================\n",
      "16 \"고려대학교 청년캠퍼스 교육 안내\" 메일 선택\n",
      "==============================\n",
      "17 \"RE: RE: 오티관련메일 미수신\" 메일 선택\n",
      "==============================\n",
      "18 \"2021년 데이터 청년 캠퍼스 교육생 오리엔테이션 개최(비대면) 및 온라인 사전 교육 안내(고려대)\" 메일 선택\n",
      "==============================\n",
      "19 \"RE: 오티관련메일 미수신\" 메일 선택\n",
      "==============================\n",
      "20 \"사업계획서 작성방법_20210617.pdf\" 메일 선택\n",
      "==============================\n",
      "21 \"\n",
      "\t[JBNUHub 공지]\n",
      "\t[공지] 중간기말고사 성적\" 메일 선택\n",
      "==============================\n",
      "22 \"[RE]연구실 학부인턴 관련 궁금한 사항 문의드립니다\" 메일 선택\n",
      "==============================\n",
      "23 \"[네이버페이] 결제하신 내역을 안내해드립니다.\" 메일 선택\n",
      "==============================\n",
      "24 \"[한국화웨이] Seeds For The Future 2021 (글로벌 ICT 인재프로그램) 안내 및 참가 요청의 건 \" 메일 선택\n",
      "==============================\n",
      "25 \"고려대 데이터 청년 캠퍼스 최종선정 합격자 안내\" 메일 선택\n",
      "==============================\n",
      "26 \"Re: 201716175 박근형 2차 상담\" 메일 선택\n",
      "==============================\n",
      "27 \"Re: 교수님 2차상담 문의 드립니다\" 메일 선택\n",
      "==============================\n",
      "28 \"Re: 교수님 2차상담 문의 드립니다\" 메일 선택\n",
      "==============================\n",
      "29 \"RE: 면접 시간 조정 문의\" 메일 선택\n",
      "==============================\n",
      "30 \"고려대학교 데이터 청년 캠퍼스 1차합격 및 면접안내\" 메일 선택\n",
      "==============================\n"
     ]
    }
   ],
   "source": [
    "for i,k in enumerate(dom.select('.mailList > li li > label')):\n",
    "    print(i+1, k.text)\n",
    "    print('='*30)"
   ]
  },
  {
   "cell_type": "markdown",
   "metadata": {},
   "source": [
    "### xpath를 활용하여 mail함 접근"
   ]
  },
  {
   "cell_type": "markdown",
   "metadata": {},
   "source": [
    "/ ===> 자식, // ===> 자손,  [@파라미터='값'] <br>\n",
    "ex) /div ==> root노드의 자식 div"
   ]
  },
  {
   "cell_type": "code",
   "execution_count": 169,
   "metadata": {
    "scrolled": true
   },
   "outputs": [
    {
     "data": {
      "text/plain": [
       "<selenium.webdriver.remote.webelement.WebElement (session=\"1b59982aa664537724e9249d264b782f\", element=\"c4fc0b13-ce12-418d-af5a-30a3625f9358\")>"
      ]
     },
     "execution_count": 169,
     "metadata": {},
     "output_type": "execute_result"
    }
   ],
   "source": [
    "driver.find_element_by_xpath('//ol') ## 자손중에 ol 찾기"
   ]
  },
  {
   "cell_type": "code",
   "execution_count": 171,
   "metadata": {},
   "outputs": [
    {
     "data": {
      "text/plain": [
       "30"
      ]
     },
     "execution_count": 171,
     "metadata": {},
     "output_type": "execute_result"
    }
   ],
   "source": [
    "len(driver.find_elements_by_xpath('//ol/li//li/label')) ## 똑같이 메일을 찾아낸거 확인"
   ]
  },
  {
   "cell_type": "markdown",
   "metadata": {},
   "source": [
    "### logout 해보기"
   ]
  },
  {
   "cell_type": "code",
   "execution_count": 221,
   "metadata": {},
   "outputs": [],
   "source": [
    "driver.find_element_by_class_name('gnb_my').click() ## class gnb_my 클릭"
   ]
  },
  {
   "cell_type": "code",
   "execution_count": 215,
   "metadata": {},
   "outputs": [],
   "source": [
    "logout = driver.find_element_by_xpath('//a[@id=\"gnb_logout_button\"]') ## logout button을 id를 활용하여 찾기"
   ]
  },
  {
   "cell_type": "code",
   "execution_count": 216,
   "metadata": {},
   "outputs": [
    {
     "data": {
      "text/plain": [
       "(True, True, False)"
      ]
     },
     "execution_count": 216,
     "metadata": {},
     "output_type": "execute_result"
    }
   ],
   "source": [
    "logout.is_displayed(), logout.is_enabled(), logout.is_selected()"
   ]
  },
  {
   "cell_type": "code",
   "execution_count": 217,
   "metadata": {},
   "outputs": [],
   "source": [
    "from selenium.webdriver.support import wait\n",
    "from selenium.webdriver.support.ui import WebDriverWait\n",
    "from selenium.common.exceptions import ElementNotInteractableException "
   ]
  },
  {
   "cell_type": "code",
   "execution_count": 218,
   "metadata": {},
   "outputs": [],
   "source": [
    "wait = WebDriverWait(driver, 10, ignored_exceptions = [ElementNotInteractableException]) ## wait 객체는 ElementNotInteractableException오류를 무시하면서 10초동안 TRUE를 return할때까지 작동한다 "
   ]
  },
  {
   "cell_type": "markdown",
   "metadata": {},
   "source": [
    "- logout"
   ]
  },
  {
   "cell_type": "code",
   "execution_count": 222,
   "metadata": {},
   "outputs": [],
   "source": [
    "driver.find_element_by_class_name('gnb_my').click() ## class gnb_my 클릭\n",
    "wait.until(lambda x : x.find_element_by_xpath('//a[@id=\"gnb_logout_button\"]').is_displayed())\n",
    "driver.find_element_by_xpath('//a[@id=\"gnb_logout_button\"]').click()"
   ]
  },
  {
   "cell_type": "markdown",
   "metadata": {},
   "source": [
    "### 팝업제거 이후 홈버튼 누르기(인터파크티켓 사이트)"
   ]
  },
  {
   "cell_type": "code",
   "execution_count": 224,
   "metadata": {},
   "outputs": [],
   "source": [
    "driver.get('http://ticket.interpark.com/')"
   ]
  },
  {
   "cell_type": "code",
   "execution_count": 225,
   "metadata": {},
   "outputs": [],
   "source": [
    "home = driver.find_element_by_css_selector('ul.gnbBtns > li > a:nth-of-type(1)')"
   ]
  },
  {
   "cell_type": "code",
   "execution_count": 226,
   "metadata": {},
   "outputs": [
    {
     "data": {
      "text/plain": [
       "<selenium.webdriver.remote.webelement.WebElement (session=\"1b59982aa664537724e9249d264b782f\", element=\"5f271a3e-7a58-40c3-ab03-55557e7e8871\")>"
      ]
     },
     "execution_count": 226,
     "metadata": {},
     "output_type": "execute_result"
    }
   ],
   "source": [
    "home"
   ]
  },
  {
   "cell_type": "code",
   "execution_count": 227,
   "metadata": {},
   "outputs": [
    {
     "data": {
      "text/plain": [
       "(True, True)"
      ]
     },
     "execution_count": 227,
     "metadata": {},
     "output_type": "execute_result"
    }
   ],
   "source": [
    "home.is_displayed(), home.is_enabled()"
   ]
  },
  {
   "cell_type": "code",
   "execution_count": 229,
   "metadata": {
    "collapsed": true
   },
   "outputs": [
    {
     "ename": "ElementClickInterceptedException",
     "evalue": "Message: element click intercepted: Element <a href=\"javascript:;\" class=\"btn_allMenu\" onclick=\"allMenu()\">...</a> is not clickable at point (20, 230). Other element would receive the click: <div class=\"noticeLayer\">...</div>\n  (Session info: chrome=91.0.4472.124)\n",
     "output_type": "error",
     "traceback": [
      "\u001b[1;31m---------------------------------------------------------------------------\u001b[0m",
      "\u001b[1;31mElementClickInterceptedException\u001b[0m          Traceback (most recent call last)",
      "\u001b[1;32m<ipython-input-229-35b787cc3bdc>\u001b[0m in \u001b[0;36m<module>\u001b[1;34m\u001b[0m\n\u001b[0;32m      1\u001b[0m \u001b[0mdriver\u001b[0m\u001b[1;33m.\u001b[0m\u001b[0mimplicitly_wait\u001b[0m\u001b[1;33m(\u001b[0m\u001b[1;36m10\u001b[0m\u001b[1;33m)\u001b[0m\u001b[1;33m\u001b[0m\u001b[1;33m\u001b[0m\u001b[0m\n\u001b[1;32m----> 2\u001b[1;33m \u001b[0mhome\u001b[0m\u001b[1;33m.\u001b[0m\u001b[0mclick\u001b[0m\u001b[1;33m(\u001b[0m\u001b[1;33m)\u001b[0m\u001b[1;33m\u001b[0m\u001b[1;33m\u001b[0m\u001b[0m\n\u001b[0m",
      "\u001b[1;32m~\\anaconda3\\lib\\site-packages\\selenium\\webdriver\\remote\\webelement.py\u001b[0m in \u001b[0;36mclick\u001b[1;34m(self)\u001b[0m\n\u001b[0;32m     78\u001b[0m     \u001b[1;32mdef\u001b[0m \u001b[0mclick\u001b[0m\u001b[1;33m(\u001b[0m\u001b[0mself\u001b[0m\u001b[1;33m)\u001b[0m\u001b[1;33m:\u001b[0m\u001b[1;33m\u001b[0m\u001b[1;33m\u001b[0m\u001b[0m\n\u001b[0;32m     79\u001b[0m         \u001b[1;34m\"\"\"Clicks the element.\"\"\"\u001b[0m\u001b[1;33m\u001b[0m\u001b[1;33m\u001b[0m\u001b[0m\n\u001b[1;32m---> 80\u001b[1;33m         \u001b[0mself\u001b[0m\u001b[1;33m.\u001b[0m\u001b[0m_execute\u001b[0m\u001b[1;33m(\u001b[0m\u001b[0mCommand\u001b[0m\u001b[1;33m.\u001b[0m\u001b[0mCLICK_ELEMENT\u001b[0m\u001b[1;33m)\u001b[0m\u001b[1;33m\u001b[0m\u001b[1;33m\u001b[0m\u001b[0m\n\u001b[0m\u001b[0;32m     81\u001b[0m \u001b[1;33m\u001b[0m\u001b[0m\n\u001b[0;32m     82\u001b[0m     \u001b[1;32mdef\u001b[0m \u001b[0msubmit\u001b[0m\u001b[1;33m(\u001b[0m\u001b[0mself\u001b[0m\u001b[1;33m)\u001b[0m\u001b[1;33m:\u001b[0m\u001b[1;33m\u001b[0m\u001b[1;33m\u001b[0m\u001b[0m\n",
      "\u001b[1;32m~\\anaconda3\\lib\\site-packages\\selenium\\webdriver\\remote\\webelement.py\u001b[0m in \u001b[0;36m_execute\u001b[1;34m(self, command, params)\u001b[0m\n\u001b[0;32m    631\u001b[0m             \u001b[0mparams\u001b[0m \u001b[1;33m=\u001b[0m \u001b[1;33m{\u001b[0m\u001b[1;33m}\u001b[0m\u001b[1;33m\u001b[0m\u001b[1;33m\u001b[0m\u001b[0m\n\u001b[0;32m    632\u001b[0m         \u001b[0mparams\u001b[0m\u001b[1;33m[\u001b[0m\u001b[1;34m'id'\u001b[0m\u001b[1;33m]\u001b[0m \u001b[1;33m=\u001b[0m \u001b[0mself\u001b[0m\u001b[1;33m.\u001b[0m\u001b[0m_id\u001b[0m\u001b[1;33m\u001b[0m\u001b[1;33m\u001b[0m\u001b[0m\n\u001b[1;32m--> 633\u001b[1;33m         \u001b[1;32mreturn\u001b[0m \u001b[0mself\u001b[0m\u001b[1;33m.\u001b[0m\u001b[0m_parent\u001b[0m\u001b[1;33m.\u001b[0m\u001b[0mexecute\u001b[0m\u001b[1;33m(\u001b[0m\u001b[0mcommand\u001b[0m\u001b[1;33m,\u001b[0m \u001b[0mparams\u001b[0m\u001b[1;33m)\u001b[0m\u001b[1;33m\u001b[0m\u001b[1;33m\u001b[0m\u001b[0m\n\u001b[0m\u001b[0;32m    634\u001b[0m \u001b[1;33m\u001b[0m\u001b[0m\n\u001b[0;32m    635\u001b[0m     \u001b[1;32mdef\u001b[0m \u001b[0mfind_element\u001b[0m\u001b[1;33m(\u001b[0m\u001b[0mself\u001b[0m\u001b[1;33m,\u001b[0m \u001b[0mby\u001b[0m\u001b[1;33m=\u001b[0m\u001b[0mBy\u001b[0m\u001b[1;33m.\u001b[0m\u001b[0mID\u001b[0m\u001b[1;33m,\u001b[0m \u001b[0mvalue\u001b[0m\u001b[1;33m=\u001b[0m\u001b[1;32mNone\u001b[0m\u001b[1;33m)\u001b[0m\u001b[1;33m:\u001b[0m\u001b[1;33m\u001b[0m\u001b[1;33m\u001b[0m\u001b[0m\n",
      "\u001b[1;32m~\\anaconda3\\lib\\site-packages\\selenium\\webdriver\\remote\\webdriver.py\u001b[0m in \u001b[0;36mexecute\u001b[1;34m(self, driver_command, params)\u001b[0m\n\u001b[0;32m    319\u001b[0m         \u001b[0mresponse\u001b[0m \u001b[1;33m=\u001b[0m \u001b[0mself\u001b[0m\u001b[1;33m.\u001b[0m\u001b[0mcommand_executor\u001b[0m\u001b[1;33m.\u001b[0m\u001b[0mexecute\u001b[0m\u001b[1;33m(\u001b[0m\u001b[0mdriver_command\u001b[0m\u001b[1;33m,\u001b[0m \u001b[0mparams\u001b[0m\u001b[1;33m)\u001b[0m\u001b[1;33m\u001b[0m\u001b[1;33m\u001b[0m\u001b[0m\n\u001b[0;32m    320\u001b[0m         \u001b[1;32mif\u001b[0m \u001b[0mresponse\u001b[0m\u001b[1;33m:\u001b[0m\u001b[1;33m\u001b[0m\u001b[1;33m\u001b[0m\u001b[0m\n\u001b[1;32m--> 321\u001b[1;33m             \u001b[0mself\u001b[0m\u001b[1;33m.\u001b[0m\u001b[0merror_handler\u001b[0m\u001b[1;33m.\u001b[0m\u001b[0mcheck_response\u001b[0m\u001b[1;33m(\u001b[0m\u001b[0mresponse\u001b[0m\u001b[1;33m)\u001b[0m\u001b[1;33m\u001b[0m\u001b[1;33m\u001b[0m\u001b[0m\n\u001b[0m\u001b[0;32m    322\u001b[0m             response['value'] = self._unwrap_value(\n\u001b[0;32m    323\u001b[0m                 response.get('value', None))\n",
      "\u001b[1;32m~\\anaconda3\\lib\\site-packages\\selenium\\webdriver\\remote\\errorhandler.py\u001b[0m in \u001b[0;36mcheck_response\u001b[1;34m(self, response)\u001b[0m\n\u001b[0;32m    240\u001b[0m                 \u001b[0malert_text\u001b[0m \u001b[1;33m=\u001b[0m \u001b[0mvalue\u001b[0m\u001b[1;33m[\u001b[0m\u001b[1;34m'alert'\u001b[0m\u001b[1;33m]\u001b[0m\u001b[1;33m.\u001b[0m\u001b[0mget\u001b[0m\u001b[1;33m(\u001b[0m\u001b[1;34m'text'\u001b[0m\u001b[1;33m)\u001b[0m\u001b[1;33m\u001b[0m\u001b[1;33m\u001b[0m\u001b[0m\n\u001b[0;32m    241\u001b[0m             \u001b[1;32mraise\u001b[0m \u001b[0mexception_class\u001b[0m\u001b[1;33m(\u001b[0m\u001b[0mmessage\u001b[0m\u001b[1;33m,\u001b[0m \u001b[0mscreen\u001b[0m\u001b[1;33m,\u001b[0m \u001b[0mstacktrace\u001b[0m\u001b[1;33m,\u001b[0m \u001b[0malert_text\u001b[0m\u001b[1;33m)\u001b[0m\u001b[1;33m\u001b[0m\u001b[1;33m\u001b[0m\u001b[0m\n\u001b[1;32m--> 242\u001b[1;33m         \u001b[1;32mraise\u001b[0m \u001b[0mexception_class\u001b[0m\u001b[1;33m(\u001b[0m\u001b[0mmessage\u001b[0m\u001b[1;33m,\u001b[0m \u001b[0mscreen\u001b[0m\u001b[1;33m,\u001b[0m \u001b[0mstacktrace\u001b[0m\u001b[1;33m)\u001b[0m\u001b[1;33m\u001b[0m\u001b[1;33m\u001b[0m\u001b[0m\n\u001b[0m\u001b[0;32m    243\u001b[0m \u001b[1;33m\u001b[0m\u001b[0m\n\u001b[0;32m    244\u001b[0m     \u001b[1;32mdef\u001b[0m \u001b[0m_value_or_default\u001b[0m\u001b[1;33m(\u001b[0m\u001b[0mself\u001b[0m\u001b[1;33m,\u001b[0m \u001b[0mobj\u001b[0m\u001b[1;33m,\u001b[0m \u001b[0mkey\u001b[0m\u001b[1;33m,\u001b[0m \u001b[0mdefault\u001b[0m\u001b[1;33m)\u001b[0m\u001b[1;33m:\u001b[0m\u001b[1;33m\u001b[0m\u001b[1;33m\u001b[0m\u001b[0m\n",
      "\u001b[1;31mElementClickInterceptedException\u001b[0m: Message: element click intercepted: Element <a href=\"javascript:;\" class=\"btn_allMenu\" onclick=\"allMenu()\">...</a> is not clickable at point (20, 230). Other element would receive the click: <div class=\"noticeLayer\">...</div>\n  (Session info: chrome=91.0.4472.124)\n"
     ]
    }
   ],
   "source": [
    "driver.implicitly_wait(10)\n",
    "home.click()"
   ]
  },
  {
   "cell_type": "code",
   "execution_count": 231,
   "metadata": {},
   "outputs": [],
   "source": [
    "from selenium.common.exceptions import ElementClickInterceptedException ## click과 관련된 에러 import"
   ]
  },
  {
   "cell_type": "code",
   "execution_count": 233,
   "metadata": {},
   "outputs": [],
   "source": [
    "wait = WebDriverWait(driver, 10 , ignored_exceptions=[ElementClickInterceptedException,ElementNotInteractableException]) ## 새로운 wait객체 생성 "
   ]
  },
  {
   "cell_type": "code",
   "execution_count": 236,
   "metadata": {},
   "outputs": [],
   "source": [
    "for i in driver.find_elements_by_xpath('//table[@class=\"noticeLayerTable\"]'): ## table의 자손중 class가 noticeLayerTable인 것들 찾아주기===> 팝업창의 위치 찾아주기\n",
    "    if i.is_displayed() and i.is_enabled(): ## 화면에 보여지고, 요소로도 보여질 경우에\n",
    "        i.find_element_by_css_selector('div.closeDiv > a').click() ## 닫기 버튼 누르기"
   ]
  },
  {
   "cell_type": "markdown",
   "metadata": {},
   "source": [
    "- try except 사용하기"
   ]
  },
  {
   "cell_type": "code",
   "execution_count": 238,
   "metadata": {},
   "outputs": [],
   "source": [
    "from selenium.common.exceptions import StaleElementReferenceException "
   ]
  },
  {
   "cell_type": "code",
   "execution_count": 244,
   "metadata": {},
   "outputs": [],
   "source": [
    "from selenium.common.exceptions import StaleElementReferenceException\n",
    "\n",
    "try:\n",
    "    driver.find_element_by_css_selector('ul.gnbBtns > li > a:nth-of-type(1)').click()\n",
    "except StaleElementReferenceException as e:\n",
    "    for _ in driver.find_elements_by_xpath('//table[@class=\"noticeLayerTable\"]'):\n",
    "        if _.is_displayed() and _.is_enabled():\n",
    "            _.find_element_by_css_selector('div.closeDiv > a').click()\n",
    "    wait.until(lambda _:_.find_element_by_css_selector(\n",
    "    'ul.gnbBtns > li > a:nth-of-type(1)').is_displayed())\n",
    "    home.click()"
   ]
  },
  {
   "cell_type": "markdown",
   "metadata": {},
   "source": [
    "### naver 검색"
   ]
  },
  {
   "cell_type": "code",
   "execution_count": 245,
   "metadata": {},
   "outputs": [],
   "source": [
    "driver.get('http://www.naver.com')"
   ]
  },
  {
   "cell_type": "code",
   "execution_count": 246,
   "metadata": {
    "collapsed": true
   },
   "outputs": [
    {
     "name": "stdout",
     "output_type": "stream",
     "text": [
      "sm\n",
      "fbm\n",
      "acr\n",
      "acq\n",
      "qdt\n",
      "ie\n",
      "acir\n",
      "os\n",
      "bid\n",
      "pkid\n",
      "eid\n",
      "mra\n",
      "query\n"
     ]
    }
   ],
   "source": [
    "for i in driver.find_elements_by_css_selector('form input'):\n",
    "    print(i.get_attribute('name'))"
   ]
  },
  {
   "cell_type": "code",
   "execution_count": 262,
   "metadata": {},
   "outputs": [],
   "source": [
    "driver.find_element_by_name('query').send_keys('파이썬') ## 검색창에 '파이썬' 작성하기\n",
    "driver.find_element_by_id('search_btn').click() ##찾기 버튼 누르기 "
   ]
  },
  {
   "cell_type": "code",
   "execution_count": 265,
   "metadata": {
    "scrolled": true
   },
   "outputs": [
    {
     "name": "stdout",
     "output_type": "stream",
     "text": [
      "파이썬학원 수월한 과정! https://blog.naver.com/bredpark1004/222423051052\n"
     ]
    }
   ],
   "source": [
    "for i in driver.find_elements_by_css_selector('.total_area > a'): \n",
    "    \n",
    "    if urlparse(i.get_attribute('href')).netloc =='blog.naver.com':\n",
    "        print(i.text, i.get_attribute('href')) \n",
    "        driver.get(i.get_attribute('href'))\n",
    "        break  ## 블로그 주소를 찾아서 블로그링크로 들어가기\n",
    "        "
   ]
  },
  {
   "cell_type": "code",
   "execution_count": 266,
   "metadata": {},
   "outputs": [],
   "source": [
    "driver.implicitly_wait = 0"
   ]
  },
  {
   "cell_type": "code",
   "execution_count": 270,
   "metadata": {},
   "outputs": [],
   "source": [
    "main = driver.find_element_by_css_selector('iframe')"
   ]
  },
  {
   "cell_type": "markdown",
   "metadata": {},
   "source": [
    "- dom 에서 찾아보기"
   ]
  },
  {
   "cell_type": "code",
   "execution_count": 269,
   "metadata": {},
   "outputs": [
    {
     "data": {
      "text/plain": [
       "<iframe allowfullscreen=\"true\" id=\"mainFrame\" name=\"mainFrame\" onload=\"oFramesetTitleController.start(self.frames['mainFrame'], self, sTitle);oFramesetTitleController.onLoadFrame();oFramesetUrlController.start(self.frames['mainFrame']);oFramesetUrlController.onLoadFrame()\" scrolling=\"auto\" src=\"/PostView.naver?blogId=bredpark1004&amp;logNo=222423051052&amp;redirect=Dlog&amp;widgetTypeCall=true&amp;directAccess=false\"></iframe>"
      ]
     },
     "execution_count": 269,
     "metadata": {},
     "output_type": "execute_result"
    }
   ],
   "source": [
    "dom = BeautifulSoup(driver.page_source, 'lxml')\n",
    "dom.select_one('iframe')"
   ]
  },
  {
   "cell_type": "markdown",
   "metadata": {},
   "source": [
    "- dom을 스위칭시켜서 안에있는 dom을 해석하기 ===> 블로그 내용 가져오기"
   ]
  },
  {
   "cell_type": "code",
   "execution_count": 271,
   "metadata": {
    "scrolled": true
   },
   "outputs": [
    {
     "name": "stderr",
     "output_type": "stream",
     "text": [
      "<ipython-input-271-0b4786396c90>:1: DeprecationWarning: use driver.switch_to.frame instead\n",
      "  driver.switch_to_frame(main)\n"
     ]
    }
   ],
   "source": [
    "driver.switch_to_frame(main)"
   ]
  },
  {
   "cell_type": "code",
   "execution_count": 272,
   "metadata": {
    "collapsed": true
   },
   "outputs": [
    {
     "data": {
      "text/plain": [
       "'파이썬학원 수월한 과정!\\n인생을 이렇게 살아도 되나 싶을 정도로, 목표가 없었습니다.\\n이러한 사람들을 오늘만 산다고 하죠. 제가 딱 그랬습니다.\\n 작년 한해는 어쩔 수 없이 허망하게 시간을 흘려 보냈지만 올해 만큼은 목표도 잡고, 원하는 공부도 해보면서 성취감을 느끼고 싶었는데요.\\n어떤 걸 배울 지 여러 차례 고민을 해보다가, \\n파이썬이라는 프로그래밍 언어를 알게 되었습니다.\\n프로그래밍 언어는 요즘 직장인 분들도, \\n대학생이나 고등학생! 심지어, 초등학생도 공부를 한다고 하더라고요.\\n4차산업혁명으로 인해, 코딩, 프로그래밍, 개발자, AI 쪽의 전망이 좋아질 거라는 예상 때문이라고 생각하는데요. 저도 이왕 하는 공부! 노후까지 대비할 수 있다면 좋을 것 같아 파이썬 공부를 시작하게 되었습니다. \\nPython은 프로그래밍 언어 중 하나이며, 이 밖에도 C언어나 C++, 자바 등의 다양한 언어들이 존재하는데요. 그 중에서도 python은 초보자들도 쉽게 배울 수 있는 수준이라고 하며, 프로그래밍의 기본이라고 하기에 경험이 없던 저도 자신감이 생겼습니다. \\n독학으로 가능하다고 하더라도, 조금 불안했던 것이 사실인데요.\\n괜히 혼자 했다가 어려움을 느끼고 금방 포기하게 될 것 같아, 차라리 처음부터 파이썬학원에 다니며 준비를 하는 게 좋을 것 같았습니다. \\n그렇게 학원을 알아보게 되었고, 좋은 환경에서 지금도 잘 배우고 있는데요! Python을 배우고자 하는 분들을 위해 어떤 과정을 지나쳐 왔는 지 알려드리면 도움이 될 것 같아 글을 써보게 되었습니다. \\n일단, 저는 IT 분야만을 전문적으로 가르치는 파이썬학원에서 배움을 시작했습니다. \\n제가 수업을 들은 환경은 커리큘럼이 참 다양했는데요. 초심자인 저로서는 어떤 것부터 시작하면 될 지 몰라, 우선 멘토 선생님을 만났습니다. \\n취업이나 이직 준비를 하는 분들은 멘토 선생님과 이야기를 나눈 후, 앞으로의 방향과 목표를 설정하는 편이라고 하는데요. 저는 이 때, 너무 사소한 걸로 만나 뵙게 된 건 가, 괜한 걱정도 들었지만, 그런 것 치고는 친절하셨습니다.\\n그리고, 설명도 자세하고 꼼꼼하게 진행하셨는데요. 그냥 단순 호기심으로 배워 보고 싶어서 찾아온 저에게 좋은 가이드라인을 제시하셨습니다. \\n수업 과정은 기초 과정을 배울 수 있는 IT 베이직 수업과 정규 과정, 국비지원 과정, 프로젝트 등이 있는데요. 수업을 들으면서 취업지원도 받을 수 있는 구조로 시스템이 진행되고 있었습니다. \\n저는 기초 실력도 없는 상태에서 시작했기 때문에, IT 베이직 수업부터 듣는 것이 가장 안정적이라고 보여졌는데요.\\n역시나, 선생님께서도 이전까지 배워본 경험이 없다면 기초 수업부터 들으면서 천천히 이해해 나가는 것도 좋다고 하셨습니다. \\n제가 들은 기초 수업 과정은 총 2개월간 진행되는 커리큘럼입니다.\\n평일에는 격일로 1일 3시간 정도 수업이 진행되며, 주말에는 토요일과 일요일 모두 1일 4시간씩 수업이 진행되는 스케줄을 보이고 있어요. \\n수업 인원은 20명으로 제한이 되어 있다고 말씀하셨는데요.\\n좀 더 꼼꼼한 지도를 위해 인원을 제한한 거라고 하며, 저도 사람이 많은 건 싫었기 때문에 한 반에 적당한 인원으로 수업이 진행된다는 점은 반갑게 느껴졌습니다. \\n수업 시작 전, 책 한 권을 받았는데요! \\n이 책은 파이썬학원 자체적으로 제작이 된 교재였습니다. 직강 커리큘럼에 맞춰 목차도 나열되어 있었고, 예습이나 복습이 가능하도록 다양한 예제가 수록되어 있더라고요! \\n그리고 기초서 답게, 간단한 문법으로 시작해서 내용을 쉽고 재밌게 이해할 수 있도록 내용이 수록되어 있었습니다. 설명도 자세하게 되어있고, 창의적으로도 다가가 볼 수 있게끔 응용 이론들도확인할 수 있었던 교재였죠! \\n저는 참고서부터 마음에 들었는데요! 잘 할 수 있을 지 걱정이 되었지만, 수업을 열심히 잘 따라가다보면, 자신감을 가질 수 있지 않을까란 기대도 해 보게 되더라고요. \\n첫 수업때는 프로그래밍 준비를 하기 위한 단계를 밟았는데요! \\n그리고 기본이 되는 변수와 자료형에 대한 의미를 파악하고 기본 입출력 함수부터 차근차근 배우기 시작했습니다. 그 외에도 연산자와 제어문도 배웠어요. \\n1주차 수업은 개인적으로 어렵지 않았다고 느껴졌는데요. 처음 공부를 하는 거라 우왕좌왕하면 어쩌지, 싶었는 데 선생님이 설명해 주시는 내용이 이해가 잘 되었기 때문에 초반부터 조금이나마 자신감을 가질 수 있었습니다. \\n하지만, 기초 수업도 시간이 흐를수록 어려워지긴 하더라고요.\\n예를 들어, 3주차에 배웠던 클래스와 객체, 함수 안에서 다루는 메서트 정의, 리턴, 상속 등에 대한 개념은 초심자가 이해하기 힘든 내용 중 하나였습니다. \\n저는 이 때, 복습의 필요성을 절실히 느꼈는데요. 수업을 듣는 것만으로도 이해가 잘 되는 편이었지만 배운 내용을 내 것으로 만들기 위해서는 개인적으로 노력을 많이 해야겠다는 생각이 들었습니다. \\n그래서 저는, 수업이 끝나고 집으로 곧장 향하지 않았고, 복습의 필요성을 느끼기 시작한 이후로 자습실에 가서 공부를 하고 집에 돌아가곤 했습니다.\\n공부를 하고 싶다면, 언제든지 할 수 있도록 파이썬학원 안에는 자습실이 마련되어 있다는 것도 꽤 괜찮게 느껴졌던 것 중 하나입니다. 자습실이 있어도 잘 사용하지 않을 것 같았는 데 조교 선생님이 자습도 봐주시기 때문에 혼자 공부를 하는 것보다 오히려 더 술술 잘 풀리더라고요! \\n저는 1개월차 수업이 지날 때쯤, 파이썬에 대한 감이 제대로 잡히기 시작했는데요. 코딩을 하는 대로 오류 없이 결과물이 나올 때면 그렇게 기쁠 수가 없었습니다.\\n이 때문에 많은 이들이 프로그래밍 언어에 흥미와 관심을 아끼지 않는 걸까, 생각을 해보기도 했어요. 아무튼, 시작이 좋았기에 C언어를 들을 수 있는 실력까지 갖춰진 게 아닐까 하는데요! \\nC언어도 개발자라면 꼭 알아야 되는 언어이지만, 난이도가 낮은 편은 아니기 때문에 배우고 싶어도 걱정이 많이 되었거든요. 근데, 처음 공부를 했던 수업 과정이 생각했던  것보다 순조롭게 진행이 되었기 때문에 지금 듣고 있는 C언어 수업도 힘들지만 잘 해 낼 수 있다는 자신감이 생깁니다.\\n배울수록 욕심이 생겨서, 아예 이쪽으로 진로를 틀어볼까 생각하기도 하고 있는데요! \\n아직은 이르지만, 비전공자라고 해서 못할 건 없다는 걸 이 번에 배우면서 깨닫게 되었습니다.\\n기본 수업 과정부터 직업에 대해 배울 수 있는 정규 실무 교육 과정, 그리고 프로젝트를 제작할 수 있는 수업 과정까지, 다양하기 때문에 자신의 목적에 맞춰서 언제든지 다가갈 수 있는 환경이라고 생각하는데요.\\n배우고 싶은 데 비전공자라서 걱정이 되기도 한다면, 그동안의 공부 과정을 확인해 보고 자신감을 가졌으면 합니다! \\n물론, 그만 두고 싶은 생각도 들 때가 있지만, 이런 생각이 들어도 다시 재미를 느낄 수 있게 되는 매력이 있어서 포기할 수 없는 것 같아요! 그럼, 앞으로 잘 배워서 원하는 목표를 이뤄 내셨으면 하네요! \\n코리아IT아카데미 교육상담실\\n학과선택 희망하시는 학과를 선택해 주세요. 코리아IT SIGNATURE 여름방학 특강 국비 교육과정 취업 정규과정 자격증 취득과정 단과과정 시그니처 과정 다른학과 희망 시 위 학과선택에서 클릭해 주세요. 억대연봉 취업컨설팅 학생 진로상담 취업 진로 상담 IT 자격증 빅데이터 전문가 정보보안 전문가 C언어 개발자 JAVA 개발자 Python 개발자 프론트엔드 개발자 웹&앱 개발자 기타과목 15자 이내로 입력해 주시기 바랍니다. 과목 입력 후 엔터키를 눌러주세요. 희망 교육과정 희망하시는 교육과정을 선택해 주세요. 지점 선택 강남지점 ...\\nwww.koreaisacademy.co.kr\\n업체의 지원을 받아 작성된 글입니다. \\n솔직한 정보를 바탕으로 작성하였습니다. '"
      ]
     },
     "execution_count": 272,
     "metadata": {},
     "output_type": "execute_result"
    }
   ],
   "source": [
    "driver.find_element_by_css_selector('.se-main-container').text"
   ]
  },
  {
   "cell_type": "code",
   "execution_count": 274,
   "metadata": {
    "collapsed": true
   },
   "outputs": [
    {
     "data": {
      "text/plain": [
       "'\\n\\n\\n\\n\\n\\u200b\\n\\n\\n\\n \\n\\n\\n\\n파이썬학원 수월한 과정!\\n\\n\\n\\n\\n\\n\\n\\n\\n\\u200b인생을 이렇게 살아도 되나 싶을 정도로, 목표가 없었습니다.이러한 사람들을 오늘만 산다고 하죠. 제가 딱 그랬습니다. 작년 한해는 어쩔 수 없이 허망하게 시간을 흘려 보냈지만 올해 만큼은 목표도 잡고, 원하는 공부도 해보면서 성취감을 느끼고 싶었는데요.어떤 걸 배울 지 여러 차례 고민을 해보다가, 파이썬이라는 프로그래밍 언어를 알게 되었습니다.프로그래밍 언어는 요즘 직장인 분들도, 대학생이나 고등학생! 심지어, 초등학생도 공부를 한다고 하더라고요.\\u200b\\n\\n\\n\\n \\n\\n\\n\\n\\n\\n\\n\\n\\n\\n\\n\\n\\n\\n\\n\\u200b4차산업혁명으로 인해, 코딩, 프로그래밍, 개발자, AI 쪽의 전망이 좋아질 거라는 예상 때문이라고 생각하는데요. 저도 이왕 하는 공부! 노후까지 대비할 수 있다면 좋을 것 같아 파이썬 공부를 시작하게 되었습니다. Python은 프로그래밍 언어 중 하나이며, 이 밖에도 C언어나 C++, 자바 등의 다양한 언어들이 존재하는데요. 그 중에서도 python은 초보자들도 쉽게 배울 수 있는 수준이라고 하며, 프로그래밍의 기본이라고 하기에 경험이 없던 저도 자신감이 생겼습니다. \\u200b\\n\\n\\n\\n \\n\\n\\n\\n\\n\\n\\n\\n\\n\\n\\n\\n\\n\\n\\n\\u200b독학으로 가능하다고 하더라도, 조금 불안했던 것이 사실인데요.괜히 혼자 했다가 어려움을 느끼고 금방 포기하게 될 것 같아, 차라리 처음부터 파이썬학원에 다니며 준비를 하는 게 좋을 것 같았습니다. 그렇게 학원을 알아보게 되었고, 좋은 환경에서 지금도 잘 배우고 있는데요! Python을 배우고자 하는 분들을 위해 어떤 과정을 지나쳐 왔는 지 알려드리면 도움이 될 것 같아 글을 써보게 되었습니다. \\u200b\\n\\n\\n\\n \\n\\n\\n\\n\\n\\n\\n\\n\\n\\n\\n\\n\\n\\n\\n\\u200b일단, 저는 IT 분야만을 전문적으로 가르치는 파이썬학원에서 배움을 시작했습니다. 제가 수업을 들은 환경은 커리큘럼이 참 다양했는데요. 초심자인 저로서는 어떤 것부터 시작하면 될 지 몰라, 우선 멘토 선생님을 만났습니다. 취업이나 이직 준비를 하는 분들은 멘토 선생님과 이야기를 나눈 후, 앞으로의 방향과 목표를 설정하는 편이라고 하는데요. 저는 이 때, 너무 사소한 걸로 만나 뵙게 된 건 가, 괜한 걱정도 들었지만, 그런 것 치고는 친절하셨습니다.그리고, 설명도 자세하고 꼼꼼하게 진행하셨는데요. 그냥 단순 호기심으로 배워 보고 싶어서 찾아온 저에게 좋은 가이드라인을 제시하셨습니다. \\u200b\\n\\n\\n\\n \\n\\n\\n\\n\\n\\n\\n\\n\\n\\n\\n\\n\\n\\n\\n\\u200b수업 과정은 기초 과정을 배울 수 있는 IT 베이직 수업과 정규 과정, 국비지원 과정, 프로젝트 등이 있는데요. 수업을 들으면서 취업지원도 받을 수 있는 구조로 시스템이 진행되고 있었습니다. 저는 기초 실력도 없는 상태에서 시작했기 때문에, IT 베이직 수업부터 듣는 것이 가장 안정적이라고 보여졌는데요.역시나, 선생님께서도 이전까지 배워본 경험이 없다면 기초 수업부터 들으면서 천천히 이해해 나가는 것도 좋다고 하셨습니다. 제가 들은 기초 수업 과정은 총 2개월간 진행되는 커리큘럼입니다.평일에는 격일로 1일 3시간 정도 수업이 진행되며, 주말에는 토요일과 일요일 모두 1일 4시간씩 수업이 진행되는 스케줄을 보이고 있어요. \\u200b\\n\\n\\n\\n \\n\\n\\n\\n\\n\\n\\n\\n\\n\\n\\n\\n\\n\\n\\n\\u200b수업 인원은 20명으로 제한이 되어 있다고 말씀하셨는데요.좀 더 꼼꼼한 지도를 위해 인원을 제한한 거라고 하며, 저도 사람이 많은 건 싫었기 때문에 한 반에 적당한 인원으로 수업이 진행된다는 점은 반갑게 느껴졌습니다. 수업 시작 전, 책 한 권을 받았는데요! 이 책은 파이썬학원 자체적으로 제작이 된 교재였습니다. 직강 커리큘럼에 맞춰 목차도 나열되어 있었고, 예습이나 복습이 가능하도록 다양한 예제가 수록되어 있더라고요! 그리고 기초서 답게, 간단한 문법으로 시작해서 내용을 쉽고 재밌게 이해할 수 있도록 내용이 수록되어 있었습니다. 설명도 자세하게 되어있고, 창의적으로도 다가가 볼 수 있게끔 응용 이론들도확인할 수 있었던 교재였죠! \\u200b\\n\\n\\n\\n \\n\\n\\n\\n\\n\\n\\n\\n\\n\\n\\n\\n\\n\\n\\n\\u200b저는 참고서부터 마음에 들었는데요! 잘 할 수 있을 지 걱정이 되었지만, 수업을 열심히 잘 따라가다보면, 자신감을 가질 수 있지 않을까란 기대도 해 보게 되더라고요. 첫 수업때는 프로그래밍 준비를 하기 위한 단계를 밟았는데요! 그리고 기본이 되는 변수와 자료형에 대한 의미를 파악하고 기본 입출력 함수부터 차근차근 배우기 시작했습니다. 그 외에도 연산자와 제어문도 배웠어요. 1주차 수업은 개인적으로 어렵지 않았다고 느껴졌는데요. 처음 공부를 하는 거라 우왕좌왕하면 어쩌지, 싶었는 데 선생님이 설명해 주시는 내용이 이해가 잘 되었기 때문에 초반부터 조금이나마 자신감을 가질 수 있었습니다. \\u200b\\n\\n\\n\\n \\n\\n\\n\\n\\n\\n\\n\\n\\n\\n\\n\\n\\n\\n\\n\\u200b하지만, 기초 수업도 시간이 흐를수록 어려워지긴 하더라고요.예를 들어, 3주차에 배웠던 클래스와 객체, 함수 안에서 다루는 메서트 정의, 리턴, 상속 등에 대한 개념은 초심자가 이해하기 힘든 내용 중 하나였습니다. 저는 이 때, 복습의 필요성을 절실히 느꼈는데요. 수업을 듣는 것만으로도 이해가 잘 되는 편이었지만 배운 내용을 내 것으로 만들기 위해서는 개인적으로 노력을 많이 해야겠다는 생각이 들었습니다. 그래서 저는, 수업이 끝나고 집으로 곧장 향하지 않았고, 복습의 필요성을 느끼기 시작한 이후로 자습실에 가서 공부를 하고 집에 돌아가곤 했습니다.\\u200b\\n\\n\\n\\n \\n\\n\\n\\n\\n\\n\\n\\n\\n\\n\\n\\n\\n\\n\\n\\u200b공부를 하고 싶다면, 언제든지 할 수 있도록 파이썬학원 안에는 자습실이 마련되어 있다는 것도 꽤 괜찮게 느껴졌던 것 중 하나입니다. 자습실이 있어도 잘 사용하지 않을 것 같았는 데 조교 선생님이 자습도 봐주시기 때문에 혼자 공부를 하는 것보다 오히려 더 술술 잘 풀리더라고요! 저는 1개월차 수업이 지날 때쯤, 파이썬에 대한 감이 제대로 잡히기 시작했는데요. 코딩을 하는 대로 오류 없이 결과물이 나올 때면 그렇게 기쁠 수가 없었습니다.이 때문에 많은 이들이 프로그래밍 언어에 흥미와 관심을 아끼지 않는 걸까, 생각을 해보기도 했어요. 아무튼, 시작이 좋았기에 C언어를 들을 수 있는 실력까지 갖춰진 게 아닐까 하는데요! \\u200b\\n\\n\\n\\n \\n\\n\\n\\n\\n\\n\\n\\n\\n\\n\\n\\n\\n\\n\\n\\u200bC언어도 개발자라면 꼭 알아야 되는 언어이지만, 난이도가 낮은 편은 아니기 때문에 배우고 싶어도 걱정이 많이 되었거든요. 근데, 처음 공부를 했던 수업 과정이 생각했던  것보다 순조롭게 진행이 되었기 때문에 지금 듣고 있는 C언어 수업도 힘들지만 잘 해 낼 수 있다는 자신감이 생깁니다.배울수록 욕심이 생겨서, 아예 이쪽으로 진로를 틀어볼까 생각하기도 하고 있는데요! 아직은 이르지만, 비전공자라고 해서 못할 건 없다는 걸 이 번에 배우면서 깨닫게 되었습니다.\\u200b\\n\\n\\n\\n \\n\\n\\n\\n\\n\\n\\n\\n\\n\\n\\n\\n\\n\\n\\n\\u200b기본 수업 과정부터 직업에 대해 배울 수 있는 정규 실무 교육 과정, 그리고 프로젝트를 제작할 수 있는 수업 과정까지, 다양하기 때문에 자신의 목적에 맞춰서 언제든지 다가갈 수 있는 환경이라고 생각하는데요.배우고 싶은 데 비전공자라서 걱정이 되기도 한다면, 그동안의 공부 과정을 확인해 보고 자신감을 가졌으면 합니다! 물론, 그만 두고 싶은 생각도 들 때가 있지만, 이런 생각이 들어도 다시 재미를 느낄 수 있게 되는 매력이 있어서 포기할 수 없는 것 같아요! 그럼, 앞으로 잘 배워서 원하는 목표를 이뤄 내셨으면 하네요! \\u200b\\n\\n\\n\\n \\n\\n\\n\\n\\n\\n코리아IT아카데미 교육상담실\\n학과선택 희망하시는 학과를 선택해 주세요. 코리아IT SIGNATURE 여름방학 특강 국비 교육과정 취업 정규과정 자격증 취득과정 단과과정 시그니처 과정 다른학과 희망 시 위 학과선택에서 클릭해 주세요. 억대연봉 취업컨설팅 학생 진로상담 취업 진로 상담 IT 자격증 빅데이터 전문가 정보보안 전문가 C언어 개발자 JAVA 개발자 Python 개발자 프론트엔드 개발자 웹&앱 개발자 기타과목 15자 이내로 입력해 주시기 바랍니다. 과목 입력 후 엔터키를 눌러주세요. 희망 교육과정 희망하시는 교육과정을 선택해 주세요. 지점 선택 강남지점 ...\\nwww.koreaisacademy.co.kr\\n\\n\\n\\n\\n\\n\\n \\n\\n\\n\\n\\u200b업체의 지원을 받아 작성된 글입니다. 솔직한 정보를 바탕으로 작성하였습니다. \\u200b\\n\\n\\n\\n '"
      ]
     },
     "execution_count": 274,
     "metadata": {},
     "output_type": "execute_result"
    }
   ],
   "source": [
    "dom = BeautifulSoup(driver.page_source, 'lxml')\n",
    "dom.select_one('.se-main-container').text"
   ]
  },
  {
   "cell_type": "markdown",
   "metadata": {},
   "source": [
    "- 다시 dom을 스위칭 해주기(원상태로)"
   ]
  },
  {
   "cell_type": "code",
   "execution_count": 275,
   "metadata": {},
   "outputs": [
    {
     "name": "stderr",
     "output_type": "stream",
     "text": [
      "<ipython-input-275-1e095620afd7>:1: DeprecationWarning: use driver.switch_to.default_content instead\n",
      "  driver.switch_to_default_content()\n"
     ]
    }
   ],
   "source": [
    "driver.switch_to_default_content()"
   ]
  },
  {
   "cell_type": "code",
   "execution_count": 276,
   "metadata": {
    "collapsed": true
   },
   "outputs": [
    {
     "ename": "KeyboardInterrupt",
     "evalue": "",
     "output_type": "error",
     "traceback": [
      "\u001b[1;31m---------------------------------------------------------------------------\u001b[0m",
      "\u001b[1;31mKeyboardInterrupt\u001b[0m                         Traceback (most recent call last)",
      "\u001b[1;32m<ipython-input-276-0290c649f091>\u001b[0m in \u001b[0;36m<module>\u001b[1;34m\u001b[0m\n\u001b[1;32m----> 1\u001b[1;33m \u001b[0mdriver\u001b[0m\u001b[1;33m.\u001b[0m\u001b[0mfind_element_by_css_selector\u001b[0m\u001b[1;33m(\u001b[0m\u001b[1;34m'.se-main-container'\u001b[0m\u001b[1;33m)\u001b[0m\u001b[1;33m.\u001b[0m\u001b[0mtext\u001b[0m\u001b[1;33m\u001b[0m\u001b[1;33m\u001b[0m\u001b[0m\n\u001b[0m",
      "\u001b[1;32m~\\anaconda3\\lib\\site-packages\\selenium\\webdriver\\remote\\webdriver.py\u001b[0m in \u001b[0;36mfind_element_by_css_selector\u001b[1;34m(self, css_selector)\u001b[0m\n\u001b[0;32m    596\u001b[0m             \u001b[0melement\u001b[0m \u001b[1;33m=\u001b[0m \u001b[0mdriver\u001b[0m\u001b[1;33m.\u001b[0m\u001b[0mfind_element_by_css_selector\u001b[0m\u001b[1;33m(\u001b[0m\u001b[1;34m'#foo'\u001b[0m\u001b[1;33m)\u001b[0m\u001b[1;33m\u001b[0m\u001b[1;33m\u001b[0m\u001b[0m\n\u001b[0;32m    597\u001b[0m         \"\"\"\n\u001b[1;32m--> 598\u001b[1;33m         \u001b[1;32mreturn\u001b[0m \u001b[0mself\u001b[0m\u001b[1;33m.\u001b[0m\u001b[0mfind_element\u001b[0m\u001b[1;33m(\u001b[0m\u001b[0mby\u001b[0m\u001b[1;33m=\u001b[0m\u001b[0mBy\u001b[0m\u001b[1;33m.\u001b[0m\u001b[0mCSS_SELECTOR\u001b[0m\u001b[1;33m,\u001b[0m \u001b[0mvalue\u001b[0m\u001b[1;33m=\u001b[0m\u001b[0mcss_selector\u001b[0m\u001b[1;33m)\u001b[0m\u001b[1;33m\u001b[0m\u001b[1;33m\u001b[0m\u001b[0m\n\u001b[0m\u001b[0;32m    599\u001b[0m \u001b[1;33m\u001b[0m\u001b[0m\n\u001b[0;32m    600\u001b[0m     \u001b[1;32mdef\u001b[0m \u001b[0mfind_elements_by_css_selector\u001b[0m\u001b[1;33m(\u001b[0m\u001b[0mself\u001b[0m\u001b[1;33m,\u001b[0m \u001b[0mcss_selector\u001b[0m\u001b[1;33m)\u001b[0m\u001b[1;33m:\u001b[0m\u001b[1;33m\u001b[0m\u001b[1;33m\u001b[0m\u001b[0m\n",
      "\u001b[1;32m~\\anaconda3\\lib\\site-packages\\selenium\\webdriver\\remote\\webdriver.py\u001b[0m in \u001b[0;36mfind_element\u001b[1;34m(self, by, value)\u001b[0m\n\u001b[0;32m    974\u001b[0m                 \u001b[0mby\u001b[0m \u001b[1;33m=\u001b[0m \u001b[0mBy\u001b[0m\u001b[1;33m.\u001b[0m\u001b[0mCSS_SELECTOR\u001b[0m\u001b[1;33m\u001b[0m\u001b[1;33m\u001b[0m\u001b[0m\n\u001b[0;32m    975\u001b[0m                 \u001b[0mvalue\u001b[0m \u001b[1;33m=\u001b[0m \u001b[1;34m'[name=\"%s\"]'\u001b[0m \u001b[1;33m%\u001b[0m \u001b[0mvalue\u001b[0m\u001b[1;33m\u001b[0m\u001b[1;33m\u001b[0m\u001b[0m\n\u001b[1;32m--> 976\u001b[1;33m         return self.execute(Command.FIND_ELEMENT, {\n\u001b[0m\u001b[0;32m    977\u001b[0m             \u001b[1;34m'using'\u001b[0m\u001b[1;33m:\u001b[0m \u001b[0mby\u001b[0m\u001b[1;33m,\u001b[0m\u001b[1;33m\u001b[0m\u001b[1;33m\u001b[0m\u001b[0m\n\u001b[0;32m    978\u001b[0m             'value': value})['value']\n",
      "\u001b[1;32m~\\anaconda3\\lib\\site-packages\\selenium\\webdriver\\remote\\webdriver.py\u001b[0m in \u001b[0;36mexecute\u001b[1;34m(self, driver_command, params)\u001b[0m\n\u001b[0;32m    317\u001b[0m \u001b[1;33m\u001b[0m\u001b[0m\n\u001b[0;32m    318\u001b[0m         \u001b[0mparams\u001b[0m \u001b[1;33m=\u001b[0m \u001b[0mself\u001b[0m\u001b[1;33m.\u001b[0m\u001b[0m_wrap_value\u001b[0m\u001b[1;33m(\u001b[0m\u001b[0mparams\u001b[0m\u001b[1;33m)\u001b[0m\u001b[1;33m\u001b[0m\u001b[1;33m\u001b[0m\u001b[0m\n\u001b[1;32m--> 319\u001b[1;33m         \u001b[0mresponse\u001b[0m \u001b[1;33m=\u001b[0m \u001b[0mself\u001b[0m\u001b[1;33m.\u001b[0m\u001b[0mcommand_executor\u001b[0m\u001b[1;33m.\u001b[0m\u001b[0mexecute\u001b[0m\u001b[1;33m(\u001b[0m\u001b[0mdriver_command\u001b[0m\u001b[1;33m,\u001b[0m \u001b[0mparams\u001b[0m\u001b[1;33m)\u001b[0m\u001b[1;33m\u001b[0m\u001b[1;33m\u001b[0m\u001b[0m\n\u001b[0m\u001b[0;32m    320\u001b[0m         \u001b[1;32mif\u001b[0m \u001b[0mresponse\u001b[0m\u001b[1;33m:\u001b[0m\u001b[1;33m\u001b[0m\u001b[1;33m\u001b[0m\u001b[0m\n\u001b[0;32m    321\u001b[0m             \u001b[0mself\u001b[0m\u001b[1;33m.\u001b[0m\u001b[0merror_handler\u001b[0m\u001b[1;33m.\u001b[0m\u001b[0mcheck_response\u001b[0m\u001b[1;33m(\u001b[0m\u001b[0mresponse\u001b[0m\u001b[1;33m)\u001b[0m\u001b[1;33m\u001b[0m\u001b[1;33m\u001b[0m\u001b[0m\n",
      "\u001b[1;32m~\\anaconda3\\lib\\site-packages\\selenium\\webdriver\\remote\\remote_connection.py\u001b[0m in \u001b[0;36mexecute\u001b[1;34m(self, command, params)\u001b[0m\n\u001b[0;32m    372\u001b[0m         \u001b[0mdata\u001b[0m \u001b[1;33m=\u001b[0m \u001b[0mutils\u001b[0m\u001b[1;33m.\u001b[0m\u001b[0mdump_json\u001b[0m\u001b[1;33m(\u001b[0m\u001b[0mparams\u001b[0m\u001b[1;33m)\u001b[0m\u001b[1;33m\u001b[0m\u001b[1;33m\u001b[0m\u001b[0m\n\u001b[0;32m    373\u001b[0m         \u001b[0murl\u001b[0m \u001b[1;33m=\u001b[0m \u001b[1;34m'%s%s'\u001b[0m \u001b[1;33m%\u001b[0m \u001b[1;33m(\u001b[0m\u001b[0mself\u001b[0m\u001b[1;33m.\u001b[0m\u001b[0m_url\u001b[0m\u001b[1;33m,\u001b[0m \u001b[0mpath\u001b[0m\u001b[1;33m)\u001b[0m\u001b[1;33m\u001b[0m\u001b[1;33m\u001b[0m\u001b[0m\n\u001b[1;32m--> 374\u001b[1;33m         \u001b[1;32mreturn\u001b[0m \u001b[0mself\u001b[0m\u001b[1;33m.\u001b[0m\u001b[0m_request\u001b[0m\u001b[1;33m(\u001b[0m\u001b[0mcommand_info\u001b[0m\u001b[1;33m[\u001b[0m\u001b[1;36m0\u001b[0m\u001b[1;33m]\u001b[0m\u001b[1;33m,\u001b[0m \u001b[0murl\u001b[0m\u001b[1;33m,\u001b[0m \u001b[0mbody\u001b[0m\u001b[1;33m=\u001b[0m\u001b[0mdata\u001b[0m\u001b[1;33m)\u001b[0m\u001b[1;33m\u001b[0m\u001b[1;33m\u001b[0m\u001b[0m\n\u001b[0m\u001b[0;32m    375\u001b[0m \u001b[1;33m\u001b[0m\u001b[0m\n\u001b[0;32m    376\u001b[0m     \u001b[1;32mdef\u001b[0m \u001b[0m_request\u001b[0m\u001b[1;33m(\u001b[0m\u001b[0mself\u001b[0m\u001b[1;33m,\u001b[0m \u001b[0mmethod\u001b[0m\u001b[1;33m,\u001b[0m \u001b[0murl\u001b[0m\u001b[1;33m,\u001b[0m \u001b[0mbody\u001b[0m\u001b[1;33m=\u001b[0m\u001b[1;32mNone\u001b[0m\u001b[1;33m)\u001b[0m\u001b[1;33m:\u001b[0m\u001b[1;33m\u001b[0m\u001b[1;33m\u001b[0m\u001b[0m\n",
      "\u001b[1;32m~\\anaconda3\\lib\\site-packages\\selenium\\webdriver\\remote\\remote_connection.py\u001b[0m in \u001b[0;36m_request\u001b[1;34m(self, method, url, body)\u001b[0m\n\u001b[0;32m    395\u001b[0m \u001b[1;33m\u001b[0m\u001b[0m\n\u001b[0;32m    396\u001b[0m         \u001b[1;32mif\u001b[0m \u001b[0mself\u001b[0m\u001b[1;33m.\u001b[0m\u001b[0mkeep_alive\u001b[0m\u001b[1;33m:\u001b[0m\u001b[1;33m\u001b[0m\u001b[1;33m\u001b[0m\u001b[0m\n\u001b[1;32m--> 397\u001b[1;33m             \u001b[0mresp\u001b[0m \u001b[1;33m=\u001b[0m \u001b[0mself\u001b[0m\u001b[1;33m.\u001b[0m\u001b[0m_conn\u001b[0m\u001b[1;33m.\u001b[0m\u001b[0mrequest\u001b[0m\u001b[1;33m(\u001b[0m\u001b[0mmethod\u001b[0m\u001b[1;33m,\u001b[0m \u001b[0murl\u001b[0m\u001b[1;33m,\u001b[0m \u001b[0mbody\u001b[0m\u001b[1;33m=\u001b[0m\u001b[0mbody\u001b[0m\u001b[1;33m,\u001b[0m \u001b[0mheaders\u001b[0m\u001b[1;33m=\u001b[0m\u001b[0mheaders\u001b[0m\u001b[1;33m)\u001b[0m\u001b[1;33m\u001b[0m\u001b[1;33m\u001b[0m\u001b[0m\n\u001b[0m\u001b[0;32m    398\u001b[0m \u001b[1;33m\u001b[0m\u001b[0m\n\u001b[0;32m    399\u001b[0m             \u001b[0mstatuscode\u001b[0m \u001b[1;33m=\u001b[0m \u001b[0mresp\u001b[0m\u001b[1;33m.\u001b[0m\u001b[0mstatus\u001b[0m\u001b[1;33m\u001b[0m\u001b[1;33m\u001b[0m\u001b[0m\n",
      "\u001b[1;32m~\\anaconda3\\lib\\site-packages\\urllib3\\request.py\u001b[0m in \u001b[0;36mrequest\u001b[1;34m(self, method, url, fields, headers, **urlopen_kw)\u001b[0m\n\u001b[0;32m     77\u001b[0m             )\n\u001b[0;32m     78\u001b[0m         \u001b[1;32melse\u001b[0m\u001b[1;33m:\u001b[0m\u001b[1;33m\u001b[0m\u001b[1;33m\u001b[0m\u001b[0m\n\u001b[1;32m---> 79\u001b[1;33m             return self.request_encode_body(\n\u001b[0m\u001b[0;32m     80\u001b[0m                 \u001b[0mmethod\u001b[0m\u001b[1;33m,\u001b[0m \u001b[0murl\u001b[0m\u001b[1;33m,\u001b[0m \u001b[0mfields\u001b[0m\u001b[1;33m=\u001b[0m\u001b[0mfields\u001b[0m\u001b[1;33m,\u001b[0m \u001b[0mheaders\u001b[0m\u001b[1;33m=\u001b[0m\u001b[0mheaders\u001b[0m\u001b[1;33m,\u001b[0m \u001b[1;33m**\u001b[0m\u001b[0murlopen_kw\u001b[0m\u001b[1;33m\u001b[0m\u001b[1;33m\u001b[0m\u001b[0m\n\u001b[0;32m     81\u001b[0m             )\n",
      "\u001b[1;32m~\\anaconda3\\lib\\site-packages\\urllib3\\request.py\u001b[0m in \u001b[0;36mrequest_encode_body\u001b[1;34m(self, method, url, fields, headers, encode_multipart, multipart_boundary, **urlopen_kw)\u001b[0m\n\u001b[0;32m    169\u001b[0m         \u001b[0mextra_kw\u001b[0m\u001b[1;33m.\u001b[0m\u001b[0mupdate\u001b[0m\u001b[1;33m(\u001b[0m\u001b[0murlopen_kw\u001b[0m\u001b[1;33m)\u001b[0m\u001b[1;33m\u001b[0m\u001b[1;33m\u001b[0m\u001b[0m\n\u001b[0;32m    170\u001b[0m \u001b[1;33m\u001b[0m\u001b[0m\n\u001b[1;32m--> 171\u001b[1;33m         \u001b[1;32mreturn\u001b[0m \u001b[0mself\u001b[0m\u001b[1;33m.\u001b[0m\u001b[0murlopen\u001b[0m\u001b[1;33m(\u001b[0m\u001b[0mmethod\u001b[0m\u001b[1;33m,\u001b[0m \u001b[0murl\u001b[0m\u001b[1;33m,\u001b[0m \u001b[1;33m**\u001b[0m\u001b[0mextra_kw\u001b[0m\u001b[1;33m)\u001b[0m\u001b[1;33m\u001b[0m\u001b[1;33m\u001b[0m\u001b[0m\n\u001b[0m",
      "\u001b[1;32m~\\anaconda3\\lib\\site-packages\\urllib3\\poolmanager.py\u001b[0m in \u001b[0;36murlopen\u001b[1;34m(self, method, url, redirect, **kw)\u001b[0m\n\u001b[0;32m    334\u001b[0m             \u001b[0mresponse\u001b[0m \u001b[1;33m=\u001b[0m \u001b[0mconn\u001b[0m\u001b[1;33m.\u001b[0m\u001b[0murlopen\u001b[0m\u001b[1;33m(\u001b[0m\u001b[0mmethod\u001b[0m\u001b[1;33m,\u001b[0m \u001b[0murl\u001b[0m\u001b[1;33m,\u001b[0m \u001b[1;33m**\u001b[0m\u001b[0mkw\u001b[0m\u001b[1;33m)\u001b[0m\u001b[1;33m\u001b[0m\u001b[1;33m\u001b[0m\u001b[0m\n\u001b[0;32m    335\u001b[0m         \u001b[1;32melse\u001b[0m\u001b[1;33m:\u001b[0m\u001b[1;33m\u001b[0m\u001b[1;33m\u001b[0m\u001b[0m\n\u001b[1;32m--> 336\u001b[1;33m             \u001b[0mresponse\u001b[0m \u001b[1;33m=\u001b[0m \u001b[0mconn\u001b[0m\u001b[1;33m.\u001b[0m\u001b[0murlopen\u001b[0m\u001b[1;33m(\u001b[0m\u001b[0mmethod\u001b[0m\u001b[1;33m,\u001b[0m \u001b[0mu\u001b[0m\u001b[1;33m.\u001b[0m\u001b[0mrequest_uri\u001b[0m\u001b[1;33m,\u001b[0m \u001b[1;33m**\u001b[0m\u001b[0mkw\u001b[0m\u001b[1;33m)\u001b[0m\u001b[1;33m\u001b[0m\u001b[1;33m\u001b[0m\u001b[0m\n\u001b[0m\u001b[0;32m    337\u001b[0m \u001b[1;33m\u001b[0m\u001b[0m\n\u001b[0;32m    338\u001b[0m         \u001b[0mredirect_location\u001b[0m \u001b[1;33m=\u001b[0m \u001b[0mredirect\u001b[0m \u001b[1;32mand\u001b[0m \u001b[0mresponse\u001b[0m\u001b[1;33m.\u001b[0m\u001b[0mget_redirect_location\u001b[0m\u001b[1;33m(\u001b[0m\u001b[1;33m)\u001b[0m\u001b[1;33m\u001b[0m\u001b[1;33m\u001b[0m\u001b[0m\n",
      "\u001b[1;32m~\\anaconda3\\lib\\site-packages\\urllib3\\connectionpool.py\u001b[0m in \u001b[0;36murlopen\u001b[1;34m(self, method, url, body, headers, retries, redirect, assert_same_host, timeout, pool_timeout, release_conn, chunked, body_pos, **response_kw)\u001b[0m\n\u001b[0;32m    668\u001b[0m \u001b[1;33m\u001b[0m\u001b[0m\n\u001b[0;32m    669\u001b[0m             \u001b[1;31m# Make the request on the httplib connection object.\u001b[0m\u001b[1;33m\u001b[0m\u001b[1;33m\u001b[0m\u001b[1;33m\u001b[0m\u001b[0m\n\u001b[1;32m--> 670\u001b[1;33m             httplib_response = self._make_request(\n\u001b[0m\u001b[0;32m    671\u001b[0m                 \u001b[0mconn\u001b[0m\u001b[1;33m,\u001b[0m\u001b[1;33m\u001b[0m\u001b[1;33m\u001b[0m\u001b[0m\n\u001b[0;32m    672\u001b[0m                 \u001b[0mmethod\u001b[0m\u001b[1;33m,\u001b[0m\u001b[1;33m\u001b[0m\u001b[1;33m\u001b[0m\u001b[0m\n",
      "\u001b[1;32m~\\anaconda3\\lib\\site-packages\\urllib3\\connectionpool.py\u001b[0m in \u001b[0;36m_make_request\u001b[1;34m(self, conn, method, url, timeout, chunked, **httplib_request_kw)\u001b[0m\n\u001b[0;32m    424\u001b[0m                     \u001b[1;31m# Python 3 (including for exceptions like SystemExit).\u001b[0m\u001b[1;33m\u001b[0m\u001b[1;33m\u001b[0m\u001b[1;33m\u001b[0m\u001b[0m\n\u001b[0;32m    425\u001b[0m                     \u001b[1;31m# Otherwise it looks like a bug in the code.\u001b[0m\u001b[1;33m\u001b[0m\u001b[1;33m\u001b[0m\u001b[1;33m\u001b[0m\u001b[0m\n\u001b[1;32m--> 426\u001b[1;33m                     \u001b[0msix\u001b[0m\u001b[1;33m.\u001b[0m\u001b[0mraise_from\u001b[0m\u001b[1;33m(\u001b[0m\u001b[0me\u001b[0m\u001b[1;33m,\u001b[0m \u001b[1;32mNone\u001b[0m\u001b[1;33m)\u001b[0m\u001b[1;33m\u001b[0m\u001b[1;33m\u001b[0m\u001b[0m\n\u001b[0m\u001b[0;32m    427\u001b[0m         \u001b[1;32mexcept\u001b[0m \u001b[1;33m(\u001b[0m\u001b[0mSocketTimeout\u001b[0m\u001b[1;33m,\u001b[0m \u001b[0mBaseSSLError\u001b[0m\u001b[1;33m,\u001b[0m \u001b[0mSocketError\u001b[0m\u001b[1;33m)\u001b[0m \u001b[1;32mas\u001b[0m \u001b[0me\u001b[0m\u001b[1;33m:\u001b[0m\u001b[1;33m\u001b[0m\u001b[1;33m\u001b[0m\u001b[0m\n\u001b[0;32m    428\u001b[0m             \u001b[0mself\u001b[0m\u001b[1;33m.\u001b[0m\u001b[0m_raise_timeout\u001b[0m\u001b[1;33m(\u001b[0m\u001b[0merr\u001b[0m\u001b[1;33m=\u001b[0m\u001b[0me\u001b[0m\u001b[1;33m,\u001b[0m \u001b[0murl\u001b[0m\u001b[1;33m=\u001b[0m\u001b[0murl\u001b[0m\u001b[1;33m,\u001b[0m \u001b[0mtimeout_value\u001b[0m\u001b[1;33m=\u001b[0m\u001b[0mread_timeout\u001b[0m\u001b[1;33m)\u001b[0m\u001b[1;33m\u001b[0m\u001b[1;33m\u001b[0m\u001b[0m\n",
      "\u001b[1;32m~\\anaconda3\\lib\\site-packages\\urllib3\\packages\\six.py\u001b[0m in \u001b[0;36mraise_from\u001b[1;34m(value, from_value)\u001b[0m\n",
      "\u001b[1;32m~\\anaconda3\\lib\\site-packages\\urllib3\\connectionpool.py\u001b[0m in \u001b[0;36m_make_request\u001b[1;34m(self, conn, method, url, timeout, chunked, **httplib_request_kw)\u001b[0m\n\u001b[0;32m    419\u001b[0m                 \u001b[1;31m# Python 3\u001b[0m\u001b[1;33m\u001b[0m\u001b[1;33m\u001b[0m\u001b[1;33m\u001b[0m\u001b[0m\n\u001b[0;32m    420\u001b[0m                 \u001b[1;32mtry\u001b[0m\u001b[1;33m:\u001b[0m\u001b[1;33m\u001b[0m\u001b[1;33m\u001b[0m\u001b[0m\n\u001b[1;32m--> 421\u001b[1;33m                     \u001b[0mhttplib_response\u001b[0m \u001b[1;33m=\u001b[0m \u001b[0mconn\u001b[0m\u001b[1;33m.\u001b[0m\u001b[0mgetresponse\u001b[0m\u001b[1;33m(\u001b[0m\u001b[1;33m)\u001b[0m\u001b[1;33m\u001b[0m\u001b[1;33m\u001b[0m\u001b[0m\n\u001b[0m\u001b[0;32m    422\u001b[0m                 \u001b[1;32mexcept\u001b[0m \u001b[0mBaseException\u001b[0m \u001b[1;32mas\u001b[0m \u001b[0me\u001b[0m\u001b[1;33m:\u001b[0m\u001b[1;33m\u001b[0m\u001b[1;33m\u001b[0m\u001b[0m\n\u001b[0;32m    423\u001b[0m                     \u001b[1;31m# Remove the TypeError from the exception chain in\u001b[0m\u001b[1;33m\u001b[0m\u001b[1;33m\u001b[0m\u001b[1;33m\u001b[0m\u001b[0m\n",
      "\u001b[1;32m~\\anaconda3\\lib\\http\\client.py\u001b[0m in \u001b[0;36mgetresponse\u001b[1;34m(self)\u001b[0m\n\u001b[0;32m   1330\u001b[0m         \u001b[1;32mtry\u001b[0m\u001b[1;33m:\u001b[0m\u001b[1;33m\u001b[0m\u001b[1;33m\u001b[0m\u001b[0m\n\u001b[0;32m   1331\u001b[0m             \u001b[1;32mtry\u001b[0m\u001b[1;33m:\u001b[0m\u001b[1;33m\u001b[0m\u001b[1;33m\u001b[0m\u001b[0m\n\u001b[1;32m-> 1332\u001b[1;33m                 \u001b[0mresponse\u001b[0m\u001b[1;33m.\u001b[0m\u001b[0mbegin\u001b[0m\u001b[1;33m(\u001b[0m\u001b[1;33m)\u001b[0m\u001b[1;33m\u001b[0m\u001b[1;33m\u001b[0m\u001b[0m\n\u001b[0m\u001b[0;32m   1333\u001b[0m             \u001b[1;32mexcept\u001b[0m \u001b[0mConnectionError\u001b[0m\u001b[1;33m:\u001b[0m\u001b[1;33m\u001b[0m\u001b[1;33m\u001b[0m\u001b[0m\n\u001b[0;32m   1334\u001b[0m                 \u001b[0mself\u001b[0m\u001b[1;33m.\u001b[0m\u001b[0mclose\u001b[0m\u001b[1;33m(\u001b[0m\u001b[1;33m)\u001b[0m\u001b[1;33m\u001b[0m\u001b[1;33m\u001b[0m\u001b[0m\n",
      "\u001b[1;32m~\\anaconda3\\lib\\http\\client.py\u001b[0m in \u001b[0;36mbegin\u001b[1;34m(self)\u001b[0m\n\u001b[0;32m    301\u001b[0m         \u001b[1;31m# read until we get a non-100 response\u001b[0m\u001b[1;33m\u001b[0m\u001b[1;33m\u001b[0m\u001b[1;33m\u001b[0m\u001b[0m\n\u001b[0;32m    302\u001b[0m         \u001b[1;32mwhile\u001b[0m \u001b[1;32mTrue\u001b[0m\u001b[1;33m:\u001b[0m\u001b[1;33m\u001b[0m\u001b[1;33m\u001b[0m\u001b[0m\n\u001b[1;32m--> 303\u001b[1;33m             \u001b[0mversion\u001b[0m\u001b[1;33m,\u001b[0m \u001b[0mstatus\u001b[0m\u001b[1;33m,\u001b[0m \u001b[0mreason\u001b[0m \u001b[1;33m=\u001b[0m \u001b[0mself\u001b[0m\u001b[1;33m.\u001b[0m\u001b[0m_read_status\u001b[0m\u001b[1;33m(\u001b[0m\u001b[1;33m)\u001b[0m\u001b[1;33m\u001b[0m\u001b[1;33m\u001b[0m\u001b[0m\n\u001b[0m\u001b[0;32m    304\u001b[0m             \u001b[1;32mif\u001b[0m \u001b[0mstatus\u001b[0m \u001b[1;33m!=\u001b[0m \u001b[0mCONTINUE\u001b[0m\u001b[1;33m:\u001b[0m\u001b[1;33m\u001b[0m\u001b[1;33m\u001b[0m\u001b[0m\n\u001b[0;32m    305\u001b[0m                 \u001b[1;32mbreak\u001b[0m\u001b[1;33m\u001b[0m\u001b[1;33m\u001b[0m\u001b[0m\n",
      "\u001b[1;32m~\\anaconda3\\lib\\http\\client.py\u001b[0m in \u001b[0;36m_read_status\u001b[1;34m(self)\u001b[0m\n\u001b[0;32m    262\u001b[0m \u001b[1;33m\u001b[0m\u001b[0m\n\u001b[0;32m    263\u001b[0m     \u001b[1;32mdef\u001b[0m \u001b[0m_read_status\u001b[0m\u001b[1;33m(\u001b[0m\u001b[0mself\u001b[0m\u001b[1;33m)\u001b[0m\u001b[1;33m:\u001b[0m\u001b[1;33m\u001b[0m\u001b[1;33m\u001b[0m\u001b[0m\n\u001b[1;32m--> 264\u001b[1;33m         \u001b[0mline\u001b[0m \u001b[1;33m=\u001b[0m \u001b[0mstr\u001b[0m\u001b[1;33m(\u001b[0m\u001b[0mself\u001b[0m\u001b[1;33m.\u001b[0m\u001b[0mfp\u001b[0m\u001b[1;33m.\u001b[0m\u001b[0mreadline\u001b[0m\u001b[1;33m(\u001b[0m\u001b[0m_MAXLINE\u001b[0m \u001b[1;33m+\u001b[0m \u001b[1;36m1\u001b[0m\u001b[1;33m)\u001b[0m\u001b[1;33m,\u001b[0m \u001b[1;34m\"iso-8859-1\"\u001b[0m\u001b[1;33m)\u001b[0m\u001b[1;33m\u001b[0m\u001b[1;33m\u001b[0m\u001b[0m\n\u001b[0m\u001b[0;32m    265\u001b[0m         \u001b[1;32mif\u001b[0m \u001b[0mlen\u001b[0m\u001b[1;33m(\u001b[0m\u001b[0mline\u001b[0m\u001b[1;33m)\u001b[0m \u001b[1;33m>\u001b[0m \u001b[0m_MAXLINE\u001b[0m\u001b[1;33m:\u001b[0m\u001b[1;33m\u001b[0m\u001b[1;33m\u001b[0m\u001b[0m\n\u001b[0;32m    266\u001b[0m             \u001b[1;32mraise\u001b[0m \u001b[0mLineTooLong\u001b[0m\u001b[1;33m(\u001b[0m\u001b[1;34m\"status line\"\u001b[0m\u001b[1;33m)\u001b[0m\u001b[1;33m\u001b[0m\u001b[1;33m\u001b[0m\u001b[0m\n",
      "\u001b[1;32m~\\anaconda3\\lib\\socket.py\u001b[0m in \u001b[0;36mreadinto\u001b[1;34m(self, b)\u001b[0m\n\u001b[0;32m    667\u001b[0m         \u001b[1;32mwhile\u001b[0m \u001b[1;32mTrue\u001b[0m\u001b[1;33m:\u001b[0m\u001b[1;33m\u001b[0m\u001b[1;33m\u001b[0m\u001b[0m\n\u001b[0;32m    668\u001b[0m             \u001b[1;32mtry\u001b[0m\u001b[1;33m:\u001b[0m\u001b[1;33m\u001b[0m\u001b[1;33m\u001b[0m\u001b[0m\n\u001b[1;32m--> 669\u001b[1;33m                 \u001b[1;32mreturn\u001b[0m \u001b[0mself\u001b[0m\u001b[1;33m.\u001b[0m\u001b[0m_sock\u001b[0m\u001b[1;33m.\u001b[0m\u001b[0mrecv_into\u001b[0m\u001b[1;33m(\u001b[0m\u001b[0mb\u001b[0m\u001b[1;33m)\u001b[0m\u001b[1;33m\u001b[0m\u001b[1;33m\u001b[0m\u001b[0m\n\u001b[0m\u001b[0;32m    670\u001b[0m             \u001b[1;32mexcept\u001b[0m \u001b[0mtimeout\u001b[0m\u001b[1;33m:\u001b[0m\u001b[1;33m\u001b[0m\u001b[1;33m\u001b[0m\u001b[0m\n\u001b[0;32m    671\u001b[0m                 \u001b[0mself\u001b[0m\u001b[1;33m.\u001b[0m\u001b[0m_timeout_occurred\u001b[0m \u001b[1;33m=\u001b[0m \u001b[1;32mTrue\u001b[0m\u001b[1;33m\u001b[0m\u001b[1;33m\u001b[0m\u001b[0m\n",
      "\u001b[1;31mKeyboardInterrupt\u001b[0m: "
     ]
    }
   ],
   "source": [
    "driver.find_element_by_css_selector('.se-main-container').text ### 다시 dom을 원상복귀 시키자 못찾는것 확인"
   ]
  },
  {
   "cell_type": "code",
   "execution_count": 301,
   "metadata": {
    "collapsed": true
   },
   "outputs": [
    {
     "ename": "WebDriverException",
     "evalue": "Message: chrome not reachable\n  (Session info: chrome=91.0.4472.124)\n",
     "output_type": "error",
     "traceback": [
      "\u001b[1;31m---------------------------------------------------------------------------\u001b[0m",
      "\u001b[1;31mWebDriverException\u001b[0m                        Traceback (most recent call last)",
      "\u001b[1;32m<ipython-input-301-4f024ebffd07>\u001b[0m in \u001b[0;36m<module>\u001b[1;34m\u001b[0m\n\u001b[1;32m----> 1\u001b[1;33m \u001b[0mdom\u001b[0m \u001b[1;33m=\u001b[0m \u001b[0mBeautifulSoup\u001b[0m\u001b[1;33m(\u001b[0m\u001b[0mdriver\u001b[0m\u001b[1;33m.\u001b[0m\u001b[0mpage_source\u001b[0m\u001b[1;33m,\u001b[0m \u001b[1;34m'lxml'\u001b[0m\u001b[1;33m)\u001b[0m\u001b[1;33m\u001b[0m\u001b[1;33m\u001b[0m\u001b[0m\n\u001b[0m\u001b[0;32m      2\u001b[0m \u001b[0mdom\u001b[0m\u001b[1;33m.\u001b[0m\u001b[0mselect_one\u001b[0m\u001b[1;33m(\u001b[0m\u001b[1;34m'.se-main-container'\u001b[0m\u001b[1;33m)\u001b[0m\u001b[1;33m.\u001b[0m\u001b[0mtext\u001b[0m\u001b[1;33m\u001b[0m\u001b[1;33m\u001b[0m\u001b[0m\n",
      "\u001b[1;32m~\\anaconda3\\lib\\site-packages\\selenium\\webdriver\\remote\\webdriver.py\u001b[0m in \u001b[0;36mpage_source\u001b[1;34m(self)\u001b[0m\n\u001b[0;32m    677\u001b[0m             \u001b[0mdriver\u001b[0m\u001b[1;33m.\u001b[0m\u001b[0mpage_source\u001b[0m\u001b[1;33m\u001b[0m\u001b[1;33m\u001b[0m\u001b[0m\n\u001b[0;32m    678\u001b[0m         \"\"\"\n\u001b[1;32m--> 679\u001b[1;33m         \u001b[1;32mreturn\u001b[0m \u001b[0mself\u001b[0m\u001b[1;33m.\u001b[0m\u001b[0mexecute\u001b[0m\u001b[1;33m(\u001b[0m\u001b[0mCommand\u001b[0m\u001b[1;33m.\u001b[0m\u001b[0mGET_PAGE_SOURCE\u001b[0m\u001b[1;33m)\u001b[0m\u001b[1;33m[\u001b[0m\u001b[1;34m'value'\u001b[0m\u001b[1;33m]\u001b[0m\u001b[1;33m\u001b[0m\u001b[1;33m\u001b[0m\u001b[0m\n\u001b[0m\u001b[0;32m    680\u001b[0m \u001b[1;33m\u001b[0m\u001b[0m\n\u001b[0;32m    681\u001b[0m     \u001b[1;32mdef\u001b[0m \u001b[0mclose\u001b[0m\u001b[1;33m(\u001b[0m\u001b[0mself\u001b[0m\u001b[1;33m)\u001b[0m\u001b[1;33m:\u001b[0m\u001b[1;33m\u001b[0m\u001b[1;33m\u001b[0m\u001b[0m\n",
      "\u001b[1;32m~\\anaconda3\\lib\\site-packages\\selenium\\webdriver\\remote\\webdriver.py\u001b[0m in \u001b[0;36mexecute\u001b[1;34m(self, driver_command, params)\u001b[0m\n\u001b[0;32m    319\u001b[0m         \u001b[0mresponse\u001b[0m \u001b[1;33m=\u001b[0m \u001b[0mself\u001b[0m\u001b[1;33m.\u001b[0m\u001b[0mcommand_executor\u001b[0m\u001b[1;33m.\u001b[0m\u001b[0mexecute\u001b[0m\u001b[1;33m(\u001b[0m\u001b[0mdriver_command\u001b[0m\u001b[1;33m,\u001b[0m \u001b[0mparams\u001b[0m\u001b[1;33m)\u001b[0m\u001b[1;33m\u001b[0m\u001b[1;33m\u001b[0m\u001b[0m\n\u001b[0;32m    320\u001b[0m         \u001b[1;32mif\u001b[0m \u001b[0mresponse\u001b[0m\u001b[1;33m:\u001b[0m\u001b[1;33m\u001b[0m\u001b[1;33m\u001b[0m\u001b[0m\n\u001b[1;32m--> 321\u001b[1;33m             \u001b[0mself\u001b[0m\u001b[1;33m.\u001b[0m\u001b[0merror_handler\u001b[0m\u001b[1;33m.\u001b[0m\u001b[0mcheck_response\u001b[0m\u001b[1;33m(\u001b[0m\u001b[0mresponse\u001b[0m\u001b[1;33m)\u001b[0m\u001b[1;33m\u001b[0m\u001b[1;33m\u001b[0m\u001b[0m\n\u001b[0m\u001b[0;32m    322\u001b[0m             response['value'] = self._unwrap_value(\n\u001b[0;32m    323\u001b[0m                 response.get('value', None))\n",
      "\u001b[1;32m~\\anaconda3\\lib\\site-packages\\selenium\\webdriver\\remote\\errorhandler.py\u001b[0m in \u001b[0;36mcheck_response\u001b[1;34m(self, response)\u001b[0m\n\u001b[0;32m    240\u001b[0m                 \u001b[0malert_text\u001b[0m \u001b[1;33m=\u001b[0m \u001b[0mvalue\u001b[0m\u001b[1;33m[\u001b[0m\u001b[1;34m'alert'\u001b[0m\u001b[1;33m]\u001b[0m\u001b[1;33m.\u001b[0m\u001b[0mget\u001b[0m\u001b[1;33m(\u001b[0m\u001b[1;34m'text'\u001b[0m\u001b[1;33m)\u001b[0m\u001b[1;33m\u001b[0m\u001b[1;33m\u001b[0m\u001b[0m\n\u001b[0;32m    241\u001b[0m             \u001b[1;32mraise\u001b[0m \u001b[0mexception_class\u001b[0m\u001b[1;33m(\u001b[0m\u001b[0mmessage\u001b[0m\u001b[1;33m,\u001b[0m \u001b[0mscreen\u001b[0m\u001b[1;33m,\u001b[0m \u001b[0mstacktrace\u001b[0m\u001b[1;33m,\u001b[0m \u001b[0malert_text\u001b[0m\u001b[1;33m)\u001b[0m\u001b[1;33m\u001b[0m\u001b[1;33m\u001b[0m\u001b[0m\n\u001b[1;32m--> 242\u001b[1;33m         \u001b[1;32mraise\u001b[0m \u001b[0mexception_class\u001b[0m\u001b[1;33m(\u001b[0m\u001b[0mmessage\u001b[0m\u001b[1;33m,\u001b[0m \u001b[0mscreen\u001b[0m\u001b[1;33m,\u001b[0m \u001b[0mstacktrace\u001b[0m\u001b[1;33m)\u001b[0m\u001b[1;33m\u001b[0m\u001b[1;33m\u001b[0m\u001b[0m\n\u001b[0m\u001b[0;32m    243\u001b[0m \u001b[1;33m\u001b[0m\u001b[0m\n\u001b[0;32m    244\u001b[0m     \u001b[1;32mdef\u001b[0m \u001b[0m_value_or_default\u001b[0m\u001b[1;33m(\u001b[0m\u001b[0mself\u001b[0m\u001b[1;33m,\u001b[0m \u001b[0mobj\u001b[0m\u001b[1;33m,\u001b[0m \u001b[0mkey\u001b[0m\u001b[1;33m,\u001b[0m \u001b[0mdefault\u001b[0m\u001b[1;33m)\u001b[0m\u001b[1;33m:\u001b[0m\u001b[1;33m\u001b[0m\u001b[1;33m\u001b[0m\u001b[0m\n",
      "\u001b[1;31mWebDriverException\u001b[0m: Message: chrome not reachable\n  (Session info: chrome=91.0.4472.124)\n"
     ]
    }
   ],
   "source": [
    "dom = BeautifulSoup(driver.page_source, 'lxml')\n",
    "dom.select_one('.se-main-container').text"
   ]
  },
  {
   "cell_type": "markdown",
   "metadata": {},
   "source": [
    "### window switching"
   ]
  },
  {
   "cell_type": "code",
   "execution_count": 277,
   "metadata": {},
   "outputs": [],
   "source": [
    "driver.get('https://www.kt.com') ## 새창을 뛰워보자(빈창도 상관없음)"
   ]
  },
  {
   "cell_type": "code",
   "execution_count": 280,
   "metadata": {},
   "outputs": [
    {
     "data": {
      "text/plain": [
       "2"
      ]
     },
     "execution_count": 280,
     "metadata": {},
     "output_type": "execute_result"
    }
   ],
   "source": [
    "len(driver.window_handles) # === 새창을 뛰울경우 창이 2개라고 출력"
   ]
  },
  {
   "cell_type": "code",
   "execution_count": 285,
   "metadata": {},
   "outputs": [],
   "source": [
    "driver.switch_to_window(driver.window_handles[-1]) ## 현재 윈도우가 아닌 다른 윈도우로 화면전환"
   ]
  },
  {
   "cell_type": "markdown",
   "metadata": {},
   "source": [
    "===============================================\n",
    "## Data Preprocessing(전처리)\n",
    "\n",
    "- text 데이터들은 목적에 따라서 전처리방식이 달라진다(모델에 어울리는 데이터 수집도 중요(text))\n",
    "- data project 의 중요한 부분"
   ]
  },
  {
   "cell_type": "code",
   "execution_count": 298,
   "metadata": {},
   "outputs": [],
   "source": [
    "import nltk\n",
    "import konlpy"
   ]
  },
  {
   "cell_type": "code",
   "execution_count": 300,
   "metadata": {},
   "outputs": [],
   "source": [
    "from konlpy.tag import Okt"
   ]
  },
  {
   "cell_type": "code",
   "execution_count": 303,
   "metadata": {},
   "outputs": [],
   "source": [
    "import os"
   ]
  },
  {
   "cell_type": "code",
   "execution_count": 312,
   "metadata": {
    "scrolled": true
   },
   "outputs": [
    {
     "data": {
      "text/plain": [
       "112"
      ]
     },
     "execution_count": 312,
     "metadata": {},
     "output_type": "execute_result"
    }
   ],
   "source": [
    "len(os.listdir('./TXT')) ## 다운받은 뉴스기사 개수"
   ]
  },
  {
   "cell_type": "markdown",
   "metadata": {},
   "source": [
    "### 어제 다운받은 뉴스기사 불러오기"
   ]
  },
  {
   "cell_type": "code",
   "execution_count": 330,
   "metadata": {},
   "outputs": [],
   "source": [
    "with open('./TXT/'+os.listdir('./TXT')[1], 'r', encoding='utf-8') as f:\n",
    "    data = f.read()"
   ]
  },
  {
   "cell_type": "code",
   "execution_count": 347,
   "metadata": {
    "collapsed": true
   },
   "outputs": [
    {
     "data": {
      "text/plain": [
       "'오류를 우회하기 위한 함수 추가\\n \\n당국 \"상황 악화 시 1. 7까지 올라가 하루 2천명 넘게 나올수도\"어젯밤 기준으로 전국 생활치료센터 병상 34 남아서을 강북구 임시 선별진료소연합뉴스 자료사진\\n서울연합뉴스 신재우 기자  수도권에서의 신종 코로나바이러스감염증코로나19 감염재생산지수가 1. 3 수준으로 높아진 것으로 나타났다.\\n이상원 중앙방역대책본부 역학조사분석단장은 8일 정례브리핑에서 \"현재 감염재생산지수는 전국이 1. 21에서 1. 29 정도이고, 수도권은 1. 25에서 1. 3 정도\"라고 밝혔다.\\n감염 재생산지수는 확진자 1명이 다른 사람 몇 명을 감염시키는지 나타내는 지표다. 이 지수가 1 미만이면 \\'유행 억제\\', 1 이상이면 \\'유행 확산\\'을 뜻한다.\\n방대본은 이날 \\'SEQIR\\' 모델링 기법을 통해 코로나19 전파력이 현재의 강도로 유지될 경우 이달 말 하루 신규 확진자가 1천400명이 될 것으로 전망했다.\\n상황이 악화할 경우에는 재생산지수가 1. 71로 올라가 하루 2천140명에 달하는 확진자가 나올 것으로 예상했다.\\n수도권을 중심으로 코로나19 확진자가 속출하고 있어 병상 확보에도 비상이 걸렸다.\\n중앙사고수습본부에 따르면 전날 오후 8시 기준으로 생활치료센터의 병상은 총 6천607개 가운데 2천242개33. 9가 남아있다. 정부와 광역시도는 환자 추가 발생을 대비해 생활치료센터 추가 지정을 서두르고 있다.\\n수도권 생활치료센터의 병상 가동률은 서울 76. 1, 경기 78. 1, 인천 52. 7로 다른 지역보다 훨씬 높은 편이다.\\n코로나19 재생산지수가 1. 3에 달해 당분간은 하루 1천명 이상의 확진자가 계속 발생할 것으로 보여 생활치료센터 확충이 시급한 상황이다.\\n중증환자 치료를 위한 장비인력 등을 완비한 중환자 병상은 총 759개 중 585개77. 1가 남아있어 여유가 있는 편이다.\\n감염병전담병원 내 확진자 입원 가능 병상도 총 7천405개 중 4천498개60. 7가 남아있고, 중증에서 상태가 호전되거나 중증으로 악화 가능성이 높은 환자의 치료를 위한 준중환자 병상도 총 396개 중 196개49. 5가 남아있다. 붐비는 야간 선별진료소연합뉴스 자료사진\\nyna. co. kr'"
      ]
     },
     "execution_count": 347,
     "metadata": {},
     "output_type": "execute_result"
    }
   ],
   "source": [
    "data"
   ]
  },
  {
   "cell_type": "markdown",
   "metadata": {},
   "source": [
    "### 전처리 함수 만들기(정규식 이용)"
   ]
  },
  {
   "cell_type": "code",
   "execution_count": 350,
   "metadata": {},
   "outputs": [],
   "source": [
    "def cleaning(data):\n",
    "    data = re.sub(r'\\b[a-z_][a-zA-Z_()]{4,}\\b', '', data) ## 반드시 소문자+_ 1글자로 시작, 영문 4글자 이상인 패턴 삭제 ==>javascript부분 제거\n",
    "    data = re.sub(r'\\b[(){}/]{2,}','',data) ## 함수 기호 삭제 ==> () {} 제거\n",
    "    data = re.sub(r'([.,?!])(\\w)','\\g<1> \\g<2>', data) ## 구두점 다음에 글자가 있는 경우 공백 추가 ==> .단어 를 . 단어 로 변환 \n",
    "    data = re.sub(r'\\s{2,}', '\\n', data) ## 공백 2개 이상인 경우 한개만 ==> \\n\\n\\n\\n\\n ==> \\n\n",
    "    data = data.strip() ## 양쪽 공백 제거\n",
    "    data = re.sub(r'[^\\s\\w\\d.,?!:\\'\\\"]', '', data) ## 공백 문자 숫자 구두점을 제외한 나머지 글자 삭제 (특수 문자 삭제)\n",
    "    data = '\\n'.join(data.splitlines()[1:]) ## 주석 삭제\n",
    "    \n",
    "    return data"
   ]
  },
  {
   "cell_type": "markdown",
   "metadata": {},
   "source": [
    "###  전체 뉴스 전처리해서 저장하기"
   ]
  },
  {
   "cell_type": "code",
   "execution_count": 352,
   "metadata": {},
   "outputs": [],
   "source": [
    "corpus=[]\n",
    "\n",
    "for file in os.listdir('./TXT'):\n",
    "    with open('./TXT/'+file, 'rb') as f:\n",
    "        corpus.append(cleaning(f.read().decode('utf-8', errors='ignore')))"
   ]
  },
  {
   "cell_type": "code",
   "execution_count": 353,
   "metadata": {},
   "outputs": [
    {
     "data": {
      "text/plain": [
       "112"
      ]
     },
     "execution_count": 353,
     "metadata": {},
     "output_type": "execute_result"
    }
   ],
   "source": [
    "len(corpus)"
   ]
  },
  {
   "cell_type": "markdown",
   "metadata": {},
   "source": [
    "### 전체 뉴스 data 하나로 합치기"
   ]
  },
  {
   "cell_type": "code",
   "execution_count": 355,
   "metadata": {},
   "outputs": [],
   "source": [
    "data = ' '.join(corpus)"
   ]
  },
  {
   "cell_type": "markdown",
   "metadata": {},
   "source": [
    "- sparse한 벡터표현(NLP)"
   ]
  },
  {
   "cell_type": "code",
   "execution_count": 362,
   "metadata": {},
   "outputs": [
    {
     "data": {
      "text/plain": [
       "(112, 125503, 28929, 13026)"
      ]
     },
     "execution_count": 362,
     "metadata": {},
     "output_type": "execute_result"
    }
   ],
   "source": [
    "len(os.listdir('./TXT')), len(data), len(data.split()), len(set(data.split())) ## unique "
   ]
  },
  {
   "cell_type": "markdown",
   "metadata": {},
   "source": [
    "===========================================================================\n",
    "### 벡터 표현 방식\n",
    "- count-based(one-hot vector, DTM) : frequency기반  ==>  숫자만 새면 된다\n",
    "- co-occurence(word2vec, PMI) : context\n",
    "- matrix-decomposition(SVD) \n",
    "- Prediction(LM) ===> BERT, ELMo\n",
    "\n",
    "==========================================================================="
   ]
  },
  {
   "cell_type": "markdown",
   "metadata": {},
   "source": [
    "### Count-Based\n",
    "- 어떠한 단어의 빈도수가 높다 ==> 중요할 수 있지만 문법적인 역할을 하는 단어들이 자주 반복(빈도수가 높다고 중요한 단어가 꼭 아니다) \n",
    "- 즉 a, an, the ==> 조사 들은 주로 반복되지만 중요한 의미를 가지고 있지 않는다 ====> 삭제가능(불용어 삭제 ===> stopwords)"
   ]
  },
  {
   "cell_type": "code",
   "execution_count": 364,
   "metadata": {},
   "outputs": [],
   "source": [
    "from collections import defaultdict"
   ]
  },
  {
   "cell_type": "code",
   "execution_count": 366,
   "metadata": {},
   "outputs": [],
   "source": [
    "wc = defaultdict(int)   ## key error 를 방지하기 위함"
   ]
  },
  {
   "cell_type": "code",
   "execution_count": 367,
   "metadata": {},
   "outputs": [],
   "source": [
    "for t in data.split():\n",
    "    wc[t] += 1\n",
    "    "
   ]
  },
  {
   "cell_type": "code",
   "execution_count": 370,
   "metadata": {},
   "outputs": [
    {
     "data": {
      "text/plain": [
       "[('전', 242),\n",
       " ('있다.', 166),\n",
       " ('위한', 149),\n",
       " ('추가', 137),\n",
       " ('수', 117),\n",
       " ('오류를', 112),\n",
       " ('우회하기', 112),\n",
       " ('함수', 112),\n",
       " ('등', 108),\n",
       " ('이', 106),\n",
       " ('8일', 98),\n",
       " ('것으로', 91),\n",
       " ('지난', 87),\n",
       " ('이날', 83),\n",
       " ('한', 76),\n",
       " ('있는', 73),\n",
       " ('말했다.', 71),\n",
       " ('했다.', 70),\n",
       " ('김', 68),\n",
       " ('서울', 66)]"
      ]
     },
     "execution_count": 370,
     "metadata": {},
     "output_type": "execute_result"
    }
   ],
   "source": [
    "sorted(wc.items(), key = lambda x : x[1], reverse=True)[:20] ## 빈도수가 높은 단어 20개 살펴보기(중요성이 있어보이진 않는다)"
   ]
  },
  {
   "cell_type": "code",
   "execution_count": 371,
   "metadata": {},
   "outputs": [
    {
     "data": {
      "text/plain": [
       "[('TV조선', 1),\n",
       " ('배틀', 1),\n",
       " ('국대다국민의힘', 1),\n",
       " (\"대변인이다'에서\", 1),\n",
       " ('4강전에', 1),\n",
       " ('진출한', 1),\n",
       " ('신인규왼쪽부터,', 1),\n",
       " ('김연주,', 1),\n",
       " ('임승호,', 1),\n",
       " ('양준우', 1),\n",
       " ('박경준', 1),\n",
       " ('방송인', 1),\n",
       " ('임백천', 1),\n",
       " ('배틀도', 1),\n",
       " ('생겼다.', 1),\n",
       " ('토론배틀인', 1),\n",
       " (\"국대다'에는\", 1),\n",
       " ('임', 1),\n",
       " ('부인인', 1),\n",
       " ('김연주', 1)]"
      ]
     },
     "execution_count": 371,
     "metadata": {},
     "output_type": "execute_result"
    }
   ],
   "source": [
    "sorted(wc.items(), key = lambda x : x[1], reverse=False)[:20] ## 빈도수가 낮은 단어들(고유어들) ===> 여기서는 빈도수가 낮은 단어들의 중요성이 높아보이는 듯 .."
   ]
  },
  {
   "cell_type": "code",
   "execution_count": 377,
   "metadata": {},
   "outputs": [
    {
     "data": {
      "text/plain": [
       "[('입원', 1),\n",
       " ('7천405개', 1),\n",
       " ('4천498개60.', 1),\n",
       " ('남아있고,', 1),\n",
       " ('중증에서', 1),\n",
       " ('상태가', 1),\n",
       " ('호전되거나', 1),\n",
       " ('중증으로', 1),\n",
       " ('환자의', 1),\n",
       " ('준중환자', 1),\n",
       " ('396개', 1),\n",
       " ('196개49.', 1),\n",
       " ('붐비는', 1),\n",
       " ('야간', 1),\n",
       " ('吳', 1),\n",
       " ('\"좌파', 1),\n",
       " ('논리로', 1),\n",
       " ('미래세대', 1),\n",
       " ('지도자', 1),\n",
       " ('어려워\"\"대한민국', 1)]"
      ]
     },
     "execution_count": 377,
     "metadata": {},
     "output_type": "execute_result"
    }
   ],
   "source": [
    "sorted(wc.items(), key = lambda x : x[1], reverse=True)[5000:5020] ## 빈도수가 중간인 단어들 ==> 일반적으로 중요성이 크다"
   ]
  },
  {
   "cell_type": "markdown",
   "metadata": {},
   "source": [
    "## n-gram"
   ]
  },
  {
   "cell_type": "code",
   "execution_count": 380,
   "metadata": {},
   "outputs": [],
   "source": [
    "def ngram_umjeol(s, N=2): ## 2음절씩 끊어서 데이터 만들기\n",
    "    rst = []\n",
    "    for i in range(len(s)-1):\n",
    "        rst.append(s[i:i+N])\n",
    "    \n",
    "    return rst"
   ]
  },
  {
   "cell_type": "code",
   "execution_count": 384,
   "metadata": {},
   "outputs": [
    {
     "data": {
      "text/plain": [
       "['금요', '요일', '일까', '까지', '지 ', ' 오', '오세', '세요', '요 ', ' 여', '여러', '러분']"
      ]
     },
     "execution_count": 384,
     "metadata": {},
     "output_type": "execute_result"
    }
   ],
   "source": [
    "ngram_umjeol('금요일까지 오세요 여러분')"
   ]
  },
  {
   "cell_type": "markdown",
   "metadata": {},
   "source": [
    "### 2-gram"
   ]
  },
  {
   "cell_type": "code",
   "execution_count": 385,
   "metadata": {},
   "outputs": [],
   "source": [
    "wc2 = defaultdict(int)\n",
    "\n",
    "for i in data.split():\n",
    "    for token in ngram_umjeol(i):\n",
    "        wc2[token] += 1 "
   ]
  },
  {
   "cell_type": "code",
   "execution_count": 386,
   "metadata": {},
   "outputs": [
    {
     "data": {
      "text/plain": [
       "(12536, 12536)"
      ]
     },
     "execution_count": 386,
     "metadata": {},
     "output_type": "execute_result"
    }
   ],
   "source": [
    "len(wc2.values()), len(wc2)"
   ]
  },
  {
   "cell_type": "code",
   "execution_count": 393,
   "metadata": {
    "scrolled": false
   },
   "outputs": [
    {
     "data": {
      "text/plain": [
       "[('다.', 1585),\n",
       " ('했다', 568),\n",
       " ('에서', 510),\n",
       " ('으로', 475),\n",
       " ('있다', 292),\n",
       " ('하고', 231),\n",
       " ('다고', 222),\n",
       " ('하는', 218),\n",
       " ('00', 210),\n",
       " ('다\"', 198),\n",
       " ('이라', 193),\n",
       " ('지난', 181),\n",
       " ('20', 179),\n",
       " ('라고', 171),\n",
       " ('하기', 170),\n",
       " ('이다', 168),\n",
       " ('서울', 163),\n",
       " ('면서', 161),\n",
       " ('위한', 150),\n",
       " ('추가', 148)]"
      ]
     },
     "execution_count": 393,
     "metadata": {},
     "output_type": "execute_result"
    }
   ],
   "source": [
    "sorted(wc2.items(), key = lambda x : x[1], reverse=True)[:20] ## 빈도수가 높은 단어 20개 살펴보기(2개씩 음절을 묶어서 데이터 전처리를 했을 경우)"
   ]
  },
  {
   "cell_type": "code",
   "execution_count": 408,
   "metadata": {},
   "outputs": [
    {
     "data": {
      "text/plain": [
       "70"
      ]
     },
     "execution_count": 408,
     "metadata": {},
     "output_type": "execute_result"
    }
   ],
   "source": [
    "wc2['서울']"
   ]
  },
  {
   "cell_type": "markdown",
   "metadata": {},
   "source": [
    "### 3-gram"
   ]
  },
  {
   "cell_type": "code",
   "execution_count": 396,
   "metadata": {},
   "outputs": [],
   "source": [
    "wc3 = defaultdict(int)\n",
    "\n",
    "for i in data.split():\n",
    "    for token in ngram_umjeol(i, 3): ### 3-gram\n",
    "        wc3[token] += 1 "
   ]
  },
  {
   "cell_type": "code",
   "execution_count": 399,
   "metadata": {
    "scrolled": true
   },
   "outputs": [
    {
     "data": {
      "text/plain": [
       "[('다.', 1564),\n",
       " ('했다.', 494),\n",
       " ('으로', 445),\n",
       " ('에서', 440),\n",
       " ('다고', 219),\n",
       " ('하는', 207),\n",
       " ('하고', 194),\n",
       " ('있다.', 178),\n",
       " ('라고', 169),\n",
       " ('이다.', 163),\n",
       " ('면서', 152),\n",
       " ('위한', 150),\n",
       " ('하기', 149),\n",
       " ('추가', 140),\n",
       " ('다는', 130),\n",
       " ('코로나', 117),\n",
       " ('0.', 117),\n",
       " ('오류를', 112),\n",
       " ('류를', 112),\n",
       " ('우회하', 112)]"
      ]
     },
     "execution_count": 399,
     "metadata": {},
     "output_type": "execute_result"
    }
   ],
   "source": [
    "sorted(wc3.items(), key = lambda x : x[1], reverse=True)[:20] ## 빈도수가 높은 단어 20개 살펴보기(2개씩 음절을 묶어서 데이터 전처리를 했을 경우)"
   ]
  },
  {
   "cell_type": "code",
   "execution_count": 409,
   "metadata": {},
   "outputs": [
    {
     "data": {
      "text/plain": [
       "['서울',\n",
       " '서울연',\n",
       " '서울뉴',\n",
       " '서울시',\n",
       " '서울경',\n",
       " '서울본',\n",
       " '서울지',\n",
       " '서울의',\n",
       " '서울은',\n",
       " '서울에',\n",
       " '서울청',\n",
       " '서울과',\n",
       " '서울교',\n",
       " '서울성',\n",
       " '서울특',\n",
       " '서울,',\n",
       " '서울대',\n",
       " '서울소',\n",
       " \"서울'\",\n",
       " '서울만',\n",
       " '서울고']"
      ]
     },
     "execution_count": 409,
     "metadata": {},
     "output_type": "execute_result"
    }
   ],
   "source": [
    "[i for i in wc3.keys() if i.startswith('서울')]"
   ]
  },
  {
   "cell_type": "code",
   "execution_count": 410,
   "metadata": {
    "scrolled": false
   },
   "outputs": [
    {
     "name": "stdout",
     "output_type": "stream",
     "text": [
      "서울 1.0\n",
      "서울연 0.05714285714285714\n",
      "서울뉴 0.3\n",
      "서울시 0.2714285714285714\n",
      "서울경 0.18571428571428572\n",
      "서울본 0.02857142857142857\n",
      "서울지 0.014285714285714285\n",
      "서울의 0.04285714285714286\n",
      "서울은 0.04285714285714286\n",
      "서울에 0.04285714285714286\n",
      "서울청 0.07142857142857142\n",
      "서울과 0.02857142857142857\n",
      "서울교 0.02857142857142857\n",
      "서울성 0.014285714285714285\n",
      "서울특 0.014285714285714285\n",
      "서울, 0.014285714285714285\n",
      "서울대 0.11428571428571428\n",
      "서울소 0.014285714285714285\n",
      "서울' 0.014285714285714285\n",
      "서울만 0.014285714285714285\n",
      "서울고 0.014285714285714285\n"
     ]
    }
   ],
   "source": [
    "keyword='서울'\n",
    "candidate = [i for i in wc3.keys() if i.startswith(keyword)]\n",
    "\n",
    "for i in candidate:\n",
    "    print(i, wc3[i]/wc2[keyword]) ## 서울, 서울시 라는 단어가 빈도적 확률이 높다"
   ]
  }
 ],
 "metadata": {
  "kernelspec": {
   "display_name": "Python 3",
   "language": "python",
   "name": "python3"
  },
  "language_info": {
   "codemirror_mode": {
    "name": "ipython",
    "version": 3
   },
   "file_extension": ".py",
   "mimetype": "text/x-python",
   "name": "python",
   "nbconvert_exporter": "python",
   "pygments_lexer": "ipython3",
   "version": "3.8.3"
  }
 },
 "nbformat": 4,
 "nbformat_minor": 4
}
