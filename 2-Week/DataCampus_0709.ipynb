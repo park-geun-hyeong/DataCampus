{
 "cells": [
  {
   "cell_type": "markdown",
   "metadata": {},
   "source": [
    "## Library import & define Func (for Crawling)"
   ]
  },
  {
   "cell_type": "code",
   "execution_count": 284,
   "metadata": {},
   "outputs": [],
   "source": [
    "import sqlite3\n",
    "import sqlalchemy\n",
    "\n",
    "from requests import request, HTTPError\n",
    "from requests.compat import urljoin, urlparse, quote, unquote\n",
    "from time import sleep\n",
    "import re\n",
    "from urllib import parse\n",
    "\n",
    "from requests.sessions import Session\n",
    "import warnings\n",
    "warnings.filterwarnings('ignore')"
   ]
  },
  {
   "cell_type": "code",
   "execution_count": 2,
   "metadata": {},
   "outputs": [],
   "source": [
    "headers = {'user-agent':'Mozilla/5.0 (Windows NT 10.0; Win64; x64) AppleWebKit/537.36 (KHTML, like Gecko) Chrome/91.0.4472.124 Safari/537.36'}"
   ]
  },
  {
   "cell_type": "code",
   "execution_count": 75,
   "metadata": {},
   "outputs": [],
   "source": [
    "def download(url, params={}, headers={}, method='GET', maximum=1): ## maxmum은 유한적인 loop를 위하여 필요\n",
    "    \n",
    "    resp = request(url = url,\n",
    "                   params = params if method=='GET' else {},\n",
    "                   data = params if method=='POST' else {},\n",
    "                   headers = headers,\n",
    "                   method = method)\n",
    "    \n",
    "    try:\n",
    "        resp.raise_for_status()  # 200 OK 코드가 아닌 경우 에러 발동\n",
    "    except HTTPError as e:\n",
    "        if 500 <= e.response.status_code<600 and maximum > 0:\n",
    "            print(\"RETRY\")\n",
    "            sleep(1)\n",
    "            resp = download(url, paramas, headers, method, maximum-1)\n",
    "        else:    \n",
    "            print(e)\n",
    "    \n",
    "    \n",
    "    \n",
    "    return resp    "
   ]
  },
  {
   "cell_type": "code",
   "execution_count": 76,
   "metadata": {},
   "outputs": [],
   "source": [
    "def can_fetch(url,path):\n",
    "    resp = download(urljoin(url, '/robots.txt'))\n",
    "    allow=[]\n",
    "    disallow=[]\n",
    "    \n",
    "    if resp.status_code==200:\n",
    "        useragent = '*' \n",
    "        for i in resp.text.splitlines():\n",
    "            pair = i.split(':') ## key,value\n",
    "            if len(pair) == 2:\n",
    "                \n",
    "                if pair[0].strip() == 'User-agent':\n",
    "                    useragent = pair[1] \n",
    "                else:\n",
    "                    if pair[0].strip() =='Allow':\n",
    "                        allow.append(pair[1].strip())\n",
    "                    else:\n",
    "                        disallow.append(pair[1].strip())\n",
    "    \n",
    "    \n",
    "    \n",
    "    \n",
    "    return True if path in allow else False, allow, disallow"
   ]
  },
  {
   "cell_type": "code",
   "execution_count": 77,
   "metadata": {},
   "outputs": [],
   "source": [
    "def new_download(url):\n",
    "    \n",
    "    _ = urlparse(url)\n",
    "    print(can_fetch(_[0]+'://'+_[1], _[2])[0]) ## True/ False를 print해주기\n",
    "    \n",
    "    return download(url,headers = headers)"
   ]
  },
  {
   "cell_type": "code",
   "execution_count": 6,
   "metadata": {},
   "outputs": [],
   "source": [
    "def crawling(seed):\n",
    "    resp = new_download(seed)\n",
    "    \n",
    "    ##추가작업=> content-type : text/*, application/json+xml, image\n",
    "    dom = BeautifulSoup(resp.text, 'lxml')\n",
    "    return [urljoin(seed, i.attrs['href']) for i in dom.select('a[href]') if not i.attrs['href'].startswith('#')] ## '#'\n",
    "    ## '#'으로 시작하지 않는 a[href] 태그들의 url을 return 해주기"
   ]
  },
  {
   "cell_type": "markdown",
   "metadata": {},
   "source": [
    "### naver mail의 쿠키 설정해주기"
   ]
  },
  {
   "cell_type": "code",
   "execution_count": 11,
   "metadata": {},
   "outputs": [
    {
     "data": {
      "text/plain": [
       "{}"
      ]
     },
     "execution_count": 11,
     "metadata": {},
     "output_type": "execute_result"
    }
   ],
   "source": [
    "session = Session()\n",
    "session.cookies.get_dict()"
   ]
  },
  {
   "cell_type": "markdown",
   "metadata": {},
   "source": [
    "- cookie의 row당 0-3번째 index만 쿠키로 설정해주기"
   ]
  },
  {
   "cell_type": "code",
   "execution_count": 12,
   "metadata": {},
   "outputs": [],
   "source": [
    "## naver 쿠키 split해주기\n",
    "\n",
    "s = 0\n",
    "for i in [i for i,_ in enumerate(naver) if _ == 'Medium']:\n",
    "    e=i\n",
    "    \n",
    "    session.cookies.set(naver[s], naver[s+1], domain=naver[s+2], path=naver[s+3]) ## 쿠키설정\n",
    "    \n",
    "    s = e+1"
   ]
  },
  {
   "cell_type": "code",
   "execution_count": 79,
   "metadata": {},
   "outputs": [],
   "source": [
    "resp1 = download('https://mail.naver.com', headers=headers)\n"
   ]
  },
  {
   "cell_type": "code",
   "execution_count": 80,
   "metadata": {},
   "outputs": [],
   "source": [
    "resp2 = session.get('https://mail.naver.com')\n"
   ]
  },
  {
   "cell_type": "code",
   "execution_count": 81,
   "metadata": {},
   "outputs": [
    {
     "data": {
      "text/plain": [
       "False"
      ]
     },
     "execution_count": 81,
     "metadata": {},
     "output_type": "execute_result"
    }
   ],
   "source": [
    "resp1.text==resp2.text"
   ]
  },
  {
   "cell_type": "markdown",
   "metadata": {},
   "source": [
    "### Crawling  mail"
   ]
  },
  {
   "cell_type": "code",
   "execution_count": 23,
   "metadata": {
    "scrolled": false
   },
   "outputs": [
    {
     "data": {
      "text/plain": [
       "'https://mail.naver.com/json/list/?page=1&sortField=1&sortType=0&folderSN=0&type=&isUnread=false&u=park11127'"
      ]
     },
     "execution_count": 23,
     "metadata": {},
     "output_type": "execute_result"
    }
   ],
   "source": [
    "'https://mail.naver.com/json/list/?page=1&sortField=1&sortType=0&folderSN=0&type=&isUnread=false&u=park11127'"
   ]
  },
  {
   "cell_type": "markdown",
   "metadata": {},
   "source": [
    "- 받은메일함에서 request url 가져오기(받은 메일함 페이지 - 개발자도구 - 네트워크 - XHR - ?page... - headers - request url )"
   ]
  },
  {
   "cell_type": "code",
   "execution_count": 132,
   "metadata": {},
   "outputs": [],
   "source": [
    "url='https://mail.naver.com/json/list'\n",
    "params={\n",
    "    'page':1,\n",
    "    'sortField':1,\n",
    "    'sortType':0,\n",
    "    'folderSN':0,\n",
    "    'type':None,\n",
    "    'isUnread':'false',\n",
    "    'u':'park11127'\n",
    "}"
   ]
  },
  {
   "cell_type": "code",
   "execution_count": 21,
   "metadata": {},
   "outputs": [],
   "source": [
    "resp = request('get', url=url, params=params)"
   ]
  },
  {
   "cell_type": "code",
   "execution_count": 22,
   "metadata": {},
   "outputs": [
    {
     "data": {
      "text/plain": [
       "'{\"Result\":\"FAIL\",\"Message\":\"\", \"LoginStatus\":\"NOLOGIN\"}'"
      ]
     },
     "execution_count": 22,
     "metadata": {},
     "output_type": "execute_result"
    }
   ],
   "source": [
    "resp.text"
   ]
  },
  {
   "cell_type": "code",
   "execution_count": 24,
   "metadata": {},
   "outputs": [],
   "source": [
    "resp2 = session.request('post', url=url, params=params)"
   ]
  },
  {
   "cell_type": "code",
   "execution_count": 28,
   "metadata": {},
   "outputs": [
    {
     "data": {
      "text/plain": [
       "'text/plain;charset=UTF-8'"
      ]
     },
     "execution_count": 28,
     "metadata": {},
     "output_type": "execute_result"
    }
   ],
   "source": [
    "resp.headers['Content-Type']"
   ]
  },
  {
   "cell_type": "code",
   "execution_count": 49,
   "metadata": {},
   "outputs": [
    {
     "data": {
      "text/plain": [
       "{'ASID': '3d638b1c000001753ac0de0000000050',\n",
       " 'MM_NEW': '1',\n",
       " 'MM_NOW_COACH': '1',\n",
       " 'NFS': '2',\n",
       " 'NID_AUT': 'DOqGyiOBYfe0CZ9T3i75QYa/b+r5QKuyhBFcm0SJTLunpH3sxr3XcM1xNRnYe6Er',\n",
       " 'NID_JKL': 'FSaBIjlk85JM7W7nQCv9GniOInhi4TGnbcTanfHIm38=',\n",
       " 'NID_SES': 'AAABlzTvhiCYVogJCxvqm4/Ip0jt6wMpRAgfT90QpfAaHUR4Xx1OlEn8M8mD/DDLA4AYO0soUCyFy7OStQzTduTvPguhbV2VfOAbln084QbmYZRVtRTEPlYt+U/bdE0QiZX2k6+1vv4imPiKl6Z+zsTMGodUuKqJFKHXr9LlxdhUAvHZ7JtvraZ6xLutStkObobcEacAi8a9eb5Ttm0WyATHKA/wtSPBNXv7XQs70oUR/gxYFZFVlNc17n9cFw360eFcLamfzRpq2g6PMo+Ng+sGv5afzkagrmuV0uW44KTM/Q2rHUrUPghzzDbm7olRFOh3YriiKwdj8tvRBeDoOXxXgt3oT7PVeMb3w6ytwfNGHTD+8H+3JW/NZoVGPMkDDFJcl1vC0KSPdQw3dOURy2nEZMn2unSIlzljklFt0UFfXgxL7EPrzCvb4ex5tpL0tPsa5VN0J6w4i1ip9hZmrv6sMBdOEx5vN/ACykHhzA9ulMsXupy0Uwty5Z2dxXNvSi4N7jgj5KYP0a4EN7y3sg5tVo3v9H3jq/l+52Kn1Ph1zZPD',\n",
       " 'NNB': 'IWGV6AVLTFCWA',\n",
       " 'NRTK': 'ag#20s_gr#4_ma#0_si#2_en#2_sp#2',\n",
       " 'NaverSuggestUse': 'use%26unuse',\n",
       " '_ga': 'GA1.2.1315744196.1608054668',\n",
       " '_ga_7VKFYR6RV1': 'GS1.1.1618297223.5.0.1618297223.60',\n",
       " 'nid_inf': '339832352',\n",
       " 'nx_ssl': '2',\n",
       " 'page_uid': 'hMiFUwp0YihssAXYsEdssssstwZ-069059',\n",
       " 'nid_buk': 'B7WZWIHQS6CV6',\n",
       " 'nid_enctp': '1',\n",
       " 'nid_slevel': '-1',\n",
       " 'gnbFav': '%7B%22gnbFav%22%3A%5B%5D%7D',\n",
       " 'NM_THEME_EDIT': 'www.naver.com',\n",
       " 'NMUSER': 'uqYlKqEwaqbsKobXFxM/bzJZ1quwKxUXaqurKoEXKqKZFxEsFxuZKAnmaqns3xndFxurKAvsHoKma9vsxonOaxRVadUstoRVaqRVaqns1rejL9Us6xRVaqnD16lvpB2RFVl5WLl5MBp0bSloWrdnaAvmKARqp6FTW43CbNvR16lvpB2RFVl5WLl5MBp0bSloWrdnaAvmKAn=',\n",
       " 'JSESSIONID': '0B8DA826E34E51E1B6FFCC36D34B9C33',\n",
       " 'NM_RTK_VIEW_GUIDE': '1',\n",
       " 'NM_THEME_LAST_FIXED': 'LIVING',\n",
       " 'PM_CK_loc': '5b3cfba8eee6debe05f5d6bd00f0cae5ee8a2a15762c40be92b1b91d96017121',\n",
       " 'RTK_YES': '1'}"
      ]
     },
     "execution_count": 49,
     "metadata": {},
     "output_type": "execute_result"
    }
   ],
   "source": [
    "session.cookies.get_dict() ## session에 cookie가 잘 입력되었는지 확인해보기"
   ]
  },
  {
   "cell_type": "code",
   "execution_count": 38,
   "metadata": {},
   "outputs": [
    {
     "name": "stdout",
     "output_type": "stream",
     "text": [
      "1 축하드려요 데이터 전문가 포럼 (빅데이터분석기사, ADP, SQLP, DAP 등) 카페에 가입 되셨습니다.\n",
      "2 [학생용]폭력예방교육 에 오신 것을 환영합니다.\n",
      "3 [2021 빅데이터청년인재] 4조 - 아이디어\n",
      "4 [RE]RE: 머신인텔리전스 연구실 학부 인턴 선발을 위한 인터뷰 일정 안내\n",
      "5 [RE]Re: 머신인텔리전스 연구실 학부 인턴 선발을 위한 인터뷰 일정 안내\n",
      "6 머신인텔리전스 연구실 학부 인턴 선발을 위한 인터뷰 일정 안내\n",
      "7 [ICT인턴십] 국내과정 학생 서류지원 안내(~7/13(화), 13시까지)\n",
      "8 [Webinar]: Accelerating Allegro PCB and APD Package Layout Using NVIDIA GPUs for Complex Designs\n",
      "9 Re: 박근형 증빙서류 제출\n",
      "10 sun dong eun님이 ‘강의자료’ 폴더를 공유했습니다.\n",
      "11 데이터 청년 캠퍼스 관련 서류 및 사전 교육 정보 안내\n",
      "12 Re: 제출 서류 관련 문의\n",
      "13 AI·DATA INSIGHT 14호 - 기계번역 데이터셋 : 규모의 게임\n",
      "14 [기업가정신 NOW] 로봇 스타트업 어떻게 육성해야 하나\n",
      "15 데이터 청년 캠퍼스 출석체크 안내\n",
      "16 고려대학교 청년캠퍼스 교육 안내\n",
      "17 RE: RE: 오티관련메일 미수신\n",
      "18 2021년 데이터 청년 캠퍼스 교육생 오리엔테이션 개최(비대면) 및 온라인 사전 교육 안내(고려대)\n",
      "19 RE: 오티관련메일 미수신\n",
      "20 사업계획서 작성방법_20210617.pdf\n",
      "21 \n",
      "\t[JBNUHub 공지]\n",
      "\t[공지] 중간기말고사 성적\n",
      "22 [RE]연구실 학부인턴 관련 궁금한 사항 문의드립니다\n",
      "23 [네이버페이] 결제하신 내역을 안내해드립니다.\n",
      "24 [한국화웨이] Seeds For The Future 2021 (글로벌 ICT 인재프로그램) 안내 및 참가 요청의 건 \n",
      "25 고려대 데이터 청년 캠퍼스 최종선정 합격자 안내\n",
      "26 Re: 201716175 박근형 2차 상담\n",
      "27 Re: 교수님 2차상담 문의 드립니다\n",
      "28 Re: 교수님 2차상담 문의 드립니다\n",
      "29 RE: 면접 시간 조정 문의\n",
      "30 고려대학교 데이터 청년 캠퍼스 1차합격 및 면접안내\n"
     ]
    }
   ],
   "source": [
    "for i,k in enumerate(resp.json()['mailData']): ## mail의 이름확인\n",
    "    print(i+1,k['subject'])"
   ]
  },
  {
   "cell_type": "markdown",
   "metadata": {},
   "source": [
    "## Selenium\n",
    "- selenium은 웹사이트 테스트를 위한 도구로 브라우저 동작을 자동화할 수 있습니다. 셀레니움을 이용하는 웹크롤링 방식은 바로 이점을 적극적으로 활용하는 것입니다. 프로그래밍으로 브라우저 동작을 제어해서 마치 사람이 이용하는 것 같이 웹페이지를 요청하고 응답을 받아올 수 있습니다.\n",
    "- 데이터 수집용이 아닌 메크로 만들때 쓰는 프레임 워크"
   ]
  },
  {
   "cell_type": "code",
   "execution_count": 50,
   "metadata": {
    "scrolled": false
   },
   "outputs": [
    {
     "name": "stdout",
     "output_type": "stream",
     "text": [
      "Collecting selenium\n",
      "  Downloading selenium-3.141.0-py2.py3-none-any.whl (904 kB)\n",
      "Requirement already satisfied: urllib3 in c:\\users\\park1\\anaconda3\\lib\\site-packages (from selenium) (1.25.9)\n",
      "Installing collected packages: selenium\n",
      "Successfully installed selenium-3.141.0\n"
     ]
    }
   ],
   "source": [
    "! pip install selenium"
   ]
  },
  {
   "cell_type": "code",
   "execution_count": 85,
   "metadata": {},
   "outputs": [],
   "source": [
    "import selenium\n",
    "from selenium.webdriver import Chrome, ChromeOptions"
   ]
  },
  {
   "cell_type": "code",
   "execution_count": 86,
   "metadata": {
    "scrolled": true
   },
   "outputs": [
    {
     "data": {
      "text/plain": [
       "'3.141.0'"
      ]
     },
     "execution_count": 86,
     "metadata": {},
     "output_type": "execute_result"
    }
   ],
   "source": [
    "selenium.__version__"
   ]
  },
  {
   "cell_type": "code",
   "execution_count": 63,
   "metadata": {},
   "outputs": [],
   "source": [
    "driver = Chrome(r'C:/Users/chromedriver.exe')"
   ]
  },
  {
   "cell_type": "code",
   "execution_count": 87,
   "metadata": {},
   "outputs": [],
   "source": [
    "url = 'https://www.naver.com'"
   ]
  },
  {
   "cell_type": "code",
   "execution_count": 88,
   "metadata": {},
   "outputs": [],
   "source": [
    "driver.get(url) ## url로 접근"
   ]
  },
  {
   "cell_type": "markdown",
   "metadata": {},
   "source": [
    "### dom탐색"
   ]
  },
  {
   "cell_type": "code",
   "execution_count": 93,
   "metadata": {},
   "outputs": [],
   "source": [
    "from bs4 import BeautifulSoup"
   ]
  },
  {
   "cell_type": "code",
   "execution_count": 120,
   "metadata": {},
   "outputs": [],
   "source": [
    "driver.find_element_by_css_selector('a.link_login').click() ## 로그인 링크를 찾아서 클릭 : 로그인 화면으로 전환\n"
   ]
  },
  {
   "cell_type": "code",
   "execution_count": 94,
   "metadata": {
    "scrolled": true
   },
   "outputs": [],
   "source": [
    "dom = BeautifulSoup(driver.page_source,'lxml')"
   ]
  },
  {
   "cell_type": "code",
   "execution_count": 98,
   "metadata": {},
   "outputs": [
    {
     "name": "stdout",
     "output_type": "stream",
     "text": [
      "<span>로그인 바로가기</span>\n",
      "<a class=\"btn btn_login\" data-clk=\"sug.cxlogin\" href=\"https://nid.naver.com/nidlogin.login\">로그인</a>\n",
      "<h2 class=\"blind\">로그인</h2>\n",
      "<a class=\"link_login\" data-clk=\"log_off.login\" href=\"https://nid.naver.com/nidlogin.login?mode=form&amp;url=https%3A%2F%2Fwww.naver.com\"><i class=\"ico_naver\"><span class=\"blind\">네이버</span></i>로그인</a>\n"
     ]
    }
   ],
   "source": [
    "for i in dom.find_all(text=re.compile(r'로그인')):\n",
    "    print(i.find_parent())"
   ]
  },
  {
   "cell_type": "code",
   "execution_count": 105,
   "metadata": {},
   "outputs": [
    {
     "name": "stdout",
     "output_type": "stream",
     "text": [
      "input localechange\n",
      "input dynamicKey\n",
      "input encpw\n",
      "input enctp\n",
      "input svctype\n",
      "input smart_LEVEL\n",
      "input bvsd\n",
      "input encnm\n",
      "input locale\n",
      "input url\n",
      "input id\n",
      "input pw\n",
      "input nvlong\n"
     ]
    }
   ],
   "source": [
    "for i in driver.find_elements_by_css_selector('form input[name]'): ## form 의 input tag(recursive=True)\n",
    "    print(i.tag_name, i.get_attribute('name'))"
   ]
  },
  {
   "cell_type": "code",
   "execution_count": 121,
   "metadata": {},
   "outputs": [],
   "source": [
    "driver.find_element_by_name('id').clear() # clear\n",
    "driver.find_element_by_name('pw').clear() # clear\n",
    "\n",
    "driver.find_element_by_name('id').send_keys('park11127') ## id가 적혀진다.\n",
    "driver.find_element_by_name('pw').send_keys('12345') ## pw가 적혀진다."
   ]
  },
  {
   "cell_type": "code",
   "execution_count": 122,
   "metadata": {},
   "outputs": [
    {
     "data": {
      "text/plain": [
       "'로그인'"
      ]
     },
     "execution_count": 122,
     "metadata": {},
     "output_type": "execute_result"
    }
   ],
   "source": [
    "driver.find_element_by_css_selector('form input[type=submit]').get_attribute('value') ## 로그인 버튼"
   ]
  },
  {
   "cell_type": "code",
   "execution_count": 123,
   "metadata": {},
   "outputs": [],
   "source": [
    "driver.find_element_by_css_selector('form input[type=submit]').click()"
   ]
  },
  {
   "cell_type": "markdown",
   "metadata": {},
   "source": [
    "- 위에서 진행했던 쿠키 등록을 간편하게 할 수 있다."
   ]
  },
  {
   "cell_type": "code",
   "execution_count": 126,
   "metadata": {},
   "outputs": [],
   "source": [
    "naver = driver.get_cookies() ## login 후의 쿠키정보"
   ]
  },
  {
   "cell_type": "code",
   "execution_count": 127,
   "metadata": {
    "scrolled": true
   },
   "outputs": [
    {
     "data": {
      "text/plain": [
       "{}"
      ]
     },
     "execution_count": 127,
     "metadata": {},
     "output_type": "execute_result"
    }
   ],
   "source": [
    "session.cookies.clear()\n",
    "session.cookies.get_dict()"
   ]
  },
  {
   "cell_type": "code",
   "execution_count": 130,
   "metadata": {},
   "outputs": [],
   "source": [
    "for i in naver:\n",
    "    session.cookies.set(i['name'], i['value'], domain=i['domain'], path=i['path'])"
   ]
  },
  {
   "cell_type": "code",
   "execution_count": 131,
   "metadata": {},
   "outputs": [
    {
     "data": {
      "text/plain": [
       "{'NID_AUT': '0W9iJXmPKCdstwacE79HN/QXqjQ4TMoB+QjDTvH94qghty8F6fYILk86eDvE02Sk',\n",
       " 'NID_JKL': 'Uy54vVp3sFDUUv5SI3qLzf7SaqW5RKKzTcTc9CC39B4=',\n",
       " 'NID_SES': 'AAABkKzU/J2PxcREPEDB/wy6SRZvNCGkNXsDChVHIVA5GrkXjvnwLfm4y4Tw1jGj0n7Z5LyjHdMx3/HN64rTyPKaz+dN96jlcKnkcp0789w/wc/NYTupY4lsVQv6Gr8+SPYhA1+AlpxA3fVEALvlp3OhP7INoFt/I3exKCz/vTncVFIET49Tmd0bxfRU76DsbLzEu2QXDDD6naaiBfxFsIzmv/RmvZPEW2OSCHjjiclRyATn/zAhvMGMlnwphzHyHYIpKdmFQMrcKfaqhHPad31FYw4EQPcKs6lz6Wz8P/PO67SAR6uNkneBv025Y07guHJWqZvZ9w3p/TRSlAisuQsAFAs/Mt5Vri8ZXlRH8tEs+VKTQIxoxVDmMFtfreN2WS4fUktJ91h/iqOiaW4Thxwg/GeilGdZcXFcwrTJMUbQFj/avCtxQ0HhwjOk+154t0RRZy3aqypre+Phme4bM0BuFTvSY1TWGikIxVHuKxuTlu366Z+Q69457ISkYQuDHL4pzMbDsca5CxLum2r9qUVeKxU=',\n",
       " 'NNB': 'SITZMUC6WHTWA',\n",
       " 'nid_inf': '340511836',\n",
       " 'JSESSIONID': 'F5C872283B951C4C4B28E0CC361591A8',\n",
       " 'NM_THEME_EDIT': '',\n",
       " 'NM_THEME_LAST_FIXED': 'HEALTH',\n",
       " 'PM_CK_loc': '5b3cfba8eee6debe05f5d6bd00f0cae5df3615191d4c549fb193d9c04cc15e09'}"
      ]
     },
     "execution_count": 131,
     "metadata": {},
     "output_type": "execute_result"
    }
   ],
   "source": [
    "session.cookies.get_dict() ## 쿠키 등록"
   ]
  },
  {
   "cell_type": "markdown",
   "metadata": {},
   "source": [
    "- url 과 param등록하여 메일함 확인해보기"
   ]
  },
  {
   "cell_type": "code",
   "execution_count": 133,
   "metadata": {},
   "outputs": [],
   "source": [
    "url='https://mail.naver.com/json/list'\n",
    "params={\n",
    "    'page':1,\n",
    "    'sortField':1,\n",
    "    'sortType':0,\n",
    "    'folderSN':0,\n",
    "    'type':None,\n",
    "    'isUnread':'false',\n",
    "    'u':'park11127'\n",
    "}"
   ]
  },
  {
   "cell_type": "code",
   "execution_count": 135,
   "metadata": {},
   "outputs": [],
   "source": [
    "resp = session.request('post', url=url, params=params)"
   ]
  },
  {
   "cell_type": "code",
   "execution_count": 172,
   "metadata": {},
   "outputs": [
    {
     "name": "stdout",
     "output_type": "stream",
     "text": [
      "1 축하드려요 데이터 전문가 포럼 (빅데이터분석기사, ADP, SQLP, DAP 등) 카페에 가입 되셨습니다.\n",
      "==================================================\n",
      "2 [학생용]폭력예방교육 에 오신 것을 환영합니다.\n",
      "==================================================\n",
      "3 [2021 빅데이터청년인재] 4조 - 아이디어\n",
      "==================================================\n",
      "4 [RE]RE: 머신인텔리전스 연구실 학부 인턴 선발을 위한 인터뷰 일정 안내\n",
      "==================================================\n",
      "5 [RE]Re: 머신인텔리전스 연구실 학부 인턴 선발을 위한 인터뷰 일정 안내\n",
      "==================================================\n",
      "6 머신인텔리전스 연구실 학부 인턴 선발을 위한 인터뷰 일정 안내\n",
      "==================================================\n",
      "7 [ICT인턴십] 국내과정 학생 서류지원 안내(~7/13(화), 13시까지)\n",
      "==================================================\n",
      "8 [Webinar]: Accelerating Allegro PCB and APD Package Layout Using NVIDIA GPUs for Complex Designs\n",
      "==================================================\n",
      "9 Re: 박근형 증빙서류 제출\n",
      "==================================================\n",
      "10 sun dong eun님이 ‘강의자료’ 폴더를 공유했습니다.\n",
      "==================================================\n",
      "11 데이터 청년 캠퍼스 관련 서류 및 사전 교육 정보 안내\n",
      "==================================================\n",
      "12 Re: 제출 서류 관련 문의\n",
      "==================================================\n",
      "13 AI·DATA INSIGHT 14호 - 기계번역 데이터셋 : 규모의 게임\n",
      "==================================================\n",
      "14 [기업가정신 NOW] 로봇 스타트업 어떻게 육성해야 하나\n",
      "==================================================\n",
      "15 데이터 청년 캠퍼스 출석체크 안내\n",
      "==================================================\n",
      "16 고려대학교 청년캠퍼스 교육 안내\n",
      "==================================================\n",
      "17 RE: RE: 오티관련메일 미수신\n",
      "==================================================\n",
      "18 2021년 데이터 청년 캠퍼스 교육생 오리엔테이션 개최(비대면) 및 온라인 사전 교육 안내(고려대)\n",
      "==================================================\n",
      "19 RE: 오티관련메일 미수신\n",
      "==================================================\n",
      "20 사업계획서 작성방법_20210617.pdf\n",
      "==================================================\n",
      "21 \n",
      "\t[JBNUHub 공지]\n",
      "\t[공지] 중간기말고사 성적\n",
      "==================================================\n",
      "22 [RE]연구실 학부인턴 관련 궁금한 사항 문의드립니다\n",
      "==================================================\n",
      "23 [네이버페이] 결제하신 내역을 안내해드립니다.\n",
      "==================================================\n",
      "24 [한국화웨이] Seeds For The Future 2021 (글로벌 ICT 인재프로그램) 안내 및 참가 요청의 건 \n",
      "==================================================\n",
      "25 고려대 데이터 청년 캠퍼스 최종선정 합격자 안내\n",
      "==================================================\n",
      "26 Re: 201716175 박근형 2차 상담\n",
      "==================================================\n",
      "27 Re: 교수님 2차상담 문의 드립니다\n",
      "==================================================\n",
      "28 Re: 교수님 2차상담 문의 드립니다\n",
      "==================================================\n",
      "29 RE: 면접 시간 조정 문의\n",
      "==================================================\n",
      "30 고려대학교 데이터 청년 캠퍼스 1차합격 및 면접안내\n",
      "==================================================\n"
     ]
    }
   ],
   "source": [
    "for i,k in enumerate(resp.json()['mailData']): ## mail의 이름확인\n",
    "    print(i+1,k['subject'])\n",
    "    print('='*50)"
   ]
  },
  {
   "cell_type": "code",
   "execution_count": 141,
   "metadata": {},
   "outputs": [],
   "source": [
    "driver.delete_all_cookies() ## 드라이버 쿠키 지우기"
   ]
  },
  {
   "cell_type": "code",
   "execution_count": 142,
   "metadata": {},
   "outputs": [],
   "source": [
    "driver.get('https://www.naver.com')"
   ]
  },
  {
   "cell_type": "code",
   "execution_count": 143,
   "metadata": {},
   "outputs": [],
   "source": [
    "for i in naver:\n",
    "    driver.add_cookie(i) ## 쿠키 추가해주기(naver)"
   ]
  },
  {
   "cell_type": "code",
   "execution_count": 144,
   "metadata": {},
   "outputs": [],
   "source": [
    "driver.get('https://www.naver.com') ## refresh 해보면 로그인된 상태가 유지된다"
   ]
  },
  {
   "cell_type": "code",
   "execution_count": 145,
   "metadata": {},
   "outputs": [],
   "source": [
    "driver.get('https://mail.naver.com') ## mail창으로 넘어가기"
   ]
  },
  {
   "cell_type": "markdown",
   "metadata": {},
   "source": [
    "### dom 을 사용하여 mail함 접근"
   ]
  },
  {
   "cell_type": "code",
   "execution_count": 146,
   "metadata": {},
   "outputs": [],
   "source": [
    "dom = BeautifulSoup(driver.page_source, 'lxml') ## dom 만들기"
   ]
  },
  {
   "cell_type": "code",
   "execution_count": null,
   "metadata": {},
   "outputs": [],
   "source": [
    "dom.find(text = re.compile('데이터 전문가 포럼')).find_parent().find_parent().find_parent().find_parent().find_parent() \n",
    "\n",
    "## mail리스트를 찾기위해 올라가보기"
   ]
  },
  {
   "cell_type": "code",
   "execution_count": 160,
   "metadata": {},
   "outputs": [
    {
     "data": {
      "text/plain": [
       "30"
      ]
     },
     "execution_count": 160,
     "metadata": {},
     "output_type": "execute_result"
    }
   ],
   "source": [
    "len(dom.select('.mailList > li')) ## 첫페이지에 뜨는 메일 개수"
   ]
  },
  {
   "cell_type": "code",
   "execution_count": 163,
   "metadata": {},
   "outputs": [
    {
     "name": "stdout",
     "output_type": "stream",
     "text": [
      "1 \"축하드려요 데이터 전문가 포럼 (빅데이터분석기사, ADP, SQLP, DAP 등) 카페에 가입 되셨습니다.\" 메일 선택\n",
      "==============================\n",
      "2 \"[학생용]폭력예방교육 에 오신 것을 환영합니다.\" 메일 선택\n",
      "==============================\n",
      "3 \"[2021 빅데이터청년인재] 4조 - 아이디어\" 메일 선택\n",
      "==============================\n",
      "4 \"[RE]RE: 머신인텔리전스 연구실 학부 인턴 선발을 위한 인터뷰 일정 안내\" 메일 선택\n",
      "==============================\n",
      "5 \"[RE]Re: 머신인텔리전스 연구실 학부 인턴 선발을 위한 인터뷰 일정 안내\" 메일 선택\n",
      "==============================\n",
      "6 \"머신인텔리전스 연구실 학부 인턴 선발을 위한 인터뷰 일정 안내\" 메일 선택\n",
      "==============================\n",
      "7 \"[ICT인턴십] 국내과정 학생 서류지원 안내(~7/13(화), 13시까지)\" 메일 선택\n",
      "==============================\n",
      "8 \"[Webinar]: Accelerating Allegro PCB and APD Package Layout Using NVIDIA GPUs for Complex Designs\" 메일 선택\n",
      "==============================\n",
      "9 \"Re: 박근형 증빙서류 제출\" 메일 선택\n",
      "==============================\n",
      "10 \"sun dong eun님이 ‘강의자료’ 폴더를 공유했습니다.\" 메일 선택\n",
      "==============================\n",
      "11 \"데이터 청년 캠퍼스 관련 서류 및 사전 교육 정보 안내\" 메일 선택\n",
      "==============================\n",
      "12 \"Re: 제출 서류 관련 문의\" 메일 선택\n",
      "==============================\n",
      "13 \"AI·DATA INSIGHT 14호 - 기계번역 데이터셋 : 규모의 게임\" 메일 선택\n",
      "==============================\n",
      "14 \"[기업가정신 NOW] 로봇 스타트업 어떻게 육성해야 하나\" 메일 선택\n",
      "==============================\n",
      "15 \"데이터 청년 캠퍼스 출석체크 안내\" 메일 선택\n",
      "==============================\n",
      "16 \"고려대학교 청년캠퍼스 교육 안내\" 메일 선택\n",
      "==============================\n",
      "17 \"RE: RE: 오티관련메일 미수신\" 메일 선택\n",
      "==============================\n",
      "18 \"2021년 데이터 청년 캠퍼스 교육생 오리엔테이션 개최(비대면) 및 온라인 사전 교육 안내(고려대)\" 메일 선택\n",
      "==============================\n",
      "19 \"RE: 오티관련메일 미수신\" 메일 선택\n",
      "==============================\n",
      "20 \"사업계획서 작성방법_20210617.pdf\" 메일 선택\n",
      "==============================\n",
      "21 \"\n",
      "\t[JBNUHub 공지]\n",
      "\t[공지] 중간기말고사 성적\" 메일 선택\n",
      "==============================\n",
      "22 \"[RE]연구실 학부인턴 관련 궁금한 사항 문의드립니다\" 메일 선택\n",
      "==============================\n",
      "23 \"[네이버페이] 결제하신 내역을 안내해드립니다.\" 메일 선택\n",
      "==============================\n",
      "24 \"[한국화웨이] Seeds For The Future 2021 (글로벌 ICT 인재프로그램) 안내 및 참가 요청의 건 \" 메일 선택\n",
      "==============================\n",
      "25 \"고려대 데이터 청년 캠퍼스 최종선정 합격자 안내\" 메일 선택\n",
      "==============================\n",
      "26 \"Re: 201716175 박근형 2차 상담\" 메일 선택\n",
      "==============================\n",
      "27 \"Re: 교수님 2차상담 문의 드립니다\" 메일 선택\n",
      "==============================\n",
      "28 \"Re: 교수님 2차상담 문의 드립니다\" 메일 선택\n",
      "==============================\n",
      "29 \"RE: 면접 시간 조정 문의\" 메일 선택\n",
      "==============================\n",
      "30 \"고려대학교 데이터 청년 캠퍼스 1차합격 및 면접안내\" 메일 선택\n",
      "==============================\n"
     ]
    }
   ],
   "source": [
    "for i,k in enumerate(dom.select('.mailList > li li > label')):\n",
    "    print(i+1, k.text)\n",
    "    print('='*30)"
   ]
  },
  {
   "cell_type": "markdown",
   "metadata": {},
   "source": [
    "### xpath를 활용하여 mail함 접근"
   ]
  },
  {
   "cell_type": "markdown",
   "metadata": {},
   "source": [
    "/ ===> 자식, // ===> 자손,  [@파라미터='값'] <br>\n",
    "ex) /div ==> root노드의 자식 div"
   ]
  },
  {
   "cell_type": "code",
   "execution_count": 169,
   "metadata": {
    "scrolled": true
   },
   "outputs": [
    {
     "data": {
      "text/plain": [
       "<selenium.webdriver.remote.webelement.WebElement (session=\"1b59982aa664537724e9249d264b782f\", element=\"c4fc0b13-ce12-418d-af5a-30a3625f9358\")>"
      ]
     },
     "execution_count": 169,
     "metadata": {},
     "output_type": "execute_result"
    }
   ],
   "source": [
    "driver.find_element_by_xpath('//ol') ## 자손중에 ol 찾기"
   ]
  },
  {
   "cell_type": "code",
   "execution_count": 171,
   "metadata": {},
   "outputs": [
    {
     "data": {
      "text/plain": [
       "30"
      ]
     },
     "execution_count": 171,
     "metadata": {},
     "output_type": "execute_result"
    }
   ],
   "source": [
    "len(driver.find_elements_by_xpath('//ol/li//li/label')) ## 똑같이 메일을 찾아낸거 확인"
   ]
  },
  {
   "cell_type": "markdown",
   "metadata": {},
   "source": [
    "### logout 해보기"
   ]
  },
  {
   "cell_type": "code",
   "execution_count": 221,
   "metadata": {},
   "outputs": [],
   "source": [
    "driver.find_element_by_class_name('gnb_my').click() ## class gnb_my 클릭"
   ]
  },
  {
   "cell_type": "code",
   "execution_count": 215,
   "metadata": {},
   "outputs": [],
   "source": [
    "logout = driver.find_element_by_xpath('//a[@id=\"gnb_logout_button\"]') ## logout button을 id를 활용하여 찾기"
   ]
  },
  {
   "cell_type": "code",
   "execution_count": 216,
   "metadata": {},
   "outputs": [
    {
     "data": {
      "text/plain": [
       "(True, True, False)"
      ]
     },
     "execution_count": 216,
     "metadata": {},
     "output_type": "execute_result"
    }
   ],
   "source": [
    "logout.is_displayed(), logout.is_enabled(), logout.is_selected()"
   ]
  },
  {
   "cell_type": "code",
   "execution_count": 217,
   "metadata": {},
   "outputs": [],
   "source": [
    "from selenium.webdriver.support import wait\n",
    "from selenium.webdriver.support.ui import WebDriverWait\n",
    "from selenium.common.exceptions import ElementNotInteractableException "
   ]
  },
  {
   "cell_type": "code",
   "execution_count": 218,
   "metadata": {},
   "outputs": [],
   "source": [
    "wait = WebDriverWait(driver, 10, ignored_exceptions = [ElementNotInteractableException]) ## wait 객체는 ElementNotInteractableException오류를 무시하면서 10초동안 TRUE를 return할때까지 작동한다 "
   ]
  },
  {
   "cell_type": "markdown",
   "metadata": {},
   "source": [
    "- logout"
   ]
  },
  {
   "cell_type": "code",
   "execution_count": 222,
   "metadata": {},
   "outputs": [],
   "source": [
    "driver.find_element_by_class_name('gnb_my').click() ## class gnb_my 클릭\n",
    "wait.until(lambda x : x.find_element_by_xpath('//a[@id=\"gnb_logout_button\"]').is_displayed())\n",
    "driver.find_element_by_xpath('//a[@id=\"gnb_logout_button\"]').click()"
   ]
  },
  {
   "cell_type": "markdown",
   "metadata": {},
   "source": [
    "### 팝업제거 이후 홈버튼 누르기(인터파크티켓 사이트)"
   ]
  },
  {
   "cell_type": "code",
   "execution_count": 224,
   "metadata": {},
   "outputs": [],
   "source": [
    "driver.get('http://ticket.interpark.com/')"
   ]
  },
  {
   "cell_type": "code",
   "execution_count": 225,
   "metadata": {},
   "outputs": [],
   "source": [
    "home = driver.find_element_by_css_selector('ul.gnbBtns > li > a:nth-of-type(1)')"
   ]
  },
  {
   "cell_type": "code",
   "execution_count": 226,
   "metadata": {},
   "outputs": [
    {
     "data": {
      "text/plain": [
       "<selenium.webdriver.remote.webelement.WebElement (session=\"1b59982aa664537724e9249d264b782f\", element=\"5f271a3e-7a58-40c3-ab03-55557e7e8871\")>"
      ]
     },
     "execution_count": 226,
     "metadata": {},
     "output_type": "execute_result"
    }
   ],
   "source": [
    "home"
   ]
  },
  {
   "cell_type": "code",
   "execution_count": 227,
   "metadata": {},
   "outputs": [
    {
     "data": {
      "text/plain": [
       "(True, True)"
      ]
     },
     "execution_count": 227,
     "metadata": {},
     "output_type": "execute_result"
    }
   ],
   "source": [
    "home.is_displayed(), home.is_enabled()"
   ]
  },
  {
   "cell_type": "code",
   "execution_count": null,
   "metadata": {},
   "outputs": [],
   "source": [
    "driver.implicitly_wait(10)\n",
    "home.click()"
   ]
  },
  {
   "cell_type": "code",
   "execution_count": 231,
   "metadata": {},
   "outputs": [],
   "source": [
    "from selenium.common.exceptions import ElementClickInterceptedException ## click과 관련된 에러 import"
   ]
  },
  {
   "cell_type": "code",
   "execution_count": 233,
   "metadata": {},
   "outputs": [],
   "source": [
    "wait = WebDriverWait(driver, 10 , ignored_exceptions=[ElementClickInterceptedException,ElementNotInteractableException]) ## 새로운 wait객체 생성 "
   ]
  },
  {
   "cell_type": "code",
   "execution_count": 236,
   "metadata": {},
   "outputs": [],
   "source": [
    "for i in driver.find_elements_by_xpath('//table[@class=\"noticeLayerTable\"]'): ## table의 자손중 class가 noticeLayerTable인 것들 찾아주기===> 팝업창의 위치 찾아주기\n",
    "    if i.is_displayed() and i.is_enabled(): ## 화면에 보여지고, 요소로도 보여질 경우에\n",
    "        i.find_element_by_css_selector('div.closeDiv > a').click() ## 닫기 버튼 누르기"
   ]
  },
  {
   "cell_type": "markdown",
   "metadata": {},
   "source": [
    "- try except 사용하기"
   ]
  },
  {
   "cell_type": "code",
   "execution_count": 238,
   "metadata": {},
   "outputs": [],
   "source": [
    "from selenium.common.exceptions import StaleElementReferenceException "
   ]
  },
  {
   "cell_type": "code",
   "execution_count": 244,
   "metadata": {},
   "outputs": [],
   "source": [
    "from selenium.common.exceptions import StaleElementReferenceException\n",
    "\n",
    "try:\n",
    "    driver.find_element_by_css_selector('ul.gnbBtns > li > a:nth-of-type(1)').click()\n",
    "except StaleElementReferenceException as e:\n",
    "    for _ in driver.find_elements_by_xpath('//table[@class=\"noticeLayerTable\"]'):\n",
    "        if _.is_displayed() and _.is_enabled():\n",
    "            _.find_element_by_css_selector('div.closeDiv > a').click()\n",
    "    wait.until(lambda _:_.find_element_by_css_selector(\n",
    "    'ul.gnbBtns > li > a:nth-of-type(1)').is_displayed())\n",
    "    home.click()"
   ]
  },
  {
   "cell_type": "markdown",
   "metadata": {},
   "source": [
    "### naver 검색"
   ]
  },
  {
   "cell_type": "code",
   "execution_count": 245,
   "metadata": {},
   "outputs": [],
   "source": [
    "driver.get('http://www.naver.com')"
   ]
  },
  {
   "cell_type": "code",
   "execution_count": 246,
   "metadata": {},
   "outputs": [
    {
     "name": "stdout",
     "output_type": "stream",
     "text": [
      "sm\n",
      "fbm\n",
      "acr\n",
      "acq\n",
      "qdt\n",
      "ie\n",
      "acir\n",
      "os\n",
      "bid\n",
      "pkid\n",
      "eid\n",
      "mra\n",
      "query\n"
     ]
    }
   ],
   "source": [
    "for i in driver.find_elements_by_css_selector('form input'):\n",
    "    print(i.get_attribute('name'))"
   ]
  },
  {
   "cell_type": "code",
   "execution_count": 262,
   "metadata": {},
   "outputs": [],
   "source": [
    "driver.find_element_by_name('query').send_keys('파이썬') ## 검색창에 '파이썬' 작성하기\n",
    "driver.find_element_by_id('search_btn').click() ##찾기 버튼 누르기 "
   ]
  },
  {
   "cell_type": "code",
   "execution_count": 265,
   "metadata": {
    "scrolled": true
   },
   "outputs": [
    {
     "name": "stdout",
     "output_type": "stream",
     "text": [
      "파이썬학원 수월한 과정! https://blog.naver.com/bredpark1004/222423051052\n"
     ]
    }
   ],
   "source": [
    "for i in driver.find_elements_by_css_selector('.total_area > a'): \n",
    "    \n",
    "    if urlparse(i.get_attribute('href')).netloc =='blog.naver.com':\n",
    "        print(i.text, i.get_attribute('href')) \n",
    "        driver.get(i.get_attribute('href'))\n",
    "        break  ## 블로그 주소를 찾아서 블로그링크로 들어가기\n",
    "        "
   ]
  },
  {
   "cell_type": "code",
   "execution_count": 266,
   "metadata": {},
   "outputs": [],
   "source": [
    "driver.implicitly_wait = 0"
   ]
  },
  {
   "cell_type": "code",
   "execution_count": 270,
   "metadata": {},
   "outputs": [],
   "source": [
    "main = driver.find_element_by_css_selector('iframe')"
   ]
  },
  {
   "cell_type": "markdown",
   "metadata": {},
   "source": [
    "- dom 에서 찾아보기"
   ]
  },
  {
   "cell_type": "code",
   "execution_count": 269,
   "metadata": {},
   "outputs": [
    {
     "data": {
      "text/plain": [
       "<iframe allowfullscreen=\"true\" id=\"mainFrame\" name=\"mainFrame\" onload=\"oFramesetTitleController.start(self.frames['mainFrame'], self, sTitle);oFramesetTitleController.onLoadFrame();oFramesetUrlController.start(self.frames['mainFrame']);oFramesetUrlController.onLoadFrame()\" scrolling=\"auto\" src=\"/PostView.naver?blogId=bredpark1004&amp;logNo=222423051052&amp;redirect=Dlog&amp;widgetTypeCall=true&amp;directAccess=false\"></iframe>"
      ]
     },
     "execution_count": 269,
     "metadata": {},
     "output_type": "execute_result"
    }
   ],
   "source": [
    "dom = BeautifulSoup(driver.page_source, 'lxml')\n",
    "dom.select_one('iframe')"
   ]
  },
  {
   "cell_type": "markdown",
   "metadata": {},
   "source": [
    "- dom을 스위칭시켜서 안에있는 dom을 해석하기 ===> 블로그 내용 가져오기"
   ]
  },
  {
   "cell_type": "code",
   "execution_count": 271,
   "metadata": {
    "scrolled": true
   },
   "outputs": [
    {
     "name": "stderr",
     "output_type": "stream",
     "text": [
      "<ipython-input-271-0b4786396c90>:1: DeprecationWarning: use driver.switch_to.frame instead\n",
      "  driver.switch_to_frame(main)\n"
     ]
    }
   ],
   "source": [
    "driver.switch_to_frame(main)"
   ]
  },
  {
   "cell_type": "code",
   "execution_count": null,
   "metadata": {},
   "outputs": [],
   "source": [
    "driver.find_element_by_css_selector('.se-main-container').text"
   ]
  },
  {
   "cell_type": "code",
   "execution_count": null,
   "metadata": {
    "scrolled": true
   },
   "outputs": [],
   "source": [
    "dom = BeautifulSoup(driver.page_source, 'lxml')\n",
    "dom.select_one('.se-main-container').text"
   ]
  },
  {
   "cell_type": "markdown",
   "metadata": {},
   "source": [
    "- 다시 dom을 스위칭 해주기(원상태로)"
   ]
  },
  {
   "cell_type": "code",
   "execution_count": 275,
   "metadata": {},
   "outputs": [
    {
     "name": "stderr",
     "output_type": "stream",
     "text": [
      "<ipython-input-275-1e095620afd7>:1: DeprecationWarning: use driver.switch_to.default_content instead\n",
      "  driver.switch_to_default_content()\n"
     ]
    }
   ],
   "source": [
    "driver.switch_to_default_content()"
   ]
  },
  {
   "cell_type": "code",
   "execution_count": null,
   "metadata": {},
   "outputs": [],
   "source": [
    "driver.find_element_by_css_selector('.se-main-container').text ### 다시 dom을 원상복귀 시키자 못찾는것 확인"
   ]
  },
  {
   "cell_type": "code",
   "execution_count": null,
   "metadata": {},
   "outputs": [],
   "source": [
    "dom = BeautifulSoup(driver.page_source, 'lxml')\n",
    "dom.select_one('.se-main-container').text"
   ]
  },
  {
   "cell_type": "markdown",
   "metadata": {},
   "source": [
    "### window switching"
   ]
  },
  {
   "cell_type": "code",
   "execution_count": 277,
   "metadata": {},
   "outputs": [],
   "source": [
    "driver.get('https://www.kt.com') ## 새창을 뛰워보자(빈창도 상관없음)"
   ]
  },
  {
   "cell_type": "code",
   "execution_count": 280,
   "metadata": {},
   "outputs": [
    {
     "data": {
      "text/plain": [
       "2"
      ]
     },
     "execution_count": 280,
     "metadata": {},
     "output_type": "execute_result"
    }
   ],
   "source": [
    "len(driver.window_handles) # === 새창을 뛰울경우 창이 2개라고 출력"
   ]
  },
  {
   "cell_type": "code",
   "execution_count": 285,
   "metadata": {},
   "outputs": [],
   "source": [
    "driver.switch_to_window(driver.window_handles[-1]) ## 현재 윈도우가 아닌 다른 윈도우로 화면전환"
   ]
  },
  {
   "cell_type": "markdown",
   "metadata": {},
   "source": [
    "===============================================\n",
    "## Data Preprocessing(전처리)\n",
    "\n",
    "- text 데이터들은 목적에 따라서 전처리방식이 달라진다(모델에 어울리는 데이터 수집도 중요(text))\n",
    "- data project 의 중요한 부분"
   ]
  },
  {
   "cell_type": "code",
   "execution_count": 298,
   "metadata": {},
   "outputs": [],
   "source": [
    "import nltk\n",
    "import konlpy"
   ]
  },
  {
   "cell_type": "code",
   "execution_count": 300,
   "metadata": {},
   "outputs": [],
   "source": [
    "from konlpy.tag import Okt"
   ]
  },
  {
   "cell_type": "code",
   "execution_count": 303,
   "metadata": {},
   "outputs": [],
   "source": [
    "import os"
   ]
  },
  {
   "cell_type": "code",
   "execution_count": 312,
   "metadata": {
    "scrolled": true
   },
   "outputs": [
    {
     "data": {
      "text/plain": [
       "112"
      ]
     },
     "execution_count": 312,
     "metadata": {},
     "output_type": "execute_result"
    }
   ],
   "source": [
    "len(os.listdir('./TXT')) ## 다운받은 뉴스기사 개수"
   ]
  },
  {
   "cell_type": "markdown",
   "metadata": {},
   "source": [
    "### 어제 다운받은 뉴스기사 불러오기"
   ]
  },
  {
   "cell_type": "code",
   "execution_count": 330,
   "metadata": {},
   "outputs": [],
   "source": [
    "with open('./TXT/'+os.listdir('./TXT')[1], 'r', encoding='utf-8') as f:\n",
    "    data = f.read()"
   ]
  },
  {
   "cell_type": "code",
   "execution_count": 347,
   "metadata": {},
   "outputs": [
    {
     "data": {
      "text/plain": [
       "'오류를 우회하기 위한 함수 추가\\n \\n당국 \"상황 악화 시 1. 7까지 올라가 하루 2천명 넘게 나올수도\"어젯밤 기준으로 전국 생활치료센터 병상 34 남아서을 강북구 임시 선별진료소연합뉴스 자료사진\\n서울연합뉴스 신재우 기자  수도권에서의 신종 코로나바이러스감염증코로나19 감염재생산지수가 1. 3 수준으로 높아진 것으로 나타났다.\\n이상원 중앙방역대책본부 역학조사분석단장은 8일 정례브리핑에서 \"현재 감염재생산지수는 전국이 1. 21에서 1. 29 정도이고, 수도권은 1. 25에서 1. 3 정도\"라고 밝혔다.\\n감염 재생산지수는 확진자 1명이 다른 사람 몇 명을 감염시키는지 나타내는 지표다. 이 지수가 1 미만이면 \\'유행 억제\\', 1 이상이면 \\'유행 확산\\'을 뜻한다.\\n방대본은 이날 \\'SEQIR\\' 모델링 기법을 통해 코로나19 전파력이 현재의 강도로 유지될 경우 이달 말 하루 신규 확진자가 1천400명이 될 것으로 전망했다.\\n상황이 악화할 경우에는 재생산지수가 1. 71로 올라가 하루 2천140명에 달하는 확진자가 나올 것으로 예상했다.\\n수도권을 중심으로 코로나19 확진자가 속출하고 있어 병상 확보에도 비상이 걸렸다.\\n중앙사고수습본부에 따르면 전날 오후 8시 기준으로 생활치료센터의 병상은 총 6천607개 가운데 2천242개33. 9가 남아있다. 정부와 광역시도는 환자 추가 발생을 대비해 생활치료센터 추가 지정을 서두르고 있다.\\n수도권 생활치료센터의 병상 가동률은 서울 76. 1, 경기 78. 1, 인천 52. 7로 다른 지역보다 훨씬 높은 편이다.\\n코로나19 재생산지수가 1. 3에 달해 당분간은 하루 1천명 이상의 확진자가 계속 발생할 것으로 보여 생활치료센터 확충이 시급한 상황이다.\\n중증환자 치료를 위한 장비인력 등을 완비한 중환자 병상은 총 759개 중 585개77. 1가 남아있어 여유가 있는 편이다.\\n감염병전담병원 내 확진자 입원 가능 병상도 총 7천405개 중 4천498개60. 7가 남아있고, 중증에서 상태가 호전되거나 중증으로 악화 가능성이 높은 환자의 치료를 위한 준중환자 병상도 총 396개 중 196개49. 5가 남아있다. 붐비는 야간 선별진료소연합뉴스 자료사진\\nyna. co. kr'"
      ]
     },
     "execution_count": 347,
     "metadata": {},
     "output_type": "execute_result"
    }
   ],
   "source": [
    "data"
   ]
  },
  {
   "cell_type": "markdown",
   "metadata": {},
   "source": [
    "### 전처리 함수 만들기(정규식 이용)"
   ]
  },
  {
   "cell_type": "code",
   "execution_count": 350,
   "metadata": {},
   "outputs": [],
   "source": [
    "def cleaning(data):\n",
    "    data = re.sub(r'\\b[a-z_][a-zA-Z_()]{4,}\\b', '', data) ## 반드시 소문자+_ 1글자로 시작, 영문 4글자 이상인 패턴 삭제 ==>javascript부분 제거\n",
    "    data = re.sub(r'\\b[(){}/]{2,}','',data) ## 함수 기호 삭제 ==> () {} 제거\n",
    "    data = re.sub(r'([.,?!])(\\w)','\\g<1> \\g<2>', data) ## 구두점 다음에 글자가 있는 경우 공백 추가 ==> .단어 를 . 단어 로 변환 \n",
    "    data = re.sub(r'\\s{2,}', '\\n', data) ## 공백 2개 이상인 경우 한개만 ==> \\n\\n\\n\\n\\n ==> \\n\n",
    "    data = data.strip() ## 양쪽 공백 제거\n",
    "    data = re.sub(r'[^\\s\\w\\d.,?!:\\'\\\"]', '', data) ## 공백 문자 숫자 구두점을 제외한 나머지 글자 삭제 (특수 문자 삭제)\n",
    "    data = '\\n'.join(data.splitlines()[1:]) ## 주석 삭제\n",
    "    \n",
    "    return data"
   ]
  },
  {
   "cell_type": "markdown",
   "metadata": {},
   "source": [
    "###  전체 뉴스 전처리해서 저장하기"
   ]
  },
  {
   "cell_type": "code",
   "execution_count": 352,
   "metadata": {},
   "outputs": [],
   "source": [
    "corpus=[]\n",
    "\n",
    "for file in os.listdir('./TXT'):\n",
    "    with open('./TXT/'+file, 'rb') as f:\n",
    "        corpus.append(cleaning(f.read().decode('utf-8', errors='ignore')))"
   ]
  },
  {
   "cell_type": "code",
   "execution_count": 353,
   "metadata": {},
   "outputs": [
    {
     "data": {
      "text/plain": [
       "112"
      ]
     },
     "execution_count": 353,
     "metadata": {},
     "output_type": "execute_result"
    }
   ],
   "source": [
    "len(corpus)"
   ]
  },
  {
   "cell_type": "markdown",
   "metadata": {},
   "source": [
    "### 전체 뉴스 data 하나로 합치기"
   ]
  },
  {
   "cell_type": "code",
   "execution_count": 355,
   "metadata": {},
   "outputs": [],
   "source": [
    "data = ' '.join(corpus)"
   ]
  },
  {
   "cell_type": "markdown",
   "metadata": {},
   "source": [
    "- sparse한 벡터표현(NLP)"
   ]
  },
  {
   "cell_type": "code",
   "execution_count": 362,
   "metadata": {},
   "outputs": [
    {
     "data": {
      "text/plain": [
       "(112, 125503, 28929, 13026)"
      ]
     },
     "execution_count": 362,
     "metadata": {},
     "output_type": "execute_result"
    }
   ],
   "source": [
    "len(os.listdir('./TXT')), len(data), len(data.split()), len(set(data.split())) ## unique "
   ]
  },
  {
   "cell_type": "markdown",
   "metadata": {},
   "source": [
    "===========================================================================\n",
    "### 벡터 표현 방식\n",
    "- count-based(one-hot vector, DTM) : frequency기반  ==>  숫자만 새면 된다\n",
    "- co-occurence(word2vec, PMI) : context\n",
    "- matrix-decomposition(SVD) \n",
    "- Prediction(LM) ===> BERT, ELMo\n",
    "\n",
    "==========================================================================="
   ]
  },
  {
   "cell_type": "markdown",
   "metadata": {},
   "source": [
    "### Count-Based\n",
    "- 어떠한 단어의 빈도수가 높다 ==> 중요할 수 있지만 문법적인 역할을 하는 단어들이 자주 반복(빈도수가 높다고 중요한 단어가 꼭 아니다) \n",
    "- 즉 a, an, the ==> 조사 들은 주로 반복되지만 중요한 의미를 가지고 있지 않는다 ====> 삭제가능(불용어 삭제 ===> stopwords)"
   ]
  },
  {
   "cell_type": "code",
   "execution_count": 364,
   "metadata": {},
   "outputs": [],
   "source": [
    "from collections import defaultdict"
   ]
  },
  {
   "cell_type": "code",
   "execution_count": 366,
   "metadata": {},
   "outputs": [],
   "source": [
    "wc = defaultdict(int)   ## key error 를 방지하기 위함"
   ]
  },
  {
   "cell_type": "code",
   "execution_count": 367,
   "metadata": {},
   "outputs": [],
   "source": [
    "for t in data.split():\n",
    "    wc[t] += 1\n",
    "    "
   ]
  },
  {
   "cell_type": "code",
   "execution_count": 370,
   "metadata": {},
   "outputs": [
    {
     "data": {
      "text/plain": [
       "[('전', 242),\n",
       " ('있다.', 166),\n",
       " ('위한', 149),\n",
       " ('추가', 137),\n",
       " ('수', 117),\n",
       " ('오류를', 112),\n",
       " ('우회하기', 112),\n",
       " ('함수', 112),\n",
       " ('등', 108),\n",
       " ('이', 106),\n",
       " ('8일', 98),\n",
       " ('것으로', 91),\n",
       " ('지난', 87),\n",
       " ('이날', 83),\n",
       " ('한', 76),\n",
       " ('있는', 73),\n",
       " ('말했다.', 71),\n",
       " ('했다.', 70),\n",
       " ('김', 68),\n",
       " ('서울', 66)]"
      ]
     },
     "execution_count": 370,
     "metadata": {},
     "output_type": "execute_result"
    }
   ],
   "source": [
    "sorted(wc.items(), key = lambda x : x[1], reverse=True)[:20] ## 빈도수가 높은 단어 20개 살펴보기(중요성이 있어보이진 않는다)"
   ]
  },
  {
   "cell_type": "code",
   "execution_count": 371,
   "metadata": {},
   "outputs": [
    {
     "data": {
      "text/plain": [
       "[('TV조선', 1),\n",
       " ('배틀', 1),\n",
       " ('국대다국민의힘', 1),\n",
       " (\"대변인이다'에서\", 1),\n",
       " ('4강전에', 1),\n",
       " ('진출한', 1),\n",
       " ('신인규왼쪽부터,', 1),\n",
       " ('김연주,', 1),\n",
       " ('임승호,', 1),\n",
       " ('양준우', 1),\n",
       " ('박경준', 1),\n",
       " ('방송인', 1),\n",
       " ('임백천', 1),\n",
       " ('배틀도', 1),\n",
       " ('생겼다.', 1),\n",
       " ('토론배틀인', 1),\n",
       " (\"국대다'에는\", 1),\n",
       " ('임', 1),\n",
       " ('부인인', 1),\n",
       " ('김연주', 1)]"
      ]
     },
     "execution_count": 371,
     "metadata": {},
     "output_type": "execute_result"
    }
   ],
   "source": [
    "sorted(wc.items(), key = lambda x : x[1], reverse=False)[:20] ## 빈도수가 낮은 단어들(고유어들) ===> 여기서는 빈도수가 낮은 단어들의 중요성이 높아보이는 듯 .."
   ]
  },
  {
   "cell_type": "code",
   "execution_count": 377,
   "metadata": {},
   "outputs": [
    {
     "data": {
      "text/plain": [
       "[('입원', 1),\n",
       " ('7천405개', 1),\n",
       " ('4천498개60.', 1),\n",
       " ('남아있고,', 1),\n",
       " ('중증에서', 1),\n",
       " ('상태가', 1),\n",
       " ('호전되거나', 1),\n",
       " ('중증으로', 1),\n",
       " ('환자의', 1),\n",
       " ('준중환자', 1),\n",
       " ('396개', 1),\n",
       " ('196개49.', 1),\n",
       " ('붐비는', 1),\n",
       " ('야간', 1),\n",
       " ('吳', 1),\n",
       " ('\"좌파', 1),\n",
       " ('논리로', 1),\n",
       " ('미래세대', 1),\n",
       " ('지도자', 1),\n",
       " ('어려워\"\"대한민국', 1)]"
      ]
     },
     "execution_count": 377,
     "metadata": {},
     "output_type": "execute_result"
    }
   ],
   "source": [
    "sorted(wc.items(), key = lambda x : x[1], reverse=True)[5000:5020] ## 빈도수가 중간인 단어들 ==> 일반적으로 중요성이 크다"
   ]
  },
  {
   "cell_type": "markdown",
   "metadata": {},
   "source": [
    "## n-gram"
   ]
  },
  {
   "cell_type": "code",
   "execution_count": 380,
   "metadata": {},
   "outputs": [],
   "source": [
    "def ngram_umjeol(s, N=2): ## 2음절씩 끊어서 데이터 만들기\n",
    "    rst = []\n",
    "    for i in range(len(s)-1):\n",
    "        rst.append(s[i:i+N])\n",
    "    \n",
    "    return rst"
   ]
  },
  {
   "cell_type": "code",
   "execution_count": 384,
   "metadata": {},
   "outputs": [
    {
     "data": {
      "text/plain": [
       "['금요', '요일', '일까', '까지', '지 ', ' 오', '오세', '세요', '요 ', ' 여', '여러', '러분']"
      ]
     },
     "execution_count": 384,
     "metadata": {},
     "output_type": "execute_result"
    }
   ],
   "source": [
    "ngram_umjeol('금요일까지 오세요 여러분')"
   ]
  },
  {
   "cell_type": "markdown",
   "metadata": {},
   "source": [
    "### 2-gram"
   ]
  },
  {
   "cell_type": "code",
   "execution_count": 385,
   "metadata": {},
   "outputs": [],
   "source": [
    "wc2 = defaultdict(int)\n",
    "\n",
    "for i in data.split():\n",
    "    for token in ngram_umjeol(i):\n",
    "        wc2[token] += 1 "
   ]
  },
  {
   "cell_type": "code",
   "execution_count": 386,
   "metadata": {},
   "outputs": [
    {
     "data": {
      "text/plain": [
       "(12536, 12536)"
      ]
     },
     "execution_count": 386,
     "metadata": {},
     "output_type": "execute_result"
    }
   ],
   "source": [
    "len(wc2.values()), len(wc2)"
   ]
  },
  {
   "cell_type": "code",
   "execution_count": 393,
   "metadata": {
    "scrolled": false
   },
   "outputs": [
    {
     "data": {
      "text/plain": [
       "[('다.', 1585),\n",
       " ('했다', 568),\n",
       " ('에서', 510),\n",
       " ('으로', 475),\n",
       " ('있다', 292),\n",
       " ('하고', 231),\n",
       " ('다고', 222),\n",
       " ('하는', 218),\n",
       " ('00', 210),\n",
       " ('다\"', 198),\n",
       " ('이라', 193),\n",
       " ('지난', 181),\n",
       " ('20', 179),\n",
       " ('라고', 171),\n",
       " ('하기', 170),\n",
       " ('이다', 168),\n",
       " ('서울', 163),\n",
       " ('면서', 161),\n",
       " ('위한', 150),\n",
       " ('추가', 148)]"
      ]
     },
     "execution_count": 393,
     "metadata": {},
     "output_type": "execute_result"
    }
   ],
   "source": [
    "sorted(wc2.items(), key = lambda x : x[1], reverse=True)[:20] ## 빈도수가 높은 단어 20개 살펴보기(2개씩 음절을 묶어서 데이터 전처리를 했을 경우)"
   ]
  },
  {
   "cell_type": "code",
   "execution_count": 408,
   "metadata": {},
   "outputs": [
    {
     "data": {
      "text/plain": [
       "70"
      ]
     },
     "execution_count": 408,
     "metadata": {},
     "output_type": "execute_result"
    }
   ],
   "source": [
    "wc2['서울']"
   ]
  },
  {
   "cell_type": "markdown",
   "metadata": {},
   "source": [
    "### 3-gram"
   ]
  },
  {
   "cell_type": "code",
   "execution_count": 396,
   "metadata": {},
   "outputs": [],
   "source": [
    "wc3 = defaultdict(int)\n",
    "\n",
    "for i in data.split():\n",
    "    for token in ngram_umjeol(i, 3): ### 3-gram\n",
    "        wc3[token] += 1 "
   ]
  },
  {
   "cell_type": "code",
   "execution_count": 399,
   "metadata": {
    "scrolled": true
   },
   "outputs": [
    {
     "data": {
      "text/plain": [
       "[('다.', 1564),\n",
       " ('했다.', 494),\n",
       " ('으로', 445),\n",
       " ('에서', 440),\n",
       " ('다고', 219),\n",
       " ('하는', 207),\n",
       " ('하고', 194),\n",
       " ('있다.', 178),\n",
       " ('라고', 169),\n",
       " ('이다.', 163),\n",
       " ('면서', 152),\n",
       " ('위한', 150),\n",
       " ('하기', 149),\n",
       " ('추가', 140),\n",
       " ('다는', 130),\n",
       " ('코로나', 117),\n",
       " ('0.', 117),\n",
       " ('오류를', 112),\n",
       " ('류를', 112),\n",
       " ('우회하', 112)]"
      ]
     },
     "execution_count": 399,
     "metadata": {},
     "output_type": "execute_result"
    }
   ],
   "source": [
    "sorted(wc3.items(), key = lambda x : x[1], reverse=True)[:20] ## 빈도수가 높은 단어 20개 살펴보기(2개씩 음절을 묶어서 데이터 전처리를 했을 경우)"
   ]
  },
  {
   "cell_type": "code",
   "execution_count": 409,
   "metadata": {},
   "outputs": [
    {
     "data": {
      "text/plain": [
       "['서울',\n",
       " '서울연',\n",
       " '서울뉴',\n",
       " '서울시',\n",
       " '서울경',\n",
       " '서울본',\n",
       " '서울지',\n",
       " '서울의',\n",
       " '서울은',\n",
       " '서울에',\n",
       " '서울청',\n",
       " '서울과',\n",
       " '서울교',\n",
       " '서울성',\n",
       " '서울특',\n",
       " '서울,',\n",
       " '서울대',\n",
       " '서울소',\n",
       " \"서울'\",\n",
       " '서울만',\n",
       " '서울고']"
      ]
     },
     "execution_count": 409,
     "metadata": {},
     "output_type": "execute_result"
    }
   ],
   "source": [
    "[i for i in wc3.keys() if i.startswith('서울')]"
   ]
  },
  {
   "cell_type": "code",
   "execution_count": 410,
   "metadata": {
    "scrolled": false
   },
   "outputs": [
    {
     "name": "stdout",
     "output_type": "stream",
     "text": [
      "서울 1.0\n",
      "서울연 0.05714285714285714\n",
      "서울뉴 0.3\n",
      "서울시 0.2714285714285714\n",
      "서울경 0.18571428571428572\n",
      "서울본 0.02857142857142857\n",
      "서울지 0.014285714285714285\n",
      "서울의 0.04285714285714286\n",
      "서울은 0.04285714285714286\n",
      "서울에 0.04285714285714286\n",
      "서울청 0.07142857142857142\n",
      "서울과 0.02857142857142857\n",
      "서울교 0.02857142857142857\n",
      "서울성 0.014285714285714285\n",
      "서울특 0.014285714285714285\n",
      "서울, 0.014285714285714285\n",
      "서울대 0.11428571428571428\n",
      "서울소 0.014285714285714285\n",
      "서울' 0.014285714285714285\n",
      "서울만 0.014285714285714285\n",
      "서울고 0.014285714285714285\n"
     ]
    }
   ],
   "source": [
    "keyword='서울'\n",
    "candidate = [i for i in wc3.keys() if i.startswith(keyword)]\n",
    "\n",
    "for i in candidate:\n",
    "    print(i, wc3[i]/wc2[keyword]) ## 서울, 서울시 라는 단어가 빈도적 확률이 높다"
   ]
  }
 ],
 "metadata": {
  "kernelspec": {
   "display_name": "Python 3",
   "language": "python",
   "name": "python3"
  },
  "language_info": {
   "codemirror_mode": {
    "name": "ipython",
    "version": 3
   },
   "file_extension": ".py",
   "mimetype": "text/x-python",
   "name": "python",
   "nbconvert_exporter": "python",
   "pygments_lexer": "ipython3",
   "version": "3.8.3"
  }
 },
 "nbformat": 4,
 "nbformat_minor": 4
}
